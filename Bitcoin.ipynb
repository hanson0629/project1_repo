{
 "cells": [
  {
   "cell_type": "code",
   "execution_count": 64,
   "metadata": {},
   "outputs": [],
   "source": [
    "import requests\n",
    "from io import StringIO\n",
    "import csv\n",
    "import pandas as pd\n",
    "import numpy as np\n",
    "import hvplot.pandas\n",
    "import matplotlib.pyplot as plt\n",
    "from pathlib import Path\n",
    "from datetime import datetime\n",
    "import plotly.express as px\n",
    "import plotly.graph_objects as go\n",
    "import seaborn as sns\n",
    "from collections import Iterable"
   ]
  },
  {
   "cell_type": "markdown",
   "metadata": {},
   "source": [
    "# Supporting Functions"
   ]
  },
  {
   "cell_type": "code",
   "execution_count": 33,
   "metadata": {},
   "outputs": [],
   "source": [
    "def import_data(ticker):\n",
    "    \"\"\"\n",
    "    Imports data from Yahoo Finance and returns a dataframe.\n",
    "    \"\"\"\n",
    "    stock_url = 'https://query1.finance.yahoo.com/v7/finance/download/{}?'\n",
    "    params = {\n",
    "        'range': '10y',\n",
    "        'interval': '1d',\n",
    "        'events': 'history',\n",
    "        'includeAdjustedClose': 'true'\n",
    "    }\n",
    "    # using request library to import data from the yahoo finance url\n",
    "    response = requests.get(stock_url.format(ticker), params=params)\n",
    "    # convert response.text into a file object\n",
    "    file = StringIO(response.text)\n",
    "    # input into csv.reader. every row becomes a list\n",
    "    reader = csv.reader(file)\n",
    "    # convert into a nested list\n",
    "    data = list(reader)\n",
    "\n",
    "    return pd.DataFrame(data[1:],columns=data[0])\n",
    "\n",
    "\n",
    "def flatten(lis):\n",
    "    \"\"\"\n",
    "    Converts a nested list into a single list.\n",
    "    \"\"\"\n",
    "    for item in lis:\n",
    "        if isinstance(item, Iterable) and not isinstance(item, str):\n",
    "            for x in flatten(item):\n",
    "                yield x\n",
    "        else:        \n",
    "            yield item\n",
    "\n",
    "\n",
    "# def remove_null(data):\n",
    "#     close_null = data[data['Close'] == 'null'].index\n",
    "#     data = data.drop(close_null)\n",
    "#     vol_null = data[data['Volume'] == 'null'].index\n",
    "#     data = data.drop(vol_null)\n",
    "\n",
    "\n",
    "def correct_dtypes(data):\n",
    "    data['Close'] = data['Close'].astype(float)\n",
    "    data['Date'] = pd.to_datetime(data['Date'])\n",
    "    data['Volume'] = data['Volume'].astype(float)\n",
    "    \n",
    "    \n"
   ]
  },
  {
   "cell_type": "code",
   "execution_count": 34,
   "metadata": {},
   "outputs": [],
   "source": [
    "# importing data\n",
    "bitcoin_data = import_data('BTC-USD')\n",
    "gold_data = import_data('GC=F')\n",
    "sp_data = import_data('^GSPC')\n",
    "crude_data = import_data('CL=F')\n",
    "russel_data = import_data('^RUA')\n",
    "nasdaq_data = import_data('NQ=F')\n",
    "dj_data = import_data('^DJI')\n",
    "ishares_data = import_data('IUSG')\n",
    "file_path = Path(\"data/12_months_cpi.csv\")\n",
    "cpi_data = pd.read_csv(file_path)"
   ]
  },
  {
   "cell_type": "code",
   "execution_count": 35,
   "metadata": {},
   "outputs": [
    {
     "data": {
      "text/html": [
       "<div>\n",
       "<style scoped>\n",
       "    .dataframe tbody tr th:only-of-type {\n",
       "        vertical-align: middle;\n",
       "    }\n",
       "\n",
       "    .dataframe tbody tr th {\n",
       "        vertical-align: top;\n",
       "    }\n",
       "\n",
       "    .dataframe thead th {\n",
       "        text-align: right;\n",
       "    }\n",
       "</style>\n",
       "<table border=\"1\" class=\"dataframe\">\n",
       "  <thead>\n",
       "    <tr style=\"text-align: right;\">\n",
       "      <th></th>\n",
       "      <th>Consumer Price Index</th>\n",
       "      <th>Unnamed: 1</th>\n",
       "    </tr>\n",
       "  </thead>\n",
       "  <tbody>\n",
       "    <tr>\n",
       "      <th>0</th>\n",
       "      <td>(data is presented as percentage).</td>\n",
       "      <td>NaN</td>\n",
       "    </tr>\n",
       "    <tr>\n",
       "      <th>1</th>\n",
       "      <td>NaN</td>\n",
       "      <td>NaN</td>\n",
       "    </tr>\n",
       "    <tr>\n",
       "      <th>2</th>\n",
       "      <td>NaN</td>\n",
       "      <td>Canada</td>\n",
       "    </tr>\n",
       "    <tr>\n",
       "      <th>3</th>\n",
       "      <td>date</td>\n",
       "      <td>All-items</td>\n",
       "    </tr>\n",
       "    <tr>\n",
       "      <th>4</th>\n",
       "      <td>02-01-2021</td>\n",
       "      <td>1.1</td>\n",
       "    </tr>\n",
       "  </tbody>\n",
       "</table>\n",
       "</div>"
      ],
      "text/plain": [
       "                 Consumer Price Index Unnamed: 1\n",
       "0  (data is presented as percentage).        NaN\n",
       "1                                 NaN        NaN\n",
       "2                                 NaN     Canada\n",
       "3                                date  All-items\n",
       "4                          02-01-2021        1.1"
      ]
     },
     "execution_count": 35,
     "metadata": {},
     "output_type": "execute_result"
    }
   ],
   "source": [
    "cpi_data.head()"
   ]
  },
  {
   "cell_type": "markdown",
   "metadata": {},
   "source": [
    "# Data Cleaning"
   ]
  },
  {
   "cell_type": "code",
   "execution_count": 36,
   "metadata": {},
   "outputs": [],
   "source": [
    "# selecting columns\n",
    "russel_price = russel_data[['Date','Close']]\n",
    "ishares_price = ishares_data[['Date','Close']]\n",
    "\n",
    "nasdaq_vol = nasdaq_data[['Date','Close','Volume']]\n",
    "gold_vol = gold_data[['Date','Close','Volume']]\n",
    "bitcoin_vol = bitcoin_data[['Date','Close','Volume']]\n",
    "dj_vol = dj_data[['Date','Close','Volume']]\n",
    "crude_vol = crude_data[['Date','Close','Volume']]\n",
    "sp_vol = sp_data[['Date','Close','Volume']]"
   ]
  },
  {
   "cell_type": "code",
   "execution_count": 37,
   "metadata": {},
   "outputs": [
    {
     "name": "stdout",
     "output_type": "stream",
     "text": [
      "<class 'pandas.core.frame.DataFrame'>\n",
      "RangeIndex: 85 entries, 4 to 88\n",
      "Data columns (total 2 columns):\n",
      "Consumer Price Index    85 non-null object\n",
      "Unnamed: 1              85 non-null object\n",
      "dtypes: object(2)\n",
      "memory usage: 1.4+ KB\n"
     ]
    }
   ],
   "source": [
    "# removing null values\n",
    "russel_null = russel_price[russel_price['Close'] == 'null'].index\n",
    "ishares_null = ishares_price[ishares_price['Close'] == 'null'].index\n",
    "dj_vol_null = dj_vol[dj_vol['Volume'] == 'null'].index\n",
    "crude_vol_null = crude_vol[crude_vol['Volume'] == 'null'].index\n",
    "gold_vol_null = gold_vol[gold_vol['Volume'] == 'null'].index\n",
    "bitcoin_vol_null = bitcoin_vol[bitcoin_vol['Volume'] == 'null'].index\n",
    "nasdaq_vol_null = nasdaq_vol[nasdaq_vol['Volume'] == 'null'].index\n",
    "sp_vol_null = sp_vol[sp_vol['Volume'] == 'null'].index\n",
    "\n",
    "sp_vol = sp_vol.drop(sp_vol_null)\n",
    "gold_vol = gold_vol.drop(gold_vol_null)\n",
    "bitcoin_vol = bitcoin_vol.drop(bitcoin_vol_null)\n",
    "crude_vol = crude_vol.drop(crude_vol_null)\n",
    "dj_vol = dj_vol.drop(dj_vol_null)\n",
    "nasdaq_vol = nasdaq_vol.drop(nasdaq_vol_null)\n",
    "russel_price = russel_price.drop(russel_null)\n",
    "ishares_price = ishares_price.drop(ishares_null)\n",
    "\n",
    "# remove first 4 empty rows\n",
    "cpi_data = cpi_data.iloc[4:]\n",
    "cpi_data.info()"
   ]
  },
  {
   "cell_type": "code",
   "execution_count": 38,
   "metadata": {},
   "outputs": [
    {
     "data": {
      "text/plain": [
       "0"
      ]
     },
     "execution_count": 38,
     "metadata": {},
     "output_type": "execute_result"
    }
   ],
   "source": [
    "# checking for null value rows\n",
    "sp_vol.Volume.str.count(\"null\").sum()"
   ]
  },
  {
   "cell_type": "code",
   "execution_count": 39,
   "metadata": {},
   "outputs": [],
   "source": [
    "# renaming cpi_data columns\n",
    "cpi_data.columns=['Date','cpi']"
   ]
  },
  {
   "cell_type": "code",
   "execution_count": 40,
   "metadata": {},
   "outputs": [],
   "source": [
    "# change to correct dtypes\n",
    "correct_dtypes(sp_vol)\n",
    "correct_dtypes(gold_vol)\n",
    "correct_dtypes(bitcoin_vol)\n",
    "correct_dtypes(nasdaq_vol)\n",
    "correct_dtypes(crude_vol)\n",
    "correct_dtypes(dj_vol)\n",
    "russel_price['Close'] = russel_price['Close'].astype(float)\n",
    "russel_price['Date'] = pd.to_datetime(russel_price['Date'])\n",
    "ishares_price['Close'] = ishares_price['Close'].astype(float)\n",
    "ishares_price['Date'] = pd.to_datetime(ishares_price['Date'])\n",
    "cpi_data['cpi'] = cpi_data['cpi'].astype(float)\n",
    "cpi_data['Date'] = pd.to_datetime(cpi_data['Date'])"
   ]
  },
  {
   "cell_type": "code",
   "execution_count": 41,
   "metadata": {},
   "outputs": [],
   "source": [
    "russel_price = russel_price[['Date','Close']]\n",
    "nasdaq_price = nasdaq_vol[['Date','Close']]\n",
    "sp_price = sp_vol[['Date','Close']]\n",
    "bitcoin_price = bitcoin_vol[['Date','Close']]\n",
    "gold_price = gold_vol[['Date','Close']]"
   ]
  },
  {
   "cell_type": "code",
   "execution_count": 42,
   "metadata": {},
   "outputs": [],
   "source": [
    "# daily returns\n",
    "gold_price = gold_price.set_index('Date')\n",
    "bitcoin_price = bitcoin_price.set_index('Date')\n",
    "bitcoin_returns=bitcoin_price.pct_change().reset_index()\n",
    "gold_returns=gold_price.pct_change().reset_index()"
   ]
  },
  {
   "cell_type": "code",
   "execution_count": 43,
   "metadata": {},
   "outputs": [],
   "source": [
    "# merging dataframes\n",
    "join_markets = pd.merge(bitcoin_price,sp_price,on='Date').merge(\n",
    "    nasdaq_price,on='Date').set_index('Date')\n",
    "join_prices = pd.merge(gold_price,bitcoin_price,on='Date').reset_index()\n",
    "join_returns = pd.merge(gold_returns,bitcoin_returns,on='Date')\n",
    "join_sp = pd.merge(bitcoin_price,sp_price,on='Date')\n",
    "join_ishares = pd.merge(bitcoin_price,ishares_price, on='Date').set_index('Date')\n",
    "join_bubble = pd.merge(bitcoin_vol,gold_vol,on='Date').merge(sp_vol,on='Date').merge(\n",
    "    nasdaq_vol,on='Date').merge(crude_vol,on='Date').merge(dj_vol,on='Date')"
   ]
  },
  {
   "cell_type": "code",
   "execution_count": 44,
   "metadata": {},
   "outputs": [
    {
     "data": {
      "text/html": [
       "<div>\n",
       "<style scoped>\n",
       "    .dataframe tbody tr th:only-of-type {\n",
       "        vertical-align: middle;\n",
       "    }\n",
       "\n",
       "    .dataframe tbody tr th {\n",
       "        vertical-align: top;\n",
       "    }\n",
       "\n",
       "    .dataframe thead th {\n",
       "        text-align: right;\n",
       "    }\n",
       "</style>\n",
       "<table border=\"1\" class=\"dataframe\">\n",
       "  <thead>\n",
       "    <tr style=\"text-align: right;\">\n",
       "      <th></th>\n",
       "      <th>Date</th>\n",
       "      <th>Close_x</th>\n",
       "      <th>Volume_x</th>\n",
       "      <th>Close_y</th>\n",
       "      <th>Volume_y</th>\n",
       "      <th>Close_x</th>\n",
       "      <th>Volume_x</th>\n",
       "      <th>Close_y</th>\n",
       "      <th>Volume_y</th>\n",
       "      <th>Close_x</th>\n",
       "      <th>Volume_x</th>\n",
       "      <th>Close_y</th>\n",
       "      <th>Volume_y</th>\n",
       "    </tr>\n",
       "  </thead>\n",
       "  <tbody>\n",
       "    <tr>\n",
       "      <th>0</th>\n",
       "      <td>2014-09-17</td>\n",
       "      <td>457.334015</td>\n",
       "      <td>21056800.0</td>\n",
       "      <td>1234.400024</td>\n",
       "      <td>10.0</td>\n",
       "      <td>2001.569946</td>\n",
       "      <td>3.209420e+09</td>\n",
       "      <td>4072.50</td>\n",
       "      <td>68884.0</td>\n",
       "      <td>94.419998</td>\n",
       "      <td>305832.0</td>\n",
       "      <td>17156.849609</td>\n",
       "      <td>87810000.0</td>\n",
       "    </tr>\n",
       "    <tr>\n",
       "      <th>1</th>\n",
       "      <td>2014-09-18</td>\n",
       "      <td>424.440002</td>\n",
       "      <td>34483200.0</td>\n",
       "      <td>1225.699951</td>\n",
       "      <td>5.0</td>\n",
       "      <td>2011.359985</td>\n",
       "      <td>3.235340e+09</td>\n",
       "      <td>4103.75</td>\n",
       "      <td>33223.0</td>\n",
       "      <td>93.070000</td>\n",
       "      <td>170772.0</td>\n",
       "      <td>17265.990234</td>\n",
       "      <td>85300000.0</td>\n",
       "    </tr>\n",
       "    <tr>\n",
       "      <th>2</th>\n",
       "      <td>2014-09-19</td>\n",
       "      <td>394.795990</td>\n",
       "      <td>37919700.0</td>\n",
       "      <td>1215.300049</td>\n",
       "      <td>4.0</td>\n",
       "      <td>2010.400024</td>\n",
       "      <td>4.880220e+09</td>\n",
       "      <td>4118.50</td>\n",
       "      <td>279619.0</td>\n",
       "      <td>92.410004</td>\n",
       "      <td>92780.0</td>\n",
       "      <td>17279.740234</td>\n",
       "      <td>349620000.0</td>\n",
       "    </tr>\n",
       "    <tr>\n",
       "      <th>3</th>\n",
       "      <td>2014-09-22</td>\n",
       "      <td>402.152008</td>\n",
       "      <td>24127600.0</td>\n",
       "      <td>1216.800049</td>\n",
       "      <td>7.0</td>\n",
       "      <td>1994.290039</td>\n",
       "      <td>3.349670e+09</td>\n",
       "      <td>4052.75</td>\n",
       "      <td>295630.0</td>\n",
       "      <td>91.519997</td>\n",
       "      <td>229232.0</td>\n",
       "      <td>17172.679688</td>\n",
       "      <td>74300000.0</td>\n",
       "    </tr>\n",
       "    <tr>\n",
       "      <th>4</th>\n",
       "      <td>2014-09-23</td>\n",
       "      <td>435.790985</td>\n",
       "      <td>45099500.0</td>\n",
       "      <td>1221.000000</td>\n",
       "      <td>5.0</td>\n",
       "      <td>1982.770020</td>\n",
       "      <td>3.279350e+09</td>\n",
       "      <td>4037.00</td>\n",
       "      <td>276929.0</td>\n",
       "      <td>91.559998</td>\n",
       "      <td>247770.0</td>\n",
       "      <td>17055.869141</td>\n",
       "      <td>77090000.0</td>\n",
       "    </tr>\n",
       "  </tbody>\n",
       "</table>\n",
       "</div>"
      ],
      "text/plain": [
       "        Date     Close_x    Volume_x      Close_y  Volume_y      Close_x  \\\n",
       "0 2014-09-17  457.334015  21056800.0  1234.400024      10.0  2001.569946   \n",
       "1 2014-09-18  424.440002  34483200.0  1225.699951       5.0  2011.359985   \n",
       "2 2014-09-19  394.795990  37919700.0  1215.300049       4.0  2010.400024   \n",
       "3 2014-09-22  402.152008  24127600.0  1216.800049       7.0  1994.290039   \n",
       "4 2014-09-23  435.790985  45099500.0  1221.000000       5.0  1982.770020   \n",
       "\n",
       "       Volume_x  Close_y  Volume_y    Close_x  Volume_x       Close_y  \\\n",
       "0  3.209420e+09  4072.50   68884.0  94.419998  305832.0  17156.849609   \n",
       "1  3.235340e+09  4103.75   33223.0  93.070000  170772.0  17265.990234   \n",
       "2  4.880220e+09  4118.50  279619.0  92.410004   92780.0  17279.740234   \n",
       "3  3.349670e+09  4052.75  295630.0  91.519997  229232.0  17172.679688   \n",
       "4  3.279350e+09  4037.00  276929.0  91.559998  247770.0  17055.869141   \n",
       "\n",
       "      Volume_y  \n",
       "0   87810000.0  \n",
       "1   85300000.0  \n",
       "2  349620000.0  \n",
       "3   74300000.0  \n",
       "4   77090000.0  "
      ]
     },
     "execution_count": 44,
     "metadata": {},
     "output_type": "execute_result"
    }
   ],
   "source": [
    "join_bubble.head()"
   ]
  },
  {
   "cell_type": "code",
   "execution_count": 45,
   "metadata": {},
   "outputs": [],
   "source": [
    "# rename columns of merged dataframes\n",
    "join_prices.columns=['date','gold','bitcoin']\n",
    "join_returns.columns=['date','gold returns','bitcoin returns']\n",
    "join_ishares.columns=['bitcoin','ishares']\n",
    "join_bubble.columns=['Date','bitcoin price','bitcoin volume','gold price','gold volume',\n",
    "                     'sp price','sp volume','nasdaq price','nasdaq volume','crude price',\n",
    "                     'crude volume', 'dj price','dj volume']\n"
   ]
  },
  {
   "cell_type": "markdown",
   "metadata": {},
   "source": [
    "---"
   ]
  },
  {
   "cell_type": "markdown",
   "metadata": {},
   "source": [
    "# What is Bitcoin's comparison with traditional asset classes based on their returns, volatility, and volume in the the past 5 years?"
   ]
  },
  {
   "cell_type": "code",
   "execution_count": 46,
   "metadata": {},
   "outputs": [],
   "source": [
    "# 5 year period\n",
    "years5 = (join_bubble['Date'] > '2015-03-1') & (join_bubble['Date'] <= '2020-03-01')\n",
    "join_bubble = join_bubble[years5]"
   ]
  },
  {
   "cell_type": "code",
   "execution_count": 47,
   "metadata": {},
   "outputs": [
    {
     "data": {
      "text/html": [
       "<div>\n",
       "<style scoped>\n",
       "    .dataframe tbody tr th:only-of-type {\n",
       "        vertical-align: middle;\n",
       "    }\n",
       "\n",
       "    .dataframe tbody tr th {\n",
       "        vertical-align: top;\n",
       "    }\n",
       "\n",
       "    .dataframe thead th {\n",
       "        text-align: right;\n",
       "    }\n",
       "</style>\n",
       "<table border=\"1\" class=\"dataframe\">\n",
       "  <thead>\n",
       "    <tr style=\"text-align: right;\">\n",
       "      <th></th>\n",
       "      <th>Date</th>\n",
       "      <th>bitcoin volume</th>\n",
       "      <th>gold volume</th>\n",
       "      <th>sp volume</th>\n",
       "      <th>nasdaq volume</th>\n",
       "      <th>crude volume</th>\n",
       "      <th>dj volume</th>\n",
       "    </tr>\n",
       "  </thead>\n",
       "  <tbody>\n",
       "    <tr>\n",
       "      <th>111</th>\n",
       "      <td>2015-03-02</td>\n",
       "      <td>40465700.0</td>\n",
       "      <td>124.0</td>\n",
       "      <td>3.409490e+09</td>\n",
       "      <td>185330.0</td>\n",
       "      <td>427177.0</td>\n",
       "      <td>89790000.0</td>\n",
       "    </tr>\n",
       "    <tr>\n",
       "      <th>112</th>\n",
       "      <td>2015-03-03</td>\n",
       "      <td>50461300.0</td>\n",
       "      <td>51.0</td>\n",
       "      <td>3.262300e+09</td>\n",
       "      <td>198589.0</td>\n",
       "      <td>370597.0</td>\n",
       "      <td>83830000.0</td>\n",
       "    </tr>\n",
       "    <tr>\n",
       "      <th>113</th>\n",
       "      <td>2015-03-04</td>\n",
       "      <td>41383000.0</td>\n",
       "      <td>27.0</td>\n",
       "      <td>3.421110e+09</td>\n",
       "      <td>210995.0</td>\n",
       "      <td>463989.0</td>\n",
       "      <td>80900000.0</td>\n",
       "    </tr>\n",
       "    <tr>\n",
       "      <th>114</th>\n",
       "      <td>2015-03-05</td>\n",
       "      <td>41302400.0</td>\n",
       "      <td>29.0</td>\n",
       "      <td>3.103030e+09</td>\n",
       "      <td>185176.0</td>\n",
       "      <td>370953.0</td>\n",
       "      <td>75840000.0</td>\n",
       "    </tr>\n",
       "    <tr>\n",
       "      <th>115</th>\n",
       "      <td>2015-03-06</td>\n",
       "      <td>28918900.0</td>\n",
       "      <td>168.0</td>\n",
       "      <td>3.853570e+09</td>\n",
       "      <td>296605.0</td>\n",
       "      <td>406840.0</td>\n",
       "      <td>113350000.0</td>\n",
       "    </tr>\n",
       "  </tbody>\n",
       "</table>\n",
       "</div>"
      ],
      "text/plain": [
       "          Date  bitcoin volume  gold volume     sp volume  nasdaq volume  \\\n",
       "111 2015-03-02      40465700.0        124.0  3.409490e+09       185330.0   \n",
       "112 2015-03-03      50461300.0         51.0  3.262300e+09       198589.0   \n",
       "113 2015-03-04      41383000.0         27.0  3.421110e+09       210995.0   \n",
       "114 2015-03-05      41302400.0         29.0  3.103030e+09       185176.0   \n",
       "115 2015-03-06      28918900.0        168.0  3.853570e+09       296605.0   \n",
       "\n",
       "     crude volume    dj volume  \n",
       "111      427177.0   89790000.0  \n",
       "112      370597.0   83830000.0  \n",
       "113      463989.0   80900000.0  \n",
       "114      370953.0   75840000.0  \n",
       "115      406840.0  113350000.0  "
      ]
     },
     "execution_count": 47,
     "metadata": {},
     "output_type": "execute_result"
    }
   ],
   "source": [
    "join_bubble_vol = join_bubble[['Date','bitcoin volume','gold volume','sp volume',\n",
    "                               'nasdaq volume','crude volume','dj volume']]\n",
    "join_bubble_vol.head()"
   ]
  },
  {
   "cell_type": "code",
   "execution_count": 48,
   "metadata": {},
   "outputs": [],
   "source": [
    "# calculate average volume\n",
    "join_bubble_vol.set_index('Date',inplace=True)\n",
    "avg_vol = join_bubble_vol.mean()\n",
    "average_volume = avg_vol.tolist()"
   ]
  },
  {
   "cell_type": "code",
   "execution_count": 49,
   "metadata": {},
   "outputs": [
    {
     "data": {
      "text/html": [
       "<div>\n",
       "<style scoped>\n",
       "    .dataframe tbody tr th:only-of-type {\n",
       "        vertical-align: middle;\n",
       "    }\n",
       "\n",
       "    .dataframe tbody tr th {\n",
       "        vertical-align: top;\n",
       "    }\n",
       "\n",
       "    .dataframe thead th {\n",
       "        text-align: right;\n",
       "    }\n",
       "</style>\n",
       "<table border=\"1\" class=\"dataframe\">\n",
       "  <thead>\n",
       "    <tr style=\"text-align: right;\">\n",
       "      <th></th>\n",
       "      <th>Date</th>\n",
       "      <th>bitcoin price</th>\n",
       "      <th>gold price</th>\n",
       "      <th>sp price</th>\n",
       "      <th>nasdaq price</th>\n",
       "      <th>crude price</th>\n",
       "      <th>dj price</th>\n",
       "    </tr>\n",
       "  </thead>\n",
       "  <tbody>\n",
       "    <tr>\n",
       "      <th>0</th>\n",
       "      <td>2015-03-02</td>\n",
       "      <td>275.670013</td>\n",
       "      <td>1207.699951</td>\n",
       "      <td>2117.389893</td>\n",
       "      <td>4477.0</td>\n",
       "      <td>49.590000</td>\n",
       "      <td>18288.630859</td>\n",
       "    </tr>\n",
       "    <tr>\n",
       "      <th>1247</th>\n",
       "      <td>2020-02-28</td>\n",
       "      <td>8672.455078</td>\n",
       "      <td>1564.099976</td>\n",
       "      <td>2954.219971</td>\n",
       "      <td>8454.0</td>\n",
       "      <td>44.759998</td>\n",
       "      <td>25409.359375</td>\n",
       "    </tr>\n",
       "  </tbody>\n",
       "</table>\n",
       "</div>"
      ],
      "text/plain": [
       "           Date  bitcoin price   gold price     sp price  nasdaq price  \\\n",
       "0    2015-03-02     275.670013  1207.699951  2117.389893        4477.0   \n",
       "1247 2020-02-28    8672.455078  1564.099976  2954.219971        8454.0   \n",
       "\n",
       "      crude price      dj price  \n",
       "0       49.590000  18288.630859  \n",
       "1247    44.759998  25409.359375  "
      ]
     },
     "execution_count": 49,
     "metadata": {},
     "output_type": "execute_result"
    }
   ],
   "source": [
    "join_bubble_price = join_bubble[['Date','bitcoin price','gold price','sp price',\n",
    "                               'nasdaq price','crude price','dj price']]\n",
    "join_bubble_price = join_bubble_price.set_index('Date')\n",
    "join_bubble_price = join_bubble_price.reset_index()\n",
    "join_bubble_returns = join_bubble_price.iloc[[0,1247]]\n",
    "join_bubble_returns.head()"
   ]
  },
  {
   "cell_type": "code",
   "execution_count": 50,
   "metadata": {},
   "outputs": [],
   "source": [
    "# calculate 5 year returns\n",
    "join_bubble_returns = join_bubble_returns.set_index('Date')\n",
    "join_bubble_5returns = join_bubble_returns.pct_change()\n",
    "returns5 = join_bubble_5returns.iloc[1:].values\n",
    "returns5 = returns5.tolist()\n",
    "return_5yrs = list(flatten(returns5))"
   ]
  },
  {
   "cell_type": "code",
   "execution_count": 51,
   "metadata": {},
   "outputs": [],
   "source": [
    "# calculate average volatility\n",
    "join_bubble_price = join_bubble_price.set_index('Date')\n",
    "join_bubble_d_returns = join_bubble_price.pct_change()\n",
    "join_volatility = join_bubble_d_returns.std() * np.sqrt(252)\n",
    "join_volatility = join_volatility.tolist()"
   ]
  },
  {
   "cell_type": "code",
   "execution_count": 52,
   "metadata": {},
   "outputs": [
    {
     "data": {
      "text/html": [
       "<div>\n",
       "<style scoped>\n",
       "    .dataframe tbody tr th:only-of-type {\n",
       "        vertical-align: middle;\n",
       "    }\n",
       "\n",
       "    .dataframe tbody tr th {\n",
       "        vertical-align: top;\n",
       "    }\n",
       "\n",
       "    .dataframe thead th {\n",
       "        text-align: right;\n",
       "    }\n",
       "</style>\n",
       "<table border=\"1\" class=\"dataframe\">\n",
       "  <thead>\n",
       "    <tr style=\"text-align: right;\">\n",
       "      <th></th>\n",
       "      <th>Returns_5yr</th>\n",
       "      <th>Avg_volume</th>\n",
       "      <th>Average_volatility</th>\n",
       "      <th>Name</th>\n",
       "    </tr>\n",
       "  </thead>\n",
       "  <tbody>\n",
       "    <tr>\n",
       "      <th>0</th>\n",
       "      <td>30.459552</td>\n",
       "      <td>6.306042e+09</td>\n",
       "      <td>0.704948</td>\n",
       "      <td>Bitcoin</td>\n",
       "    </tr>\n",
       "    <tr>\n",
       "      <th>1</th>\n",
       "      <td>0.295106</td>\n",
       "      <td>6.183330e+03</td>\n",
       "      <td>0.129616</td>\n",
       "      <td>Gold</td>\n",
       "    </tr>\n",
       "    <tr>\n",
       "      <th>2</th>\n",
       "      <td>0.395218</td>\n",
       "      <td>3.645957e+09</td>\n",
       "      <td>0.134879</td>\n",
       "      <td>SP500</td>\n",
       "    </tr>\n",
       "    <tr>\n",
       "      <th>3</th>\n",
       "      <td>0.888318</td>\n",
       "      <td>3.348129e+05</td>\n",
       "      <td>0.170625</td>\n",
       "      <td>NASDAQ</td>\n",
       "    </tr>\n",
       "    <tr>\n",
       "      <th>4</th>\n",
       "      <td>-0.097399</td>\n",
       "      <td>5.679619e+05</td>\n",
       "      <td>0.365199</td>\n",
       "      <td>Crude</td>\n",
       "    </tr>\n",
       "    <tr>\n",
       "      <th>5</th>\n",
       "      <td>0.389353</td>\n",
       "      <td>2.419225e+08</td>\n",
       "      <td>0.136139</td>\n",
       "      <td>DowJ</td>\n",
       "    </tr>\n",
       "  </tbody>\n",
       "</table>\n",
       "</div>"
      ],
      "text/plain": [
       "   Returns_5yr    Avg_volume  Average_volatility     Name\n",
       "0    30.459552  6.306042e+09            0.704948  Bitcoin\n",
       "1     0.295106  6.183330e+03            0.129616     Gold\n",
       "2     0.395218  3.645957e+09            0.134879    SP500\n",
       "3     0.888318  3.348129e+05            0.170625   NASDAQ\n",
       "4    -0.097399  5.679619e+05            0.365199    Crude\n",
       "5     0.389353  2.419225e+08            0.136139     DowJ"
      ]
     },
     "execution_count": 52,
     "metadata": {},
     "output_type": "execute_result"
    }
   ],
   "source": [
    "# create dataframe for bubble chart\n",
    "Name = ['Bitcoin' , 'Gold', 'SP500' , 'NASDAQ', 'Crude', 'DowJ']\n",
    "dataframe = pd.DataFrame({\"Returns_5yr\":return_5yrs, \"Avg_volume\":average_volume, \"Average_volatility\":join_volatility, \"Name\":Name})\n",
    "dataframe"
   ]
  },
  {
   "cell_type": "code",
   "execution_count": 53,
   "metadata": {},
   "outputs": [
    {
     "data": {
      "application/vnd.plotly.v1+json": {
       "config": {
        "plotlyServerURL": "https://plot.ly"
       },
       "data": [
        {
         "hovertemplate": "<b>%{hovertext}</b><br><br>Name=Bitcoin<br>Average_volatility=%{x}<br>Returns_5yr=%{y}<br>size=%{marker.size}<extra></extra>",
         "hovertext": [
          30.459551888220798
         ],
         "legendgroup": "Bitcoin",
         "marker": {
          "color": "#636efa",
          "size": [
           80
          ],
          "sizemode": "area",
          "sizeref": 0.022222222222222223,
          "symbol": "circle"
         },
         "mode": "markers",
         "name": "Bitcoin",
         "orientation": "v",
         "showlegend": true,
         "type": "scatter",
         "x": [
          0.7049478278244338
         ],
         "xaxis": "x",
         "y": [
          30.459551888220798
         ],
         "yaxis": "y"
        },
        {
         "hovertemplate": "<b>%{hovertext}</b><br><br>Name=Gold<br>Average_volatility=%{x}<br>Returns_5yr=%{y}<br>size=%{marker.size}<extra></extra>",
         "hovertext": [
          0.29510643327002994
         ],
         "legendgroup": "Gold",
         "marker": {
          "color": "#EF553B",
          "size": [
           3
          ],
          "sizemode": "area",
          "sizeref": 0.022222222222222223,
          "symbol": "circle"
         },
         "mode": "markers",
         "name": "Gold",
         "orientation": "v",
         "showlegend": true,
         "type": "scatter",
         "x": [
          0.12961633740590411
         ],
         "xaxis": "x",
         "y": [
          0.29510643327002994
         ],
         "yaxis": "y"
        },
        {
         "hovertemplate": "<b>%{hovertext}</b><br><br>Name=SP500<br>Average_volatility=%{x}<br>Returns_5yr=%{y}<br>size=%{marker.size}<extra></extra>",
         "hovertext": [
          0.395217754069066
         ],
         "legendgroup": "SP500",
         "marker": {
          "color": "#00cc96",
          "size": [
           30
          ],
          "sizemode": "area",
          "sizeref": 0.022222222222222223,
          "symbol": "circle"
         },
         "mode": "markers",
         "name": "SP500",
         "orientation": "v",
         "showlegend": true,
         "type": "scatter",
         "x": [
          0.13487907331456434
         ],
         "xaxis": "x",
         "y": [
          0.395217754069066
         ],
         "yaxis": "y"
        },
        {
         "hovertemplate": "<b>%{hovertext}</b><br><br>Name=NASDAQ<br>Average_volatility=%{x}<br>Returns_5yr=%{y}<br>size=%{marker.size}<extra></extra>",
         "hovertext": [
          0.8883180701362519
         ],
         "legendgroup": "NASDAQ",
         "marker": {
          "color": "#ab63fa",
          "size": [
           10
          ],
          "sizemode": "area",
          "sizeref": 0.022222222222222223,
          "symbol": "circle"
         },
         "mode": "markers",
         "name": "NASDAQ",
         "orientation": "v",
         "showlegend": true,
         "type": "scatter",
         "x": [
          0.17062529516584882
         ],
         "xaxis": "x",
         "y": [
          0.8883180701362519
         ],
         "yaxis": "y"
        },
        {
         "hovertemplate": "<b>%{hovertext}</b><br><br>Name=Crude<br>Average_volatility=%{x}<br>Returns_5yr=%{y}<br>size=%{marker.size}<extra></extra>",
         "hovertext": [
          -0.09739870941722117
         ],
         "legendgroup": "Crude",
         "marker": {
          "color": "#FFA15A",
          "size": [
           15
          ],
          "sizemode": "area",
          "sizeref": 0.022222222222222223,
          "symbol": "circle"
         },
         "mode": "markers",
         "name": "Crude",
         "orientation": "v",
         "showlegend": true,
         "type": "scatter",
         "x": [
          0.36519866386551963
         ],
         "xaxis": "x",
         "y": [
          -0.09739870941722117
         ],
         "yaxis": "y"
        },
        {
         "hovertemplate": "<b>%{hovertext}</b><br><br>Name=DowJ<br>Average_volatility=%{x}<br>Returns_5yr=%{y}<br>size=%{marker.size}<extra></extra>",
         "hovertext": [
          0.389352738917349
         ],
         "legendgroup": "DowJ",
         "marker": {
          "color": "#19d3f3",
          "size": [
           25
          ],
          "sizemode": "area",
          "sizeref": 0.022222222222222223,
          "symbol": "circle"
         },
         "mode": "markers",
         "name": "DowJ",
         "orientation": "v",
         "showlegend": true,
         "type": "scatter",
         "x": [
          0.1361387340025951
         ],
         "xaxis": "x",
         "y": [
          0.389352738917349
         ],
         "yaxis": "y"
        }
       ],
       "layout": {
        "autosize": true,
        "legend": {
         "itemsizing": "constant",
         "title": {
          "text": "Name"
         },
         "tracegroupgap": 0
        },
        "margin": {
         "t": 60
        },
        "template": {
         "data": {
          "bar": [
           {
            "error_x": {
             "color": "#2a3f5f"
            },
            "error_y": {
             "color": "#2a3f5f"
            },
            "marker": {
             "line": {
              "color": "#E5ECF6",
              "width": 0.5
             }
            },
            "type": "bar"
           }
          ],
          "barpolar": [
           {
            "marker": {
             "line": {
              "color": "#E5ECF6",
              "width": 0.5
             }
            },
            "type": "barpolar"
           }
          ],
          "carpet": [
           {
            "aaxis": {
             "endlinecolor": "#2a3f5f",
             "gridcolor": "white",
             "linecolor": "white",
             "minorgridcolor": "white",
             "startlinecolor": "#2a3f5f"
            },
            "baxis": {
             "endlinecolor": "#2a3f5f",
             "gridcolor": "white",
             "linecolor": "white",
             "minorgridcolor": "white",
             "startlinecolor": "#2a3f5f"
            },
            "type": "carpet"
           }
          ],
          "choropleth": [
           {
            "colorbar": {
             "outlinewidth": 0,
             "ticks": ""
            },
            "type": "choropleth"
           }
          ],
          "contour": [
           {
            "colorbar": {
             "outlinewidth": 0,
             "ticks": ""
            },
            "colorscale": [
             [
              0,
              "#0d0887"
             ],
             [
              0.1111111111111111,
              "#46039f"
             ],
             [
              0.2222222222222222,
              "#7201a8"
             ],
             [
              0.3333333333333333,
              "#9c179e"
             ],
             [
              0.4444444444444444,
              "#bd3786"
             ],
             [
              0.5555555555555556,
              "#d8576b"
             ],
             [
              0.6666666666666666,
              "#ed7953"
             ],
             [
              0.7777777777777778,
              "#fb9f3a"
             ],
             [
              0.8888888888888888,
              "#fdca26"
             ],
             [
              1,
              "#f0f921"
             ]
            ],
            "type": "contour"
           }
          ],
          "contourcarpet": [
           {
            "colorbar": {
             "outlinewidth": 0,
             "ticks": ""
            },
            "type": "contourcarpet"
           }
          ],
          "heatmap": [
           {
            "colorbar": {
             "outlinewidth": 0,
             "ticks": ""
            },
            "colorscale": [
             [
              0,
              "#0d0887"
             ],
             [
              0.1111111111111111,
              "#46039f"
             ],
             [
              0.2222222222222222,
              "#7201a8"
             ],
             [
              0.3333333333333333,
              "#9c179e"
             ],
             [
              0.4444444444444444,
              "#bd3786"
             ],
             [
              0.5555555555555556,
              "#d8576b"
             ],
             [
              0.6666666666666666,
              "#ed7953"
             ],
             [
              0.7777777777777778,
              "#fb9f3a"
             ],
             [
              0.8888888888888888,
              "#fdca26"
             ],
             [
              1,
              "#f0f921"
             ]
            ],
            "type": "heatmap"
           }
          ],
          "heatmapgl": [
           {
            "colorbar": {
             "outlinewidth": 0,
             "ticks": ""
            },
            "colorscale": [
             [
              0,
              "#0d0887"
             ],
             [
              0.1111111111111111,
              "#46039f"
             ],
             [
              0.2222222222222222,
              "#7201a8"
             ],
             [
              0.3333333333333333,
              "#9c179e"
             ],
             [
              0.4444444444444444,
              "#bd3786"
             ],
             [
              0.5555555555555556,
              "#d8576b"
             ],
             [
              0.6666666666666666,
              "#ed7953"
             ],
             [
              0.7777777777777778,
              "#fb9f3a"
             ],
             [
              0.8888888888888888,
              "#fdca26"
             ],
             [
              1,
              "#f0f921"
             ]
            ],
            "type": "heatmapgl"
           }
          ],
          "histogram": [
           {
            "marker": {
             "colorbar": {
              "outlinewidth": 0,
              "ticks": ""
             }
            },
            "type": "histogram"
           }
          ],
          "histogram2d": [
           {
            "colorbar": {
             "outlinewidth": 0,
             "ticks": ""
            },
            "colorscale": [
             [
              0,
              "#0d0887"
             ],
             [
              0.1111111111111111,
              "#46039f"
             ],
             [
              0.2222222222222222,
              "#7201a8"
             ],
             [
              0.3333333333333333,
              "#9c179e"
             ],
             [
              0.4444444444444444,
              "#bd3786"
             ],
             [
              0.5555555555555556,
              "#d8576b"
             ],
             [
              0.6666666666666666,
              "#ed7953"
             ],
             [
              0.7777777777777778,
              "#fb9f3a"
             ],
             [
              0.8888888888888888,
              "#fdca26"
             ],
             [
              1,
              "#f0f921"
             ]
            ],
            "type": "histogram2d"
           }
          ],
          "histogram2dcontour": [
           {
            "colorbar": {
             "outlinewidth": 0,
             "ticks": ""
            },
            "colorscale": [
             [
              0,
              "#0d0887"
             ],
             [
              0.1111111111111111,
              "#46039f"
             ],
             [
              0.2222222222222222,
              "#7201a8"
             ],
             [
              0.3333333333333333,
              "#9c179e"
             ],
             [
              0.4444444444444444,
              "#bd3786"
             ],
             [
              0.5555555555555556,
              "#d8576b"
             ],
             [
              0.6666666666666666,
              "#ed7953"
             ],
             [
              0.7777777777777778,
              "#fb9f3a"
             ],
             [
              0.8888888888888888,
              "#fdca26"
             ],
             [
              1,
              "#f0f921"
             ]
            ],
            "type": "histogram2dcontour"
           }
          ],
          "mesh3d": [
           {
            "colorbar": {
             "outlinewidth": 0,
             "ticks": ""
            },
            "type": "mesh3d"
           }
          ],
          "parcoords": [
           {
            "line": {
             "colorbar": {
              "outlinewidth": 0,
              "ticks": ""
             }
            },
            "type": "parcoords"
           }
          ],
          "pie": [
           {
            "automargin": true,
            "type": "pie"
           }
          ],
          "scatter": [
           {
            "marker": {
             "colorbar": {
              "outlinewidth": 0,
              "ticks": ""
             }
            },
            "type": "scatter"
           }
          ],
          "scatter3d": [
           {
            "line": {
             "colorbar": {
              "outlinewidth": 0,
              "ticks": ""
             }
            },
            "marker": {
             "colorbar": {
              "outlinewidth": 0,
              "ticks": ""
             }
            },
            "type": "scatter3d"
           }
          ],
          "scattercarpet": [
           {
            "marker": {
             "colorbar": {
              "outlinewidth": 0,
              "ticks": ""
             }
            },
            "type": "scattercarpet"
           }
          ],
          "scattergeo": [
           {
            "marker": {
             "colorbar": {
              "outlinewidth": 0,
              "ticks": ""
             }
            },
            "type": "scattergeo"
           }
          ],
          "scattergl": [
           {
            "marker": {
             "colorbar": {
              "outlinewidth": 0,
              "ticks": ""
             }
            },
            "type": "scattergl"
           }
          ],
          "scattermapbox": [
           {
            "marker": {
             "colorbar": {
              "outlinewidth": 0,
              "ticks": ""
             }
            },
            "type": "scattermapbox"
           }
          ],
          "scatterpolar": [
           {
            "marker": {
             "colorbar": {
              "outlinewidth": 0,
              "ticks": ""
             }
            },
            "type": "scatterpolar"
           }
          ],
          "scatterpolargl": [
           {
            "marker": {
             "colorbar": {
              "outlinewidth": 0,
              "ticks": ""
             }
            },
            "type": "scatterpolargl"
           }
          ],
          "scatterternary": [
           {
            "marker": {
             "colorbar": {
              "outlinewidth": 0,
              "ticks": ""
             }
            },
            "type": "scatterternary"
           }
          ],
          "surface": [
           {
            "colorbar": {
             "outlinewidth": 0,
             "ticks": ""
            },
            "colorscale": [
             [
              0,
              "#0d0887"
             ],
             [
              0.1111111111111111,
              "#46039f"
             ],
             [
              0.2222222222222222,
              "#7201a8"
             ],
             [
              0.3333333333333333,
              "#9c179e"
             ],
             [
              0.4444444444444444,
              "#bd3786"
             ],
             [
              0.5555555555555556,
              "#d8576b"
             ],
             [
              0.6666666666666666,
              "#ed7953"
             ],
             [
              0.7777777777777778,
              "#fb9f3a"
             ],
             [
              0.8888888888888888,
              "#fdca26"
             ],
             [
              1,
              "#f0f921"
             ]
            ],
            "type": "surface"
           }
          ],
          "table": [
           {
            "cells": {
             "fill": {
              "color": "#EBF0F8"
             },
             "line": {
              "color": "white"
             }
            },
            "header": {
             "fill": {
              "color": "#C8D4E3"
             },
             "line": {
              "color": "white"
             }
            },
            "type": "table"
           }
          ]
         },
         "layout": {
          "annotationdefaults": {
           "arrowcolor": "#2a3f5f",
           "arrowhead": 0,
           "arrowwidth": 1
          },
          "autotypenumbers": "strict",
          "coloraxis": {
           "colorbar": {
            "outlinewidth": 0,
            "ticks": ""
           }
          },
          "colorscale": {
           "diverging": [
            [
             0,
             "#8e0152"
            ],
            [
             0.1,
             "#c51b7d"
            ],
            [
             0.2,
             "#de77ae"
            ],
            [
             0.3,
             "#f1b6da"
            ],
            [
             0.4,
             "#fde0ef"
            ],
            [
             0.5,
             "#f7f7f7"
            ],
            [
             0.6,
             "#e6f5d0"
            ],
            [
             0.7,
             "#b8e186"
            ],
            [
             0.8,
             "#7fbc41"
            ],
            [
             0.9,
             "#4d9221"
            ],
            [
             1,
             "#276419"
            ]
           ],
           "sequential": [
            [
             0,
             "#0d0887"
            ],
            [
             0.1111111111111111,
             "#46039f"
            ],
            [
             0.2222222222222222,
             "#7201a8"
            ],
            [
             0.3333333333333333,
             "#9c179e"
            ],
            [
             0.4444444444444444,
             "#bd3786"
            ],
            [
             0.5555555555555556,
             "#d8576b"
            ],
            [
             0.6666666666666666,
             "#ed7953"
            ],
            [
             0.7777777777777778,
             "#fb9f3a"
            ],
            [
             0.8888888888888888,
             "#fdca26"
            ],
            [
             1,
             "#f0f921"
            ]
           ],
           "sequentialminus": [
            [
             0,
             "#0d0887"
            ],
            [
             0.1111111111111111,
             "#46039f"
            ],
            [
             0.2222222222222222,
             "#7201a8"
            ],
            [
             0.3333333333333333,
             "#9c179e"
            ],
            [
             0.4444444444444444,
             "#bd3786"
            ],
            [
             0.5555555555555556,
             "#d8576b"
            ],
            [
             0.6666666666666666,
             "#ed7953"
            ],
            [
             0.7777777777777778,
             "#fb9f3a"
            ],
            [
             0.8888888888888888,
             "#fdca26"
            ],
            [
             1,
             "#f0f921"
            ]
           ]
          },
          "colorway": [
           "#636efa",
           "#EF553B",
           "#00cc96",
           "#ab63fa",
           "#FFA15A",
           "#19d3f3",
           "#FF6692",
           "#B6E880",
           "#FF97FF",
           "#FECB52"
          ],
          "font": {
           "color": "#2a3f5f"
          },
          "geo": {
           "bgcolor": "white",
           "lakecolor": "white",
           "landcolor": "#E5ECF6",
           "showlakes": true,
           "showland": true,
           "subunitcolor": "white"
          },
          "hoverlabel": {
           "align": "left"
          },
          "hovermode": "closest",
          "mapbox": {
           "style": "light"
          },
          "paper_bgcolor": "white",
          "plot_bgcolor": "#E5ECF6",
          "polar": {
           "angularaxis": {
            "gridcolor": "white",
            "linecolor": "white",
            "ticks": ""
           },
           "bgcolor": "#E5ECF6",
           "radialaxis": {
            "gridcolor": "white",
            "linecolor": "white",
            "ticks": ""
           }
          },
          "scene": {
           "xaxis": {
            "backgroundcolor": "#E5ECF6",
            "gridcolor": "white",
            "gridwidth": 2,
            "linecolor": "white",
            "showbackground": true,
            "ticks": "",
            "zerolinecolor": "white"
           },
           "yaxis": {
            "backgroundcolor": "#E5ECF6",
            "gridcolor": "white",
            "gridwidth": 2,
            "linecolor": "white",
            "showbackground": true,
            "ticks": "",
            "zerolinecolor": "white"
           },
           "zaxis": {
            "backgroundcolor": "#E5ECF6",
            "gridcolor": "white",
            "gridwidth": 2,
            "linecolor": "white",
            "showbackground": true,
            "ticks": "",
            "zerolinecolor": "white"
           }
          },
          "shapedefaults": {
           "line": {
            "color": "#2a3f5f"
           }
          },
          "ternary": {
           "aaxis": {
            "gridcolor": "white",
            "linecolor": "white",
            "ticks": ""
           },
           "baxis": {
            "gridcolor": "white",
            "linecolor": "white",
            "ticks": ""
           },
           "bgcolor": "#E5ECF6",
           "caxis": {
            "gridcolor": "white",
            "linecolor": "white",
            "ticks": ""
           }
          },
          "title": {
           "x": 0.05
          },
          "xaxis": {
           "automargin": true,
           "gridcolor": "white",
           "linecolor": "white",
           "ticks": "",
           "title": {
            "standoff": 15
           },
           "zerolinecolor": "white",
           "zerolinewidth": 2
          },
          "yaxis": {
           "automargin": true,
           "gridcolor": "white",
           "linecolor": "white",
           "ticks": "",
           "title": {
            "standoff": 15
           },
           "zerolinecolor": "white",
           "zerolinewidth": 2
          }
         }
        },
        "xaxis": {
         "anchor": "y",
         "autorange": true,
         "domain": [
          0,
          1
         ],
         "range": [
          -0.9395774514168058,
          -0.06596361142446837
         ],
         "title": {
          "text": "Average_volatility"
         },
         "type": "log"
        },
        "yaxis": {
         "anchor": "x",
         "autorange": true,
         "domain": [
          0,
          1
         ],
         "range": [
          -6.217943187882412,
          39.80227433473137
         ],
         "title": {
          "text": "Returns_5yr"
         },
         "type": "linear"
        }
       }
      },
      "image/png": "[encoded data removed]",
      "text/html": [
       "<div>                            <div id=\"19fa5fb8-3ba3-470e-a485-15c595a51a58\" class=\"plotly-graph-div\" style=\"height:525px; width:100%;\"></div>            <script type=\"text/javascript\">                require([\"plotly\"], function(Plotly) {                    window.PLOTLYENV=window.PLOTLYENV || {};                                    if (document.getElementById(\"19fa5fb8-3ba3-470e-a485-15c595a51a58\")) {                    Plotly.newPlot(                        \"19fa5fb8-3ba3-470e-a485-15c595a51a58\",                        [{\"hovertemplate\": \"<b>%{hovertext}</b><br><br>Name=Bitcoin<br>Average_volatility=%{x}<br>Returns_5yr=%{y}<br>size=%{marker.size}<extra></extra>\", \"hovertext\": [30.459551888220798], \"legendgroup\": \"Bitcoin\", \"marker\": {\"color\": \"#636efa\", \"size\": [80], \"sizemode\": \"area\", \"sizeref\": 0.022222222222222223, \"symbol\": \"circle\"}, \"mode\": \"markers\", \"name\": \"Bitcoin\", \"orientation\": \"v\", \"showlegend\": true, \"type\": \"scatter\", \"x\": [0.7049478278244338], \"xaxis\": \"x\", \"y\": [30.459551888220798], \"yaxis\": \"y\"}, {\"hovertemplate\": \"<b>%{hovertext}</b><br><br>Name=Gold<br>Average_volatility=%{x}<br>Returns_5yr=%{y}<br>size=%{marker.size}<extra></extra>\", \"hovertext\": [0.29510643327002994], \"legendgroup\": \"Gold\", \"marker\": {\"color\": \"#EF553B\", \"size\": [3], \"sizemode\": \"area\", \"sizeref\": 0.022222222222222223, \"symbol\": \"circle\"}, \"mode\": \"markers\", \"name\": \"Gold\", \"orientation\": \"v\", \"showlegend\": true, \"type\": \"scatter\", \"x\": [0.12961633740590411], \"xaxis\": \"x\", \"y\": [0.29510643327002994], \"yaxis\": \"y\"}, {\"hovertemplate\": \"<b>%{hovertext}</b><br><br>Name=SP500<br>Average_volatility=%{x}<br>Returns_5yr=%{y}<br>size=%{marker.size}<extra></extra>\", \"hovertext\": [0.395217754069066], \"legendgroup\": \"SP500\", \"marker\": {\"color\": \"#00cc96\", \"size\": [30], \"sizemode\": \"area\", \"sizeref\": 0.022222222222222223, \"symbol\": \"circle\"}, \"mode\": \"markers\", \"name\": \"SP500\", \"orientation\": \"v\", \"showlegend\": true, \"type\": \"scatter\", \"x\": [0.13487907331456434], \"xaxis\": \"x\", \"y\": [0.395217754069066], \"yaxis\": \"y\"}, {\"hovertemplate\": \"<b>%{hovertext}</b><br><br>Name=NASDAQ<br>Average_volatility=%{x}<br>Returns_5yr=%{y}<br>size=%{marker.size}<extra></extra>\", \"hovertext\": [0.8883180701362519], \"legendgroup\": \"NASDAQ\", \"marker\": {\"color\": \"#ab63fa\", \"size\": [10], \"sizemode\": \"area\", \"sizeref\": 0.022222222222222223, \"symbol\": \"circle\"}, \"mode\": \"markers\", \"name\": \"NASDAQ\", \"orientation\": \"v\", \"showlegend\": true, \"type\": \"scatter\", \"x\": [0.17062529516584882], \"xaxis\": \"x\", \"y\": [0.8883180701362519], \"yaxis\": \"y\"}, {\"hovertemplate\": \"<b>%{hovertext}</b><br><br>Name=Crude<br>Average_volatility=%{x}<br>Returns_5yr=%{y}<br>size=%{marker.size}<extra></extra>\", \"hovertext\": [-0.09739870941722117], \"legendgroup\": \"Crude\", \"marker\": {\"color\": \"#FFA15A\", \"size\": [15], \"sizemode\": \"area\", \"sizeref\": 0.022222222222222223, \"symbol\": \"circle\"}, \"mode\": \"markers\", \"name\": \"Crude\", \"orientation\": \"v\", \"showlegend\": true, \"type\": \"scatter\", \"x\": [0.36519866386551963], \"xaxis\": \"x\", \"y\": [-0.09739870941722117], \"yaxis\": \"y\"}, {\"hovertemplate\": \"<b>%{hovertext}</b><br><br>Name=DowJ<br>Average_volatility=%{x}<br>Returns_5yr=%{y}<br>size=%{marker.size}<extra></extra>\", \"hovertext\": [0.389352738917349], \"legendgroup\": \"DowJ\", \"marker\": {\"color\": \"#19d3f3\", \"size\": [25], \"sizemode\": \"area\", \"sizeref\": 0.022222222222222223, \"symbol\": \"circle\"}, \"mode\": \"markers\", \"name\": \"DowJ\", \"orientation\": \"v\", \"showlegend\": true, \"type\": \"scatter\", \"x\": [0.1361387340025951], \"xaxis\": \"x\", \"y\": [0.389352738917349], \"yaxis\": \"y\"}],                        {\"legend\": {\"itemsizing\": \"constant\", \"title\": {\"text\": \"Name\"}, \"tracegroupgap\": 0}, \"margin\": {\"t\": 60}, \"template\": {\"data\": {\"bar\": [{\"error_x\": {\"color\": \"#2a3f5f\"}, \"error_y\": {\"color\": \"#2a3f5f\"}, \"marker\": {\"line\": {\"color\": \"#E5ECF6\", \"width\": 0.5}}, \"type\": \"bar\"}], \"barpolar\": [{\"marker\": {\"line\": {\"color\": \"#E5ECF6\", \"width\": 0.5}}, \"type\": \"barpolar\"}], \"carpet\": [{\"aaxis\": {\"endlinecolor\": \"#2a3f5f\", \"gridcolor\": \"white\", \"linecolor\": \"white\", \"minorgridcolor\": \"white\", \"startlinecolor\": \"#2a3f5f\"}, \"baxis\": {\"endlinecolor\": \"#2a3f5f\", \"gridcolor\": \"white\", \"linecolor\": \"white\", \"minorgridcolor\": \"white\", \"startlinecolor\": \"#2a3f5f\"}, \"type\": \"carpet\"}], \"choropleth\": [{\"colorbar\": {\"outlinewidth\": 0, \"ticks\": \"\"}, \"type\": \"choropleth\"}], \"contour\": [{\"colorbar\": {\"outlinewidth\": 0, \"ticks\": \"\"}, \"colorscale\": [[0.0, \"#0d0887\"], [0.1111111111111111, \"#46039f\"], [0.2222222222222222, \"#7201a8\"], [0.3333333333333333, \"#9c179e\"], [0.4444444444444444, \"#bd3786\"], [0.5555555555555556, \"#d8576b\"], [0.6666666666666666, \"#ed7953\"], [0.7777777777777778, \"#fb9f3a\"], [0.8888888888888888, \"#fdca26\"], [1.0, \"#f0f921\"]], \"type\": \"contour\"}], \"contourcarpet\": [{\"colorbar\": {\"outlinewidth\": 0, \"ticks\": \"\"}, \"type\": \"contourcarpet\"}], \"heatmap\": [{\"colorbar\": {\"outlinewidth\": 0, \"ticks\": \"\"}, \"colorscale\": [[0.0, \"#0d0887\"], [0.1111111111111111, \"#46039f\"], [0.2222222222222222, \"#7201a8\"], [0.3333333333333333, \"#9c179e\"], [0.4444444444444444, \"#bd3786\"], [0.5555555555555556, \"#d8576b\"], [0.6666666666666666, \"#ed7953\"], [0.7777777777777778, \"#fb9f3a\"], [0.8888888888888888, \"#fdca26\"], [1.0, \"#f0f921\"]], \"type\": \"heatmap\"}], \"heatmapgl\": [{\"colorbar\": {\"outlinewidth\": 0, \"ticks\": \"\"}, \"colorscale\": [[0.0, \"#0d0887\"], [0.1111111111111111, \"#46039f\"], [0.2222222222222222, \"#7201a8\"], [0.3333333333333333, \"#9c179e\"], [0.4444444444444444, \"#bd3786\"], [0.5555555555555556, \"#d8576b\"], [0.6666666666666666, \"#ed7953\"], [0.7777777777777778, \"#fb9f3a\"], [0.8888888888888888, \"#fdca26\"], [1.0, \"#f0f921\"]], \"type\": \"heatmapgl\"}], \"histogram\": [{\"marker\": {\"colorbar\": {\"outlinewidth\": 0, \"ticks\": \"\"}}, \"type\": \"histogram\"}], \"histogram2d\": [{\"colorbar\": {\"outlinewidth\": 0, \"ticks\": \"\"}, \"colorscale\": [[0.0, \"#0d0887\"], [0.1111111111111111, \"#46039f\"], [0.2222222222222222, \"#7201a8\"], [0.3333333333333333, \"#9c179e\"], [0.4444444444444444, \"#bd3786\"], [0.5555555555555556, \"#d8576b\"], [0.6666666666666666, \"#ed7953\"], [0.7777777777777778, \"#fb9f3a\"], [0.8888888888888888, \"#fdca26\"], [1.0, \"#f0f921\"]], \"type\": \"histogram2d\"}], \"histogram2dcontour\": [{\"colorbar\": {\"outlinewidth\": 0, \"ticks\": \"\"}, \"colorscale\": [[0.0, \"#0d0887\"], [0.1111111111111111, \"#46039f\"], [0.2222222222222222, \"#7201a8\"], [0.3333333333333333, \"#9c179e\"], [0.4444444444444444, \"#bd3786\"], [0.5555555555555556, \"#d8576b\"], [0.6666666666666666, \"#ed7953\"], [0.7777777777777778, \"#fb9f3a\"], [0.8888888888888888, \"#fdca26\"], [1.0, \"#f0f921\"]], \"type\": \"histogram2dcontour\"}], \"mesh3d\": [{\"colorbar\": {\"outlinewidth\": 0, \"ticks\": \"\"}, \"type\": \"mesh3d\"}], \"parcoords\": [{\"line\": {\"colorbar\": {\"outlinewidth\": 0, \"ticks\": \"\"}}, \"type\": \"parcoords\"}], \"pie\": [{\"automargin\": true, \"type\": \"pie\"}], \"scatter\": [{\"marker\": {\"colorbar\": {\"outlinewidth\": 0, \"ticks\": \"\"}}, \"type\": \"scatter\"}], \"scatter3d\": [{\"line\": {\"colorbar\": {\"outlinewidth\": 0, \"ticks\": \"\"}}, \"marker\": {\"colorbar\": {\"outlinewidth\": 0, \"ticks\": \"\"}}, \"type\": \"scatter3d\"}], \"scattercarpet\": [{\"marker\": {\"colorbar\": {\"outlinewidth\": 0, \"ticks\": \"\"}}, \"type\": \"scattercarpet\"}], \"scattergeo\": [{\"marker\": {\"colorbar\": {\"outlinewidth\": 0, \"ticks\": \"\"}}, \"type\": \"scattergeo\"}], \"scattergl\": [{\"marker\": {\"colorbar\": {\"outlinewidth\": 0, \"ticks\": \"\"}}, \"type\": \"scattergl\"}], \"scattermapbox\": [{\"marker\": {\"colorbar\": {\"outlinewidth\": 0, \"ticks\": \"\"}}, \"type\": \"scattermapbox\"}], \"scatterpolar\": [{\"marker\": {\"colorbar\": {\"outlinewidth\": 0, \"ticks\": \"\"}}, \"type\": \"scatterpolar\"}], \"scatterpolargl\": [{\"marker\": {\"colorbar\": {\"outlinewidth\": 0, \"ticks\": \"\"}}, \"type\": \"scatterpolargl\"}], \"scatterternary\": [{\"marker\": {\"colorbar\": {\"outlinewidth\": 0, \"ticks\": \"\"}}, \"type\": \"scatterternary\"}], \"surface\": [{\"colorbar\": {\"outlinewidth\": 0, \"ticks\": \"\"}, \"colorscale\": [[0.0, \"#0d0887\"], [0.1111111111111111, \"#46039f\"], [0.2222222222222222, \"#7201a8\"], [0.3333333333333333, \"#9c179e\"], [0.4444444444444444, \"#bd3786\"], [0.5555555555555556, \"#d8576b\"], [0.6666666666666666, \"#ed7953\"], [0.7777777777777778, \"#fb9f3a\"], [0.8888888888888888, \"#fdca26\"], [1.0, \"#f0f921\"]], \"type\": \"surface\"}], \"table\": [{\"cells\": {\"fill\": {\"color\": \"#EBF0F8\"}, \"line\": {\"color\": \"white\"}}, \"header\": {\"fill\": {\"color\": \"#C8D4E3\"}, \"line\": {\"color\": \"white\"}}, \"type\": \"table\"}]}, \"layout\": {\"annotationdefaults\": {\"arrowcolor\": \"#2a3f5f\", \"arrowhead\": 0, \"arrowwidth\": 1}, \"autotypenumbers\": \"strict\", \"coloraxis\": {\"colorbar\": {\"outlinewidth\": 0, \"ticks\": \"\"}}, \"colorscale\": {\"diverging\": [[0, \"#8e0152\"], [0.1, \"#c51b7d\"], [0.2, \"#de77ae\"], [0.3, \"#f1b6da\"], [0.4, \"#fde0ef\"], [0.5, \"#f7f7f7\"], [0.6, \"#e6f5d0\"], [0.7, \"#b8e186\"], [0.8, \"#7fbc41\"], [0.9, \"#4d9221\"], [1, \"#276419\"]], \"sequential\": [[0.0, \"#0d0887\"], [0.1111111111111111, \"#46039f\"], [0.2222222222222222, \"#7201a8\"], [0.3333333333333333, \"#9c179e\"], [0.4444444444444444, \"#bd3786\"], [0.5555555555555556, \"#d8576b\"], [0.6666666666666666, \"#ed7953\"], [0.7777777777777778, \"#fb9f3a\"], [0.8888888888888888, \"#fdca26\"], [1.0, \"#f0f921\"]], \"sequentialminus\": [[0.0, \"#0d0887\"], [0.1111111111111111, \"#46039f\"], [0.2222222222222222, \"#7201a8\"], [0.3333333333333333, \"#9c179e\"], [0.4444444444444444, \"#bd3786\"], [0.5555555555555556, \"#d8576b\"], [0.6666666666666666, \"#ed7953\"], [0.7777777777777778, \"#fb9f3a\"], [0.8888888888888888, \"#fdca26\"], [1.0, \"#f0f921\"]]}, \"colorway\": [\"#636efa\", \"#EF553B\", \"#00cc96\", \"#ab63fa\", \"#FFA15A\", \"#19d3f3\", \"#FF6692\", \"#B6E880\", \"#FF97FF\", \"#FECB52\"], \"font\": {\"color\": \"#2a3f5f\"}, \"geo\": {\"bgcolor\": \"white\", \"lakecolor\": \"white\", \"landcolor\": \"#E5ECF6\", \"showlakes\": true, \"showland\": true, \"subunitcolor\": \"white\"}, \"hoverlabel\": {\"align\": \"left\"}, \"hovermode\": \"closest\", \"mapbox\": {\"style\": \"light\"}, \"paper_bgcolor\": \"white\", \"plot_bgcolor\": \"#E5ECF6\", \"polar\": {\"angularaxis\": {\"gridcolor\": \"white\", \"linecolor\": \"white\", \"ticks\": \"\"}, \"bgcolor\": \"#E5ECF6\", \"radialaxis\": {\"gridcolor\": \"white\", \"linecolor\": \"white\", \"ticks\": \"\"}}, \"scene\": {\"xaxis\": {\"backgroundcolor\": \"#E5ECF6\", \"gridcolor\": \"white\", \"gridwidth\": 2, \"linecolor\": \"white\", \"showbackground\": true, \"ticks\": \"\", \"zerolinecolor\": \"white\"}, \"yaxis\": {\"backgroundcolor\": \"#E5ECF6\", \"gridcolor\": \"white\", \"gridwidth\": 2, \"linecolor\": \"white\", \"showbackground\": true, \"ticks\": \"\", \"zerolinecolor\": \"white\"}, \"zaxis\": {\"backgroundcolor\": \"#E5ECF6\", \"gridcolor\": \"white\", \"gridwidth\": 2, \"linecolor\": \"white\", \"showbackground\": true, \"ticks\": \"\", \"zerolinecolor\": \"white\"}}, \"shapedefaults\": {\"line\": {\"color\": \"#2a3f5f\"}}, \"ternary\": {\"aaxis\": {\"gridcolor\": \"white\", \"linecolor\": \"white\", \"ticks\": \"\"}, \"baxis\": {\"gridcolor\": \"white\", \"linecolor\": \"white\", \"ticks\": \"\"}, \"bgcolor\": \"#E5ECF6\", \"caxis\": {\"gridcolor\": \"white\", \"linecolor\": \"white\", \"ticks\": \"\"}}, \"title\": {\"x\": 0.05}, \"xaxis\": {\"automargin\": true, \"gridcolor\": \"white\", \"linecolor\": \"white\", \"ticks\": \"\", \"title\": {\"standoff\": 15}, \"zerolinecolor\": \"white\", \"zerolinewidth\": 2}, \"yaxis\": {\"automargin\": true, \"gridcolor\": \"white\", \"linecolor\": \"white\", \"ticks\": \"\", \"title\": {\"standoff\": 15}, \"zerolinecolor\": \"white\", \"zerolinewidth\": 2}}}, \"xaxis\": {\"anchor\": \"y\", \"domain\": [0.0, 1.0], \"title\": {\"text\": \"Average_volatility\"}, \"type\": \"log\"}, \"yaxis\": {\"anchor\": \"x\", \"domain\": [0.0, 1.0], \"title\": {\"text\": \"Returns_5yr\"}}},                        {\"responsive\": true}                    ).then(function(){\n",
       "                            \n",
       "var gd = document.getElementById('19fa5fb8-3ba3-470e-a485-15c595a51a58');\n",
       "var x = new MutationObserver(function (mutations, observer) {{\n",
       "        var display = window.getComputedStyle(gd).display;\n",
       "        if (!display || display === 'none') {{\n",
       "            console.log([gd, 'removed!']);\n",
       "            Plotly.purge(gd);\n",
       "            observer.disconnect();\n",
       "        }}\n",
       "}});\n",
       "\n",
       "// Listen for the removal of the full notebook cells\n",
       "var notebookContainer = gd.closest('#notebook-container');\n",
       "if (notebookContainer) {{\n",
       "    x.observe(notebookContainer, {childList: true});\n",
       "}}\n",
       "\n",
       "// Listen for the clearing of the current output cell\n",
       "var outputEl = gd.closest('.output');\n",
       "if (outputEl) {{\n",
       "    x.observe(outputEl, {childList: true});\n",
       "}}\n",
       "\n",
       "                        })                };                });            </script>        </div>"
      ]
     },
     "metadata": {},
     "output_type": "display_data"
    }
   ],
   "source": [
    "fig = px.scatter(dataframe, x=\"Average_volatility\", y=\"Returns_5yr\",\n",
    "#                    size=\"Avg_volume\", \n",
    "#                  bubble sizes were rescaled so that they appear on the graph\n",
    "                 size = [80, 3, 30, 10, 15, 25],\n",
    "                 color=\"Name\",\n",
    "                 hover_name= \"Returns_5yr\", log_x=True, size_max=60)\n",
    "\n",
    "fig.show()"
   ]
  },
  {
   "cell_type": "markdown",
   "metadata": {},
   "source": [
    "---"
   ]
  },
  {
   "cell_type": "markdown",
   "metadata": {},
   "source": [
    "# What is Bitcoin’s growth prospect? And is it a viable investment?"
   ]
  },
  {
   "cell_type": "code",
   "execution_count": 68,
   "metadata": {},
   "outputs": [
    {
     "data": {
      "application/vnd.plotly.v1+json": {
       "config": {
        "plotlyServerURL": "https://plot.ly"
       },
       "data": [
        {
         "name": "Bitcoin",
         "opacity": 0.5,
         "type": "histogram",
         "x": [
          null,
          -0.07192557719547721,
          -0.0698426440964911,
          0.018632453688296025,
          0.08364741771971951,
          -0.0288808131265037,
          -0.027483092962701794,
          -0.017369942982672137,
          -0.07160284072259149,
          0.03056723944934614,
          -0.008603337950711332,
          -0.022269721524698416,
          -0.04148536380579804,
          -0.0818692660414253,
          0.018504666503937894,
          0.04983235342833536,
          0.03424377778521115,
          -0.009489704816945443,
          0.07979817581057169,
          0.02678181103448707,
          -0.01520938228365043,
          -0.030946923144517968,
          0.003142013195453819,
          -0.0023790904932700085,
          0.009481657042715197,
          -0.008582743899355871,
          -0.06457126993489026,
          -0.0002008582227037703,
          -0.014946453794677073,
          0.01311371407156603,
          -0.06159367627599721,
          0.028945919029897293,
          -0.020225537254250026,
          -0.03182488688095497,
          0.008969568759880753,
          0.02721393525756821,
          0.028879003054712138,
          -0.01968278457114414,
          0.07157689165430248,
          0.0021012416110319787,
          0.15193569925196204,
          -0.006672049519761636,
          -0.054468947953068336,
          -0.02616775305082797,
          -0.031517140366671303,
          0.014277781407564971,
          -0.05968913144702859,
          -0.019539470372674672,
          0.07425725554672691,
          -0.004120469290024631,
          -0.0185907401897063,
          0.021926313515301388,
          0.007432664005541101,
          0.00545823155820413,
          -0.016534864788771086,
          -0.014415631198751333,
          0.01961558836359356,
          -0.03965728595522622,
          -0.02677469496565177,
          -0.016620352961430718,
          0.01195565983732938,
          0.005808687812179469,
          -0.020414563834426747,
          -0.05294122963140868,
          -0.022277154584372738,
          -0.026205859644858,
          0.02070351283514893,
          0.04418218923924222,
          0.008093155822493925,
          -0.035980280250058394,
          0.016711460032537317,
          -0.046516868202127526,
          -0.006182278183485268,
          0.030430856319009214,
          -0.016118341477884823,
          -0.12874251608200848,
          0.04268162391585939,
          0.028470734872247716,
          -0.037331381294270494,
          0.02491270844404858,
          -0.0778628714726477,
          -0.15659307669244793,
          -0.21144861968905204,
          0.17821708525208035,
          -0.008325203722533092,
          0.015463951907043194,
          0.07373826208515011,
          0.02868703823293761,
          -0.002257902480881313,
          0.1743136751215324,
          -0.03655931771134446,
          -0.1121928544523878,
          -0.0017185431119415284,
          -0.03035375760664294,
          0.052132056281787964,
          -0.0460103464144106,
          -0.0018260731421477772,
          -0.04294413178945122,
          0.023743680375243326,
          -0.009700111316167659,
          -0.0012311844022027119,
          -0.0029749361356505855,
          0.011766361856571983,
          0.06161051165705844,
          0.03475811580865318,
          -0.02990023796272634,
          0.016743823925529533,
          0.014549518389783689,
          -0.02004688205166083,
          -0.0006571881909581689,
          -0.005298762203703955,
          -0.004396370049284615,
          0.0736044613029967,
          0.08605043471109841,
          0.021881172109931457,
          -0.03056416398270745,
          0.011300217095329801,
          -0.012510109014508775,
          0.06190898272339296,
          0.007434264493507925,
          0.015831463674545354,
          -0.006832447689157917,
          -0.030633175963184822,
          0.018420257062625955,
          -0.017508963490574625,
          -0.102295908963137,
          0.018060928061872206,
          0.0031464004310859384,
          0.019067874694746134,
          -0.07927191194691119,
          0.0024512103159624044,
          0.009484242062635095,
          -0.006047474820525811,
          0.0020118851872323873,
          -0.013340020792401597,
          0.012480362341458662,
          0.023185002468718574,
          0.00982984111322227,
          -0.00904924993269074,
          -0.032222095843094434,
          -0.005493416850404276,
          -0.031205326564892055,
          -0.048650410502293906,
          -0.02416884706143685,
          0.021326963820700318,
          0.021176525124694257,
          -0.024897927794603314,
          0.00782478158263511,
          0.04738093394501752,
          -0.004645754493525556,
          0.009761935675772326,
          -0.02196547803963067,
          -0.0085701867839435,
          -0.014963840246762672,
          -0.00020808483687473345,
          0.04577785129746448,
          -0.017218272379796007,
          0.02989934526388316,
          -0.012120438374506493,
          -0.026846421734226023,
          0.032865942788085745,
          0.027509783680383038,
          -0.006991638547293122,
          -0.004319514442646666,
          -0.019638180596569188,
          0.0023352610547355823,
          0.0028531543084504563,
          -0.018842154312277204,
          -0.005065886421213639,
          0.008928759356350513,
          0.005666183676764636,
          0.02126254813199102,
          -0.01344720948736644,
          0.0007043303788567545,
          0.0005267971045799236,
          -0.0013142438057217598,
          -0.059764814329865135,
          0.012905623680181444,
          0.00031442895748323707,
          -0.006862180012021213,
          0.0027994819368528656,
          0.01572336348595904,
          0.0024465335525694076,
          -0.0010696884309019383,
          0.003942291069845005,
          0.0012058640325125491,
          0.029745819884726243,
          0.05941993015391178,
          -0.006421040572015535,
          -0.0011111543594192197,
          -0.01767420566210265,
          0.00974629392067694,
          -0.010907323962360271,
          -0.015477150352909086,
          0.009496276778979684,
          0.0032743051375716536,
          0.055296933962994066,
          0.023371596632970837,
          -0.01691928123203379,
          -0.01240811448097312,
          0.05331776048128778,
          -0.01049324614538616,
          0.01719715478106454,
          -0.005749974987536599,
          0.05818865487455205,
          0.025132062094727514,
          -0.015716262129700898,
          -0.005687595881792462,
          -0.027079200253326108,
          0.0049732138081886035,
          -0.0017568737703709258,
          -0.011283851356924779,
          0.005035572102378705,
          -0.004231172358137525,
          0.04430011886548635,
          0.018544522030235377,
          0.0027348207883000075,
          -0.01642854074912614,
          -0.006450537055154193,
          -0.010676942187786032,
          -0.012025308526793732,
          0.014191372599052343,
          -0.011696310022691558,
          -0.011724739887513547,
          0.0036183712742741125,
          -0.05406223683874356,
          0.02236921003376846,
          -0.014830572617029025,
          -0.008619469996034579,
          0.006058793088322911,
          -0.02899721545837286,
          -0.18178828897553367,
          0.07392972000837905,
          0.03822942850233546,
          -0.011816468787343104,
          -0.09491378902605252,
          0.052799350407357615,
          0.019051573330999494,
          -0.004702618454577534,
          0.02948359911042342,
          -0.005790921291481621,
          -0.00841098689014852,
          0.005098149621489023,
          -0.00916329978319419,
          0.013711435335000521,
          0.05779030112653527,
          -0.02232692866639563,
          0.0012974287112350602,
          0.00683499861967829,
          -0.03941158815468915,
          -0.0014741159727648112,
          -0.005266942800529084,
          0.0031384689515721043,
          0.01377228156975141,
          -0.025281677640562106,
          0.015558002030490847,
          -0.0014525796156862336,
          0.01843819086866616,
          0.0026222342722834746,
          0.017002351967335017,
          -0.010265875590786067,
          -0.002649059773440099,
          0.006307709957703134,
          -0.0010776597851838154,
          0.013021863320965332,
          0.02362899246001593,
          -0.012574056033226366,
          -0.002736945933109469,
          0.006714701339166185,
          0.005645034866416987,
          0.01712132102141517,
          0.009943577118867175,
          0.009250439576730995,
          0.03361505490993477,
          0.0021608634944796368,
          0.02287454201765704,
          -0.011842107621649722,
          0.029109357772022282,
          0.00902476036592681,
          0.03184127776285184,
          0.02975116143362766,
          0.03686337502273829,
          0.03032322340257143,
          0.04511638655978012,
          0.1011355532002094,
          0.11691385281547695,
          0.02019249600671258,
          -0.0612518247146171,
          -0.03075936285624714,
          0.015453809342660607,
          -0.11423324292929682,
          -0.07640597769128221,
          0.08701184147954377,
          -0.004137242917096717,
          -0.017823105244520243,
          0.013130684134243564,
          -0.0015040496368908807,
          -0.02522791805168023,
          -0.01265367719814503,
          0.0031798665633417933,
          -0.00928660343377119,
          0.02549634819670743,
          0.09090631659822779,
          0.05384570086963425,
          -0.039311372676423484,
          -0.009106494383964492,
          0.005175515644758377,
          0.005918980016922593,
          0.08908180105581698,
          0.05063249980543505,
          0.00481274814589594,
          -0.004990825479963434,
          0.08775168816954237,
          -0.017161604481011228,
          0.04759086740764795,
          -0.022322275778415612,
          0.00251467910762182,
          0.016527861353576423,
          -0.053874303651347044,
          -0.004712341953864607,
          0.013351772720572974,
          0.028444745765844104,
          -0.07188367545799335,
          0.02534819444676506,
          -0.01469574318300837,
          0.009251772177250928,
          0.005862077405070831,
          -0.0026114880987264666,
          -0.00660936211566876,
          0.06744967375829591,
          -0.010518532900320232,
          -0.010595066265371433,
          -0.02840591297676942,
          -0.007617801612991859,
          -0.004775995592784854,
          -0.15332113891044985,
          0.04341654501126513,
          0.10543504091989075,
          -0.023720385834128277,
          -0.06768842708761469,
          0.02414170467207999,
          0.0010900527047714714,
          0.007188444031215768,
          -0.037174747976112865,
          -0.002143112206392739,
          -0.016912882086553727,
          0.0037313379224566123,
          -0.012015000811941845,
          0.053101883596091914,
          -0.007815785271063524,
          -0.033894848071413075,
          0.006913969217119842,
          0.01494564280830768,
          -0.005227303275928685,
          0.012140022486580193,
          0.06044039368869769,
          0.021679126374877677,
          0.014534411178870332,
          -0.0037596675276008185,
          0.040312705630545675,
          -0.0388625294554753,
          0.010027654111417261,
          -0.0009671165478051247,
          0.017920408467620774,
          0.012831093914528413,
          -0.005880792084312025,
          -0.02558810349770868,
          -0.005514324482001731,
          -0.025404910636035782,
          0.008229978272079164,
          -0.0008424120143709635,
          0.0021450726913319063,
          0.005474201133184753,
          0.01092939596636855,
          -0.012454679919112643,
          0.0009413142203540392,
          0.00043422739640841534,
          0.008656884641403684,
          -0.026325356906453212,
          0.009178418557254098,
          0.011570048218418005,
          -0.00011481766146215211,
          -0.003939740501759714,
          0.01882105835854353,
          -0.018185840304527745,
          -0.004081430333367386,
          0.004611668676915315,
          0.002953926864183387,
          0.008335747619441447,
          0.006136044171942023,
          -0.0014550975201166327,
          -0.0015776535190604735,
          -0.005667709915761487,
          0.005076741005870744,
          0.00640735837225459,
          -0.003424334987067734,
          0.0012932735828621311,
          0.012800448365931416,
          -0.0026110682386990547,
          0.01614126276934469,
          0.013501454526761991,
          0.018206117176347902,
          -0.00820601457077852,
          0.03519787453139411,
          0.010105616177952914,
          -0.045918220565386636,
          0.009723634563898687,
          0.013554231833427854,
          -0.022913751010677386,
          0.012672302148263537,
          -0.007954628676104969,
          0.002807177712554232,
          0.025954478951086157,
          0.001914706835560498,
          -0.02082164370531958,
          0.00406526584840794,
          0.004501585971057098,
          0.001987883918083133,
          -0.003307259545297203,
          -0.0008367128212124486,
          0.0018422858908837547,
          -0.034983123054244336,
          0.00902863826428213,
          0.003341053087823287,
          0.004111152647411798,
          0.00811247810411131,
          0.008418621946264748,
          0.04428913650930033,
          0.122336647233376,
          0.010414269750802285,
          0.001959327336118255,
          0.05803645147060954,
          0.028712561730054764,
          -0.015268039762618701,
          0.008754875816771701,
          -0.01206064654348804,
          0.004942251492767058,
          0.21976208698824284,
          -0.02671436365581792,
          0.012996653427451488,
          0.10344448725669109,
          -0.022704952037541304,
          -0.015600004869483541,
          -0.09572917091301825,
          -0.10580625622924344,
          0.04673748178433468,
          0.06622362949633764,
          -0.01506688997618233,
          -0.012626831020496776,
          -0.010990651100670767,
          0.05226985765671022,
          0.004394599004458266,
          -0.008382434354141988,
          0.009996585076425202,
          -0.05428510185671509,
          0.040528469552765234,
          -0.028302118181936398,
          0.02608166964134684,
          -0.015172660368705237,
          0.0055159074251356355,
          0.007866851613941517,
          0.014852527196534293,
          -0.00035953325854820584,
          -0.01066934157664734,
          -0.0010109496263576156,
          -0.02164322520580475,
          0.005345626085978328,
          -0.003536154504671818,
          0.003939944846482524,
          0.0010437547534623004,
          0.0029876740642365007,
          -0.07720037792118994,
          -0.09699763244704707,
          0.03450440131950194,
          0.021071627197486675,
          -0.005613060242174561,
          0.027843109410438327,
          -0.005503711863790284,
          0.007318806563836766,
          -0.005038028626730862,
          -0.0026496707177626755,
          -0.03458211051788107,
          0.017980107502646225,
          -0.007313366104216179,
          0.0019224690068535555,
          0.0022844696074149073,
          0.019323151856894594,
          -0.005688957791780469,
          -0.005541460404535625,
          -0.004172864671413312,
          0.0032712748797474323,
          -0.009564386139997327,
          0.005915266717835266,
          -0.0035168752918197654,
          -0.005506794566202844,
          0.005650866968490709,
          0.06063726187592544,
          0.006729668916923837,
          0.01915562251859315,
          -0.005516314633256303,
          -0.023469187282890935,
          0.00164086891452353,
          0.0023685092330978375,
          -0.005778752806109511,
          -0.00029977022557114985,
          0.003713456641899926,
          -0.0015018671447895038,
          -0.018350821255852412,
          -0.0014251267581905092,
          0.010974389123113326,
          0.008627551120444554,
          -0.0030869756043417906,
          -0.002372269249749537,
          0.0015957024594792646,
          0.006673334588171542,
          0.0039328742141964135,
          -0.003151303740535516,
          0.003780714448602396,
          0.0008326544529928537,
          0.006688149389258546,
          0.0030351374932691133,
          0.035667553033335464,
          -0.007612255472306706,
          0.0009336709423062306,
          0.005640796025589756,
          -0.0018504664692636785,
          -0.001928949493349652,
          -0.011662175909825212,
          0.0005344398104916159,
          0.003124334065599088,
          0.03307847140260001,
          0.005853862622509087,
          0.03150301190176963,
          0.01475587902165687,
          0.0019439020087179681,
          0.016415526090130417,
          0.041115830042765644,
          0.015122025761194147,
          -0.07036572336892888,
          0.02110494082581793,
          -0.00014789366601264398,
          0.009553043716615806,
          0.018912482086200777,
          -0.010699988652970727,
          0.0012256776109549339,
          -0.01589871571641721,
          0.009358619158059911,
          0.04578148999696707,
          -0.004328159990562019,
          0.014316277216651407,
          -0.01641469113789762,
          0.016366630994108622,
          -0.008987846008326028,
          -0.003955185005158568,
          -0.007868950274720787,
          -0.0002840178189407183,
          0.013712506926484735,
          0.01486273578750108,
          0.0279739834662156,
          -0.02473694602967358,
          0.007280857931500906,
          0.005113710123096915,
          0.003486352519826319,
          0.002573926136334226,
          0.009437144883859272,
          0.0006012855169128528,
          0.001185037286817181,
          -0.004341762527621529,
          0.008763750226286948,
          0.009946410439753306,
          0.010296258314169915,
          0.0417106143264927,
          0.03626952044021481,
          0.06644462079462099,
          0.01216288882511396,
          0.04578130588745655,
          -0.0024838198459093963,
          -0.012592779316900837,
          0.08593292406499753,
          0.10623277285016308,
          -0.12240954807460713,
          -0.10971108118518669,
          0.0006949826121283031,
          0.005373130855357511,
          -0.1431364994781371,
          0.03481416989950681,
          0.023793757943501692,
          0.1018878741371303,
          -0.023481787613010452,
          0.01404778299888787,
          -0.004501299682008741,
          0.029033819096837554,
          -0.030754226070777158,
          0.00991946772045127,
          0.017796183807708754,
          0.0023583631423740314,
          0.0006871639032346444,
          0.0543480804355001,
          0.019187898957630622,
          0.02302977561664621,
          0.01789883990391994,
          0.008000689116502091,
          0.02234739822151166,
          0.0016205493370644586,
          -0.06461188208588486,
          -0.005741233531712631,
          0.0019905630957259834,
          0.014039338724644468,
          0.002916720954657004,
          0.019811769361412157,
          0.018268727203393675,
          0.06603845363311334,
          0.0019186693320052406,
          0.04410083100833062,
          0.00596551286769742,
          0.005359141086673125,
          0,
          0.03604331469889588,
          0.023321071574642138,
          0.019168495702124755,
          -0.0016941576145237391,
          -0.03872466763345095,
          -0.06010431751796552,
          0.03346955652173911,
          -0.060387567084178806,
          0.10315932014436946,
          0.006558831508061802,
          0.007749987903225897,
          -0.04945537146936296,
          -0.0737323937749208,
          -0.04180944060440894,
          0.06289904504518073,
          -0.06371929740566817,
          -0.010055901833083691,
          -0.09731457967888735,
          0.11546420096714294,
          0.0013196056241888687,
          -0.006856756754464843,
          -0.013019526887858679,
          0.04419198836124494,
          0.06719601543152609,
          -0.00923235367350439,
          -0.007474053386278379,
          0.05147675412718411,
          -0.0048872304732382466,
          0.008692310979169449,
          0.015061539110874378,
          -0.003850602867605968,
          -0.02590031917617197,
          0.021064248417091536,
          0.014875501079840925,
          -0.0011389280496233445,
          0.015525135624123054,
          -0.005719649861412379,
          0.022994127796152286,
          0.0122705001043939,
          0.01231931198444336,
          0.028608693648158212,
          -0.00094860101763794,
          0.079849293264604,
          0.021961149779873068,
          0.025653571251285534,
          0.031931010264919735,
          0.011562888325344911,
          0.10794305846488772,
          0.018574293930880614,
          0.018098863065971083,
          0.03437911110445491,
          -0.06725737171537893,
          0.008229749966534472,
          -0.002289481242481961,
          0.06033037444503342,
          0.026948142242215978,
          0.052450128791039496,
          0.09341903227500103,
          0.06764517651110125,
          0.05310244487721638,
          -0.056743186014110436,
          -0.04449498862892509,
          -0.012236517991322526,
          0.050995850312290925,
          0.05312694384435468,
          0.03350257069280893,
          0.07966888593607702,
          0.06565030207816425,
          -0.04576698841945459,
          0.026887227455960172,
          0.006483394487294403,
          -0.05814136665344316,
          0.021578241907578954,
          -0.07752975739943202,
          -0.016673530663548042,
          0.02190230355339251,
          0.028206609068598842,
          0.0510464689517478,
          -0.012010456549400361,
          0.0060651568947287515,
          0.014600375279470779,
          -0.09707420991672966,
          0.029857371124295984,
          0.008752409813656659,
          -0.013775869279724184,
          -0.02302977900933123,
          0.033545076686942066,
          0.014792918312058978,
          0.0025250170159185625,
          -0.03446351433996242,
          -0.05800697914947406,
          -0.014655064207164892,
          0.026114427720854927,
          -0.01706665909278393,
          -0.052826591109464416,
          -0.0022075348158976382,
          0.04059844219540509,
          -0.01959995915838475,
          0.23936086982072857,
          -0.0531800407397629,
          0.032649150101024205,
          -0.06475106541589626,
          -0.018253597685629952,
          0.05626918134661274,
          0.051362754235183994,
          0.023613329167168073,
          -0.05463008659586421,
          -0.002792259744129444,
          0.03469993053621234,
          0.03250220650474156,
          0.16680539172695674,
          0.01213398305856428,
          -0.022652435813638183,
          0.011611191225867179,
          0.07965625020405542,
          0.1847658053652257,
          -0.03310876456285139,
          0.04655737872367571,
          -0.010268161393897746,
          -0.03949262905010842,
          -0.03818664586820297,
          0.02468426990430217,
          0.012437446897284099,
          0.044118817955260514,
          0.008517334728503467,
          0.0025299793558564154,
          0.04480380796379513,
          -0.00299632125216176,
          0.030247812388741968,
          0.04010290949844708,
          -0.10537182173728321,
          0.05040302313400136,
          0.0006003249707993152,
          -0.08068251616125943,
          -0.015957429500443432,
          -0.0073198713021750406,
          -0.06008990184847429,
          -0.18741101185235398,
          0.15295648948315121,
          0.1175745916581925,
          -0.03449522328305277,
          -0.0048459020426987465,
          -0.07038234371887375,
          -9.366131916677123e-05,
          0.08135349133399106,
          -0.008588733623182021,
          0.07921174001239595,
          -0.006175191691245696,
          -0.0027930323771502286,
          0.059151061694995954,
          -0.020828573944696505,
          -0.020410081206676534,
          0.023419689080262263,
          0.00979572209468782,
          0.09179304421473589,
          0.002089306825665771,
          0.009303604529276921,
          0.12854713550474517,
          0.03677310608462325,
          0.013879399480681176,
          -0.02097252532432703,
          -0.002643796125356812,
          0.02107612481527177,
          0.05306632436054781,
          -0.013495973245770232,
          -0.06807047494577079,
          0.040559845121683535,
          0.026784147983395235,
          -0.020987932652242525,
          0.06048018283088408,
          0.05511271111131233,
          0.04621083444571483,
          0.045984288925278616,
          0.01826089793035246,
          -0.025666782191142157,
          0.01731799478444529,
          0.044133999474226915,
          -0.04237573753067059,
          -0.0735541472570862,
          -0.008861991705510497,
          0.011625867754893715,
          0.10244358798930042,
          0.07602308223796173,
          -0.02066896793693207,
          0.06377611062881017,
          -0.01577680370720269,
          0.022585078944911796,
          1.7038123392154603e-05,
          0.18957085830513765,
          0.024489879213466903,
          -0.01691945920977611,
          0.03488753674374734,
          0.07250625667897381,
          0.062101444138057404,
          0.022260919917228783,
          0.19928333902336637,
          0.2524716942938108,
          -0.07431961910219842,
          0.022173426999782198,
          0.0282579700965071,
          -0.05783393716979979,
          0.009495300423923991,
          0.0689990576551558,
          0.07947742388133028,
          -0.06997415819913033,
          -0.06480953498772235,
          -0.04942670724864617,
          -0.12473030502189153,
          0.16396998452653655,
          -0.016230003364318235,
          -0.07778514379518264,
          0.003402608085441461,
          0.022236282915348182,
          0.014610795329948356,
          0.026195657851457055,
          0.11733292618339908,
          -0.1296308207923348,
          -0.03788368124221464,
          0.02589167846556828,
          -0.10468634305155422,
          0.04287694970542644,
          -0.17811107381953784,
          -0.026273912449414683,
          0.025588616270592057,
          0.011546941192092763,
          -0.05823870782678853,
          -0.005763214020764296,
          0.0451768413322895,
          -0.008803281560462395,
          -0.007815691506125044,
          0.011189286537496512,
          -0.10535219581524113,
          0.011359231985499152,
          -0.10278341961122761,
          -0.03705234779576316,
          -0.21238059960931976,
          0.11483809797509492,
          -0.017113772891410917,
          0.08453807821302473,
          0.05703048831320645,
          0.02169969873146571,
          -0.03677344506231539,
          0.10424378253689692,
          0.070752679807224,
          0.0066395181582417084,
          0.11430635039488535,
          -0.06254985590665996,
          -0.06411363147605043,
          0.02959516331834089,
          0.006368309063110589,
          0.034620410279936786,
          -0.03055299749629148,
          0.05319339368539655,
          0.012364203360423653,
          0.04391862072700081,
          -0.06855429543588165,
          -0.07554152157842509,
          -0.05725317559153731,
          -0.006116008650458582,
          -0.014182487993701254,
          -0.0011157386182317763,
          -0.10060415105588716,
          0.0037547154788959425,
          0.004516309805280505,
          0.03505499237936771,
          0.03276917997917317,
          0.0017737813089899745,
          -0.022488995737674822,
          0.01731694039476861,
          -0.07547842330741916,
          -0.045845047637413816,
          0.015503551672832128,
          -0.09916170346562359,
          -0.011429502738217856,
          0.052557958757842194,
          -0.08077536812979225,
          -0.00618188197628966,
          -0.02571403609962053,
          0.020253718862962344,
          0.009456851209417083,
          0.019541295169495765,
          0.13215957350696939,
          0.000850519504388858,
          0.02060673582486028,
          -0.019430015066449036,
          0.033071008196448926,
          0.0160336781949999,
          0.06649384175324458,
          0.009614677678641215,
          0.08583925962986783,
          -0.08783292250580044,
          0.049263206975607154,
          -0.03172543782463755,
          0.028207254382741187,
          -0.01315290124124835,
          0.012820488079297476,
          0.054996192505966324,
          -0.004423358344945227,
          -0.0337860134572886,
          -0.014743338207250378,
          0.009784638134517909,
          -0.03015912480077021,
          -0.06661368467240114,
          0.032612701948190104,
          -0.023679606262912767,
          -0.016632607115782627,
          -0.03280150886581312,
          0.01935306565667516,
          0.020363728453660412,
          -0.04480471392835694,
          -0.060180703020830006,
          0.003905890943081136,
          -0.014128760435684451,
          -0.0010093785492939489,
          -0.008841623236293339,
          0.011834154469753333,
          0.006308940615451508,
          -0.0035775585997886994,
          0.015874645528819897,
          0.0026487883585306626,
          0.003169626006782389,
          -0.006944340158034135,
          -0.0941649233493419,
          -0.04699056347333752,
          -0.0353155959015059,
          0.0512528072918903,
          -0.032772815925496634,
          0.04309398205221182,
          0.005214707730538892,
          0.0009763548949628387,
          -0.0069075816377033306,
          -0.09599929128557216,
          0.027202279637018822,
          -0.02488490483875594,
          0.010414079169416501,
          -0.04120262960514198,
          0.05333498217086374,
          0.06366376395709983,
          -0.012789239142130038,
          0.016777515221827466,
          0.005175348357012721,
          0.010227017307260056,
          -0.0610820343382652,
          0.01023069123847975,
          -0.025943303607479984,
          0.0014833886267970886,
          0.08074642087600337,
          0.08592576690028553,
          0.0067940819521583595,
          0.013035266390067468,
          -0.015097374541419017,
          0.04854142987400922,
          0.09248469813949023,
          -0.02883091443195651,
          -0.02808936563979436,
          0.026841166900966718,
          0.001894696325339229,
          -0.04890178082191221,
          -0.019989844556271952,
          -0.007575204535957503,
          -0.017544222953071342,
          -0.06491323741515942,
          -0.02857960435757967,
          -0.06623905753933457,
          0.041617270309138865,
          -0.0583901629766016,
          0.01824820625569834,
          -0.015539305753634824,
          0.01755083055247475,
          0.004154692371096003,
          0.038817740263018985,
          -0.04134864030310026,
          0.02856925260597798,
          -0.017268293023748882,
          0.02480431491589985,
          0.028321879103160308,
          0.024506124583440814,
          0.030740843934977446,
          -0.0069218844927489975,
          -0.009781269968912598,
          0.008505036115189712,
          0.0460499311422542,
          -0.07726926616360907,
          -0.038814478350329806,
          -0.009511178104088525,
          -0.02124140186181478,
          -0.0013428756083446736,
          0.004840791156116797,
          0.026057221430328292,
          -0.0007058277047365946,
          -0.035547378493184456,
          0.014344330255819715,
          0.004275459456267283,
          0.01893086270644484,
          0.03302011843783048,
          -0.020718793006605174,
          -0.022582362199946804,
          0.007528117462961115,
          0.027983063895304028,
          -0.0048856280375931815,
          -0.008204199339851947,
          -0.005086790802025898,
          -0.0081619031436575,
          0.011395474538252293,
          0.006962474954846032,
          0.004492274810923735,
          -0.0014415982353033208,
          -0.008597538150816209,
          -0.050001983401552486,
          0.0029314481723912156,
          0.051311794095808994,
          -6.52123685230821e-05,
          -0.007834873595706782,
          -0.010347763392502318,
          -0.0017446828819017712,
          0.003364055717302916,
          -0.001760388478992292,
          0.0031038320367562378,
          -0.0030095885165729586,
          -0.0002377964839015423,
          -0.02194990030503119,
          0.0002589977671683119,
          -0.0026301621098243633,
          0.009524159184376657,
          0.0016714525053171947,
          0.004886985756825224,
          0.006441090181596776,
          0.01069962335667518,
          -0.011702646558379715,
          -0.010552068532769465,
          -0.0022472519093011956,
          -0.0018488913455280143,
          -0.09767137194097308,
          -0.015739770396978714,
          -0.012832789974389303,
          -0.1262762589563129,
          -0.08613793661563962,
          0.03376104896368415,
          -0.055421695270468585,
          -0.1306569187115112,
          0.01100520206703881,
          0.11429781672423966,
          0.005032803527149854,
          -0.06113285765125842,
          -0.030652094654398887,
          0.01611731661634952,
          -0.1101348719821934,
          -0.028730936094742643,
          0.024187212749262166,
          -0.022288192407781682,
          0.018210090539836576,
          -0.04969183363974017,
          -0.02148440470052948,
          0.09356400902957751,
          0.04235760435291014,
          0.01349859428464617,
          0.10370951322433375,
          -0.057540470800906074,
          0.046722283636464246,
          -0.054259197198507914,
          -0.05248858958473401,
          0.073624477091637,
          -0.046182980792598194,
          0.05362678319337433,
          -0.027049743389769842,
          0.0054672225324607915,
          0.043427431049734455,
          0.0013911213905786202,
          0.001103610731627791,
          -0.08831366814791541,
          0.0022943982297114474,
          0.005067782704595958,
          -0.020338880295429185,
          0.006701657690763918,
          0.006445166878478625,
          -0.005633885993878485,
          -0.014561111582769404,
          -0.005397054966847947,
          0.0043910437085759035,
          -0.00030537380705086825,
          -0.03592328909877773,
          -0.006435330627120428,
          0.011039271181702448,
          -0.008143269319683788,
          0.008720183769835632,
          -0.00825450441917519,
          0.002082407689750765,
          -0.01517143029343393,
          -0.004187789781094131,
          0.0786323929605437,
          -0.005004283767728213,
          0.0013972857015764895,
          -0.00587322820230185,
          -0.004182104329092828,
          0.001086552793194917,
          0.090113433104823,
          0.013358199364227996,
          -0.011426110833901548,
          0.013001241962884214,
          -0.030665211825751548,
          -0.007298633962250611,
          -0.0008589101161080581,
          0.0009706546421408557,
          0.001244774871254739,
          -0.025398234007483977,
          0.035840973930878706,
          0.0019422224503544694,
          0.0019318285949800895,
          -0.0026467657818523005,
          0.001049875633110986,
          0.0010060758832219907,
          -0.0006239108503273139,
          0.004518334630400522,
          0.009311558287987243,
          0.01807568728404485,
          0.00959275678676974,
          0.004000336819440342,
          -0.014226238753709097,
          -0.001329909964535414,
          -0.015133743865497706,
          0.005553838540957257,
          0.02559178993773248,
          -0.004394101609358714,
          0.007192568964080603,
          0.014593247353281269,
          0.17356013594788533,
          0.01908737151545914,
          -0.01009911986568246,
          0.023133653837783763,
          0.05024932815123728,
          -0.016033302777026304,
          0.022976794549256496,
          -0.04884241468951078,
          0.004946456783768927,
          -0.004407209517865107,
          0.03324404349954069,
          0.0031283032464854976,
          0.008843926585981654,
          0.019058539131936225,
          0.03204026093856949,
          -0.019290850112804958,
          -0.04654296033360583,
          0.013210308720646102,
          -0.006060522079852193,
          0.01970022468124477,
          0.009712831031092994,
          0.018988001723803993,
          0.047773352793782475,
          -0.0037242274005256926,
          0.014389613944532975,
          0.02623827370459364,
          0.032105750581242765,
          0.03309083467262841,
          0.22512931263294567,
          0.02296902475640583,
          0.02636239502400195,
          -0.03903135075478925,
          -0.06861381147829526,
          0.08638651970318856,
          -0.0018777719496727574,
          -0.03557071163113823,
          0.02627324600245129,
          0.013388347462754746,
          0.09171857406145145,
          -0.006935191873132629,
          -0.03926498613880702,
          0.03065450270048964,
          -0.042627179747987465,
          -0.06105791438004582,
          0.015109484838150777,
          -0.0002822011357308529,
          0.028372164281924572,
          -0.005422904871904333,
          -0.009076530433291818,
          0.0275165144998466,
          0.010442903870408582,
          0.05624024589138732,
          0.07206482231985367,
          -0.025598800367437446,
          0.021114710375065737,
          0.027350847511122156,
          0.06480383187545935,
          0.0854197900081497,
          0.07082074208627076,
          0.10392020008548619,
          -0.14085680726768912,
          0.10950072100061825,
          -0.14702574739212282,
          0.020650116702860544,
          0.10735293401227852,
          -0.0821659914487215,
          0.1190966721784994,
          0.023429551998514375,
          -0.03318800920564069,
          -0.06563153480094308,
          0.040262155402760014,
          -0.07793648862116398,
          -0.13009972953831117,
          0.02280748113057851,
          0.10034036329091234,
          -0.012726782328915776,
          -0.017816992159826017,
          -0.04276653917777584,
          -0.008973223166798938,
          0.010183119830918352,
          -0.004190753530042279,
          -0.03557724395133366,
          0.009273765163670511,
          0.04977443595298836,
          0.031137477723709672,
          0.011395156963816433,
          0.122405126257074,
          -0.02773962322315593,
          0.04040712479685493,
          0.0020464361875005554,
          -0.008646764399471318,
          -0.040489158065437625,
          -0.04276575121012838,
          -0.07747238805645418,
          0.02585052179841818,
          0.0060895785773673605,
          0.05221680638591386,
          -0.013999682765027499,
          -0.05808502432058682,
          -0.0006898901795245882,
          0.0273327073884293,
          -0.003568856309253632,
          -0.017869397733918713,
          -0.0423226300132542,
          -0.025037120156209514,
          0.009250450168888591,
          0.10682930205001884,
          -0.002734199230516987,
          -0.0017896052889462277,
          -0.021013642029600876,
          -0.001770268432295552,
          -0.021190088150704223,
          0.006168113344040993,
          0.022769346748787278,
          -0.004762677556560679,
          -0.008083832929909995,
          -0.003456475257760827,
          -0.004201080887540454,
          0.00668418650790259,
          -0.00825735533562233,
          -0.044424799131718595,
          -0.11396041369808119,
          -0.015494717598490082,
          -0.04336346028427163,
          0.01636635761037164,
          0.005092492335953436,
          0.005957196572578649,
          0.005964758065169384,
          -0.01585239346196754,
          -0.006543920837906669,
          0.004835959883361163,
          -0.002042276721117564,
          0.0445943248166043,
          -0.0010780457235489704,
          -0.030829512593228636,
          0.006360398175902615,
          -0.020217757588298135,
          -0.019236463745586296,
          0.007006410667019791,
          -0.016128460795647226,
          0.03392777402587921,
          -0.020078018647546658,
          -0.06975948008239763,
          -0.0028188995277987905,
          0.15576341819219142,
          0.06875289867945833,
          0.018532445017386268,
          -0.023543518704878585,
          -0.0006671501654942347,
          0.0066872072230215185,
          0.016359583582161052,
          -0.007445856551721697,
          0.0019644083794718714,
          -0.009968973127138625,
          -0.049924746963020405,
          -0.005348484977154899,
          0.006608292234487445,
          -0.000839348639785964,
          -0.011372045937828368,
          -0.024816282525034983,
          -0.02151509927884554,
          -0.012412693864323754,
          -0.021797985646929585,
          -0.04790148564100538,
          -0.04529421517124066,
          -0.020618412560584387,
          0.010108585583885166,
          0.043402102208407234,
          0.030481987909355412,
          -0.05659600325610292,
          -0.00025167658418445704,
          -0.009304574605185523,
          0.027064535400811662,
          0.013249850848634726,
          -0.01935831908927177,
          -0.016589846467544578,
          -0.008339019704783124,
          0.0035617998109016558,
          0.003665580670554336,
          -0.046384970042792406,
          -0.042115565028359225,
          0.0958190116087072,
          -0.010163597764501375,
          0.0022174806884946996,
          0.018952139008035607,
          -0.004499437589725264,
          -0.011412094533619577,
          0.007061999789968132,
          0.0003987246585890336,
          -0.013628967852769791,
          -0.028932513822241934,
          0.051451663372384715,
          0.05777285863152071,
          0.0507738464980616,
          -0.010268587554152053,
          -0.024850855657345572,
          0.03648690301880575,
          -0.002737980114396188,
          0.08393344802424418,
          -0.0023509808912612895,
          -0.009449813499500914,
          0.023527852456582066,
          -0.020511006139301236,
          -0.0074341799766211025,
          -0.0316051459238581,
          0.004629616684974636,
          0.054986485556302256,
          0.0503680816721781,
          -0.004483577301648944,
          0.020647303093042746,
          -0.01666463149851949,
          -0.0060967471668463835,
          -0.012111511572205025,
          0.047104093779089196,
          0.012105773352157456,
          0.006797836445703309,
          0.006193172701867589,
          0.03567402510852058,
          0.011541500041181152,
          -0.010814857016957169,
          0.009568503337404222,
          -0.01649711014879096,
          -0.05014884351029214,
          -0.0025859164307052707,
          0.00811427570400447,
          -0.0037440582645278386,
          -0.03196519578486534,
          -0.055790951721158666,
          -0.00408460158219659,
          -0.012754184953812753,
          0.022740370774624763,
          -0.009231886836836845,
          -0.0037028710653078667,
          0.03695117162060191,
          0.0048225958173919725,
          -0.13142179610878624,
          -0.001756141248583143,
          0.00021501165137438605,
          -0.3716953856106434,
          0.11928067234850137,
          -0.09871602655204581,
          0.04210793857830897,
          0.0024512036793606917,
          0.1818775572497766,
          0.001225199918343911,
          0.03509346677201375,
          0.04963733434667761,
          -0.007979552976759341,
          0.005295181629561441,
          -0.0367221436072499,
          -0.006175856015938841,
          0.0013690436371400772,
          0.026112924108560476,
          0.02828128797173801,
          -0.00886674041133706,
          0.07995887158253545,
          -0.013114627038595228,
          0.021972543653853815,
          -0.004364446076028039,
          -0.06259191510537199,
          -0.00038127825634770574,
          -0.029275847518947296,
          0.07146740204408464,
          -0.032998758492329805,
          -0.00023761462684646073,
          0.03442923677683796,
          0.04391007120725354,
          0.016309658349006995,
          0.032406755024495526,
          0.0014697417032041304,
          0.12731805199514046,
          -0.01618949646708756,
          0.023816089601433443,
          0.0054020254734281625,
          0.010144678901147897,
          0.02951119970887639,
          0.07366214136246696,
          -0.010938284282785204,
          -0.12607052966979382,
          0.02356271218282746,
          0.052871935210010435,
          0.05002535167981015,
          -0.04166180494283467,
          0.04270685081371872,
          0.000253212559469862,
          -0.021179549219415117,
          -0.04633209972614827,
          0.011100867003489334,
          -0.03784606526019674,
          0.039158209284775536,
          0.03754849569464569,
          -0.009093976339415222,
          0.07714111290684977,
          -0.06269774822526064,
          0.013317594553758472,
          0.014903505454243904,
          -0.013785177419960992,
          0.010962256584780228,
          0.002477712082646688,
          0.007594610953689074,
          -0.055553010600806974,
          0.01706353064227928,
          -0.0031792109220236675,
          0.009239764901328495,
          -0.006056760655299365,
          -0.007216479287142419,
          -0.013156009261958479,
          0.03883489420957553,
          -0.001975347444956199,
          -0.03282025637229158,
          -0.005239308190461478,
          -0.010998117582502465,
          0.0030488675217343886,
          -0.005751513969241118,
          0.009885324860591016,
          -0.011368806016593735,
          0.02762831536563448,
          -0.013140376368972029,
          0.01902835998687058,
          -0.01594823123795197,
          9.052025406308672e-05,
          -0.003792875168089682,
          -4.331541633217917e-05,
          -0.0054501555113699585,
          -0.006593108913712675,
          0.002098616018726629,
          0.0014029413436882354,
          0.022986788500953148,
          0.016050921450531552,
          0.005848489276111923,
          -0.004611142341215513,
          0.1524585138301846,
          -0.007101328954145503,
          0.017194865786684277,
          0.0009680757802061901,
          0.019102587038701824,
          -0.006810472921634836,
          -0.00359726132633742,
          0.04828976176894417,
          0.0027880236978121697,
          -0.015136180923889908,
          0.023845134165525916,
          -0.03936534387396862,
          0.015284938512784452,
          0.017195015111768575,
          -0.0012955212672436378,
          0.041255550011719766,
          -0.021475461520883754,
          -0.019426708435084983,
          0.010213129325661985,
          -0.02406750776245048,
          0.015709002695372787,
          -0.03469001801020921,
          0.010753745007988869,
          -0.014359384010151133,
          0.01934954060869387,
          0.011983566211825947,
          0.024797762078201613,
          -0.04648471949189359,
          -0.10239476127098823,
          0.02601355580533138,
          -0.03617804633159594,
          0.010939236281577225,
          0.01179329388699668,
          0.003645263099881779,
          0.02691329089319372,
          0.010871177166525525,
          0.01648188439172471,
          -0.0023612995607128484,
          -0.00040225590724563,
          -0.04406984190469432,
          0.00728333999578501,
          -0.029662370418147788,
          0.05082060126051813,
          -0.004025740303490233,
          0.0017787883649786895,
          0.011892457737733064,
          -0.005642259447323328,
          -0.015229319716585255,
          -0.0035926601846852924,
          0.020673927460882258,
          -0.016876795400904365,
          0.005410890013006764,
          0.02289428606761912,
          0.046310521489905776,
          0.005760771129040609,
          -0.015069273044499454,
          0.037087926023844586,
          0.014843919362714786,
          0.07614375518727923,
          0.011089020014184214,
          -0.002649454434332954,
          0.011113061121331036,
          0.04427990206524912,
          -0.028045075372767125,
          0.012553242209906168,
          0.008084580697109489,
          0.00029282769887406523,
          0.029505320094915133,
          0.013147117963921984,
          0.10231863437017075,
          -0.0008965282223868387,
          -0.015004960600411898,
          -0.0027010327428412806,
          0.0268419410945393,
          0.03662132733339485,
          0.0025475527327811776,
          0.02440908236578121,
          0.05559276938072344,
          0.008988152879733313,
          0.0007348899513748286,
          0.04513782082492157,
          -0.013811772506669984,
          0.04047804663207488,
          -0.019643827847620643,
          -0.08668098726524276,
          0.14714603639672275,
          -0.04192625952848217,
          0.02117182318505395,
          0.012723580699623094,
          -0.03834494908280672,
          0.026303283360002094,
          -0.04535760063307914,
          0.012705073343324269,
          -0.015572121149564633,
          -0.011283218130002659,
          0.06577033769414853,
          0.008855135279580262,
          0.09751836307520456,
          0.07013245133363033,
          0.014593135861492579,
          -0.014473138229307847,
          0.042974334112722,
          -0.022776055448425536,
          0.021281190956862428,
          0.14108807463740813,
          0.01025035510354333,
          0.054034499850387885,
          0.005574281033751349,
          0.10241438397456037,
          0.06319658000514483,
          0.08331071414997226,
          0.06915746698908976,
          0.03623389929302223,
          -0.12821714814019047,
          -0.0462145021574808,
          0.10003249548888205,
          0.050138030111625875,
          -0.06027358970394214,
          -0.020517446469514367,
          -0.014473454805639108,
          -0.13283684005316798,
          0.07072224005404815,
          -0.019371440248626248,
          0.006286058309083797,
          -0.06562212474599216,
          0.03999200589418295,
          0.08425954164300875,
          -0.0227066720159258,
          0.05883361481850957,
          0.0552459817355897,
          -0.014571470133455389,
          0.03299138810523439,
          0.21109718715065617,
          0.006161523959921977,
          -0.03362488605272895,
          0.06659103725199489,
          -0.008442623824065798,
          0.03568097731559283,
          0.059941960282079876,
          -0.008997504606080509,
          0.08143096901442681,
          -0.03007458677540631,
          -0.09930198543145974,
          0.018042326886777316,
          -0.05253924199462712,
          -0.016012490356436593,
          0.07102929205720199,
          -0.02523116190113761,
          0.04463205998559516,
          -0.03912035981871642,
          0.007539701665201459,
          0.06783980378984733,
          0.04933522042014493,
          0.021604243784508315,
          0.03207671485778674,
          -0.00818320662681038,
          -0.024853282496366536,
          0.01605702194959746,
          0.03636996283329075,
          -0.01718969388968805,
          0.008429650142007583,
          -0.065428052161292,
          0.0038474981370875128,
          -0.035891807501329476,
          -0.020277031926960176,
          0.0663999247573428,
          0.04738872100449232,
          0.020216245186837067,
          1.9359634988669328e-05,
          0.003003735086039905,
          -0.0006418338102552879,
          -0.01465544559054699,
          -0.036833390122360865,
          0.04058980823677527,
          -0.0013536328518541918,
          0.02830198486483737,
          0.06027376478804425,
          -0.006200634365587043,
          0.0032374804693109382,
          -0.027501379374409107
         ]
        },
        {
         "name": "ishares",
         "opacity": 0.5,
         "type": "histogram",
         "x": [
          null,
          0.004610696634925748,
          0.00013105166191840212,
          -0.010751278917072504,
          -0.004373678164277139,
          0.00612353551321787,
          -0.016803439618855776,
          0.009554542041570357,
          -0.0011996268301587287,
          -0.0028025890831444578,
          -0.014721627014945615,
          0.0009508285533599281,
          0.011399049765258518,
          -0.0030859252136301585,
          -0.01386282563322605,
          0.01596841905109425,
          -0.019075845806667213,
          -0.01670764265722513,
          -0.017409469782202258,
          0.004819220137818769,
          -0.005360389335590354,
          0.002552829313492433,
          0.012165822261541281,
          0.010901438943315744,
          0.019770495789561915,
          -0.00840566680028021,
          0.013125485370522272,
          0.007422456340687056,
          -0.0018754185699820791,
          0.014360488139565364,
          -0.003572426473341439,
          0.006904846817284538,
          0.011868679628941559,
          0.00221553487733428,
          -0.00442137829853384,
          0.0026123825133852474,
          0.004820166627926836,
          -0.00038895372459368804,
          0.004150454063565734,
          0.0005166882076126367,
          0.0028401755744902335,
          0.0003861997940266537,
          0.00038602496461215274,
          -0.002058091125754946,
          0.006702706710422612,
          -0.0026888348960009134,
          0.002952907947104899,
          0.003840194474137526,
          0.006886024149095116,
          -0.00012669706180334916,
          0.003546649958031667,
          -0.0010097437329422698,
          -0.011244472236399905,
          0.004088934216996298,
          0.005217561587743447,
          -0.0008861881475170641,
          0.0006336036653218358,
          -0.007724477454109646,
          0.0028075803981622016,
          -0.0174344867031182,
          0.004921590467556136,
          -0.013790437622911988,
          -0.006664846140347458,
          -0.011051229810518759,
          0.020753040328669314,
          0.024110490076346247,
          0.0040722829200234845,
          0.003928998632978464,
          0,
          -0.002398737533139572,
          0.004302759013047774,
          0.0027722026209675565,
          -0.006659939515960223,
          -0.008981757926286749,
          -0.0039570847054931635,
          -0.01627574051712788,
          -0.009119384858796709,
          0.011701262469136609,
          0.01910334082408549,
          -0.0067584546482646335,
          -0.007318012581846278,
          -0.002457346094154045,
          -0.0050563984197172784,
          -0.010945999764034431,
          0.013965717682062673,
          0.0033784043659044194,
          0.0036259776320648474,
          0.01587101935483859,
          -0.0024133620010992063,
          0.004074357015533492,
          -0.01268069997463861,
          -0.009247367069098344,
          0.009722582317863715,
          -0.012068352805238214,
          0.010006576218665408,
          0.012480699627362535,
          -0.001270885721924464,
          0.009797735579474942,
          -0.0031502016129032473,
          -0.004171432183036172,
          0.011805052343362377,
          0.003512708568561118,
          0.007250931547716721,
          0.006329924289437683,
          0.00209666990388091,
          0.0015999753846154263,
          0.003317817727152006,
          0.0061236985640245045,
          0,
          0.0020693608747568426,
          0.001700680272108901,
          0.000606378850351863,
          -0.003757192976434509,
          0.006447786201838612,
          -0.0036263022542581957,
          -0.002911537061749403,
          0.0006082978316510612,
          -0.01398348769415092,
          0.004316266090332643,
          -0.014734822820854143,
          -0.0026171486195699645,
          0.012245458259289244,
          -0.006542377322740989,
          0.013295227967434098,
          -0.0008583690566098534,
          0.010922900789253731,
          0.00024278256057352898,
          0.007161111785410679,
          -0.0024102915203521036,
          -0.004228050355835955,
          -0.02086618949411634,
          -0.0024779829017469446,
          0.004719885611231156,
          0.012486116948942971,
          -0.007814407623579767,
          -0.006522249408755898,
          0.003344431891766142,
          0.007283901234567791,
          -0.002941512584459516,
          0.005285802219687996,
          0.004891196011034493,
          0.004258919445120357,
          -0.004240857972636847,
          -0.001338525188610551,
          0.0071890337516755665,
          -0.001209847509806683,
          -0.01441371158947935,
          0.012043701313906752,
          0.00048575593165156583,
          0.005947299429542419,
          0.003981684459017476,
          0.00036050955414013153,
          -0.003964368187514888,
          -0.0006031117788873885,
          -0.00591356504948104,
          -0.013475779689795298,
          0.012429165335240855,
          0.002309517554856644,
          -0.012854693184574217,
          -0.003317002375503586,
          0.00530013571552157,
          0.01336444368230616,
          -0.00483970950176138,
          -0.002188449848024354,
          -0.0008529304252467007,
          0.011463439024390398,
          0.002411357549762183,
          0.0034880923743083603,
          0.000479467817331658,
          -0.0016772492709417053,
          0.0024000479443166967,
          -0.00023938705230197588,
          -0.01137593075377974,
          0.009568798681414803,
          -0.0014396401065300823,
          -0.006848491801105694,
          0,
          0.0018145897984711556,
          0.004105832728072301,
          -0.01070354754771985,
          0.0007293702715931438,
          -0.0070456997084547,
          -0.0023243700103834364,
          0.013979128682814146,
          0.0010883540672788072,
          -0.005798429712453035,
          -0.004495795650265033,
          0.005004223117295092,
          0.0019432111704256183,
          0.011151490909091066,
          -0.0038360106409977,
          0.006618580183359368,
          0.0009563896962010432,
          -0.006807595518566911,
          -0.0034872773695393544,
          -0.00024139012329216225,
          -0.023657188259678663,
          0.005315861045864567,
          0.008116133792424929,
          -0.00500126835807424,
          -0.0014711781292141568,
          0.005156611671288447,
          -0.016489629498237846,
          0.0012420020487828864,
          0.015504837124662885,
          0.0124587513751373,
          0.0059114247798286446,
          -0.0028783641851370945,
          0.009381741640606345,
          0.004051525358711228,
          0.0036790647121036635,
          -0.004729833274210504,
          -0.004395794330421698,
          -0.004892648931138499,
          -0.00887394171963063,
          -0.008469521876115604,
          0.012446687611796792,
          0.005303145587486124,
          0.0014386044148853028,
          0.0015563989358649,
          -0.00394456113102748,
          -0.0007201007867488896,
          0.005284064142383249,
          -0.013379572333054535,
          -0.0026636882268404882,
          0.011290542399161385,
          -0.009003601008230389,
          0.0004844578808258504,
          -0.00048422329503439165,
          0.002664954443854395,
          0.008819669388409723,
          -0.0029940119760478723,
          -0.006846846846846777,
          -0.02382680212868904,
          -0.031099045967042493,
          -0.034271101497242995,
          -0.012314619296325269,
          0.03928140712060113,
          0.021800878317898675,
          0.000504986744098046,
          -0.010473211356466838,
          -0.027416501591851605,
          0.02150266272467083,
          -0.0011552303347335258,
          -0.012593215111796341,
          0.026418611474159803,
          -0.013186255529700763,
          0.00552486173648048,
          0.0066444669909413445,
          -0.00266562586102137,
          0.011836578846888157,
          0.006037786163521908,
          0.0017504125156082573,
          -0.014103893806692636,
          0.002911811695450295,
          -0.012370663661432246,
          -0.0029396217520353263,
          -0.004102038095063709,
          -0.010426103477253146,
          -0.02887609336306174,
          -0.002410929418112606,
          0.019736733633902714,
          0.0032916394096980106,
          0.015223150405414776,
          0.015253360910031155,
          -0.007384772090654579,
          0.008465905592611733,
          0.006741287032783427,
          0.004674592427679425,
          0.001760664072467888,
          -0.0085362787579073,
          -0.005571081004249967,
          0.016042831678125813,
          0.002506215413222268,
          0.0040000000000000036,
          -0.002739068725099547,
          -0.007740249881154848,
          0.015098086809356648,
          0.013510114030738762,
          0.0015898985735549598,
          -0.001220976771160509,
          0.011613642463880636,
          -0.0004833836858006979,
          -0.0041107242171442016,
          0.01165472838036341,
          0.0015600383640936855,
          -0.0020369039060625926,
          0.00024010085244308144,
          -0.000480158455891333,
          -0.010327753588459498,
          0.0012134206424743166,
          -0.0030299356919176734,
          -0.012278166489711473,
          -0.01353843692307688,
          0.011727934828997144,
          0.0014798866188130422,
          0.017362418421376757,
          -0.0007262648093376844,
          0.005450629977001853,
          0.0009636670048507323,
          0.00036112650673381097,
          0.002165567801598378,
          0.0010803841017823501,
          -0.00611586521165608,
          0.009290589027282525,
          -0.008248678822506239,
          -0.015188090646094499,
          0.02080790799549126,
          -0.006235059802516596,
          -0.0027750483295136963,
          -0.011131251999243807,
          0.003181132843208978,
          -0.020490304195397213,
          0.004980724815856652,
          0.0069383719489533036,
          0.01611918376371002,
          -0.014168054876045999,
          -0.016951307360210888,
          0.008371835770881741,
          0.007311078429297568,
          0.009349292655923103,
          -0.0029251186873801016,
          -0.0012223200396607181,
          0.01150412434218584,
          -0.007380544286012203,
          -0.010482691370063413,
          -0.018107908351810975,
          0.0007526784594156233,
          -0.011282362355891418,
          -0.024977810955298274,
          -0.010923328714607883,
          0,
          0.010255035767947396,
          -0.03006244300168881,
          0.014490836293863829,
          -0.019706361592381927,
          -0.0001349433314909998,
          -0.004048063689110815,
          0.0024386940099905274,
          0.022705771663894536,
          -0.012950918804041756,
          0.009907591112395364,
          -0.015776242874188107,
          0.0033674569872699234,
          0.023358921287660595,
          0.0034106517953220727,
          -0.01830307277560661,
          0.001598135655780153,
          0.0006648318042814516,
          -0.02644174790215914,
          -0.0174696065221569,
          0.0009723572988569185,
          0.0018041077381103499,
          -0.00817293231270455,
          0.016340754646389843,
          0.02020066072286153,
          0.01899251128751378,
          -0.007138162402163584,
          0.0021301557715351915,
          0.01315273087034563,
          -0.009572567281076028,
          0.005428359735955457,
          0.011193020511113483,
          -0.00013025133480926154,
          -0.007944777492700617,
          0.023893922118784827,
          0.0029491474022091957,
          0.002556839617570139,
          0.003060520353494356,
          -0.0027968724740974338,
          -0.009051478606540764,
          0.003988112492571139,
          -0.0011533059969247583,
          0.016549096423301934,
          0.0002524482648271764,
          -0.00315417604960444,
          0.007340766805701282,
          0.004397612986436261,
          0.00512879646913178,
          0.0022401991845726332,
          0.0006209363124531908,
          -0.011665450194453864,
          0.00012559015570068333,
          0.0008788449245737961,
          0.013923732716414117,
          0.0037114436790439687,
          -0.0002464932884628235,
          0.007767205030206004,
          -0.003058478176131141,
          -0.008099104383338052,
          0.011134504240145837,
          -0.011746090211863791,
          -0.00024756717828744446,
          -0.003591331269349962,
          0.007457096694009513,
          0.011596373343113253,
          0.00024385365853674124,
          0.00024389174561778582,
          0.005485104826913556,
          -0.002060831665919194,
          -0.00012150145772593657,
          -0.0017008869323503761,
          -0.003772642175310814,
          -0.0008551184949913138,
          -0.0006113461303338674,
          -0.002079740691943832,
          -0.008949417678067895,
          -0.005195423314963921,
          0.00808259159618463,
          -0.007647761194029767,
          -0.005469161241474785,
          -0.00037492812461126235,
          0.003250737521843572,
          0.0037388086674678966,
          0.011671268934690726,
          -0.012027539910282714,
          -0.0014907080745341084,
          -0.006842448540493984,
          0.010397118617133438,
          -0.011157971179867499,
          -0.0002508024009327814,
          -0.004890895532753792,
          0.007813535168583075,
          -0.0016256845910794793,
          0.01590686452439205,
          0.004684971027000273,
          0.0009817401149032623,
          0.0047811695476278615,
          0.00036600780868734084,
          0.002683278514044929,
          0.0035275513927746083,
          -0.0026666909090908852,
          0.0043753282541401095,
          0.0004840271055179812,
          0.003023705853894443,
          -0.0014470276136502314,
          -0.010385243578921455,
          -0.008175692894481612,
          -0.0008611958873326886,
          0.00036938800640329283,
          0.0017232890626117658,
          -0.006389751938799537,
          0.007296512490724716,
          -0.00036829958837558685,
          -0.0012281749257720964,
          0.012911977373339933,
          -0.034842806001145865,
          -0.018238943396226448,
          0.017424726845625793,
          0.01649663687209979,
          0.011892938258351471,
          0.0048971841332026145,
          -0.005848001806822545,
          0.0025735294748412407,
          0.0017112578342808327,
          0.015009201464756705,
          0.004808872325077873,
          0.0050251015787246,
          -0.0009524047619047238,
          0.003813155476957819,
          -0.0005934947909186361,
          0.0027318683280230793,
          -0.0015398957957805104,
          0.007355605647170416,
          -0.0036509949993642765,
          0.0041370922963852585,
          -0.0008239906214945192,
          0.0007069274436128925,
          0.0007063574121413119,
          0.0025882588235293102,
          0.001173409970114836,
          0.0023440693858416406,
          -0.006080402529485718,
          0.001411788235294198,
          0.0018796522114743475,
          0.00609763147508513,
          -0.002331072152397584,
          0.0011682009618738665,
          -0.0007000700443440255,
          0.0044371321812237685,
          -0.0013949547265731388,
          0.0032595808321402853,
          -0.006498004177303396,
          0,
          0.0007007474725357898,
          0.0009337301587299951,
          0.0006996035284607682,
          0.0034957119552552207,
          -0.006967092267368913,
          -0.00187086070490472,
          -0.0018744611059043903,
          0.003521173874233563,
          -0.003040959064327442,
          -0.0025809714354990687,
          0.0011762644637149933,
          0.004464262113151651,
          0.002806994152046771,
          0.0006998600583125736,
          -0.003729603555729488,
          -0.02573708349381909,
          0.013928962870532358,
          -0.011605897403934362,
          0.0016774263120058475,
          0.012201005076579063,
          -0.0037815881876249735,
          0,
          0.00189793585300424,
          0.009235117215249833,
          0.008212154111031378,
          -0.004421735992047315,
          -0.0121552363757651,
          0.007098982825318512,
          0.00305446421394584,
          -0.009369829219251224,
          0.006147978100071505,
          -0.0030552527157521325,
          -0.0028288308735894274,
          0.00189130028111828,
          0.00023591316102145043,
          -0.004718094001370576,
          0.004977554040709986,
          -0.012735872040760876,
          0.0009555900392836936,
          -0.003579999829116942,
          0.00047904191616776615,
          -0.0047881254488868485,
          0.008419485205677146,
          0.001669942827764448,
          -0.0016671587679371047,
          0.002862667121310336,
          0.0061845383876180104,
          -0.0056737117180546415,
          -0.004992938540348546,
          -0.0050178974918946295,
          -0.004082564939542843,
          -0.00024118639399117736,
          -0.007959430968630832,
          -0.00583520530427406,
          -0.0070922232108640015,
          0,
          0.022660148899514843,
          0.003371868978805148,
          0.009841574651944462,
          -0.003565533634418805,
          0.001669942827764448,
          -0.0028578946007193906,
          0.0071650109186771616,
          0.002608513284729108,
          0.00709562457652857,
          -0.002818294841789748,
          0.007065450001541462,
          0.003507998293170944,
          -0.0004661151246794226,
          0.003963674608619128,
          -0.005805852164285863,
          0.0039710113531647995,
          -0.010470009306654315,
          -0.008934799175518315,
          0.0009489204769195236,
          0.00758471219684087,
          0.003999106280832887,
          0.011246485473289436,
          0.0023169138090826102,
          0.006010217568664711,
          -0.0034467141544118896,
          0.006917200989559724,
          -0.006411701690483218,
          0.0036874856807440626,
          -0.0020665901737447756,
          0.0027612287795957258,
          0.0039008258879840163,
          -0.002742834285714313,
          -0.0075636486921006885,
          0.0023095381595736875,
          0.002995322442611803,
          -0.007810705440172372,
          0.0009261634852086864,
          -0.0071709923664121655,
          0.008620759954369062,
          0.007160937695520175,
          0.0011468807865542274,
          0.005269163561550272,
          0.0006836599661881326,
          0.0009109769984059213,
          0.0009101478746267322,
          -0.0020459194341476694,
          0.0034167879992350603,
          -0.0024971623722397362,
          0.002503413802990684,
          -0.003632236177803283,
          0.0018227842748412826,
          -0.0006823288450688025,
          0.006372371560591228,
          0.006784237747981869,
          0,
          -0.0002246630727762433,
          -0.004942642324989643,
          -0.0018063219280576304,
          0.0022619769794609557,
          0.0006770254868648795,
          0.005638249887234936,
          -0.0008970845481049983,
          0.0008978900313780791,
          0.0022426328773266224,
          0.00514654296591055,
          0.003784550480167015,
          0.003770192947438522,
          0.004198033769245768,
          0.004620439942344401,
          0.00043802014892690977,
          0.0008756786339756406,
          0.005686767154707395,
          -0.00021746411483236638,
          -0.0008701544296247921,
          0.0017417374265187302,
          0.003042903848854639,
          -0.0032503140519907214,
          0.01260873913043481,
          -0.005581837458916383,
          0.0015112046632124176,
          -0.0023712007409184555,
          -0.0034572170150650727,
          -0.0004336730362894947,
          0.001084685513435435,
          0.0034669337609130046,
          0.0019434462979173173,
          -0.0036638360489726907,
          0.009517585983127796,
          -0.0023569103217017107,
          0.0008590420777696561,
          -0.000643733933207491,
          -0.011595469186171381,
          0.003693287066984352,
          -0.0017316449841635606,
          -0.0032523417877783345,
          -0.00043506633815393325,
          0.006093558082838735,
          0.0025956738048886763,
          0.0008630205334636543,
          -0.00021552059097917908,
          -0.001940491549364154,
          0.0008641391042527591,
          -0.002805978726268976,
          0.0019480519058863166,
          -0.00021607258120392991,
          0.0006482714055375816,
          -0.001295638063147475,
          -0.004324345945945995,
          -0.004560238969820496,
          0.00807153141361261,
          -0.0015148236640299961,
          0,
          0.007368899162741416,
          -0.001075731497418131,
          0.009907365927202205,
          0.006611260537668029,
          -0.000635656766193704,
          0.0029680518536379097,
          -0.0006341576699607776,
          0.003807106679507566,
          0.0010534977044562854,
          -0.0027362030198360143,
          0.001688433902734765,
          0.0035820059751792144,
          0.0008397438412819369,
          0.0006293895795841387,
          0.0016771068830794267,
          -0.0014650481679581162,
          -0.0008384196361019836,
          0.0052443887243291964,
          0.0006261060361480997,
          -0.01856100065566213,
          0.005737377693638468,
          0.005493302113107834,
          0.006514015549485164,
          0.001043820415706831,
          0.0035453179656868006,
          0.007689173060872134,
          0.00020618683414364014,
          0,
          0.0004123711340207059,
          0.00577079554822757,
          0.007172192769921981,
          -0.0006104374115794009,
          -0.0030537052738945913,
          0.0018378598767028187,
          -0.0010192213408229955,
          -0.008365640006759545,
          -0.0037037038561195113,
          0.006195849078721727,
          -0.0006158045850614968,
          -0.0018484494115517114,
          0.0008230658774925903,
          0.00966287026445034,
          -0.006108735367364337,
          0.0024584920619035167,
          -0.0004087471898631678,
          0.002657963606624403,
          -0.001223511394300325,
          -0.014087362188648478,
          0.009111596415166678,
          -0.012723147958136671,
          0.0018707129106068088,
          -0.0026971161266158283,
          0.0056168088204702205,
          -0.00868849813818795,
          0.007721264929935856,
          0.003313315317595489,
          0.00020635706488425498,
          0.009079715416419942,
          0.0010224743958087146,
          0.006537262379218367,
          0.00040594682362482537,
          0.002637390898003966,
          0.005868090079647503,
          -0.0004023335425937802,
          -0.0002012276152389969,
          0.0006038446054750235,
          0.00020120700465109387,
          0.001005611403748663,
          -0.002812919429375227,
          -0.0016119685349190727,
          -0.0028254087351243795,
          0.001416717263711842,
          0.0014146928051739227,
          -0.002421776032730083,
          0.0022253894396115914,
          0.003027815845219717,
          -0.0028174683601824846,
          0.0008072855864236228,
          -0.01673728574309341,
          0.004101743400399593,
          0.011437929155186488,
          -0.00040387722132473325,
          0.002626282828282811,
          -0.01531335854698046,
          -0.0028647227924027963,
          0.0022573363431153126,
          0.011466052416052364,
          -0.004048603074955359,
          -0.0016260568775191553,
          0.000814352622442005,
          0.001423921887713675,
          0.0026406865732278018,
          0.006482961781139496,
          0.007648973429951633,
          0.0005992608749649797,
          -0.005989199441006288,
          0.0024101023818015044,
          0.0030054297735926383,
          -0.0027967038993866877,
          0.00921480405508035,
          0.001984894760125089,
          -0.00019807844690955534,
          -0.0009907469587726592,
          0.0009917295117702896,
          0.0009906677037712086,
          0.00039590261282640427,
          -0.00019790264744945496,
          -0.004155927254223646,
          0.0003974562798092496,
          -0.005959455701231797,
          -0.002997641826585795,
          0.0054119263462000244,
          0.0015949362041467463,
          0.004777030064608612,
          0.0029714936608558062,
          0.0019750937788840517,
          0.0017740981667653255,
          0.005706434474616273,
          0.0007826452595844913,
          -0.000782033205003696,
          0.0007826452595844913,
          0.0037145257589628056,
          0.0003895792754187166,
          0.0017523364144795828,
          0.001360524754897563,
          0.0013586956521738358,
          0.000775363442527599,
          -0.0007747627198380069,
          0.0034890482651677157,
          -0.005408499130770794,
          0.001359467805031489,
          -0.0034910782876051982,
          0.0005838653058802823,
          0.014977630811126241,
          -0.0021080873898045027,
          0.0013443249471865037,
          0.00019184887211065593,
          0,
          0.006136126322679791,
          0.0028587382721794175,
          0.00019007982117225097,
          0.003230058840394179,
          -0.005113636460485571,
          0,
          0.0011422235130826852,
          -0.0019014641566839074,
          -0.006286949655669671,
          0.009202434815950955,
          -0.003229445350103388,
          0.0013340956482923438,
          0.008374552562341986,
          -0.0007550207625518501,
          0.0034000756214596084,
          0.00037650603118422055,
          0.006398212389879587,
          -0.006544483919222133,
          0.009222623579472566,
          -0.0029839612641543445,
          -0.006172802210490214,
          -0.0022586673770248478,
          0.0015091870027990062,
          0.004332265963458148,
          0.005251275318829629,
          0.003544832221822114,
          0.00018587097628053328,
          0.0011152788311390438,
          -0.002599331552184614,
          0.008935219491153612,
          0.005535036798246518,
          -0.00697249541284406,
          -0.0009238544147053274,
          -0.0011097096356573743,
          -0.000740548074080638,
          -0.002038169315579763,
          0.001299647209438426,
          0.0018542369738550057,
          -0.0048121229837518875,
          0.008182983076064687,
          0.009038959768289168,
          0.003656325344491229,
          0.009471693644018453,
          0.002526218063017671,
          0.002159809176389249,
          -0.003053196839080452,
          0.00630522451108706,
          0.006802738868550984,
          -0.0021337659269641263,
          0.011047808464857534,
          -0.00035250263121233694,
          0.004936512606902088,
          0.007543859649122853,
          0.004004875500609462,
          -0.0026014915019075824,
          0.0010433316307887353,
          0.01354868855306579,
          -0.006855133054160523,
          -0.009836065404036809,
          0.0026141163713120363,
          -0.002781157705217363,
          -0.019696653646446904,
          -0.03965156331253317,
          0.021477504961211036,
          -0.00725028121262572,
          -0.039802811758261836,
          0.0165430500095074,
          0.016460924363279617,
          0.003496485093853474,
          0.014670878684593491,
          0.015543050224361199,
          -0.0003559530228858243,
          -0.0026704291497392507,
          -0.003570153516601282,
          0.0012540128986027188,
          0.015745231986853403,
          0.012330473841817957,
          -0.011658291079549521,
          -0.009507060026532677,
          -0.01439738764299281,
          0.006131650024677082,
          0.011292292323135111,
          0.0035448601043905903,
          0.0026492582594359604,
          0.004756050731019812,
          0.017882187624786328,
          0.00017221839179781817,
          -0.006716032374720182,
          -0.003294001386962564,
          -0.0003479039711982157,
          0,
          -0.015312354005353135,
          0.0035342109913412134,
          -0.003873939005565319,
          -0.029520912144246014,
          -0.022040126701634688,
          0.030359490228338393,
          -0.023680441070137337,
          -0.0049990003702649055,
          0.01637508312709035,
          -0.025082369554785267,
          0.01314555868544609,
          0.012048136940720378,
          0.006410311590121287,
          -0.023293957719855207,
          0.0037264953876092743,
          0.017820735433835777,
          -0.004924329566867391,
          0.008614332686687431,
          -0.0029075050501090605,
          0.0076544925761707905,
          0.015916024309712062,
          0.0017803454434874855,
          -0.007997156566554198,
          -0.010928000716588948,
          -0.0014489766609124821,
          -0.018320369702151784,
          0.0011086659480536998,
          0.015503875968992276,
          0.0009087604507451719,
          -0.007263519157435949,
          0.006767935129611713,
          -0.005087263715710888,
          0.0005478999469648027,
          0.01423615597305794,
          0.005578567572431137,
          0.00017891910918188536,
          0.009482895141937675,
          0.009925594112924152,
          0.0017550368550369733,
          0.0005255605982634748,
          -0.009280318520743847,
          0.004241746050132722,
          -0.0019359556494191743,
          -0.0003526714927292174,
          0.007408749469196341,
          -0.004377516995665909,
          0.006507192991431765,
          -0.0003494845360824117,
          -0.00017475966045732427,
          -0.008391608244901927,
          0.010930870752276611,
          -0.005406365538890956,
          0.012975644625208727,
          0.00709710922624196,
          0.002578239944998284,
          0.00805755158383148,
          -0.0045918368127864095,
          0.002733640914635904,
          0.001022337724013278,
          0.003744697872340552,
          -0.003222011137493541,
          0.0056141885950016235,
          -0.0016918118475415245,
          -0.0006778003957905732,
          -0.005087383329025252,
          0.003238503604516829,
          -0.006795820475775982,
          -0.0013684228766408513,
          -0.01747173659692136,
          -0.00017438981564865674,
          -0.011857018722127965,
          0.008293647725203801,
          0.0010500875227525963,
          0.005594388014084073,
          -0.007127938108484111,
          0.009455454220706594,
          0.011274882522987584,
          0.008919399809938167,
          0.0027201632097926254,
          -0.005595083079009799,
          0.012276163264239859,
          0.0013475156029563173,
          -0.0025231622788366437,
          0.006576728610062865,
          0.001172709016128426,
          -0.005020063755691528,
          0,
          0.0018500000311132414,
          0.004196743327178121,
          0.011868923436977541,
          -0.008095126517348894,
          -0.010493021144353465,
          -0.012792425517589523,
          0.007672565808267029,
          0.0025381049928292487,
          0.008776371308016895,
          0.0028442195081144206,
          0.004671371449305628,
          0.002490833568733919,
          0.000828209389236445,
          0.00016554121699896562,
          -0.0076120966407412505,
          -0.00200105049189514,
          0.0065163577783242665,
          -0.008466168377617267,
          0.005859735476310135,
          0.0014979360353550852,
          0.0014957620573630148,
          0.0026551610572571605,
          0.001489573038383707,
          -0.0009915220952412263,
          0.007278709557010599,
          0.008868467874338481,
          0.0017906723099463395,
          0.007637260194389706,
          -0.0025802290785431614,
          0.0009701212924857483,
          -0.0011306735583911376,
          -0.008893903622251065,
          -0.003589508833585997,
          -0.0009825118716226822,
          0.0016391247873830395,
          0.005236442395083696,
          -0.000651163926420284,
          0.00814464909830015,
          -0.0006463241338879877,
          -0.009862506381972724,
          0.007184813612514329,
          -0.001621238651102419,
          0.009256251729254483,
          -0.0019308607584599402,
          -0.00032244075967169383,
          0,
          -0.00419283999976916,
          0.0048582834008097375,
          0.0011281225000503436,
          0.002575660054340956,
          -0.0020872993270278917,
          0.00032173772094168385,
          -0.013832990633198983,
          -0.007992187114790661,
          -0.005097040447221257,
          0.0004958354154960265,
          -0.038817343263671145,
          -0.016497663112178484,
          0.020094373580290092,
          -0.008050719286558428,
          0.026247625625971382,
          -0.0013461551405014038,
          -0.018197102550871147,
          -0.0029174875579200954,
          0.0006884853937516588,
          -0.005159941609218066,
          -0.03665281811894883,
          0.026202422358176047,
          -0.020811437565582458,
          -0.01250224995526883,
          0.01519262045229497,
          0.0158560303606623,
          0.012100999649245825,
          -0.008490695000705206,
          0.001223348458172735,
          0.005760132557861342,
          0.026553332637162974,
          -0.0015215722224320993,
          -0.011683067868556218,
          -0.024841545739961335,
          -0.0007026880078245812,
          -0.008263027280889124,
          0.013827317851444754,
          0.0005246022123555072,
          -0.0263894088362564,
          -0.016334590133451732,
          0.0040146168615806666,
          -0.005270810614322219,
          0.018636945002740823,
          0.0019731121076231872,
          0.030075187431521933,
          -0.002259315219685143,
          0.008709284096847236,
          0.014505266793300109,
          -0.03472342127659567,
          0.0012343502245519833,
          -0.027474428099232506,
          0.006519395028623753,
          0.0014393306427011865,
          0.007545849802371718,
          -0.001069935767833874,
          -0.020528400571224625,
          -0.02606160062076912,
          0.0041167852566763585,
          -0.01826313827804693,
          -0.019362186788154934,
          -0.021873809523809573,
          -0.025925153887297547,
          0.052214545871301254,
          0.008882004076423922,
          -0.0017224880382775698,
          0.010352779907975451,
          -0.0024668120974039587,
          -0.025109377972227565,
          0.03453658536585369,
          0.0084873821199547,
          0.011782251509589337,
          0.004621072259558989,
          0.004967819870020929,
          -0.0014646283680819216,
          -0.007150696605231044,
          0.014404394666504228,
          -0.00018208629164395695,
          0.007465477329405612,
          0.011566943373687355,
          -0.013042683347459727,
          0.0012671795341354652,
          0.0018079732090403589,
          0.005955639776213717,
          -0.009687853976036775,
          -0.0034420832709767257,
          0.017633194605824132,
          0.012147195426938096,
          0.0003529827038475375,
          0.007233592095977404,
          0.005955508845682189,
          -0.0027860003482499396,
          -0.009079797450672333,
          0.00317180616740087,
          0.0022835236255049907,
          0.012092516437214984,
          0.0025974372294372827,
          -0.0006908635339943903,
          0.009505685974668499,
          0.0011984249272385394,
          0.0008549760601914702,
          -0.0030753631142210747,
          0.008911756946418325,
          0.0011890606622908528,
          0.0001696980008432103,
          0.00033927056252291976,
          0.00016956079074836872,
          0.008138335028823551,
          -0.0030272452577742026,
          -0.0008434379359554267,
          -0.006415701502616833,
          -0.008835956120168409,
          -0.003085890516513312,
          0.015477161978429521,
          0.0027095682084601336,
          0.006924506112557127,
          -0.001341798076850087,
          0.0058783673853146645,
          0.0015027717732971624,
          0.002334094698232869,
          -0.0028276447576122132,
          0.011009174128287391,
          -0.017653852208317944,
          0.0006718340498517161,
          0.007384994716851612,
          -0.005664778407197701,
          0.0038538873994637957,
          0.006843598731430589,
          0.010112732095490795,
          0.0003282619399311848,
          0.0024609843730765135,
          0,
          0.004419001781309495,
          0.00016297865672121326,
          -0.003910100946397765,
          0.003434723641392301,
          -0.0008149796516701002,
          0.006362153447996066,
          0.0008105527769581844,
          -0.002429575561076147,
          -0.003896768955999441,
          0.0030970335157955997,
          0.0014624634146496174,
          0.010709070084227168,
          -0.0012843473866694932,
          0.002411220099842737,
          0.004971087155691389,
          0.0006382798990993699,
          -0.0011162494198094786,
          -0.00941890181064664,
          -0.0020951007589863346,
          0.011143459662256383,
          -0.002874956031385434,
          -0.016017940092904026,
          -0.0016278365619404322,
          -0.003424147939861455,
          0.005072005973036697,
          -0.0229529545824515,
          0.00783075641452835,
          0.008100479150257023,
          0.01147917349950811,
          -0.006809370946822213,
          -0.007182468402953668,
          0.007563285103584283,
          0.00016321801832930305,
          -0.011584254991283127,
          0.0016506767365243036,
          -0.006097544495715201,
          -0.007627308777527597,
          0.004010058613535872,
          -0.0133133466466967,
          -0.01011978394130908,
          0.020446413706703304,
          0.010185356656960298,
          0.007438033057851179,
          0.012961460000632252,
          0.004859070137380295,
          -0.0025789812608159046,
          0,
          0.0033936489432184747,
          -0.002254775326139491,
          -0.0014527844801810463,
          0.008567701122410343,
          0.005129027169883393,
          0.00893001130489579,
          -0.0009483325430693634,
          -0.0012655909075398597,
          -0.011563424496064845,
          -0.0030449197742012934,
          0.0040186465844502806,
          0.0035222703093542584,
          0.008455631780472261,
          0.004429726379207688,
          0.008347692287047126,
          -0.001405763889679723,
          -0.005005459095886122,
          0.002829743706496801,
          0.0056435333807254295,
          0.001714731045526774,
          0.0026454714396058066,
          0.00015523824305452294,
          -0.004034791929398152,
          -0.004206918043004215,
          0.0023470192458143746,
          -0.006088042650266634,
          0.0021988849442087233,
          0.00548508062239339,
          0.005143297684333081,
          -0.005582276495030958,
          0.008888196267964776,
          -0.003400216540968337,
          -0.0029466810043417,
          -0.012443599122047067,
          -0.004725200670177898,
          -0.009020414765317564,
          -0.027946343467683543,
          0.013635649969371721,
          0.0027552349634483164,
          0.019718781634375127,
          -0.007132683468061507,
          -0.011813489971479796,
          0.01567038721581948,
          -0.02815334862658425,
          0.0037643863752663265,
          0.012391944810306699,
          0.012884506361732884,
          -0.008109365687857695,
          0.00849629675382646,
          -0.00031793037672855906,
          -0.025759246712660944,
          0.011751297535498528,
          -0.0014518470252670168,
          0.004200290655887118,
          0.013674356499356666,
          -0.0017456912155433546,
          -0.0066772970849826585,
          0.010563364276568565,
          0.013145423078007923,
          0,
          -0.007190917505222494,
          -0.0044087231745780775,
          0.00537719436976114,
          0.006292291961617069,
          -0.0025011723854749812,
          -0.004074627737429393,
          0.004406026819921749,
          -0.0001566974727652548,
          0.0025070510811657787,
          -0.005001562988433905,
          -0.0009425384857052466,
          -0.013207547585142976,
          0.0071701882463413025,
          -0.0020565891798226543,
          -0.007133813978002057,
          0.0038319973841289823,
          -0.010338762690293657,
          -0.017839922567664535,
          0.009981999509376616,
          0.014257890242095117,
          -0.005431310077677609,
          -0.01461612639306542,
          0.009127987257635972,
          0.004522678081085418,
          0.00980865106622697,
          -0.0012738535234689818,
          0.010044594865360246,
          -0.001420678813596754,
          0.002371198304495614,
          -0.006781264784734287,
          0.00508096221022547,
          -0.008214850050787592,
          0.0030264734473794963,
          0.003970144450212043,
          0.0036380891547280747,
          0.007092214230225213,
          -0.0007825351867751795,
          0.005011746437329601,
          -0.0024933147107158993,
          0.005936525357396638,
          0.0013977947103243071,
          -0.0027915631455537326,
          0,
          0.001710746420960474,
          0.0024840240655783496,
          -0.0009291931237416229,
          0.002325251826840846,
          0.001391834123610547,
          0.002007675675675724,
          0.007860697034249187,
          0.0001529744632662311,
          0.0027522934938135624,
          -0.002897270420943121,
          -0.002905673694841404,
          0.000613512298167862,
          0.008277146176491446,
          0.0054727881646821075,
          0.0045358785082534325,
          -0.0037627933846239303,
          -0.010273454894290657,
          -0.004426820197624193,
          0.0062863537827912985,
          0,
          0.008532759798846268,
          -0.0033237799267631374,
          -0.0021221615564323004,
          0.002734315578480473,
          0.005908195548910866,
          0.0028613553355012478,
          -0.00030028534616532987,
          -0.00030039056632102934,
          0.0003004808279269966,
          0.005708231936307762,
          0.005675952457473654,
          0.0007425367371889369,
          0.000742104515083275,
          0.007266765534628572,
          -0.0005889428913117278,
          -0.004861432153569489,
          0.0013322871355017085,
          0.012418746487562693,
          -0.00657131980557879,
          0.004409863360427035,
          -0.001170818054417655,
          0.005860835164835265,
          0.009613925430038472,
          -0.0021641033664434595,
          0.008820025516482088,
          -0.0025799198472088447,
          0.0021555109731576927,
          0.01018065701693871,
          0.004684201760860374,
          -0.0018366346685029233,
          0.0009907855345849814,
          0.0018381928473105713,
          -0.008327396141916577,
          -0.01707947574496238,
          0.012887330231315719,
          0.001715554040695677,
          0.0038532324818039143,
          -0.01905027119990166,
          0.010579753623188415,
          0.017782847363422505,
          0.006058912131056582,
          0.005742240735511439,
          -0.00557017144047256,
          0.011342906520492413,
          -0.0004153835445113163,
          0.007480274068976778,
          0.0004124707653319071,
          0.0038482544296796206,
          -0.0019167442234838683,
          0.00630999982688607,
          -0.0068157032876812185,
          -0.013724951774293781,
          -0.035763985029724554,
          -0.028431245079647338,
          -0.0011883838383837109,
          -0.04565734817541178,
          -0.002649181943250256,
          0.04750001562500006,
          -0.028192108768017476,
          0.040368333373190124,
          -0.033195633419823456,
          -0.01617576707120061,
          -0.07429813751670322,
          0.053954457104557596,
          -0.04769475206058027,
          -0.09198669141947602,
          0.090457843178118,
          -0.11549488930205876,
          0.04746477406528338,
          -0.03603275639612813,
          0.0005663394267256816,
          -0.043396207547169774,
          -0.02110453607288887,
          0.10034253273539129,
          0.0012817981819850388,
          0.05742501828822233,
          -0.03303355240401251,
          0.03559295296011444,
          -0.013989671364778133,
          -0.04221404799439488,
          0.019385552304316045,
          -0.012558323912510772,
          0.07285606699026048,
          -0.00457239635177642,
          0.03232393726308169,
          0.0085695616348056,
          -0.004575212343542301,
          0.03660545097194512,
          -0.01726050618335695,
          0.011440525113752376,
          0.0036641707822206993,
          -0.031746031746031744,
          0.025409819672131073,
          -0.0004796003274115668,
          0.014715275111964132,
          0.013240857711867227,
          -0.010889810374763775,
          0.03192826260055792,
          -0.004572519363320926,
          -0.02465161612774802,
          0.006436420621092287,
          0.009982826236424547,
          0.000463305019305027,
          0.014047592066187109,
          0.013548484897290658,
          0.006608515872378762,
          -0.021336930229943207,
          -0.016160955399356913,
          0.010692732228308133,
          0.008586292416646879,
          0.023867422071563116,
          -0.004602776677142484,
          0.01789971632011156,
          -0.008352872460517857,
          0.0033989065582651357,
          0.006332842228782054,
          0.00907353990711135,
          -0.00029002176751347086,
          0.006818540548382268,
          0.005043198701925045,
          0.007168458781362075,
          0.00882566548042707,
          -0.008042895101895153,
          0.02418203310745226,
          0.006666708333333382,
          0.0004138934707274,
          0.004688953118495265,
          -0.054632740003644265,
          0.010018803106484508,
          0.00790688636880077,
          0.019683311657633595,
          -0.0001398097675147092,
          0.0006994403735547383,
          -0.002097050218049068,
          0.01106754039230351,
          0.004849646801985408,
          -0.023028117334312648,
          0.010726930436892879,
          -0.024577614515045143,
          0.013171066948348464,
          0.015684612788665175,
          0.010295019906581215,
          0.0037179287916031534,
          0.02044173440035313,
          -0.009007771269471943,
          0.010446398188121098,
          0.0008055585067578974,
          0.006171169758905748,
          -0.015733333333333377,
          0.012056339745326605,
          0.006826422257079745,
          -0.005051914317310335,
          0.002405144436405493,
          0.018395162025932832,
          -0.00405767005084634,
          0.005782665568808909,
          -0.0186854961281262,
          -0.0058587751227370255,
          0.011920693173282038,
          -0.010059589276257164,
          0.013504505769427633,
          0.0015830474307501063,
          0.012776620463029964,
          0.011184822619128898,
          0.00205792926045012,
          0.00667431617639247,
          0.010965204641081083,
          -0.0060537645850201605,
          -0.0003806496734080067,
          -0.011932000659202857,
          0.01798563812875842,
          0.0020192327617172268,
          -0.0018891939070732056,
          0.006309148264984188,
          0.005768012539184797,
          -0.003490824130293113,
          0.008132140623045014,
          0.004964023207643997,
          0.008644072290291405,
          0.005876640548481804,
          0.016674719246605685,
          -0.0004788818445934373,
          0.005270116307824146,
          0.00011917073751943619,
          0.014176733043203882,
          0.01327387571739247,
          -0.043473219488216586,
          -0.014786098296301065,
          -0.03247630664932577,
          0.026191951018640802,
          -0.018461132678244785,
          -0.0027770890838538786,
          0.013037962025316485,
          0.00962144207948823,
          -0.01039608872291764,
          -0.012005990645397535,
          -0.013544303797468293,
          -0.004234595149493203,
          0.01559278390703045,
          -0.028295851498435498,
          0.003133951341500296,
          0.01887525384014599,
          0.01814239241634308,
          -0.0033881791093441915,
          0.007051183758528756,
          0.009502312721843875,
          -0.01672032491256681,
          0.019523907539034102,
          -0.016431936831432403,
          0.01896749128291053,
          0.005547300090706253,
          0.02353804094642653,
          -0.0025152593727454375,
          -0.00456288430070706,
          -0.01447533137574597,
          0.002937637806767812,
          -0.0006102391845195232,
          0.0013432775838719824,
          0.0030487804878047697,
          -0.01629174468085104,
          0.001235916389276115,
          -0.038513799814496985,
          0.015919861547308622,
          -0.018071528550670957,
          0.007464633492842987,
          0.01890652809027249,
          0.03334999916374137,
          0.022810058791799426,
          0.0016607235470680326,
          -0.005092373162189245,
          -0.009284596850741678,
          0.013817060657801639,
          -0.00841430463667825,
          0.010398028215561794,
          0.008871539994422362,
          -0.003751905220402141,
          -0.011533517576397312,
          0.00523874283221204,
          -0.007224920052114392,
          0.001193008828441977,
          0.011558639455639508,
          0.0020025798327549804,
          0.0045849871757579486,
          -0.00046802810303192555,
          0.011942348111820822,
          -0.0008098923984728446,
          -0.0015053033637644209,
          0.007074022715736206,
          0.0008061723079766381,
          0.0019560233825324236,
          -0.012976630386388743,
          0.0004653985037370578,
          -0.00034886615534057697,
          -0.002093997232363809,
          0.013523000857111223,
          0.003910708444658129,
          0.0060723992446423125,
          -0.0022776108023598862,
          -0.0025111516663490763,
          0.0033184689703451564,
          -0.004676129105839477,
          0.005271066985369499,
          0.010828644335051596,
          -0.0029319124943617547,
          -0.0005654263869131482,
          0.0036211269563950488,
          -0.013981339181839303,
          0.006518010515197625,
          -0.006816621454781457,
          0.02139102085085831,
          0.009743565799713583,
          -0.011867878799118103,
          -0.0025816029894085712,
          0.003938757551893435,
          -0.008631285827051638,
          -0.005879737542294539,
          0.012056472066798607,
          0.02202740991141594,
          0.0056080381436542925,
          0.0003281137341097917,
          0.007542577365241332,
          -0.00043399154679379937,
          -0.026158646244176076,
          0.005238530926900076,
          -0.02029050847565128,
          0.02286097755929184,
          0.013609250285768315,
          -0.0014190372075205682,
          0.00841710728846401,
          0.004878016260162488,
          0.004854423026572574,
          -0.0006441867816600055,
          -0.0020409711909322725,
          0.00419805157808284,
          0.0051452030748717625,
          -0.0034126054200471767,
          -0.0027821830748693266,
          -0.005258128441718579,
          -0.005070054101511956,
          -0.01962490449013632,
          -0.00176947581883391,
          0.008863239333852357,
          -0.030529311015359273,
          0.003511520202894358,
          0.025397901586991845,
          -0.012109181510752132,
          -0.025072432027466673,
          -0.016573288754675675,
          0.017782414949065295,
          -0.021354379353659914,
          0.029521657976254057,
          0.0007933809092131039,
          0.019818798873653565,
          -0.005774613910895732,
          0.009605718860780987,
          0.0035402146646776878,
          0.00121266675352949,
          -0.024113664391103184,
          0.004061841500457186,
          0.013259917142598443,
          -0.004657846393653076,
          -0.010027877437325916,
          -0.001463106391966451,
          0.014991005241309807,
          0.0012215546511420428,
          -0.005434848915933821,
          0.01249027573302719,
          0.015199878673864076,
          0.018661180832400648,
          -0.0014910959792426848,
          0.0036266240000000227,
          0.008927665381131655,
          0.008953955546191938,
          0.0008352683319614584,
          0.0073022845055050745,
          -0.008906389993918573,
          0.016509948270949426,
          0.0016447676978286196
         ]
        }
       ],
       "layout": {
        "autosize": true,
        "barmode": "stack",
        "template": {
         "data": {
          "bar": [
           {
            "error_x": {
             "color": "#2a3f5f"
            },
            "error_y": {
             "color": "#2a3f5f"
            },
            "marker": {
             "line": {
              "color": "#E5ECF6",
              "width": 0.5
             }
            },
            "type": "bar"
           }
          ],
          "barpolar": [
           {
            "marker": {
             "line": {
              "color": "#E5ECF6",
              "width": 0.5
             }
            },
            "type": "barpolar"
           }
          ],
          "carpet": [
           {
            "aaxis": {
             "endlinecolor": "#2a3f5f",
             "gridcolor": "white",
             "linecolor": "white",
             "minorgridcolor": "white",
             "startlinecolor": "#2a3f5f"
            },
            "baxis": {
             "endlinecolor": "#2a3f5f",
             "gridcolor": "white",
             "linecolor": "white",
             "minorgridcolor": "white",
             "startlinecolor": "#2a3f5f"
            },
            "type": "carpet"
           }
          ],
          "choropleth": [
           {
            "colorbar": {
             "outlinewidth": 0,
             "ticks": ""
            },
            "type": "choropleth"
           }
          ],
          "contour": [
           {
            "colorbar": {
             "outlinewidth": 0,
             "ticks": ""
            },
            "colorscale": [
             [
              0,
              "#0d0887"
             ],
             [
              0.1111111111111111,
              "#46039f"
             ],
             [
              0.2222222222222222,
              "#7201a8"
             ],
             [
              0.3333333333333333,
              "#9c179e"
             ],
             [
              0.4444444444444444,
              "#bd3786"
             ],
             [
              0.5555555555555556,
              "#d8576b"
             ],
             [
              0.6666666666666666,
              "#ed7953"
             ],
             [
              0.7777777777777778,
              "#fb9f3a"
             ],
             [
              0.8888888888888888,
              "#fdca26"
             ],
             [
              1,
              "#f0f921"
             ]
            ],
            "type": "contour"
           }
          ],
          "contourcarpet": [
           {
            "colorbar": {
             "outlinewidth": 0,
             "ticks": ""
            },
            "type": "contourcarpet"
           }
          ],
          "heatmap": [
           {
            "colorbar": {
             "outlinewidth": 0,
             "ticks": ""
            },
            "colorscale": [
             [
              0,
              "#0d0887"
             ],
             [
              0.1111111111111111,
              "#46039f"
             ],
             [
              0.2222222222222222,
              "#7201a8"
             ],
             [
              0.3333333333333333,
              "#9c179e"
             ],
             [
              0.4444444444444444,
              "#bd3786"
             ],
             [
              0.5555555555555556,
              "#d8576b"
             ],
             [
              0.6666666666666666,
              "#ed7953"
             ],
             [
              0.7777777777777778,
              "#fb9f3a"
             ],
             [
              0.8888888888888888,
              "#fdca26"
             ],
             [
              1,
              "#f0f921"
             ]
            ],
            "type": "heatmap"
           }
          ],
          "heatmapgl": [
           {
            "colorbar": {
             "outlinewidth": 0,
             "ticks": ""
            },
            "colorscale": [
             [
              0,
              "#0d0887"
             ],
             [
              0.1111111111111111,
              "#46039f"
             ],
             [
              0.2222222222222222,
              "#7201a8"
             ],
             [
              0.3333333333333333,
              "#9c179e"
             ],
             [
              0.4444444444444444,
              "#bd3786"
             ],
             [
              0.5555555555555556,
              "#d8576b"
             ],
             [
              0.6666666666666666,
              "#ed7953"
             ],
             [
              0.7777777777777778,
              "#fb9f3a"
             ],
             [
              0.8888888888888888,
              "#fdca26"
             ],
             [
              1,
              "#f0f921"
             ]
            ],
            "type": "heatmapgl"
           }
          ],
          "histogram": [
           {
            "marker": {
             "colorbar": {
              "outlinewidth": 0,
              "ticks": ""
             }
            },
            "type": "histogram"
           }
          ],
          "histogram2d": [
           {
            "colorbar": {
             "outlinewidth": 0,
             "ticks": ""
            },
            "colorscale": [
             [
              0,
              "#0d0887"
             ],
             [
              0.1111111111111111,
              "#46039f"
             ],
             [
              0.2222222222222222,
              "#7201a8"
             ],
             [
              0.3333333333333333,
              "#9c179e"
             ],
             [
              0.4444444444444444,
              "#bd3786"
             ],
             [
              0.5555555555555556,
              "#d8576b"
             ],
             [
              0.6666666666666666,
              "#ed7953"
             ],
             [
              0.7777777777777778,
              "#fb9f3a"
             ],
             [
              0.8888888888888888,
              "#fdca26"
             ],
             [
              1,
              "#f0f921"
             ]
            ],
            "type": "histogram2d"
           }
          ],
          "histogram2dcontour": [
           {
            "colorbar": {
             "outlinewidth": 0,
             "ticks": ""
            },
            "colorscale": [
             [
              0,
              "#0d0887"
             ],
             [
              0.1111111111111111,
              "#46039f"
             ],
             [
              0.2222222222222222,
              "#7201a8"
             ],
             [
              0.3333333333333333,
              "#9c179e"
             ],
             [
              0.4444444444444444,
              "#bd3786"
             ],
             [
              0.5555555555555556,
              "#d8576b"
             ],
             [
              0.6666666666666666,
              "#ed7953"
             ],
             [
              0.7777777777777778,
              "#fb9f3a"
             ],
             [
              0.8888888888888888,
              "#fdca26"
             ],
             [
              1,
              "#f0f921"
             ]
            ],
            "type": "histogram2dcontour"
           }
          ],
          "mesh3d": [
           {
            "colorbar": {
             "outlinewidth": 0,
             "ticks": ""
            },
            "type": "mesh3d"
           }
          ],
          "parcoords": [
           {
            "line": {
             "colorbar": {
              "outlinewidth": 0,
              "ticks": ""
             }
            },
            "type": "parcoords"
           }
          ],
          "pie": [
           {
            "automargin": true,
            "type": "pie"
           }
          ],
          "scatter": [
           {
            "marker": {
             "colorbar": {
              "outlinewidth": 0,
              "ticks": ""
             }
            },
            "type": "scatter"
           }
          ],
          "scatter3d": [
           {
            "line": {
             "colorbar": {
              "outlinewidth": 0,
              "ticks": ""
             }
            },
            "marker": {
             "colorbar": {
              "outlinewidth": 0,
              "ticks": ""
             }
            },
            "type": "scatter3d"
           }
          ],
          "scattercarpet": [
           {
            "marker": {
             "colorbar": {
              "outlinewidth": 0,
              "ticks": ""
             }
            },
            "type": "scattercarpet"
           }
          ],
          "scattergeo": [
           {
            "marker": {
             "colorbar": {
              "outlinewidth": 0,
              "ticks": ""
             }
            },
            "type": "scattergeo"
           }
          ],
          "scattergl": [
           {
            "marker": {
             "colorbar": {
              "outlinewidth": 0,
              "ticks": ""
             }
            },
            "type": "scattergl"
           }
          ],
          "scattermapbox": [
           {
            "marker": {
             "colorbar": {
              "outlinewidth": 0,
              "ticks": ""
             }
            },
            "type": "scattermapbox"
           }
          ],
          "scatterpolar": [
           {
            "marker": {
             "colorbar": {
              "outlinewidth": 0,
              "ticks": ""
             }
            },
            "type": "scatterpolar"
           }
          ],
          "scatterpolargl": [
           {
            "marker": {
             "colorbar": {
              "outlinewidth": 0,
              "ticks": ""
             }
            },
            "type": "scatterpolargl"
           }
          ],
          "scatterternary": [
           {
            "marker": {
             "colorbar": {
              "outlinewidth": 0,
              "ticks": ""
             }
            },
            "type": "scatterternary"
           }
          ],
          "surface": [
           {
            "colorbar": {
             "outlinewidth": 0,
             "ticks": ""
            },
            "colorscale": [
             [
              0,
              "#0d0887"
             ],
             [
              0.1111111111111111,
              "#46039f"
             ],
             [
              0.2222222222222222,
              "#7201a8"
             ],
             [
              0.3333333333333333,
              "#9c179e"
             ],
             [
              0.4444444444444444,
              "#bd3786"
             ],
             [
              0.5555555555555556,
              "#d8576b"
             ],
             [
              0.6666666666666666,
              "#ed7953"
             ],
             [
              0.7777777777777778,
              "#fb9f3a"
             ],
             [
              0.8888888888888888,
              "#fdca26"
             ],
             [
              1,
              "#f0f921"
             ]
            ],
            "type": "surface"
           }
          ],
          "table": [
           {
            "cells": {
             "fill": {
              "color": "#EBF0F8"
             },
             "line": {
              "color": "white"
             }
            },
            "header": {
             "fill": {
              "color": "#C8D4E3"
             },
             "line": {
              "color": "white"
             }
            },
            "type": "table"
           }
          ]
         },
         "layout": {
          "annotationdefaults": {
           "arrowcolor": "#2a3f5f",
           "arrowhead": 0,
           "arrowwidth": 1
          },
          "autotypenumbers": "strict",
          "coloraxis": {
           "colorbar": {
            "outlinewidth": 0,
            "ticks": ""
           }
          },
          "colorscale": {
           "diverging": [
            [
             0,
             "#8e0152"
            ],
            [
             0.1,
             "#c51b7d"
            ],
            [
             0.2,
             "#de77ae"
            ],
            [
             0.3,
             "#f1b6da"
            ],
            [
             0.4,
             "#fde0ef"
            ],
            [
             0.5,
             "#f7f7f7"
            ],
            [
             0.6,
             "#e6f5d0"
            ],
            [
             0.7,
             "#b8e186"
            ],
            [
             0.8,
             "#7fbc41"
            ],
            [
             0.9,
             "#4d9221"
            ],
            [
             1,
             "#276419"
            ]
           ],
           "sequential": [
            [
             0,
             "#0d0887"
            ],
            [
             0.1111111111111111,
             "#46039f"
            ],
            [
             0.2222222222222222,
             "#7201a8"
            ],
            [
             0.3333333333333333,
             "#9c179e"
            ],
            [
             0.4444444444444444,
             "#bd3786"
            ],
            [
             0.5555555555555556,
             "#d8576b"
            ],
            [
             0.6666666666666666,
             "#ed7953"
            ],
            [
             0.7777777777777778,
             "#fb9f3a"
            ],
            [
             0.8888888888888888,
             "#fdca26"
            ],
            [
             1,
             "#f0f921"
            ]
           ],
           "sequentialminus": [
            [
             0,
             "#0d0887"
            ],
            [
             0.1111111111111111,
             "#46039f"
            ],
            [
             0.2222222222222222,
             "#7201a8"
            ],
            [
             0.3333333333333333,
             "#9c179e"
            ],
            [
             0.4444444444444444,
             "#bd3786"
            ],
            [
             0.5555555555555556,
             "#d8576b"
            ],
            [
             0.6666666666666666,
             "#ed7953"
            ],
            [
             0.7777777777777778,
             "#fb9f3a"
            ],
            [
             0.8888888888888888,
             "#fdca26"
            ],
            [
             1,
             "#f0f921"
            ]
           ]
          },
          "colorway": [
           "#636efa",
           "#EF553B",
           "#00cc96",
           "#ab63fa",
           "#FFA15A",
           "#19d3f3",
           "#FF6692",
           "#B6E880",
           "#FF97FF",
           "#FECB52"
          ],
          "font": {
           "color": "#2a3f5f"
          },
          "geo": {
           "bgcolor": "white",
           "lakecolor": "white",
           "landcolor": "#E5ECF6",
           "showlakes": true,
           "showland": true,
           "subunitcolor": "white"
          },
          "hoverlabel": {
           "align": "left"
          },
          "hovermode": "closest",
          "mapbox": {
           "style": "light"
          },
          "paper_bgcolor": "white",
          "plot_bgcolor": "#E5ECF6",
          "polar": {
           "angularaxis": {
            "gridcolor": "white",
            "linecolor": "white",
            "ticks": ""
           },
           "bgcolor": "#E5ECF6",
           "radialaxis": {
            "gridcolor": "white",
            "linecolor": "white",
            "ticks": ""
           }
          },
          "scene": {
           "xaxis": {
            "backgroundcolor": "#E5ECF6",
            "gridcolor": "white",
            "gridwidth": 2,
            "linecolor": "white",
            "showbackground": true,
            "ticks": "",
            "zerolinecolor": "white"
           },
           "yaxis": {
            "backgroundcolor": "#E5ECF6",
            "gridcolor": "white",
            "gridwidth": 2,
            "linecolor": "white",
            "showbackground": true,
            "ticks": "",
            "zerolinecolor": "white"
           },
           "zaxis": {
            "backgroundcolor": "#E5ECF6",
            "gridcolor": "white",
            "gridwidth": 2,
            "linecolor": "white",
            "showbackground": true,
            "ticks": "",
            "zerolinecolor": "white"
           }
          },
          "shapedefaults": {
           "line": {
            "color": "#2a3f5f"
           }
          },
          "ternary": {
           "aaxis": {
            "gridcolor": "white",
            "linecolor": "white",
            "ticks": ""
           },
           "baxis": {
            "gridcolor": "white",
            "linecolor": "white",
            "ticks": ""
           },
           "bgcolor": "#E5ECF6",
           "caxis": {
            "gridcolor": "white",
            "linecolor": "white",
            "ticks": ""
           }
          },
          "title": {
           "x": 0.05
          },
          "xaxis": {
           "automargin": true,
           "gridcolor": "white",
           "linecolor": "white",
           "ticks": "",
           "title": {
            "standoff": 15
           },
           "zerolinecolor": "white",
           "zerolinewidth": 2
          },
          "yaxis": {
           "automargin": true,
           "gridcolor": "white",
           "linecolor": "white",
           "ticks": "",
           "title": {
            "standoff": 15
           },
           "zerolinecolor": "white",
           "zerolinewidth": 2
          }
         }
        },
        "xaxis": {
         "autorange": true,
         "range": [
          -0.375,
          0.255
         ],
         "title": {
          "text": "Return"
         },
         "type": "linear"
        },
        "yaxis": {
         "autorange": true,
         "range": [
          0,
          663.1578947368421
         ],
         "title": {
          "text": "Frequency"
         }
        }
       }
      },
      "image/png": "[encoded data removed]",
      "text/html": [
       "<div>                            <div id=\"129d1941-f25b-4464-9dcc-79ec75e8c6fe\" class=\"plotly-graph-div\" style=\"height:525px; width:100%;\"></div>            <script type=\"text/javascript\">                require([\"plotly\"], function(Plotly) {                    window.PLOTLYENV=window.PLOTLYENV || {};                                    if (document.getElementById(\"129d1941-f25b-4464-9dcc-79ec75e8c6fe\")) {                    Plotly.newPlot(                        \"129d1941-f25b-4464-9dcc-79ec75e8c6fe\",                        [{\"name\": \"Bitcoin\", \"opacity\": 0.5, \"type\": \"histogram\", \"x\": [null, -0.07192557719547721, -0.0698426440964911, 0.018632453688296025, 0.08364741771971951, -0.0288808131265037, -0.027483092962701794, -0.017369942982672137, -0.07160284072259149, 0.03056723944934614, -0.008603337950711332, -0.022269721524698416, -0.04148536380579804, -0.0818692660414253, 0.018504666503937894, 0.04983235342833536, 0.03424377778521115, -0.009489704816945443, 0.07979817581057169, 0.02678181103448707, -0.01520938228365043, -0.030946923144517968, 0.003142013195453819, -0.0023790904932700085, 0.009481657042715197, -0.008582743899355871, -0.06457126993489026, -0.0002008582227037703, -0.014946453794677073, 0.01311371407156603, -0.06159367627599721, 0.028945919029897293, -0.020225537254250026, -0.03182488688095497, 0.008969568759880753, 0.02721393525756821, 0.028879003054712138, -0.01968278457114414, 0.07157689165430248, 0.0021012416110319787, 0.15193569925196204, -0.006672049519761636, -0.054468947953068336, -0.02616775305082797, -0.031517140366671303, 0.014277781407564971, -0.05968913144702859, -0.019539470372674672, 0.07425725554672691, -0.004120469290024631, -0.0185907401897063, 0.021926313515301388, 0.007432664005541101, 0.00545823155820413, -0.016534864788771086, -0.014415631198751333, 0.01961558836359356, -0.03965728595522622, -0.02677469496565177, -0.016620352961430718, 0.01195565983732938, 0.005808687812179469, -0.020414563834426747, -0.05294122963140868, -0.022277154584372738, -0.026205859644858, 0.02070351283514893, 0.04418218923924222, 0.008093155822493925, -0.035980280250058394, 0.016711460032537317, -0.046516868202127526, -0.006182278183485268, 0.030430856319009214, -0.016118341477884823, -0.12874251608200848, 0.04268162391585939, 0.028470734872247716, -0.037331381294270494, 0.02491270844404858, -0.0778628714726477, -0.15659307669244793, -0.21144861968905204, 0.17821708525208035, -0.008325203722533092, 0.015463951907043194, 0.07373826208515011, 0.02868703823293761, -0.002257902480881313, 0.1743136751215324, -0.03655931771134446, -0.1121928544523878, -0.0017185431119415284, -0.03035375760664294, 0.052132056281787964, -0.0460103464144106, -0.0018260731421477772, -0.04294413178945122, 0.023743680375243326, -0.009700111316167659, -0.0012311844022027119, -0.0029749361356505855, 0.011766361856571983, 0.06161051165705844, 0.03475811580865318, -0.02990023796272634, 0.016743823925529533, 0.014549518389783689, -0.02004688205166083, -0.0006571881909581689, -0.005298762203703955, -0.004396370049284615, 0.0736044613029967, 0.08605043471109841, 0.021881172109931457, -0.03056416398270745, 0.011300217095329801, -0.012510109014508775, 0.06190898272339296, 0.007434264493507925, 0.015831463674545354, -0.006832447689157917, -0.030633175963184822, 0.018420257062625955, -0.017508963490574625, -0.102295908963137, 0.018060928061872206, 0.0031464004310859384, 0.019067874694746134, -0.07927191194691119, 0.0024512103159624044, 0.009484242062635095, -0.006047474820525811, 0.0020118851872323873, -0.013340020792401597, 0.012480362341458662, 0.023185002468718574, 0.00982984111322227, -0.00904924993269074, -0.032222095843094434, -0.005493416850404276, -0.031205326564892055, -0.048650410502293906, -0.02416884706143685, 0.021326963820700318, 0.021176525124694257, -0.024897927794603314, 0.00782478158263511, 0.04738093394501752, -0.004645754493525556, 0.009761935675772326, -0.02196547803963067, -0.0085701867839435, -0.014963840246762672, -0.00020808483687473345, 0.04577785129746448, -0.017218272379796007, 0.02989934526388316, -0.012120438374506493, -0.026846421734226023, 0.032865942788085745, 0.027509783680383038, -0.006991638547293122, -0.004319514442646666, -0.019638180596569188, 0.0023352610547355823, 0.0028531543084504563, -0.018842154312277204, -0.005065886421213639, 0.008928759356350513, 0.005666183676764636, 0.02126254813199102, -0.01344720948736644, 0.0007043303788567545, 0.0005267971045799236, -0.0013142438057217598, -0.059764814329865135, 0.012905623680181444, 0.00031442895748323707, -0.006862180012021213, 0.0027994819368528656, 0.01572336348595904, 0.0024465335525694076, -0.0010696884309019383, 0.003942291069845005, 0.0012058640325125491, 0.029745819884726243, 0.05941993015391178, -0.006421040572015535, -0.0011111543594192197, -0.01767420566210265, 0.00974629392067694, -0.010907323962360271, -0.015477150352909086, 0.009496276778979684, 0.0032743051375716536, 0.055296933962994066, 0.023371596632970837, -0.01691928123203379, -0.01240811448097312, 0.05331776048128778, -0.01049324614538616, 0.01719715478106454, -0.005749974987536599, 0.05818865487455205, 0.025132062094727514, -0.015716262129700898, -0.005687595881792462, -0.027079200253326108, 0.0049732138081886035, -0.0017568737703709258, -0.011283851356924779, 0.005035572102378705, -0.004231172358137525, 0.04430011886548635, 0.018544522030235377, 0.0027348207883000075, -0.01642854074912614, -0.006450537055154193, -0.010676942187786032, -0.012025308526793732, 0.014191372599052343, -0.011696310022691558, -0.011724739887513547, 0.0036183712742741125, -0.05406223683874356, 0.02236921003376846, -0.014830572617029025, -0.008619469996034579, 0.006058793088322911, -0.02899721545837286, -0.18178828897553367, 0.07392972000837905, 0.03822942850233546, -0.011816468787343104, -0.09491378902605252, 0.052799350407357615, 0.019051573330999494, -0.004702618454577534, 0.02948359911042342, -0.005790921291481621, -0.00841098689014852, 0.005098149621489023, -0.00916329978319419, 0.013711435335000521, 0.05779030112653527, -0.02232692866639563, 0.0012974287112350602, 0.00683499861967829, -0.03941158815468915, -0.0014741159727648112, -0.005266942800529084, 0.0031384689515721043, 0.01377228156975141, -0.025281677640562106, 0.015558002030490847, -0.0014525796156862336, 0.01843819086866616, 0.0026222342722834746, 0.017002351967335017, -0.010265875590786067, -0.002649059773440099, 0.006307709957703134, -0.0010776597851838154, 0.013021863320965332, 0.02362899246001593, -0.012574056033226366, -0.002736945933109469, 0.006714701339166185, 0.005645034866416987, 0.01712132102141517, 0.009943577118867175, 0.009250439576730995, 0.03361505490993477, 0.0021608634944796368, 0.02287454201765704, -0.011842107621649722, 0.029109357772022282, 0.00902476036592681, 0.03184127776285184, 0.02975116143362766, 0.03686337502273829, 0.03032322340257143, 0.04511638655978012, 0.1011355532002094, 0.11691385281547695, 0.02019249600671258, -0.0612518247146171, -0.03075936285624714, 0.015453809342660607, -0.11423324292929682, -0.07640597769128221, 0.08701184147954377, -0.004137242917096717, -0.017823105244520243, 0.013130684134243564, -0.0015040496368908807, -0.02522791805168023, -0.01265367719814503, 0.0031798665633417933, -0.00928660343377119, 0.02549634819670743, 0.09090631659822779, 0.05384570086963425, -0.039311372676423484, -0.009106494383964492, 0.005175515644758377, 0.005918980016922593, 0.08908180105581698, 0.05063249980543505, 0.00481274814589594, -0.004990825479963434, 0.08775168816954237, -0.017161604481011228, 0.04759086740764795, -0.022322275778415612, 0.00251467910762182, 0.016527861353576423, -0.053874303651347044, -0.004712341953864607, 0.013351772720572974, 0.028444745765844104, -0.07188367545799335, 0.02534819444676506, -0.01469574318300837, 0.009251772177250928, 0.005862077405070831, -0.0026114880987264666, -0.00660936211566876, 0.06744967375829591, -0.010518532900320232, -0.010595066265371433, -0.02840591297676942, -0.007617801612991859, -0.004775995592784854, -0.15332113891044985, 0.04341654501126513, 0.10543504091989075, -0.023720385834128277, -0.06768842708761469, 0.02414170467207999, 0.0010900527047714714, 0.007188444031215768, -0.037174747976112865, -0.002143112206392739, -0.016912882086553727, 0.0037313379224566123, -0.012015000811941845, 0.053101883596091914, -0.007815785271063524, -0.033894848071413075, 0.006913969217119842, 0.01494564280830768, -0.005227303275928685, 0.012140022486580193, 0.06044039368869769, 0.021679126374877677, 0.014534411178870332, -0.0037596675276008185, 0.040312705630545675, -0.0388625294554753, 0.010027654111417261, -0.0009671165478051247, 0.017920408467620774, 0.012831093914528413, -0.005880792084312025, -0.02558810349770868, -0.005514324482001731, -0.025404910636035782, 0.008229978272079164, -0.0008424120143709635, 0.0021450726913319063, 0.005474201133184753, 0.01092939596636855, -0.012454679919112643, 0.0009413142203540392, 0.00043422739640841534, 0.008656884641403684, -0.026325356906453212, 0.009178418557254098, 0.011570048218418005, -0.00011481766146215211, -0.003939740501759714, 0.01882105835854353, -0.018185840304527745, -0.004081430333367386, 0.004611668676915315, 0.002953926864183387, 0.008335747619441447, 0.006136044171942023, -0.0014550975201166327, -0.0015776535190604735, -0.005667709915761487, 0.005076741005870744, 0.00640735837225459, -0.003424334987067734, 0.0012932735828621311, 0.012800448365931416, -0.0026110682386990547, 0.01614126276934469, 0.013501454526761991, 0.018206117176347902, -0.00820601457077852, 0.03519787453139411, 0.010105616177952914, -0.045918220565386636, 0.009723634563898687, 0.013554231833427854, -0.022913751010677386, 0.012672302148263537, -0.007954628676104969, 0.002807177712554232, 0.025954478951086157, 0.001914706835560498, -0.02082164370531958, 0.00406526584840794, 0.004501585971057098, 0.001987883918083133, -0.003307259545297203, -0.0008367128212124486, 0.0018422858908837547, -0.034983123054244336, 0.00902863826428213, 0.003341053087823287, 0.004111152647411798, 0.00811247810411131, 0.008418621946264748, 0.04428913650930033, 0.122336647233376, 0.010414269750802285, 0.001959327336118255, 0.05803645147060954, 0.028712561730054764, -0.015268039762618701, 0.008754875816771701, -0.01206064654348804, 0.004942251492767058, 0.21976208698824284, -0.02671436365581792, 0.012996653427451488, 0.10344448725669109, -0.022704952037541304, -0.015600004869483541, -0.09572917091301825, -0.10580625622924344, 0.04673748178433468, 0.06622362949633764, -0.01506688997618233, -0.012626831020496776, -0.010990651100670767, 0.05226985765671022, 0.004394599004458266, -0.008382434354141988, 0.009996585076425202, -0.05428510185671509, 0.040528469552765234, -0.028302118181936398, 0.02608166964134684, -0.015172660368705237, 0.0055159074251356355, 0.007866851613941517, 0.014852527196534293, -0.00035953325854820584, -0.01066934157664734, -0.0010109496263576156, -0.02164322520580475, 0.005345626085978328, -0.003536154504671818, 0.003939944846482524, 0.0010437547534623004, 0.0029876740642365007, -0.07720037792118994, -0.09699763244704707, 0.03450440131950194, 0.021071627197486675, -0.005613060242174561, 0.027843109410438327, -0.005503711863790284, 0.007318806563836766, -0.005038028626730862, -0.0026496707177626755, -0.03458211051788107, 0.017980107502646225, -0.007313366104216179, 0.0019224690068535555, 0.0022844696074149073, 0.019323151856894594, -0.005688957791780469, -0.005541460404535625, -0.004172864671413312, 0.0032712748797474323, -0.009564386139997327, 0.005915266717835266, -0.0035168752918197654, -0.005506794566202844, 0.005650866968490709, 0.06063726187592544, 0.006729668916923837, 0.01915562251859315, -0.005516314633256303, -0.023469187282890935, 0.00164086891452353, 0.0023685092330978375, -0.005778752806109511, -0.00029977022557114985, 0.003713456641899926, -0.0015018671447895038, -0.018350821255852412, -0.0014251267581905092, 0.010974389123113326, 0.008627551120444554, -0.0030869756043417906, -0.002372269249749537, 0.0015957024594792646, 0.006673334588171542, 0.0039328742141964135, -0.003151303740535516, 0.003780714448602396, 0.0008326544529928537, 0.006688149389258546, 0.0030351374932691133, 0.035667553033335464, -0.007612255472306706, 0.0009336709423062306, 0.005640796025589756, -0.0018504664692636785, -0.001928949493349652, -0.011662175909825212, 0.0005344398104916159, 0.003124334065599088, 0.03307847140260001, 0.005853862622509087, 0.03150301190176963, 0.01475587902165687, 0.0019439020087179681, 0.016415526090130417, 0.041115830042765644, 0.015122025761194147, -0.07036572336892888, 0.02110494082581793, -0.00014789366601264398, 0.009553043716615806, 0.018912482086200777, -0.010699988652970727, 0.0012256776109549339, -0.01589871571641721, 0.009358619158059911, 0.04578148999696707, -0.004328159990562019, 0.014316277216651407, -0.01641469113789762, 0.016366630994108622, -0.008987846008326028, -0.003955185005158568, -0.007868950274720787, -0.0002840178189407183, 0.013712506926484735, 0.01486273578750108, 0.0279739834662156, -0.02473694602967358, 0.007280857931500906, 0.005113710123096915, 0.003486352519826319, 0.002573926136334226, 0.009437144883859272, 0.0006012855169128528, 0.001185037286817181, -0.004341762527621529, 0.008763750226286948, 0.009946410439753306, 0.010296258314169915, 0.0417106143264927, 0.03626952044021481, 0.06644462079462099, 0.01216288882511396, 0.04578130588745655, -0.0024838198459093963, -0.012592779316900837, 0.08593292406499753, 0.10623277285016308, -0.12240954807460713, -0.10971108118518669, 0.0006949826121283031, 0.005373130855357511, -0.1431364994781371, 0.03481416989950681, 0.023793757943501692, 0.1018878741371303, -0.023481787613010452, 0.01404778299888787, -0.004501299682008741, 0.029033819096837554, -0.030754226070777158, 0.00991946772045127, 0.017796183807708754, 0.0023583631423740314, 0.0006871639032346444, 0.0543480804355001, 0.019187898957630622, 0.02302977561664621, 0.01789883990391994, 0.008000689116502091, 0.02234739822151166, 0.0016205493370644586, -0.06461188208588486, -0.005741233531712631, 0.0019905630957259834, 0.014039338724644468, 0.002916720954657004, 0.019811769361412157, 0.018268727203393675, 0.06603845363311334, 0.0019186693320052406, 0.04410083100833062, 0.00596551286769742, 0.005359141086673125, 0.0, 0.03604331469889588, 0.023321071574642138, 0.019168495702124755, -0.0016941576145237391, -0.03872466763345095, -0.06010431751796552, 0.03346955652173911, -0.060387567084178806, 0.10315932014436946, 0.006558831508061802, 0.007749987903225897, -0.04945537146936296, -0.0737323937749208, -0.04180944060440894, 0.06289904504518073, -0.06371929740566817, -0.010055901833083691, -0.09731457967888735, 0.11546420096714294, 0.0013196056241888687, -0.006856756754464843, -0.013019526887858679, 0.04419198836124494, 0.06719601543152609, -0.00923235367350439, -0.007474053386278379, 0.05147675412718411, -0.0048872304732382466, 0.008692310979169449, 0.015061539110874378, -0.003850602867605968, -0.02590031917617197, 0.021064248417091536, 0.014875501079840925, -0.0011389280496233445, 0.015525135624123054, -0.005719649861412379, 0.022994127796152286, 0.0122705001043939, 0.01231931198444336, 0.028608693648158212, -0.00094860101763794, 0.079849293264604, 0.021961149779873068, 0.025653571251285534, 0.031931010264919735, 0.011562888325344911, 0.10794305846488772, 0.018574293930880614, 0.018098863065971083, 0.03437911110445491, -0.06725737171537893, 0.008229749966534472, -0.002289481242481961, 0.06033037444503342, 0.026948142242215978, 0.052450128791039496, 0.09341903227500103, 0.06764517651110125, 0.05310244487721638, -0.056743186014110436, -0.04449498862892509, -0.012236517991322526, 0.050995850312290925, 0.05312694384435468, 0.03350257069280893, 0.07966888593607702, 0.06565030207816425, -0.04576698841945459, 0.026887227455960172, 0.006483394487294403, -0.05814136665344316, 0.021578241907578954, -0.07752975739943202, -0.016673530663548042, 0.02190230355339251, 0.028206609068598842, 0.0510464689517478, -0.012010456549400361, 0.0060651568947287515, 0.014600375279470779, -0.09707420991672966, 0.029857371124295984, 0.008752409813656659, -0.013775869279724184, -0.02302977900933123, 0.033545076686942066, 0.014792918312058978, 0.0025250170159185625, -0.03446351433996242, -0.05800697914947406, -0.014655064207164892, 0.026114427720854927, -0.01706665909278393, -0.052826591109464416, -0.0022075348158976382, 0.04059844219540509, -0.01959995915838475, 0.23936086982072857, -0.0531800407397629, 0.032649150101024205, -0.06475106541589626, -0.018253597685629952, 0.05626918134661274, 0.051362754235183994, 0.023613329167168073, -0.05463008659586421, -0.002792259744129444, 0.03469993053621234, 0.03250220650474156, 0.16680539172695674, 0.01213398305856428, -0.022652435813638183, 0.011611191225867179, 0.07965625020405542, 0.1847658053652257, -0.03310876456285139, 0.04655737872367571, -0.010268161393897746, -0.03949262905010842, -0.03818664586820297, 0.02468426990430217, 0.012437446897284099, 0.044118817955260514, 0.008517334728503467, 0.0025299793558564154, 0.04480380796379513, -0.00299632125216176, 0.030247812388741968, 0.04010290949844708, -0.10537182173728321, 0.05040302313400136, 0.0006003249707993152, -0.08068251616125943, -0.015957429500443432, -0.0073198713021750406, -0.06008990184847429, -0.18741101185235398, 0.15295648948315121, 0.1175745916581925, -0.03449522328305277, -0.0048459020426987465, -0.07038234371887375, -9.366131916677123e-05, 0.08135349133399106, -0.008588733623182021, 0.07921174001239595, -0.006175191691245696, -0.0027930323771502286, 0.059151061694995954, -0.020828573944696505, -0.020410081206676534, 0.023419689080262263, 0.00979572209468782, 0.09179304421473589, 0.002089306825665771, 0.009303604529276921, 0.12854713550474517, 0.03677310608462325, 0.013879399480681176, -0.02097252532432703, -0.002643796125356812, 0.02107612481527177, 0.05306632436054781, -0.013495973245770232, -0.06807047494577079, 0.040559845121683535, 0.026784147983395235, -0.020987932652242525, 0.06048018283088408, 0.05511271111131233, 0.04621083444571483, 0.045984288925278616, 0.01826089793035246, -0.025666782191142157, 0.01731799478444529, 0.044133999474226915, -0.04237573753067059, -0.0735541472570862, -0.008861991705510497, 0.011625867754893715, 0.10244358798930042, 0.07602308223796173, -0.02066896793693207, 0.06377611062881017, -0.01577680370720269, 0.022585078944911796, 1.7038123392154603e-05, 0.18957085830513765, 0.024489879213466903, -0.01691945920977611, 0.03488753674374734, 0.07250625667897381, 0.062101444138057404, 0.022260919917228783, 0.19928333902336637, 0.2524716942938108, -0.07431961910219842, 0.022173426999782198, 0.0282579700965071, -0.05783393716979979, 0.009495300423923991, 0.0689990576551558, 0.07947742388133028, -0.06997415819913033, -0.06480953498772235, -0.04942670724864617, -0.12473030502189153, 0.16396998452653655, -0.016230003364318235, -0.07778514379518264, 0.003402608085441461, 0.022236282915348182, 0.014610795329948356, 0.026195657851457055, 0.11733292618339908, -0.1296308207923348, -0.03788368124221464, 0.02589167846556828, -0.10468634305155422, 0.04287694970542644, -0.17811107381953784, -0.026273912449414683, 0.025588616270592057, 0.011546941192092763, -0.05823870782678853, -0.005763214020764296, 0.0451768413322895, -0.008803281560462395, -0.007815691506125044, 0.011189286537496512, -0.10535219581524113, 0.011359231985499152, -0.10278341961122761, -0.03705234779576316, -0.21238059960931976, 0.11483809797509492, -0.017113772891410917, 0.08453807821302473, 0.05703048831320645, 0.02169969873146571, -0.03677344506231539, 0.10424378253689692, 0.070752679807224, 0.0066395181582417084, 0.11430635039488535, -0.06254985590665996, -0.06411363147605043, 0.02959516331834089, 0.006368309063110589, 0.034620410279936786, -0.03055299749629148, 0.05319339368539655, 0.012364203360423653, 0.04391862072700081, -0.06855429543588165, -0.07554152157842509, -0.05725317559153731, -0.006116008650458582, -0.014182487993701254, -0.0011157386182317763, -0.10060415105588716, 0.0037547154788959425, 0.004516309805280505, 0.03505499237936771, 0.03276917997917317, 0.0017737813089899745, -0.022488995737674822, 0.01731694039476861, -0.07547842330741916, -0.045845047637413816, 0.015503551672832128, -0.09916170346562359, -0.011429502738217856, 0.052557958757842194, -0.08077536812979225, -0.00618188197628966, -0.02571403609962053, 0.020253718862962344, 0.009456851209417083, 0.019541295169495765, 0.13215957350696939, 0.000850519504388858, 0.02060673582486028, -0.019430015066449036, 0.033071008196448926, 0.0160336781949999, 0.06649384175324458, 0.009614677678641215, 0.08583925962986783, -0.08783292250580044, 0.049263206975607154, -0.03172543782463755, 0.028207254382741187, -0.01315290124124835, 0.012820488079297476, 0.054996192505966324, -0.004423358344945227, -0.0337860134572886, -0.014743338207250378, 0.009784638134517909, -0.03015912480077021, -0.06661368467240114, 0.032612701948190104, -0.023679606262912767, -0.016632607115782627, -0.03280150886581312, 0.01935306565667516, 0.020363728453660412, -0.04480471392835694, -0.060180703020830006, 0.003905890943081136, -0.014128760435684451, -0.0010093785492939489, -0.008841623236293339, 0.011834154469753333, 0.006308940615451508, -0.0035775585997886994, 0.015874645528819897, 0.0026487883585306626, 0.003169626006782389, -0.006944340158034135, -0.0941649233493419, -0.04699056347333752, -0.0353155959015059, 0.0512528072918903, -0.032772815925496634, 0.04309398205221182, 0.005214707730538892, 0.0009763548949628387, -0.0069075816377033306, -0.09599929128557216, 0.027202279637018822, -0.02488490483875594, 0.010414079169416501, -0.04120262960514198, 0.05333498217086374, 0.06366376395709983, -0.012789239142130038, 0.016777515221827466, 0.005175348357012721, 0.010227017307260056, -0.0610820343382652, 0.01023069123847975, -0.025943303607479984, 0.0014833886267970886, 0.08074642087600337, 0.08592576690028553, 0.0067940819521583595, 0.013035266390067468, -0.015097374541419017, 0.04854142987400922, 0.09248469813949023, -0.02883091443195651, -0.02808936563979436, 0.026841166900966718, 0.001894696325339229, -0.04890178082191221, -0.019989844556271952, -0.007575204535957503, -0.017544222953071342, -0.06491323741515942, -0.02857960435757967, -0.06623905753933457, 0.041617270309138865, -0.0583901629766016, 0.01824820625569834, -0.015539305753634824, 0.01755083055247475, 0.004154692371096003, 0.038817740263018985, -0.04134864030310026, 0.02856925260597798, -0.017268293023748882, 0.02480431491589985, 0.028321879103160308, 0.024506124583440814, 0.030740843934977446, -0.0069218844927489975, -0.009781269968912598, 0.008505036115189712, 0.0460499311422542, -0.07726926616360907, -0.038814478350329806, -0.009511178104088525, -0.02124140186181478, -0.0013428756083446736, 0.004840791156116797, 0.026057221430328292, -0.0007058277047365946, -0.035547378493184456, 0.014344330255819715, 0.004275459456267283, 0.01893086270644484, 0.03302011843783048, -0.020718793006605174, -0.022582362199946804, 0.007528117462961115, 0.027983063895304028, -0.0048856280375931815, -0.008204199339851947, -0.005086790802025898, -0.0081619031436575, 0.011395474538252293, 0.006962474954846032, 0.004492274810923735, -0.0014415982353033208, -0.008597538150816209, -0.050001983401552486, 0.0029314481723912156, 0.051311794095808994, -6.52123685230821e-05, -0.007834873595706782, -0.010347763392502318, -0.0017446828819017712, 0.003364055717302916, -0.001760388478992292, 0.0031038320367562378, -0.0030095885165729586, -0.0002377964839015423, -0.02194990030503119, 0.0002589977671683119, -0.0026301621098243633, 0.009524159184376657, 0.0016714525053171947, 0.004886985756825224, 0.006441090181596776, 0.01069962335667518, -0.011702646558379715, -0.010552068532769465, -0.0022472519093011956, -0.0018488913455280143, -0.09767137194097308, -0.015739770396978714, -0.012832789974389303, -0.1262762589563129, -0.08613793661563962, 0.03376104896368415, -0.055421695270468585, -0.1306569187115112, 0.01100520206703881, 0.11429781672423966, 0.005032803527149854, -0.06113285765125842, -0.030652094654398887, 0.01611731661634952, -0.1101348719821934, -0.028730936094742643, 0.024187212749262166, -0.022288192407781682, 0.018210090539836576, -0.04969183363974017, -0.02148440470052948, 0.09356400902957751, 0.04235760435291014, 0.01349859428464617, 0.10370951322433375, -0.057540470800906074, 0.046722283636464246, -0.054259197198507914, -0.05248858958473401, 0.073624477091637, -0.046182980792598194, 0.05362678319337433, -0.027049743389769842, 0.0054672225324607915, 0.043427431049734455, 0.0013911213905786202, 0.001103610731627791, -0.08831366814791541, 0.0022943982297114474, 0.005067782704595958, -0.020338880295429185, 0.006701657690763918, 0.006445166878478625, -0.005633885993878485, -0.014561111582769404, -0.005397054966847947, 0.0043910437085759035, -0.00030537380705086825, -0.03592328909877773, -0.006435330627120428, 0.011039271181702448, -0.008143269319683788, 0.008720183769835632, -0.00825450441917519, 0.002082407689750765, -0.01517143029343393, -0.004187789781094131, 0.0786323929605437, -0.005004283767728213, 0.0013972857015764895, -0.00587322820230185, -0.004182104329092828, 0.001086552793194917, 0.090113433104823, 0.013358199364227996, -0.011426110833901548, 0.013001241962884214, -0.030665211825751548, -0.007298633962250611, -0.0008589101161080581, 0.0009706546421408557, 0.001244774871254739, -0.025398234007483977, 0.035840973930878706, 0.0019422224503544694, 0.0019318285949800895, -0.0026467657818523005, 0.001049875633110986, 0.0010060758832219907, -0.0006239108503273139, 0.004518334630400522, 0.009311558287987243, 0.01807568728404485, 0.00959275678676974, 0.004000336819440342, -0.014226238753709097, -0.001329909964535414, -0.015133743865497706, 0.005553838540957257, 0.02559178993773248, -0.004394101609358714, 0.007192568964080603, 0.014593247353281269, 0.17356013594788533, 0.01908737151545914, -0.01009911986568246, 0.023133653837783763, 0.05024932815123728, -0.016033302777026304, 0.022976794549256496, -0.04884241468951078, 0.004946456783768927, -0.004407209517865107, 0.03324404349954069, 0.0031283032464854976, 0.008843926585981654, 0.019058539131936225, 0.03204026093856949, -0.019290850112804958, -0.04654296033360583, 0.013210308720646102, -0.006060522079852193, 0.01970022468124477, 0.009712831031092994, 0.018988001723803993, 0.047773352793782475, -0.0037242274005256926, 0.014389613944532975, 0.02623827370459364, 0.032105750581242765, 0.03309083467262841, 0.22512931263294567, 0.02296902475640583, 0.02636239502400195, -0.03903135075478925, -0.06861381147829526, 0.08638651970318856, -0.0018777719496727574, -0.03557071163113823, 0.02627324600245129, 0.013388347462754746, 0.09171857406145145, -0.006935191873132629, -0.03926498613880702, 0.03065450270048964, -0.042627179747987465, -0.06105791438004582, 0.015109484838150777, -0.0002822011357308529, 0.028372164281924572, -0.005422904871904333, -0.009076530433291818, 0.0275165144998466, 0.010442903870408582, 0.05624024589138732, 0.07206482231985367, -0.025598800367437446, 0.021114710375065737, 0.027350847511122156, 0.06480383187545935, 0.0854197900081497, 0.07082074208627076, 0.10392020008548619, -0.14085680726768912, 0.10950072100061825, -0.14702574739212282, 0.020650116702860544, 0.10735293401227852, -0.0821659914487215, 0.1190966721784994, 0.023429551998514375, -0.03318800920564069, -0.06563153480094308, 0.040262155402760014, -0.07793648862116398, -0.13009972953831117, 0.02280748113057851, 0.10034036329091234, -0.012726782328915776, -0.017816992159826017, -0.04276653917777584, -0.008973223166798938, 0.010183119830918352, -0.004190753530042279, -0.03557724395133366, 0.009273765163670511, 0.04977443595298836, 0.031137477723709672, 0.011395156963816433, 0.122405126257074, -0.02773962322315593, 0.04040712479685493, 0.0020464361875005554, -0.008646764399471318, -0.040489158065437625, -0.04276575121012838, -0.07747238805645418, 0.02585052179841818, 0.0060895785773673605, 0.05221680638591386, -0.013999682765027499, -0.05808502432058682, -0.0006898901795245882, 0.0273327073884293, -0.003568856309253632, -0.017869397733918713, -0.0423226300132542, -0.025037120156209514, 0.009250450168888591, 0.10682930205001884, -0.002734199230516987, -0.0017896052889462277, -0.021013642029600876, -0.001770268432295552, -0.021190088150704223, 0.006168113344040993, 0.022769346748787278, -0.004762677556560679, -0.008083832929909995, -0.003456475257760827, -0.004201080887540454, 0.00668418650790259, -0.00825735533562233, -0.044424799131718595, -0.11396041369808119, -0.015494717598490082, -0.04336346028427163, 0.01636635761037164, 0.005092492335953436, 0.005957196572578649, 0.005964758065169384, -0.01585239346196754, -0.006543920837906669, 0.004835959883361163, -0.002042276721117564, 0.0445943248166043, -0.0010780457235489704, -0.030829512593228636, 0.006360398175902615, -0.020217757588298135, -0.019236463745586296, 0.007006410667019791, -0.016128460795647226, 0.03392777402587921, -0.020078018647546658, -0.06975948008239763, -0.0028188995277987905, 0.15576341819219142, 0.06875289867945833, 0.018532445017386268, -0.023543518704878585, -0.0006671501654942347, 0.0066872072230215185, 0.016359583582161052, -0.007445856551721697, 0.0019644083794718714, -0.009968973127138625, -0.049924746963020405, -0.005348484977154899, 0.006608292234487445, -0.000839348639785964, -0.011372045937828368, -0.024816282525034983, -0.02151509927884554, -0.012412693864323754, -0.021797985646929585, -0.04790148564100538, -0.04529421517124066, -0.020618412560584387, 0.010108585583885166, 0.043402102208407234, 0.030481987909355412, -0.05659600325610292, -0.00025167658418445704, -0.009304574605185523, 0.027064535400811662, 0.013249850848634726, -0.01935831908927177, -0.016589846467544578, -0.008339019704783124, 0.0035617998109016558, 0.003665580670554336, -0.046384970042792406, -0.042115565028359225, 0.0958190116087072, -0.010163597764501375, 0.0022174806884946996, 0.018952139008035607, -0.004499437589725264, -0.011412094533619577, 0.007061999789968132, 0.0003987246585890336, -0.013628967852769791, -0.028932513822241934, 0.051451663372384715, 0.05777285863152071, 0.0507738464980616, -0.010268587554152053, -0.024850855657345572, 0.03648690301880575, -0.002737980114396188, 0.08393344802424418, -0.0023509808912612895, -0.009449813499500914, 0.023527852456582066, -0.020511006139301236, -0.0074341799766211025, -0.0316051459238581, 0.004629616684974636, 0.054986485556302256, 0.0503680816721781, -0.004483577301648944, 0.020647303093042746, -0.01666463149851949, -0.0060967471668463835, -0.012111511572205025, 0.047104093779089196, 0.012105773352157456, 0.006797836445703309, 0.006193172701867589, 0.03567402510852058, 0.011541500041181152, -0.010814857016957169, 0.009568503337404222, -0.01649711014879096, -0.05014884351029214, -0.0025859164307052707, 0.00811427570400447, -0.0037440582645278386, -0.03196519578486534, -0.055790951721158666, -0.00408460158219659, -0.012754184953812753, 0.022740370774624763, -0.009231886836836845, -0.0037028710653078667, 0.03695117162060191, 0.0048225958173919725, -0.13142179610878624, -0.001756141248583143, 0.00021501165137438605, -0.3716953856106434, 0.11928067234850137, -0.09871602655204581, 0.04210793857830897, 0.0024512036793606917, 0.1818775572497766, 0.001225199918343911, 0.03509346677201375, 0.04963733434667761, -0.007979552976759341, 0.005295181629561441, -0.0367221436072499, -0.006175856015938841, 0.0013690436371400772, 0.026112924108560476, 0.02828128797173801, -0.00886674041133706, 0.07995887158253545, -0.013114627038595228, 0.021972543653853815, -0.004364446076028039, -0.06259191510537199, -0.00038127825634770574, -0.029275847518947296, 0.07146740204408464, -0.032998758492329805, -0.00023761462684646073, 0.03442923677683796, 0.04391007120725354, 0.016309658349006995, 0.032406755024495526, 0.0014697417032041304, 0.12731805199514046, -0.01618949646708756, 0.023816089601433443, 0.0054020254734281625, 0.010144678901147897, 0.02951119970887639, 0.07366214136246696, -0.010938284282785204, -0.12607052966979382, 0.02356271218282746, 0.052871935210010435, 0.05002535167981015, -0.04166180494283467, 0.04270685081371872, 0.000253212559469862, -0.021179549219415117, -0.04633209972614827, 0.011100867003489334, -0.03784606526019674, 0.039158209284775536, 0.03754849569464569, -0.009093976339415222, 0.07714111290684977, -0.06269774822526064, 0.013317594553758472, 0.014903505454243904, -0.013785177419960992, 0.010962256584780228, 0.002477712082646688, 0.007594610953689074, -0.055553010600806974, 0.01706353064227928, -0.0031792109220236675, 0.009239764901328495, -0.006056760655299365, -0.007216479287142419, -0.013156009261958479, 0.03883489420957553, -0.001975347444956199, -0.03282025637229158, -0.005239308190461478, -0.010998117582502465, 0.0030488675217343886, -0.005751513969241118, 0.009885324860591016, -0.011368806016593735, 0.02762831536563448, -0.013140376368972029, 0.01902835998687058, -0.01594823123795197, 9.052025406308672e-05, -0.003792875168089682, -4.331541633217917e-05, -0.0054501555113699585, -0.006593108913712675, 0.002098616018726629, 0.0014029413436882354, 0.022986788500953148, 0.016050921450531552, 0.005848489276111923, -0.004611142341215513, 0.1524585138301846, -0.007101328954145503, 0.017194865786684277, 0.0009680757802061901, 0.019102587038701824, -0.006810472921634836, -0.00359726132633742, 0.04828976176894417, 0.0027880236978121697, -0.015136180923889908, 0.023845134165525916, -0.03936534387396862, 0.015284938512784452, 0.017195015111768575, -0.0012955212672436378, 0.041255550011719766, -0.021475461520883754, -0.019426708435084983, 0.010213129325661985, -0.02406750776245048, 0.015709002695372787, -0.03469001801020921, 0.010753745007988869, -0.014359384010151133, 0.01934954060869387, 0.011983566211825947, 0.024797762078201613, -0.04648471949189359, -0.10239476127098823, 0.02601355580533138, -0.03617804633159594, 0.010939236281577225, 0.01179329388699668, 0.003645263099881779, 0.02691329089319372, 0.010871177166525525, 0.01648188439172471, -0.0023612995607128484, -0.00040225590724563, -0.04406984190469432, 0.00728333999578501, -0.029662370418147788, 0.05082060126051813, -0.004025740303490233, 0.0017787883649786895, 0.011892457737733064, -0.005642259447323328, -0.015229319716585255, -0.0035926601846852924, 0.020673927460882258, -0.016876795400904365, 0.005410890013006764, 0.02289428606761912, 0.046310521489905776, 0.005760771129040609, -0.015069273044499454, 0.037087926023844586, 0.014843919362714786, 0.07614375518727923, 0.011089020014184214, -0.002649454434332954, 0.011113061121331036, 0.04427990206524912, -0.028045075372767125, 0.012553242209906168, 0.008084580697109489, 0.00029282769887406523, 0.029505320094915133, 0.013147117963921984, 0.10231863437017075, -0.0008965282223868387, -0.015004960600411898, -0.0027010327428412806, 0.0268419410945393, 0.03662132733339485, 0.0025475527327811776, 0.02440908236578121, 0.05559276938072344, 0.008988152879733313, 0.0007348899513748286, 0.04513782082492157, -0.013811772506669984, 0.04047804663207488, -0.019643827847620643, -0.08668098726524276, 0.14714603639672275, -0.04192625952848217, 0.02117182318505395, 0.012723580699623094, -0.03834494908280672, 0.026303283360002094, -0.04535760063307914, 0.012705073343324269, -0.015572121149564633, -0.011283218130002659, 0.06577033769414853, 0.008855135279580262, 0.09751836307520456, 0.07013245133363033, 0.014593135861492579, -0.014473138229307847, 0.042974334112722, -0.022776055448425536, 0.021281190956862428, 0.14108807463740813, 0.01025035510354333, 0.054034499850387885, 0.005574281033751349, 0.10241438397456037, 0.06319658000514483, 0.08331071414997226, 0.06915746698908976, 0.03623389929302223, -0.12821714814019047, -0.0462145021574808, 0.10003249548888205, 0.050138030111625875, -0.06027358970394214, -0.020517446469514367, -0.014473454805639108, -0.13283684005316798, 0.07072224005404815, -0.019371440248626248, 0.006286058309083797, -0.06562212474599216, 0.03999200589418295, 0.08425954164300875, -0.0227066720159258, 0.05883361481850957, 0.0552459817355897, -0.014571470133455389, 0.03299138810523439, 0.21109718715065617, 0.006161523959921977, -0.03362488605272895, 0.06659103725199489, -0.008442623824065798, 0.03568097731559283, 0.059941960282079876, -0.008997504606080509, 0.08143096901442681, -0.03007458677540631, -0.09930198543145974, 0.018042326886777316, -0.05253924199462712, -0.016012490356436593, 0.07102929205720199, -0.02523116190113761, 0.04463205998559516, -0.03912035981871642, 0.007539701665201459, 0.06783980378984733, 0.04933522042014493, 0.021604243784508315, 0.03207671485778674, -0.00818320662681038, -0.024853282496366536, 0.01605702194959746, 0.03636996283329075, -0.01718969388968805, 0.008429650142007583, -0.065428052161292, 0.0038474981370875128, -0.035891807501329476, -0.020277031926960176, 0.0663999247573428, 0.04738872100449232, 0.020216245186837067, 1.9359634988669328e-05, 0.003003735086039905, -0.0006418338102552879, -0.01465544559054699, -0.036833390122360865, 0.04058980823677527, -0.0013536328518541918, 0.02830198486483737, 0.06027376478804425, -0.006200634365587043, 0.0032374804693109382, -0.027501379374409107]}, {\"name\": \"ishares\", \"opacity\": 0.5, \"type\": \"histogram\", \"x\": [null, 0.004610696634925748, 0.00013105166191840212, -0.010751278917072504, -0.004373678164277139, 0.00612353551321787, -0.016803439618855776, 0.009554542041570357, -0.0011996268301587287, -0.0028025890831444578, -0.014721627014945615, 0.0009508285533599281, 0.011399049765258518, -0.0030859252136301585, -0.01386282563322605, 0.01596841905109425, -0.019075845806667213, -0.01670764265722513, -0.017409469782202258, 0.004819220137818769, -0.005360389335590354, 0.002552829313492433, 0.012165822261541281, 0.010901438943315744, 0.019770495789561915, -0.00840566680028021, 0.013125485370522272, 0.007422456340687056, -0.0018754185699820791, 0.014360488139565364, -0.003572426473341439, 0.006904846817284538, 0.011868679628941559, 0.00221553487733428, -0.00442137829853384, 0.0026123825133852474, 0.004820166627926836, -0.00038895372459368804, 0.004150454063565734, 0.0005166882076126367, 0.0028401755744902335, 0.0003861997940266537, 0.00038602496461215274, -0.002058091125754946, 0.006702706710422612, -0.0026888348960009134, 0.002952907947104899, 0.003840194474137526, 0.006886024149095116, -0.00012669706180334916, 0.003546649958031667, -0.0010097437329422698, -0.011244472236399905, 0.004088934216996298, 0.005217561587743447, -0.0008861881475170641, 0.0006336036653218358, -0.007724477454109646, 0.0028075803981622016, -0.0174344867031182, 0.004921590467556136, -0.013790437622911988, -0.006664846140347458, -0.011051229810518759, 0.020753040328669314, 0.024110490076346247, 0.0040722829200234845, 0.003928998632978464, 0.0, -0.002398737533139572, 0.004302759013047774, 0.0027722026209675565, -0.006659939515960223, -0.008981757926286749, -0.0039570847054931635, -0.01627574051712788, -0.009119384858796709, 0.011701262469136609, 0.01910334082408549, -0.0067584546482646335, -0.007318012581846278, -0.002457346094154045, -0.0050563984197172784, -0.010945999764034431, 0.013965717682062673, 0.0033784043659044194, 0.0036259776320648474, 0.01587101935483859, -0.0024133620010992063, 0.004074357015533492, -0.01268069997463861, -0.009247367069098344, 0.009722582317863715, -0.012068352805238214, 0.010006576218665408, 0.012480699627362535, -0.001270885721924464, 0.009797735579474942, -0.0031502016129032473, -0.004171432183036172, 0.011805052343362377, 0.003512708568561118, 0.007250931547716721, 0.006329924289437683, 0.00209666990388091, 0.0015999753846154263, 0.003317817727152006, 0.0061236985640245045, 0.0, 0.0020693608747568426, 0.001700680272108901, 0.000606378850351863, -0.003757192976434509, 0.006447786201838612, -0.0036263022542581957, -0.002911537061749403, 0.0006082978316510612, -0.01398348769415092, 0.004316266090332643, -0.014734822820854143, -0.0026171486195699645, 0.012245458259289244, -0.006542377322740989, 0.013295227967434098, -0.0008583690566098534, 0.010922900789253731, 0.00024278256057352898, 0.007161111785410679, -0.0024102915203521036, -0.004228050355835955, -0.02086618949411634, -0.0024779829017469446, 0.004719885611231156, 0.012486116948942971, -0.007814407623579767, -0.006522249408755898, 0.003344431891766142, 0.007283901234567791, -0.002941512584459516, 0.005285802219687996, 0.004891196011034493, 0.004258919445120357, -0.004240857972636847, -0.001338525188610551, 0.0071890337516755665, -0.001209847509806683, -0.01441371158947935, 0.012043701313906752, 0.00048575593165156583, 0.005947299429542419, 0.003981684459017476, 0.00036050955414013153, -0.003964368187514888, -0.0006031117788873885, -0.00591356504948104, -0.013475779689795298, 0.012429165335240855, 0.002309517554856644, -0.012854693184574217, -0.003317002375503586, 0.00530013571552157, 0.01336444368230616, -0.00483970950176138, -0.002188449848024354, -0.0008529304252467007, 0.011463439024390398, 0.002411357549762183, 0.0034880923743083603, 0.000479467817331658, -0.0016772492709417053, 0.0024000479443166967, -0.00023938705230197588, -0.01137593075377974, 0.009568798681414803, -0.0014396401065300823, -0.006848491801105694, 0.0, 0.0018145897984711556, 0.004105832728072301, -0.01070354754771985, 0.0007293702715931438, -0.0070456997084547, -0.0023243700103834364, 0.013979128682814146, 0.0010883540672788072, -0.005798429712453035, -0.004495795650265033, 0.005004223117295092, 0.0019432111704256183, 0.011151490909091066, -0.0038360106409977, 0.006618580183359368, 0.0009563896962010432, -0.006807595518566911, -0.0034872773695393544, -0.00024139012329216225, -0.023657188259678663, 0.005315861045864567, 0.008116133792424929, -0.00500126835807424, -0.0014711781292141568, 0.005156611671288447, -0.016489629498237846, 0.0012420020487828864, 0.015504837124662885, 0.0124587513751373, 0.0059114247798286446, -0.0028783641851370945, 0.009381741640606345, 0.004051525358711228, 0.0036790647121036635, -0.004729833274210504, -0.004395794330421698, -0.004892648931138499, -0.00887394171963063, -0.008469521876115604, 0.012446687611796792, 0.005303145587486124, 0.0014386044148853028, 0.0015563989358649, -0.00394456113102748, -0.0007201007867488896, 0.005284064142383249, -0.013379572333054535, -0.0026636882268404882, 0.011290542399161385, -0.009003601008230389, 0.0004844578808258504, -0.00048422329503439165, 0.002664954443854395, 0.008819669388409723, -0.0029940119760478723, -0.006846846846846777, -0.02382680212868904, -0.031099045967042493, -0.034271101497242995, -0.012314619296325269, 0.03928140712060113, 0.021800878317898675, 0.000504986744098046, -0.010473211356466838, -0.027416501591851605, 0.02150266272467083, -0.0011552303347335258, -0.012593215111796341, 0.026418611474159803, -0.013186255529700763, 0.00552486173648048, 0.0066444669909413445, -0.00266562586102137, 0.011836578846888157, 0.006037786163521908, 0.0017504125156082573, -0.014103893806692636, 0.002911811695450295, -0.012370663661432246, -0.0029396217520353263, -0.004102038095063709, -0.010426103477253146, -0.02887609336306174, -0.002410929418112606, 0.019736733633902714, 0.0032916394096980106, 0.015223150405414776, 0.015253360910031155, -0.007384772090654579, 0.008465905592611733, 0.006741287032783427, 0.004674592427679425, 0.001760664072467888, -0.0085362787579073, -0.005571081004249967, 0.016042831678125813, 0.002506215413222268, 0.0040000000000000036, -0.002739068725099547, -0.007740249881154848, 0.015098086809356648, 0.013510114030738762, 0.0015898985735549598, -0.001220976771160509, 0.011613642463880636, -0.0004833836858006979, -0.0041107242171442016, 0.01165472838036341, 0.0015600383640936855, -0.0020369039060625926, 0.00024010085244308144, -0.000480158455891333, -0.010327753588459498, 0.0012134206424743166, -0.0030299356919176734, -0.012278166489711473, -0.01353843692307688, 0.011727934828997144, 0.0014798866188130422, 0.017362418421376757, -0.0007262648093376844, 0.005450629977001853, 0.0009636670048507323, 0.00036112650673381097, 0.002165567801598378, 0.0010803841017823501, -0.00611586521165608, 0.009290589027282525, -0.008248678822506239, -0.015188090646094499, 0.02080790799549126, -0.006235059802516596, -0.0027750483295136963, -0.011131251999243807, 0.003181132843208978, -0.020490304195397213, 0.004980724815856652, 0.0069383719489533036, 0.01611918376371002, -0.014168054876045999, -0.016951307360210888, 0.008371835770881741, 0.007311078429297568, 0.009349292655923103, -0.0029251186873801016, -0.0012223200396607181, 0.01150412434218584, -0.007380544286012203, -0.010482691370063413, -0.018107908351810975, 0.0007526784594156233, -0.011282362355891418, -0.024977810955298274, -0.010923328714607883, 0.0, 0.010255035767947396, -0.03006244300168881, 0.014490836293863829, -0.019706361592381927, -0.0001349433314909998, -0.004048063689110815, 0.0024386940099905274, 0.022705771663894536, -0.012950918804041756, 0.009907591112395364, -0.015776242874188107, 0.0033674569872699234, 0.023358921287660595, 0.0034106517953220727, -0.01830307277560661, 0.001598135655780153, 0.0006648318042814516, -0.02644174790215914, -0.0174696065221569, 0.0009723572988569185, 0.0018041077381103499, -0.00817293231270455, 0.016340754646389843, 0.02020066072286153, 0.01899251128751378, -0.007138162402163584, 0.0021301557715351915, 0.01315273087034563, -0.009572567281076028, 0.005428359735955457, 0.011193020511113483, -0.00013025133480926154, -0.007944777492700617, 0.023893922118784827, 0.0029491474022091957, 0.002556839617570139, 0.003060520353494356, -0.0027968724740974338, -0.009051478606540764, 0.003988112492571139, -0.0011533059969247583, 0.016549096423301934, 0.0002524482648271764, -0.00315417604960444, 0.007340766805701282, 0.004397612986436261, 0.00512879646913178, 0.0022401991845726332, 0.0006209363124531908, -0.011665450194453864, 0.00012559015570068333, 0.0008788449245737961, 0.013923732716414117, 0.0037114436790439687, -0.0002464932884628235, 0.007767205030206004, -0.003058478176131141, -0.008099104383338052, 0.011134504240145837, -0.011746090211863791, -0.00024756717828744446, -0.003591331269349962, 0.007457096694009513, 0.011596373343113253, 0.00024385365853674124, 0.00024389174561778582, 0.005485104826913556, -0.002060831665919194, -0.00012150145772593657, -0.0017008869323503761, -0.003772642175310814, -0.0008551184949913138, -0.0006113461303338674, -0.002079740691943832, -0.008949417678067895, -0.005195423314963921, 0.00808259159618463, -0.007647761194029767, -0.005469161241474785, -0.00037492812461126235, 0.003250737521843572, 0.0037388086674678966, 0.011671268934690726, -0.012027539910282714, -0.0014907080745341084, -0.006842448540493984, 0.010397118617133438, -0.011157971179867499, -0.0002508024009327814, -0.004890895532753792, 0.007813535168583075, -0.0016256845910794793, 0.01590686452439205, 0.004684971027000273, 0.0009817401149032623, 0.0047811695476278615, 0.00036600780868734084, 0.002683278514044929, 0.0035275513927746083, -0.0026666909090908852, 0.0043753282541401095, 0.0004840271055179812, 0.003023705853894443, -0.0014470276136502314, -0.010385243578921455, -0.008175692894481612, -0.0008611958873326886, 0.00036938800640329283, 0.0017232890626117658, -0.006389751938799537, 0.007296512490724716, -0.00036829958837558685, -0.0012281749257720964, 0.012911977373339933, -0.034842806001145865, -0.018238943396226448, 0.017424726845625793, 0.01649663687209979, 0.011892938258351471, 0.0048971841332026145, -0.005848001806822545, 0.0025735294748412407, 0.0017112578342808327, 0.015009201464756705, 0.004808872325077873, 0.0050251015787246, -0.0009524047619047238, 0.003813155476957819, -0.0005934947909186361, 0.0027318683280230793, -0.0015398957957805104, 0.007355605647170416, -0.0036509949993642765, 0.0041370922963852585, -0.0008239906214945192, 0.0007069274436128925, 0.0007063574121413119, 0.0025882588235293102, 0.001173409970114836, 0.0023440693858416406, -0.006080402529485718, 0.001411788235294198, 0.0018796522114743475, 0.00609763147508513, -0.002331072152397584, 0.0011682009618738665, -0.0007000700443440255, 0.0044371321812237685, -0.0013949547265731388, 0.0032595808321402853, -0.006498004177303396, 0.0, 0.0007007474725357898, 0.0009337301587299951, 0.0006996035284607682, 0.0034957119552552207, -0.006967092267368913, -0.00187086070490472, -0.0018744611059043903, 0.003521173874233563, -0.003040959064327442, -0.0025809714354990687, 0.0011762644637149933, 0.004464262113151651, 0.002806994152046771, 0.0006998600583125736, -0.003729603555729488, -0.02573708349381909, 0.013928962870532358, -0.011605897403934362, 0.0016774263120058475, 0.012201005076579063, -0.0037815881876249735, 0.0, 0.00189793585300424, 0.009235117215249833, 0.008212154111031378, -0.004421735992047315, -0.0121552363757651, 0.007098982825318512, 0.00305446421394584, -0.009369829219251224, 0.006147978100071505, -0.0030552527157521325, -0.0028288308735894274, 0.00189130028111828, 0.00023591316102145043, -0.004718094001370576, 0.004977554040709986, -0.012735872040760876, 0.0009555900392836936, -0.003579999829116942, 0.00047904191616776615, -0.0047881254488868485, 0.008419485205677146, 0.001669942827764448, -0.0016671587679371047, 0.002862667121310336, 0.0061845383876180104, -0.0056737117180546415, -0.004992938540348546, -0.0050178974918946295, -0.004082564939542843, -0.00024118639399117736, -0.007959430968630832, -0.00583520530427406, -0.0070922232108640015, 0.0, 0.022660148899514843, 0.003371868978805148, 0.009841574651944462, -0.003565533634418805, 0.001669942827764448, -0.0028578946007193906, 0.0071650109186771616, 0.002608513284729108, 0.00709562457652857, -0.002818294841789748, 0.007065450001541462, 0.003507998293170944, -0.0004661151246794226, 0.003963674608619128, -0.005805852164285863, 0.0039710113531647995, -0.010470009306654315, -0.008934799175518315, 0.0009489204769195236, 0.00758471219684087, 0.003999106280832887, 0.011246485473289436, 0.0023169138090826102, 0.006010217568664711, -0.0034467141544118896, 0.006917200989559724, -0.006411701690483218, 0.0036874856807440626, -0.0020665901737447756, 0.0027612287795957258, 0.0039008258879840163, -0.002742834285714313, -0.0075636486921006885, 0.0023095381595736875, 0.002995322442611803, -0.007810705440172372, 0.0009261634852086864, -0.0071709923664121655, 0.008620759954369062, 0.007160937695520175, 0.0011468807865542274, 0.005269163561550272, 0.0006836599661881326, 0.0009109769984059213, 0.0009101478746267322, -0.0020459194341476694, 0.0034167879992350603, -0.0024971623722397362, 0.002503413802990684, -0.003632236177803283, 0.0018227842748412826, -0.0006823288450688025, 0.006372371560591228, 0.006784237747981869, 0.0, -0.0002246630727762433, -0.004942642324989643, -0.0018063219280576304, 0.0022619769794609557, 0.0006770254868648795, 0.005638249887234936, -0.0008970845481049983, 0.0008978900313780791, 0.0022426328773266224, 0.00514654296591055, 0.003784550480167015, 0.003770192947438522, 0.004198033769245768, 0.004620439942344401, 0.00043802014892690977, 0.0008756786339756406, 0.005686767154707395, -0.00021746411483236638, -0.0008701544296247921, 0.0017417374265187302, 0.003042903848854639, -0.0032503140519907214, 0.01260873913043481, -0.005581837458916383, 0.0015112046632124176, -0.0023712007409184555, -0.0034572170150650727, -0.0004336730362894947, 0.001084685513435435, 0.0034669337609130046, 0.0019434462979173173, -0.0036638360489726907, 0.009517585983127796, -0.0023569103217017107, 0.0008590420777696561, -0.000643733933207491, -0.011595469186171381, 0.003693287066984352, -0.0017316449841635606, -0.0032523417877783345, -0.00043506633815393325, 0.006093558082838735, 0.0025956738048886763, 0.0008630205334636543, -0.00021552059097917908, -0.001940491549364154, 0.0008641391042527591, -0.002805978726268976, 0.0019480519058863166, -0.00021607258120392991, 0.0006482714055375816, -0.001295638063147475, -0.004324345945945995, -0.004560238969820496, 0.00807153141361261, -0.0015148236640299961, 0.0, 0.007368899162741416, -0.001075731497418131, 0.009907365927202205, 0.006611260537668029, -0.000635656766193704, 0.0029680518536379097, -0.0006341576699607776, 0.003807106679507566, 0.0010534977044562854, -0.0027362030198360143, 0.001688433902734765, 0.0035820059751792144, 0.0008397438412819369, 0.0006293895795841387, 0.0016771068830794267, -0.0014650481679581162, -0.0008384196361019836, 0.0052443887243291964, 0.0006261060361480997, -0.01856100065566213, 0.005737377693638468, 0.005493302113107834, 0.006514015549485164, 0.001043820415706831, 0.0035453179656868006, 0.007689173060872134, 0.00020618683414364014, 0.0, 0.0004123711340207059, 0.00577079554822757, 0.007172192769921981, -0.0006104374115794009, -0.0030537052738945913, 0.0018378598767028187, -0.0010192213408229955, -0.008365640006759545, -0.0037037038561195113, 0.006195849078721727, -0.0006158045850614968, -0.0018484494115517114, 0.0008230658774925903, 0.00966287026445034, -0.006108735367364337, 0.0024584920619035167, -0.0004087471898631678, 0.002657963606624403, -0.001223511394300325, -0.014087362188648478, 0.009111596415166678, -0.012723147958136671, 0.0018707129106068088, -0.0026971161266158283, 0.0056168088204702205, -0.00868849813818795, 0.007721264929935856, 0.003313315317595489, 0.00020635706488425498, 0.009079715416419942, 0.0010224743958087146, 0.006537262379218367, 0.00040594682362482537, 0.002637390898003966, 0.005868090079647503, -0.0004023335425937802, -0.0002012276152389969, 0.0006038446054750235, 0.00020120700465109387, 0.001005611403748663, -0.002812919429375227, -0.0016119685349190727, -0.0028254087351243795, 0.001416717263711842, 0.0014146928051739227, -0.002421776032730083, 0.0022253894396115914, 0.003027815845219717, -0.0028174683601824846, 0.0008072855864236228, -0.01673728574309341, 0.004101743400399593, 0.011437929155186488, -0.00040387722132473325, 0.002626282828282811, -0.01531335854698046, -0.0028647227924027963, 0.0022573363431153126, 0.011466052416052364, -0.004048603074955359, -0.0016260568775191553, 0.000814352622442005, 0.001423921887713675, 0.0026406865732278018, 0.006482961781139496, 0.007648973429951633, 0.0005992608749649797, -0.005989199441006288, 0.0024101023818015044, 0.0030054297735926383, -0.0027967038993866877, 0.00921480405508035, 0.001984894760125089, -0.00019807844690955534, -0.0009907469587726592, 0.0009917295117702896, 0.0009906677037712086, 0.00039590261282640427, -0.00019790264744945496, -0.004155927254223646, 0.0003974562798092496, -0.005959455701231797, -0.002997641826585795, 0.0054119263462000244, 0.0015949362041467463, 0.004777030064608612, 0.0029714936608558062, 0.0019750937788840517, 0.0017740981667653255, 0.005706434474616273, 0.0007826452595844913, -0.000782033205003696, 0.0007826452595844913, 0.0037145257589628056, 0.0003895792754187166, 0.0017523364144795828, 0.001360524754897563, 0.0013586956521738358, 0.000775363442527599, -0.0007747627198380069, 0.0034890482651677157, -0.005408499130770794, 0.001359467805031489, -0.0034910782876051982, 0.0005838653058802823, 0.014977630811126241, -0.0021080873898045027, 0.0013443249471865037, 0.00019184887211065593, 0.0, 0.006136126322679791, 0.0028587382721794175, 0.00019007982117225097, 0.003230058840394179, -0.005113636460485571, 0.0, 0.0011422235130826852, -0.0019014641566839074, -0.006286949655669671, 0.009202434815950955, -0.003229445350103388, 0.0013340956482923438, 0.008374552562341986, -0.0007550207625518501, 0.0034000756214596084, 0.00037650603118422055, 0.006398212389879587, -0.006544483919222133, 0.009222623579472566, -0.0029839612641543445, -0.006172802210490214, -0.0022586673770248478, 0.0015091870027990062, 0.004332265963458148, 0.005251275318829629, 0.003544832221822114, 0.00018587097628053328, 0.0011152788311390438, -0.002599331552184614, 0.008935219491153612, 0.005535036798246518, -0.00697249541284406, -0.0009238544147053274, -0.0011097096356573743, -0.000740548074080638, -0.002038169315579763, 0.001299647209438426, 0.0018542369738550057, -0.0048121229837518875, 0.008182983076064687, 0.009038959768289168, 0.003656325344491229, 0.009471693644018453, 0.002526218063017671, 0.002159809176389249, -0.003053196839080452, 0.00630522451108706, 0.006802738868550984, -0.0021337659269641263, 0.011047808464857534, -0.00035250263121233694, 0.004936512606902088, 0.007543859649122853, 0.004004875500609462, -0.0026014915019075824, 0.0010433316307887353, 0.01354868855306579, -0.006855133054160523, -0.009836065404036809, 0.0026141163713120363, -0.002781157705217363, -0.019696653646446904, -0.03965156331253317, 0.021477504961211036, -0.00725028121262572, -0.039802811758261836, 0.0165430500095074, 0.016460924363279617, 0.003496485093853474, 0.014670878684593491, 0.015543050224361199, -0.0003559530228858243, -0.0026704291497392507, -0.003570153516601282, 0.0012540128986027188, 0.015745231986853403, 0.012330473841817957, -0.011658291079549521, -0.009507060026532677, -0.01439738764299281, 0.006131650024677082, 0.011292292323135111, 0.0035448601043905903, 0.0026492582594359604, 0.004756050731019812, 0.017882187624786328, 0.00017221839179781817, -0.006716032374720182, -0.003294001386962564, -0.0003479039711982157, 0.0, -0.015312354005353135, 0.0035342109913412134, -0.003873939005565319, -0.029520912144246014, -0.022040126701634688, 0.030359490228338393, -0.023680441070137337, -0.0049990003702649055, 0.01637508312709035, -0.025082369554785267, 0.01314555868544609, 0.012048136940720378, 0.006410311590121287, -0.023293957719855207, 0.0037264953876092743, 0.017820735433835777, -0.004924329566867391, 0.008614332686687431, -0.0029075050501090605, 0.0076544925761707905, 0.015916024309712062, 0.0017803454434874855, -0.007997156566554198, -0.010928000716588948, -0.0014489766609124821, -0.018320369702151784, 0.0011086659480536998, 0.015503875968992276, 0.0009087604507451719, -0.007263519157435949, 0.006767935129611713, -0.005087263715710888, 0.0005478999469648027, 0.01423615597305794, 0.005578567572431137, 0.00017891910918188536, 0.009482895141937675, 0.009925594112924152, 0.0017550368550369733, 0.0005255605982634748, -0.009280318520743847, 0.004241746050132722, -0.0019359556494191743, -0.0003526714927292174, 0.007408749469196341, -0.004377516995665909, 0.006507192991431765, -0.0003494845360824117, -0.00017475966045732427, -0.008391608244901927, 0.010930870752276611, -0.005406365538890956, 0.012975644625208727, 0.00709710922624196, 0.002578239944998284, 0.00805755158383148, -0.0045918368127864095, 0.002733640914635904, 0.001022337724013278, 0.003744697872340552, -0.003222011137493541, 0.0056141885950016235, -0.0016918118475415245, -0.0006778003957905732, -0.005087383329025252, 0.003238503604516829, -0.006795820475775982, -0.0013684228766408513, -0.01747173659692136, -0.00017438981564865674, -0.011857018722127965, 0.008293647725203801, 0.0010500875227525963, 0.005594388014084073, -0.007127938108484111, 0.009455454220706594, 0.011274882522987584, 0.008919399809938167, 0.0027201632097926254, -0.005595083079009799, 0.012276163264239859, 0.0013475156029563173, -0.0025231622788366437, 0.006576728610062865, 0.001172709016128426, -0.005020063755691528, 0.0, 0.0018500000311132414, 0.004196743327178121, 0.011868923436977541, -0.008095126517348894, -0.010493021144353465, -0.012792425517589523, 0.007672565808267029, 0.0025381049928292487, 0.008776371308016895, 0.0028442195081144206, 0.004671371449305628, 0.002490833568733919, 0.000828209389236445, 0.00016554121699896562, -0.0076120966407412505, -0.00200105049189514, 0.0065163577783242665, -0.008466168377617267, 0.005859735476310135, 0.0014979360353550852, 0.0014957620573630148, 0.0026551610572571605, 0.001489573038383707, -0.0009915220952412263, 0.007278709557010599, 0.008868467874338481, 0.0017906723099463395, 0.007637260194389706, -0.0025802290785431614, 0.0009701212924857483, -0.0011306735583911376, -0.008893903622251065, -0.003589508833585997, -0.0009825118716226822, 0.0016391247873830395, 0.005236442395083696, -0.000651163926420284, 0.00814464909830015, -0.0006463241338879877, -0.009862506381972724, 0.007184813612514329, -0.001621238651102419, 0.009256251729254483, -0.0019308607584599402, -0.00032244075967169383, 0.0, -0.00419283999976916, 0.0048582834008097375, 0.0011281225000503436, 0.002575660054340956, -0.0020872993270278917, 0.00032173772094168385, -0.013832990633198983, -0.007992187114790661, -0.005097040447221257, 0.0004958354154960265, -0.038817343263671145, -0.016497663112178484, 0.020094373580290092, -0.008050719286558428, 0.026247625625971382, -0.0013461551405014038, -0.018197102550871147, -0.0029174875579200954, 0.0006884853937516588, -0.005159941609218066, -0.03665281811894883, 0.026202422358176047, -0.020811437565582458, -0.01250224995526883, 0.01519262045229497, 0.0158560303606623, 0.012100999649245825, -0.008490695000705206, 0.001223348458172735, 0.005760132557861342, 0.026553332637162974, -0.0015215722224320993, -0.011683067868556218, -0.024841545739961335, -0.0007026880078245812, -0.008263027280889124, 0.013827317851444754, 0.0005246022123555072, -0.0263894088362564, -0.016334590133451732, 0.0040146168615806666, -0.005270810614322219, 0.018636945002740823, 0.0019731121076231872, 0.030075187431521933, -0.002259315219685143, 0.008709284096847236, 0.014505266793300109, -0.03472342127659567, 0.0012343502245519833, -0.027474428099232506, 0.006519395028623753, 0.0014393306427011865, 0.007545849802371718, -0.001069935767833874, -0.020528400571224625, -0.02606160062076912, 0.0041167852566763585, -0.01826313827804693, -0.019362186788154934, -0.021873809523809573, -0.025925153887297547, 0.052214545871301254, 0.008882004076423922, -0.0017224880382775698, 0.010352779907975451, -0.0024668120974039587, -0.025109377972227565, 0.03453658536585369, 0.0084873821199547, 0.011782251509589337, 0.004621072259558989, 0.004967819870020929, -0.0014646283680819216, -0.007150696605231044, 0.014404394666504228, -0.00018208629164395695, 0.007465477329405612, 0.011566943373687355, -0.013042683347459727, 0.0012671795341354652, 0.0018079732090403589, 0.005955639776213717, -0.009687853976036775, -0.0034420832709767257, 0.017633194605824132, 0.012147195426938096, 0.0003529827038475375, 0.007233592095977404, 0.005955508845682189, -0.0027860003482499396, -0.009079797450672333, 0.00317180616740087, 0.0022835236255049907, 0.012092516437214984, 0.0025974372294372827, -0.0006908635339943903, 0.009505685974668499, 0.0011984249272385394, 0.0008549760601914702, -0.0030753631142210747, 0.008911756946418325, 0.0011890606622908528, 0.0001696980008432103, 0.00033927056252291976, 0.00016956079074836872, 0.008138335028823551, -0.0030272452577742026, -0.0008434379359554267, -0.006415701502616833, -0.008835956120168409, -0.003085890516513312, 0.015477161978429521, 0.0027095682084601336, 0.006924506112557127, -0.001341798076850087, 0.0058783673853146645, 0.0015027717732971624, 0.002334094698232869, -0.0028276447576122132, 0.011009174128287391, -0.017653852208317944, 0.0006718340498517161, 0.007384994716851612, -0.005664778407197701, 0.0038538873994637957, 0.006843598731430589, 0.010112732095490795, 0.0003282619399311848, 0.0024609843730765135, 0.0, 0.004419001781309495, 0.00016297865672121326, -0.003910100946397765, 0.003434723641392301, -0.0008149796516701002, 0.006362153447996066, 0.0008105527769581844, -0.002429575561076147, -0.003896768955999441, 0.0030970335157955997, 0.0014624634146496174, 0.010709070084227168, -0.0012843473866694932, 0.002411220099842737, 0.004971087155691389, 0.0006382798990993699, -0.0011162494198094786, -0.00941890181064664, -0.0020951007589863346, 0.011143459662256383, -0.002874956031385434, -0.016017940092904026, -0.0016278365619404322, -0.003424147939861455, 0.005072005973036697, -0.0229529545824515, 0.00783075641452835, 0.008100479150257023, 0.01147917349950811, -0.006809370946822213, -0.007182468402953668, 0.007563285103584283, 0.00016321801832930305, -0.011584254991283127, 0.0016506767365243036, -0.006097544495715201, -0.007627308777527597, 0.004010058613535872, -0.0133133466466967, -0.01011978394130908, 0.020446413706703304, 0.010185356656960298, 0.007438033057851179, 0.012961460000632252, 0.004859070137380295, -0.0025789812608159046, 0.0, 0.0033936489432184747, -0.002254775326139491, -0.0014527844801810463, 0.008567701122410343, 0.005129027169883393, 0.00893001130489579, -0.0009483325430693634, -0.0012655909075398597, -0.011563424496064845, -0.0030449197742012934, 0.0040186465844502806, 0.0035222703093542584, 0.008455631780472261, 0.004429726379207688, 0.008347692287047126, -0.001405763889679723, -0.005005459095886122, 0.002829743706496801, 0.0056435333807254295, 0.001714731045526774, 0.0026454714396058066, 0.00015523824305452294, -0.004034791929398152, -0.004206918043004215, 0.0023470192458143746, -0.006088042650266634, 0.0021988849442087233, 0.00548508062239339, 0.005143297684333081, -0.005582276495030958, 0.008888196267964776, -0.003400216540968337, -0.0029466810043417, -0.012443599122047067, -0.004725200670177898, -0.009020414765317564, -0.027946343467683543, 0.013635649969371721, 0.0027552349634483164, 0.019718781634375127, -0.007132683468061507, -0.011813489971479796, 0.01567038721581948, -0.02815334862658425, 0.0037643863752663265, 0.012391944810306699, 0.012884506361732884, -0.008109365687857695, 0.00849629675382646, -0.00031793037672855906, -0.025759246712660944, 0.011751297535498528, -0.0014518470252670168, 0.004200290655887118, 0.013674356499356666, -0.0017456912155433546, -0.0066772970849826585, 0.010563364276568565, 0.013145423078007923, 0.0, -0.007190917505222494, -0.0044087231745780775, 0.00537719436976114, 0.006292291961617069, -0.0025011723854749812, -0.004074627737429393, 0.004406026819921749, -0.0001566974727652548, 0.0025070510811657787, -0.005001562988433905, -0.0009425384857052466, -0.013207547585142976, 0.0071701882463413025, -0.0020565891798226543, -0.007133813978002057, 0.0038319973841289823, -0.010338762690293657, -0.017839922567664535, 0.009981999509376616, 0.014257890242095117, -0.005431310077677609, -0.01461612639306542, 0.009127987257635972, 0.004522678081085418, 0.00980865106622697, -0.0012738535234689818, 0.010044594865360246, -0.001420678813596754, 0.002371198304495614, -0.006781264784734287, 0.00508096221022547, -0.008214850050787592, 0.0030264734473794963, 0.003970144450212043, 0.0036380891547280747, 0.007092214230225213, -0.0007825351867751795, 0.005011746437329601, -0.0024933147107158993, 0.005936525357396638, 0.0013977947103243071, -0.0027915631455537326, 0.0, 0.001710746420960474, 0.0024840240655783496, -0.0009291931237416229, 0.002325251826840846, 0.001391834123610547, 0.002007675675675724, 0.007860697034249187, 0.0001529744632662311, 0.0027522934938135624, -0.002897270420943121, -0.002905673694841404, 0.000613512298167862, 0.008277146176491446, 0.0054727881646821075, 0.0045358785082534325, -0.0037627933846239303, -0.010273454894290657, -0.004426820197624193, 0.0062863537827912985, 0.0, 0.008532759798846268, -0.0033237799267631374, -0.0021221615564323004, 0.002734315578480473, 0.005908195548910866, 0.0028613553355012478, -0.00030028534616532987, -0.00030039056632102934, 0.0003004808279269966, 0.005708231936307762, 0.005675952457473654, 0.0007425367371889369, 0.000742104515083275, 0.007266765534628572, -0.0005889428913117278, -0.004861432153569489, 0.0013322871355017085, 0.012418746487562693, -0.00657131980557879, 0.004409863360427035, -0.001170818054417655, 0.005860835164835265, 0.009613925430038472, -0.0021641033664434595, 0.008820025516482088, -0.0025799198472088447, 0.0021555109731576927, 0.01018065701693871, 0.004684201760860374, -0.0018366346685029233, 0.0009907855345849814, 0.0018381928473105713, -0.008327396141916577, -0.01707947574496238, 0.012887330231315719, 0.001715554040695677, 0.0038532324818039143, -0.01905027119990166, 0.010579753623188415, 0.017782847363422505, 0.006058912131056582, 0.005742240735511439, -0.00557017144047256, 0.011342906520492413, -0.0004153835445113163, 0.007480274068976778, 0.0004124707653319071, 0.0038482544296796206, -0.0019167442234838683, 0.00630999982688607, -0.0068157032876812185, -0.013724951774293781, -0.035763985029724554, -0.028431245079647338, -0.0011883838383837109, -0.04565734817541178, -0.002649181943250256, 0.04750001562500006, -0.028192108768017476, 0.040368333373190124, -0.033195633419823456, -0.01617576707120061, -0.07429813751670322, 0.053954457104557596, -0.04769475206058027, -0.09198669141947602, 0.090457843178118, -0.11549488930205876, 0.04746477406528338, -0.03603275639612813, 0.0005663394267256816, -0.043396207547169774, -0.02110453607288887, 0.10034253273539129, 0.0012817981819850388, 0.05742501828822233, -0.03303355240401251, 0.03559295296011444, -0.013989671364778133, -0.04221404799439488, 0.019385552304316045, -0.012558323912510772, 0.07285606699026048, -0.00457239635177642, 0.03232393726308169, 0.0085695616348056, -0.004575212343542301, 0.03660545097194512, -0.01726050618335695, 0.011440525113752376, 0.0036641707822206993, -0.031746031746031744, 0.025409819672131073, -0.0004796003274115668, 0.014715275111964132, 0.013240857711867227, -0.010889810374763775, 0.03192826260055792, -0.004572519363320926, -0.02465161612774802, 0.006436420621092287, 0.009982826236424547, 0.000463305019305027, 0.014047592066187109, 0.013548484897290658, 0.006608515872378762, -0.021336930229943207, -0.016160955399356913, 0.010692732228308133, 0.008586292416646879, 0.023867422071563116, -0.004602776677142484, 0.01789971632011156, -0.008352872460517857, 0.0033989065582651357, 0.006332842228782054, 0.00907353990711135, -0.00029002176751347086, 0.006818540548382268, 0.005043198701925045, 0.007168458781362075, 0.00882566548042707, -0.008042895101895153, 0.02418203310745226, 0.006666708333333382, 0.0004138934707274, 0.004688953118495265, -0.054632740003644265, 0.010018803106484508, 0.00790688636880077, 0.019683311657633595, -0.0001398097675147092, 0.0006994403735547383, -0.002097050218049068, 0.01106754039230351, 0.004849646801985408, -0.023028117334312648, 0.010726930436892879, -0.024577614515045143, 0.013171066948348464, 0.015684612788665175, 0.010295019906581215, 0.0037179287916031534, 0.02044173440035313, -0.009007771269471943, 0.010446398188121098, 0.0008055585067578974, 0.006171169758905748, -0.015733333333333377, 0.012056339745326605, 0.006826422257079745, -0.005051914317310335, 0.002405144436405493, 0.018395162025932832, -0.00405767005084634, 0.005782665568808909, -0.0186854961281262, -0.0058587751227370255, 0.011920693173282038, -0.010059589276257164, 0.013504505769427633, 0.0015830474307501063, 0.012776620463029964, 0.011184822619128898, 0.00205792926045012, 0.00667431617639247, 0.010965204641081083, -0.0060537645850201605, -0.0003806496734080067, -0.011932000659202857, 0.01798563812875842, 0.0020192327617172268, -0.0018891939070732056, 0.006309148264984188, 0.005768012539184797, -0.003490824130293113, 0.008132140623045014, 0.004964023207643997, 0.008644072290291405, 0.005876640548481804, 0.016674719246605685, -0.0004788818445934373, 0.005270116307824146, 0.00011917073751943619, 0.014176733043203882, 0.01327387571739247, -0.043473219488216586, -0.014786098296301065, -0.03247630664932577, 0.026191951018640802, -0.018461132678244785, -0.0027770890838538786, 0.013037962025316485, 0.00962144207948823, -0.01039608872291764, -0.012005990645397535, -0.013544303797468293, -0.004234595149493203, 0.01559278390703045, -0.028295851498435498, 0.003133951341500296, 0.01887525384014599, 0.01814239241634308, -0.0033881791093441915, 0.007051183758528756, 0.009502312721843875, -0.01672032491256681, 0.019523907539034102, -0.016431936831432403, 0.01896749128291053, 0.005547300090706253, 0.02353804094642653, -0.0025152593727454375, -0.00456288430070706, -0.01447533137574597, 0.002937637806767812, -0.0006102391845195232, 0.0013432775838719824, 0.0030487804878047697, -0.01629174468085104, 0.001235916389276115, -0.038513799814496985, 0.015919861547308622, -0.018071528550670957, 0.007464633492842987, 0.01890652809027249, 0.03334999916374137, 0.022810058791799426, 0.0016607235470680326, -0.005092373162189245, -0.009284596850741678, 0.013817060657801639, -0.00841430463667825, 0.010398028215561794, 0.008871539994422362, -0.003751905220402141, -0.011533517576397312, 0.00523874283221204, -0.007224920052114392, 0.001193008828441977, 0.011558639455639508, 0.0020025798327549804, 0.0045849871757579486, -0.00046802810303192555, 0.011942348111820822, -0.0008098923984728446, -0.0015053033637644209, 0.007074022715736206, 0.0008061723079766381, 0.0019560233825324236, -0.012976630386388743, 0.0004653985037370578, -0.00034886615534057697, -0.002093997232363809, 0.013523000857111223, 0.003910708444658129, 0.0060723992446423125, -0.0022776108023598862, -0.0025111516663490763, 0.0033184689703451564, -0.004676129105839477, 0.005271066985369499, 0.010828644335051596, -0.0029319124943617547, -0.0005654263869131482, 0.0036211269563950488, -0.013981339181839303, 0.006518010515197625, -0.006816621454781457, 0.02139102085085831, 0.009743565799713583, -0.011867878799118103, -0.0025816029894085712, 0.003938757551893435, -0.008631285827051638, -0.005879737542294539, 0.012056472066798607, 0.02202740991141594, 0.0056080381436542925, 0.0003281137341097917, 0.007542577365241332, -0.00043399154679379937, -0.026158646244176076, 0.005238530926900076, -0.02029050847565128, 0.02286097755929184, 0.013609250285768315, -0.0014190372075205682, 0.00841710728846401, 0.004878016260162488, 0.004854423026572574, -0.0006441867816600055, -0.0020409711909322725, 0.00419805157808284, 0.0051452030748717625, -0.0034126054200471767, -0.0027821830748693266, -0.005258128441718579, -0.005070054101511956, -0.01962490449013632, -0.00176947581883391, 0.008863239333852357, -0.030529311015359273, 0.003511520202894358, 0.025397901586991845, -0.012109181510752132, -0.025072432027466673, -0.016573288754675675, 0.017782414949065295, -0.021354379353659914, 0.029521657976254057, 0.0007933809092131039, 0.019818798873653565, -0.005774613910895732, 0.009605718860780987, 0.0035402146646776878, 0.00121266675352949, -0.024113664391103184, 0.004061841500457186, 0.013259917142598443, -0.004657846393653076, -0.010027877437325916, -0.001463106391966451, 0.014991005241309807, 0.0012215546511420428, -0.005434848915933821, 0.01249027573302719, 0.015199878673864076, 0.018661180832400648, -0.0014910959792426848, 0.0036266240000000227, 0.008927665381131655, 0.008953955546191938, 0.0008352683319614584, 0.0073022845055050745, -0.008906389993918573, 0.016509948270949426, 0.0016447676978286196]}],                        {\"barmode\": \"stack\", \"template\": {\"data\": {\"bar\": [{\"error_x\": {\"color\": \"#2a3f5f\"}, \"error_y\": {\"color\": \"#2a3f5f\"}, \"marker\": {\"line\": {\"color\": \"#E5ECF6\", \"width\": 0.5}}, \"type\": \"bar\"}], \"barpolar\": [{\"marker\": {\"line\": {\"color\": \"#E5ECF6\", \"width\": 0.5}}, \"type\": \"barpolar\"}], \"carpet\": [{\"aaxis\": {\"endlinecolor\": \"#2a3f5f\", \"gridcolor\": \"white\", \"linecolor\": \"white\", \"minorgridcolor\": \"white\", \"startlinecolor\": \"#2a3f5f\"}, \"baxis\": {\"endlinecolor\": \"#2a3f5f\", \"gridcolor\": \"white\", \"linecolor\": \"white\", \"minorgridcolor\": \"white\", \"startlinecolor\": \"#2a3f5f\"}, \"type\": \"carpet\"}], \"choropleth\": [{\"colorbar\": {\"outlinewidth\": 0, \"ticks\": \"\"}, \"type\": \"choropleth\"}], \"contour\": [{\"colorbar\": {\"outlinewidth\": 0, \"ticks\": \"\"}, \"colorscale\": [[0.0, \"#0d0887\"], [0.1111111111111111, \"#46039f\"], [0.2222222222222222, \"#7201a8\"], [0.3333333333333333, \"#9c179e\"], [0.4444444444444444, \"#bd3786\"], [0.5555555555555556, \"#d8576b\"], [0.6666666666666666, \"#ed7953\"], [0.7777777777777778, \"#fb9f3a\"], [0.8888888888888888, \"#fdca26\"], [1.0, \"#f0f921\"]], \"type\": \"contour\"}], \"contourcarpet\": [{\"colorbar\": {\"outlinewidth\": 0, \"ticks\": \"\"}, \"type\": \"contourcarpet\"}], \"heatmap\": [{\"colorbar\": {\"outlinewidth\": 0, \"ticks\": \"\"}, \"colorscale\": [[0.0, \"#0d0887\"], [0.1111111111111111, \"#46039f\"], [0.2222222222222222, \"#7201a8\"], [0.3333333333333333, \"#9c179e\"], [0.4444444444444444, \"#bd3786\"], [0.5555555555555556, \"#d8576b\"], [0.6666666666666666, \"#ed7953\"], [0.7777777777777778, \"#fb9f3a\"], [0.8888888888888888, \"#fdca26\"], [1.0, \"#f0f921\"]], \"type\": \"heatmap\"}], \"heatmapgl\": [{\"colorbar\": {\"outlinewidth\": 0, \"ticks\": \"\"}, \"colorscale\": [[0.0, \"#0d0887\"], [0.1111111111111111, \"#46039f\"], [0.2222222222222222, \"#7201a8\"], [0.3333333333333333, \"#9c179e\"], [0.4444444444444444, \"#bd3786\"], [0.5555555555555556, \"#d8576b\"], [0.6666666666666666, \"#ed7953\"], [0.7777777777777778, \"#fb9f3a\"], [0.8888888888888888, \"#fdca26\"], [1.0, \"#f0f921\"]], \"type\": \"heatmapgl\"}], \"histogram\": [{\"marker\": {\"colorbar\": {\"outlinewidth\": 0, \"ticks\": \"\"}}, \"type\": \"histogram\"}], \"histogram2d\": [{\"colorbar\": {\"outlinewidth\": 0, \"ticks\": \"\"}, \"colorscale\": [[0.0, \"#0d0887\"], [0.1111111111111111, \"#46039f\"], [0.2222222222222222, \"#7201a8\"], [0.3333333333333333, \"#9c179e\"], [0.4444444444444444, \"#bd3786\"], [0.5555555555555556, \"#d8576b\"], [0.6666666666666666, \"#ed7953\"], [0.7777777777777778, \"#fb9f3a\"], [0.8888888888888888, \"#fdca26\"], [1.0, \"#f0f921\"]], \"type\": \"histogram2d\"}], \"histogram2dcontour\": [{\"colorbar\": {\"outlinewidth\": 0, \"ticks\": \"\"}, \"colorscale\": [[0.0, \"#0d0887\"], [0.1111111111111111, \"#46039f\"], [0.2222222222222222, \"#7201a8\"], [0.3333333333333333, \"#9c179e\"], [0.4444444444444444, \"#bd3786\"], [0.5555555555555556, \"#d8576b\"], [0.6666666666666666, \"#ed7953\"], [0.7777777777777778, \"#fb9f3a\"], [0.8888888888888888, \"#fdca26\"], [1.0, \"#f0f921\"]], \"type\": \"histogram2dcontour\"}], \"mesh3d\": [{\"colorbar\": {\"outlinewidth\": 0, \"ticks\": \"\"}, \"type\": \"mesh3d\"}], \"parcoords\": [{\"line\": {\"colorbar\": {\"outlinewidth\": 0, \"ticks\": \"\"}}, \"type\": \"parcoords\"}], \"pie\": [{\"automargin\": true, \"type\": \"pie\"}], \"scatter\": [{\"marker\": {\"colorbar\": {\"outlinewidth\": 0, \"ticks\": \"\"}}, \"type\": \"scatter\"}], \"scatter3d\": [{\"line\": {\"colorbar\": {\"outlinewidth\": 0, \"ticks\": \"\"}}, \"marker\": {\"colorbar\": {\"outlinewidth\": 0, \"ticks\": \"\"}}, \"type\": \"scatter3d\"}], \"scattercarpet\": [{\"marker\": {\"colorbar\": {\"outlinewidth\": 0, \"ticks\": \"\"}}, \"type\": \"scattercarpet\"}], \"scattergeo\": [{\"marker\": {\"colorbar\": {\"outlinewidth\": 0, \"ticks\": \"\"}}, \"type\": \"scattergeo\"}], \"scattergl\": [{\"marker\": {\"colorbar\": {\"outlinewidth\": 0, \"ticks\": \"\"}}, \"type\": \"scattergl\"}], \"scattermapbox\": [{\"marker\": {\"colorbar\": {\"outlinewidth\": 0, \"ticks\": \"\"}}, \"type\": \"scattermapbox\"}], \"scatterpolar\": [{\"marker\": {\"colorbar\": {\"outlinewidth\": 0, \"ticks\": \"\"}}, \"type\": \"scatterpolar\"}], \"scatterpolargl\": [{\"marker\": {\"colorbar\": {\"outlinewidth\": 0, \"ticks\": \"\"}}, \"type\": \"scatterpolargl\"}], \"scatterternary\": [{\"marker\": {\"colorbar\": {\"outlinewidth\": 0, \"ticks\": \"\"}}, \"type\": \"scatterternary\"}], \"surface\": [{\"colorbar\": {\"outlinewidth\": 0, \"ticks\": \"\"}, \"colorscale\": [[0.0, \"#0d0887\"], [0.1111111111111111, \"#46039f\"], [0.2222222222222222, \"#7201a8\"], [0.3333333333333333, \"#9c179e\"], [0.4444444444444444, \"#bd3786\"], [0.5555555555555556, \"#d8576b\"], [0.6666666666666666, \"#ed7953\"], [0.7777777777777778, \"#fb9f3a\"], [0.8888888888888888, \"#fdca26\"], [1.0, \"#f0f921\"]], \"type\": \"surface\"}], \"table\": [{\"cells\": {\"fill\": {\"color\": \"#EBF0F8\"}, \"line\": {\"color\": \"white\"}}, \"header\": {\"fill\": {\"color\": \"#C8D4E3\"}, \"line\": {\"color\": \"white\"}}, \"type\": \"table\"}]}, \"layout\": {\"annotationdefaults\": {\"arrowcolor\": \"#2a3f5f\", \"arrowhead\": 0, \"arrowwidth\": 1}, \"autotypenumbers\": \"strict\", \"coloraxis\": {\"colorbar\": {\"outlinewidth\": 0, \"ticks\": \"\"}}, \"colorscale\": {\"diverging\": [[0, \"#8e0152\"], [0.1, \"#c51b7d\"], [0.2, \"#de77ae\"], [0.3, \"#f1b6da\"], [0.4, \"#fde0ef\"], [0.5, \"#f7f7f7\"], [0.6, \"#e6f5d0\"], [0.7, \"#b8e186\"], [0.8, \"#7fbc41\"], [0.9, \"#4d9221\"], [1, \"#276419\"]], \"sequential\": [[0.0, \"#0d0887\"], [0.1111111111111111, \"#46039f\"], [0.2222222222222222, \"#7201a8\"], [0.3333333333333333, \"#9c179e\"], [0.4444444444444444, \"#bd3786\"], [0.5555555555555556, \"#d8576b\"], [0.6666666666666666, \"#ed7953\"], [0.7777777777777778, \"#fb9f3a\"], [0.8888888888888888, \"#fdca26\"], [1.0, \"#f0f921\"]], \"sequentialminus\": [[0.0, \"#0d0887\"], [0.1111111111111111, \"#46039f\"], [0.2222222222222222, \"#7201a8\"], [0.3333333333333333, \"#9c179e\"], [0.4444444444444444, \"#bd3786\"], [0.5555555555555556, \"#d8576b\"], [0.6666666666666666, \"#ed7953\"], [0.7777777777777778, \"#fb9f3a\"], [0.8888888888888888, \"#fdca26\"], [1.0, \"#f0f921\"]]}, \"colorway\": [\"#636efa\", \"#EF553B\", \"#00cc96\", \"#ab63fa\", \"#FFA15A\", \"#19d3f3\", \"#FF6692\", \"#B6E880\", \"#FF97FF\", \"#FECB52\"], \"font\": {\"color\": \"#2a3f5f\"}, \"geo\": {\"bgcolor\": \"white\", \"lakecolor\": \"white\", \"landcolor\": \"#E5ECF6\", \"showlakes\": true, \"showland\": true, \"subunitcolor\": \"white\"}, \"hoverlabel\": {\"align\": \"left\"}, \"hovermode\": \"closest\", \"mapbox\": {\"style\": \"light\"}, \"paper_bgcolor\": \"white\", \"plot_bgcolor\": \"#E5ECF6\", \"polar\": {\"angularaxis\": {\"gridcolor\": \"white\", \"linecolor\": \"white\", \"ticks\": \"\"}, \"bgcolor\": \"#E5ECF6\", \"radialaxis\": {\"gridcolor\": \"white\", \"linecolor\": \"white\", \"ticks\": \"\"}}, \"scene\": {\"xaxis\": {\"backgroundcolor\": \"#E5ECF6\", \"gridcolor\": \"white\", \"gridwidth\": 2, \"linecolor\": \"white\", \"showbackground\": true, \"ticks\": \"\", \"zerolinecolor\": \"white\"}, \"yaxis\": {\"backgroundcolor\": \"#E5ECF6\", \"gridcolor\": \"white\", \"gridwidth\": 2, \"linecolor\": \"white\", \"showbackground\": true, \"ticks\": \"\", \"zerolinecolor\": \"white\"}, \"zaxis\": {\"backgroundcolor\": \"#E5ECF6\", \"gridcolor\": \"white\", \"gridwidth\": 2, \"linecolor\": \"white\", \"showbackground\": true, \"ticks\": \"\", \"zerolinecolor\": \"white\"}}, \"shapedefaults\": {\"line\": {\"color\": \"#2a3f5f\"}}, \"ternary\": {\"aaxis\": {\"gridcolor\": \"white\", \"linecolor\": \"white\", \"ticks\": \"\"}, \"baxis\": {\"gridcolor\": \"white\", \"linecolor\": \"white\", \"ticks\": \"\"}, \"bgcolor\": \"#E5ECF6\", \"caxis\": {\"gridcolor\": \"white\", \"linecolor\": \"white\", \"ticks\": \"\"}}, \"title\": {\"x\": 0.05}, \"xaxis\": {\"automargin\": true, \"gridcolor\": \"white\", \"linecolor\": \"white\", \"ticks\": \"\", \"title\": {\"standoff\": 15}, \"zerolinecolor\": \"white\", \"zerolinewidth\": 2}, \"yaxis\": {\"automargin\": true, \"gridcolor\": \"white\", \"linecolor\": \"white\", \"ticks\": \"\", \"title\": {\"standoff\": 15}, \"zerolinecolor\": \"white\", \"zerolinewidth\": 2}}}, \"xaxis\": {\"title\": {\"text\": \"Return\"}}, \"yaxis\": {\"title\": {\"text\": \"Frequency\"}}},                        {\"responsive\": true}                    ).then(function(){\n",
       "                            \n",
       "var gd = document.getElementById('129d1941-f25b-4464-9dcc-79ec75e8c6fe');\n",
       "var x = new MutationObserver(function (mutations, observer) {{\n",
       "        var display = window.getComputedStyle(gd).display;\n",
       "        if (!display || display === 'none') {{\n",
       "            console.log([gd, 'removed!']);\n",
       "            Plotly.purge(gd);\n",
       "            observer.disconnect();\n",
       "        }}\n",
       "}});\n",
       "\n",
       "// Listen for the removal of the full notebook cells\n",
       "var notebookContainer = gd.closest('#notebook-container');\n",
       "if (notebookContainer) {{\n",
       "    x.observe(notebookContainer, {childList: true});\n",
       "}}\n",
       "\n",
       "// Listen for the clearing of the current output cell\n",
       "var outputEl = gd.closest('.output');\n",
       "if (outputEl) {{\n",
       "    x.observe(outputEl, {childList: true});\n",
       "}}\n",
       "\n",
       "                        })                };                });            </script>        </div>"
      ]
     },
     "metadata": {},
     "output_type": "display_data"
    }
   ],
   "source": [
    "# bitcoin vs ishares ETF returns Histogram \n",
    "\n",
    "join_ishares_returns = join_ishares.pct_change()\n",
    "fig = go.Figure()\n",
    "fig.add_trace(go.Histogram(x=join_ishares_returns['bitcoin'],name='Bitcoin'))\n",
    "fig.add_trace(go.Histogram(x=join_ishares_returns['ishares'],name='ishares'))\n",
    "fig\n",
    "\n",
    "# The two histograms are drawn on top of another\n",
    "fig.update_layout(barmode='stack',xaxis_title_text='Return',yaxis_title_text='Frequency')\n",
    "fig.update_traces(opacity=0.5)\n",
    "fig.show()\n"
   ]
  },
  {
   "cell_type": "markdown",
   "metadata": {},
   "source": [
    "---"
   ]
  },
  {
   "cell_type": "markdown",
   "metadata": {},
   "source": [
    "# Can Bitcoin be described as Digital Gold?"
   ]
  },
  {
   "cell_type": "code",
   "execution_count": 55,
   "metadata": {},
   "outputs": [
    {
     "data": {},
     "metadata": {},
     "output_type": "display_data"
    },
    {
     "data": {
      "application/vnd.holoviews_exec.v0+json": "",
      "text/html": [
       "<div id='1885'>\n",
       "\n",
       "\n",
       "\n",
       "\n",
       "\n",
       "  <div class=\"bk-root\" id=\"bb37814e-f0a4-40f9-8f9a-7ad19615f9ac\" data-root-id=\"1885\"></div>\n",
       "</div>\n",
       "<script type=\"application/javascript\">(function(root) {\n",
       "  function embed_document(root) {\n",
       "    var docs_json = {\"f8844520-3299-406a-b29e-d4139c678b08\":{\"roots\":{\"references\":[{\"attributes\":{},\"id\":\"1956\",\"type\":\"Selection\"},{\"attributes\":{\"children\":[{\"id\":\"1886\"},{\"id\":\"1891\"},{\"id\":\"2184\"}],\"margin\":[0,0,0,0],\"name\":\"Row02602\",\"tags\":[\"embedded\"]},\"id\":\"1885\",\"type\":\"Row\"},{\"attributes\":{\"days\":[1,15]},\"id\":\"1946\",\"type\":\"DaysTicker\"},{\"attributes\":{\"text\":\"\",\"text_color\":{\"value\":\"black\"},\"text_font_size\":{\"value\":\"12pt\"}},\"id\":\"1892\",\"type\":\"Title\"},{\"attributes\":{\"months\":[0,1,2,3,4,5,6,7,8,9,10,11]},\"id\":\"1947\",\"type\":\"MonthsTicker\"},{\"attributes\":{\"num_minor_ticks\":5,\"tickers\":[{\"id\":\"1940\"},{\"id\":\"1941\"},{\"id\":\"1942\"},{\"id\":\"1943\"},{\"id\":\"1944\"},{\"id\":\"1945\"},{\"id\":\"1946\"},{\"id\":\"1947\"},{\"id\":\"1948\"},{\"id\":\"1949\"},{\"id\":\"1950\"},{\"id\":\"1951\"}]},\"id\":\"1901\",\"type\":\"DatetimeTicker\"},{\"attributes\":{},\"id\":\"1938\",\"type\":\"UnionRenderers\"},{\"attributes\":{\"data_source\":{\"id\":\"1955\"},\"glyph\":{\"id\":\"1958\"},\"hover_glyph\":null,\"muted_glyph\":{\"id\":\"1960\"},\"nonselection_glyph\":{\"id\":\"1959\"},\"selection_glyph\":null,\"view\":{\"id\":\"1962\"}},\"id\":\"1961\",\"type\":\"GlyphRenderer\"},{\"attributes\":{\"axis_label\":\"Rolling Volatility\",\"bounds\":\"auto\",\"formatter\":{\"id\":\"1923\"},\"major_label_orientation\":\"horizontal\",\"ticker\":{\"id\":\"1905\"}},\"id\":\"1904\",\"type\":\"LinearAxis\"},{\"attributes\":{\"days\":[1,4,7,10,13,16,19,22,25,28]},\"id\":\"1944\",\"type\":\"DaysTicker\"},{\"attributes\":{},\"id\":\"1909\",\"type\":\"PanTool\"},{\"attributes\":{\"margin\":[5,5,5,5],\"name\":\"HSpacer02607\",\"sizing_mode\":\"stretch_width\"},\"id\":\"2184\",\"type\":\"Spacer\"},{\"attributes\":{\"months\":[0,6]},\"id\":\"1950\",\"type\":\"MonthsTicker\"},{\"attributes\":{\"line_alpha\":0.2,\"line_color\":\"#fc4f30\",\"line_width\":2,\"x\":{\"field\":\"date\"},\"y\":{\"field\":\"value\"}},\"id\":\"1960\",\"type\":\"Line\"},{\"attributes\":{\"base\":60,\"mantissas\":[1,2,5,10,15,20,30],\"max_interval\":1800000.0,\"min_interval\":1000.0,\"num_minor_ticks\":0},\"id\":\"1941\",\"type\":\"AdaptiveTicker\"},{\"attributes\":{\"active_drag\":\"auto\",\"active_inspect\":\"auto\",\"active_multi\":null,\"active_scroll\":\"auto\",\"active_tap\":\"auto\",\"tools\":[{\"id\":\"1889\"},{\"id\":\"1908\"},{\"id\":\"1909\"},{\"id\":\"1910\"},{\"id\":\"1911\"},{\"id\":\"1912\"}]},\"id\":\"1914\",\"type\":\"Toolbar\"},{\"attributes\":{\"end\":1.0318579587785377,\"reset_end\":1.0318579587785377,\"reset_start\":0.013054050872269365,\"start\":0.013054050872269365,\"tags\":[[[\"value\",\"value\",null]]]},\"id\":\"1888\",\"type\":\"Range1d\"},{\"attributes\":{\"line_alpha\":0.1,\"line_color\":\"#30a2da\",\"line_width\":2,\"x\":{\"field\":\"date\"},\"y\":{\"field\":\"value\"}},\"id\":\"1929\",\"type\":\"Line\"},{\"attributes\":{\"source\":{\"id\":\"1955\"}},\"id\":\"1962\",\"type\":\"CDSView\"},{\"attributes\":{\"line_alpha\":0.1,\"line_color\":\"#fc4f30\",\"line_width\":2,\"x\":{\"field\":\"date\"},\"y\":{\"field\":\"value\"}},\"id\":\"1959\",\"type\":\"Line\"},{\"attributes\":{\"mantissas\":[1,2,5],\"max_interval\":500.0,\"num_minor_ticks\":0},\"id\":\"1940\",\"type\":\"AdaptiveTicker\"},{\"attributes\":{\"axis\":{\"id\":\"1904\"},\"dimension\":1,\"grid_line_color\":null,\"ticker\":null},\"id\":\"1907\",\"type\":\"Grid\"},{\"attributes\":{\"end\":1618531200000.0,\"reset_end\":1618531200000.0,\"reset_start\":1410912000000.0,\"start\":1410912000000.0,\"tags\":[[[\"date\",\"date\",null]]]},\"id\":\"1887\",\"type\":\"Range1d\"},{\"attributes\":{\"axis\":{\"id\":\"1900\"},\"grid_line_color\":null,\"ticker\":null},\"id\":\"1903\",\"type\":\"Grid\"},{\"attributes\":{\"margin\":[5,5,5,5],\"name\":\"HSpacer02606\",\"sizing_mode\":\"stretch_width\"},\"id\":\"1886\",\"type\":\"Spacer\"},{\"attributes\":{},\"id\":\"1896\",\"type\":\"LinearScale\"},{\"attributes\":{\"label\":{\"value\":\"bitcoin returns\"},\"renderers\":[{\"id\":\"1961\"}]},\"id\":\"1985\",\"type\":\"LegendItem\"},{\"attributes\":{\"line_color\":\"#fc4f30\",\"line_width\":2,\"x\":{\"field\":\"date\"},\"y\":{\"field\":\"value\"}},\"id\":\"1958\",\"type\":\"Line\"},{\"attributes\":{},\"id\":\"1905\",\"type\":\"BasicTicker\"},{\"attributes\":{},\"id\":\"1912\",\"type\":\"ResetTool\"},{\"attributes\":{\"base\":24,\"mantissas\":[1,2,4,6,8,12],\"max_interval\":43200000.0,\"min_interval\":3600000.0,\"num_minor_ticks\":0},\"id\":\"1942\",\"type\":\"AdaptiveTicker\"},{\"attributes\":{\"bottom_units\":\"screen\",\"fill_alpha\":0.5,\"fill_color\":\"lightgrey\",\"left_units\":\"screen\",\"level\":\"overlay\",\"line_alpha\":1.0,\"line_color\":\"black\",\"line_dash\":[4,4],\"line_width\":2,\"right_units\":\"screen\",\"top_units\":\"screen\"},\"id\":\"1913\",\"type\":\"BoxAnnotation\"},{\"attributes\":{\"overlay\":{\"id\":\"1913\"}},\"id\":\"1911\",\"type\":\"BoxZoomTool\"},{\"attributes\":{\"data\":{\"Variable\":[\"bitcoin returns\",\"bitcoin returns\",\"bitcoin returns\",\"bitcoin returns\",\"bitcoin returns\",\"bitcoin returns\",\"bitcoin returns\",\"bitcoin returns\",\"bitcoin returns\",\"bitcoin returns\",\"bitcoin returns\",\"bitcoin returns\",\"bitcoin returns\",\"bitcoin returns\",\"bitcoin returns\",\"bitcoin returns\",\"bitcoin returns\",\"bitcoin returns\",\"bitcoin returns\",\"bitcoin returns\",\"bitcoin returns\",\"bitcoin returns\",\"bitcoin returns\",\"bitcoin returns\",\"bitcoin returns\",\"bitcoin returns\",\"bitcoin returns\",\"bitcoin returns\",\"bitcoin returns\",\"bitcoin returns\",\"bitcoin returns\",\"bitcoin returns\",\"bitcoin returns\",\"bitcoin returns\",\"bitcoin returns\",\"bitcoin returns\",\"bitcoin returns\",\"bitcoin returns\",\"bitcoin returns\",\"bitcoin returns\",\"bitcoin returns\",\"bitcoin returns\",\"bitcoin returns\",\"bitcoin returns\",\"bitcoin returns\",\"bitcoin returns\",\"bitcoin returns\",\"bitcoin returns\",\"bitcoin returns\",\"bitcoin returns\",\"bitcoin returns\",\"bitcoin returns\",\"bitcoin returns\",\"bitcoin returns\",\"bitcoin returns\",\"bitcoin returns\",\"bitcoin returns\",\"bitcoin returns\",\"bitcoin returns\",\"bitcoin returns\",\"bitcoin returns\",\"bitcoin returns\",\"bitcoin returns\",\"bitcoin returns\",\"bitcoin returns\",\"bitcoin returns\",\"bitcoin returns\",\"bitcoin returns\",\"bitcoin returns\",\"bitcoin returns\",\"bitcoin returns\",\"bitcoin returns\",\"bitcoin returns\",\"bitcoin returns\",\"bitcoin returns\",\"bitcoin returns\",\"bitcoin returns\",\"bitcoin returns\",\"bitcoin returns\",\"bitcoin returns\",\"bitcoin returns\",\"bitcoin returns\",\"bitcoin returns\",\"bitcoin returns\",\"bitcoin returns\",\"bitcoin returns\",\"bitcoin returns\",\"bitcoin returns\",\"bitcoin returns\",\"bitcoin returns\",\"bitcoin returns\",\"bitcoin returns\",\"bitcoin returns\",\"bitcoin returns\",\"bitcoin returns\",\"bitcoin returns\",\"bitcoin returns\",\"bitcoin returns\",\"bitcoin returns\",\"bitcoin returns\",\"bitcoin returns\",\"bitcoin returns\",\"bitcoin returns\",\"bitcoin returns\",\"bitcoin returns\",\"bitcoin returns\",\"bitcoin returns\",\"bitcoin returns\",\"bitcoin returns\",\"bitcoin returns\",\"bitcoin returns\",\"bitcoin returns\",\"bitcoin returns\",\"bitcoin returns\",\"bitcoin returns\",\"bitcoin returns\",\"bitcoin returns\",\"bitcoin returns\",\"bitcoin returns\",\"bitcoin returns\",\"bitcoin returns\",\"bitcoin returns\",\"bitcoin returns\",\"bitcoin returns\",\"bitcoin returns\",\"bitcoin returns\",\"bitcoin returns\",\"bitcoin returns\",\"bitcoin returns\",\"bitcoin returns\",\"bitcoin returns\",\"bitcoin returns\",\"bitcoin returns\",\"bitcoin returns\",\"bitcoin returns\",\"bitcoin returns\",\"bitcoin returns\",\"bitcoin returns\",\"bitcoin returns\",\"bitcoin returns\",\"bitcoin returns\",\"bitcoin returns\",\"bitcoin returns\",\"bitcoin returns\",\"bitcoin returns\",\"bitcoin returns\",\"bitcoin returns\",\"bitcoin returns\",\"bitcoin returns\",\"bitcoin returns\",\"bitcoin returns\",\"bitcoin returns\",\"bitcoin returns\",\"bitcoin returns\",\"bitcoin returns\",\"bitcoin returns\",\"bitcoin returns\",\"bitcoin returns\",\"bitcoin returns\",\"bitcoin returns\",\"bitcoin returns\",\"bitcoin returns\",\"bitcoin returns\",\"bitcoin returns\",\"bitcoin returns\",\"bitcoin returns\",\"bitcoin returns\",\"bitcoin returns\",\"bitcoin returns\",\"bitcoin returns\",\"bitcoin returns\",\"bitcoin returns\",\"bitcoin returns\",\"bitcoin returns\",\"bitcoin returns\",\"bitcoin returns\",\"bitcoin returns\",\"bitcoin returns\",\"bitcoin returns\",\"bitcoin returns\",\"bitcoin returns\",\"bitcoin returns\",\"bitcoin returns\",\"bitcoin returns\",\"bitcoin returns\",\"bitcoin returns\",\"bitcoin returns\",\"bitcoin returns\",\"bitcoin returns\",\"bitcoin returns\",\"bitcoin returns\",\"bitcoin returns\",\"bitcoin returns\",\"bitcoin returns\",\"bitcoin returns\",\"bitcoin returns\",\"bitcoin returns\",\"bitcoin returns\",\"bitcoin returns\",\"bitcoin returns\",\"bitcoin returns\",\"bitcoin returns\",\"bitcoin returns\",\"bitcoin returns\",\"bitcoin returns\",\"bitcoin returns\",\"bitcoin returns\",\"bitcoin returns\",\"bitcoin returns\",\"bitcoin returns\",\"bitcoin returns\",\"bitcoin returns\",\"bitcoin returns\",\"bitcoin returns\",\"bitcoin returns\",\"bitcoin returns\",\"bitcoin returns\",\"bitcoin returns\",\"bitcoin returns\",\"bitcoin returns\",\"bitcoin returns\",\"bitcoin returns\",\"bitcoin returns\",\"bitcoin returns\",\"bitcoin returns\",\"bitcoin returns\",\"bitcoin returns\",\"bitcoin returns\",\"bitcoin returns\",\"bitcoin returns\",\"bitcoin returns\",\"bitcoin returns\",\"bitcoin returns\",\"bitcoin returns\",\"bitcoin returns\",\"bitcoin returns\",\"bitcoin returns\",\"bitcoin returns\",\"bitcoin returns\",\"bitcoin returns\",\"bitcoin returns\",\"bitcoin returns\",\"bitcoin returns\",\"bitcoin returns\",\"bitcoin returns\",\"bitcoin returns\",\"bitcoin returns\",\"bitcoin returns\",\"bitcoin returns\",\"bitcoin returns\",\"bitcoin returns\",\"bitcoin returns\",\"bitcoin returns\",\"bitcoin returns\",\"bitcoin returns\",\"bitcoin returns\",\"bitcoin returns\",\"bitcoin returns\",\"bitcoin returns\",\"bitcoin returns\",\"bitcoin returns\",\"bitcoin returns\",\"bitcoin returns\",\"bitcoin returns\",\"bitcoin returns\",\"bitcoin returns\",\"bitcoin returns\",\"bitcoin returns\",\"bitcoin returns\",\"bitcoin returns\",\"bitcoin returns\",\"bitcoin returns\",\"bitcoin returns\",\"bitcoin returns\",\"bitcoin returns\",\"bitcoin returns\",\"bitcoin returns\",\"bitcoin returns\",\"bitcoin returns\",\"bitcoin returns\",\"bitcoin returns\",\"bitcoin returns\",\"bitcoin returns\",\"bitcoin returns\",\"bitcoin returns\",\"bitcoin returns\",\"bitcoin returns\",\"bitcoin returns\",\"bitcoin returns\",\"bitcoin returns\",\"bitcoin returns\",\"bitcoin returns\",\"bitcoin returns\",\"bitcoin returns\",\"bitcoin returns\",\"bitcoin returns\",\"bitcoin returns\",\"bitcoin returns\",\"bitcoin returns\",\"bitcoin returns\",\"bitcoin returns\",\"bitcoin returns\",\"bitcoin returns\",\"bitcoin returns\",\"bitcoin returns\",\"bitcoin returns\",\"bitcoin returns\",\"bitcoin returns\",\"bitcoin returns\",\"bitcoin returns\",\"bitcoin returns\",\"bitcoin returns\",\"bitcoin returns\",\"bitcoin returns\",\"bitcoin returns\",\"bitcoin returns\",\"bitcoin returns\",\"bitcoin returns\",\"bitcoin returns\",\"bitcoin returns\",\"bitcoin returns\",\"bitcoin returns\",\"bitcoin returns\",\"bitcoin returns\",\"bitcoin returns\",\"bitcoin returns\",\"bitcoin returns\",\"bitcoin returns\",\"bitcoin returns\",\"bitcoin returns\",\"bitcoin returns\",\"bitcoin returns\",\"bitcoin returns\",\"bitcoin returns\",\"bitcoin returns\",\"bitcoin returns\",\"bitcoin returns\",\"bitcoin returns\",\"bitcoin returns\",\"bitcoin returns\",\"bitcoin returns\",\"bitcoin returns\",\"bitcoin returns\",\"bitcoin returns\",\"bitcoin returns\",\"bitcoin returns\",\"bitcoin returns\",\"bitcoin returns\",\"bitcoin returns\",\"bitcoin returns\",\"bitcoin returns\",\"bitcoin returns\",\"bitcoin returns\",\"bitcoin returns\",\"bitcoin returns\",\"bitcoin returns\",\"bitcoin returns\",\"bitcoin returns\",\"bitcoin returns\",\"bitcoin returns\",\"bitcoin returns\",\"bitcoin returns\",\"bitcoin returns\",\"bitcoin returns\",\"bitcoin returns\",\"bitcoin returns\",\"bitcoin returns\",\"bitcoin returns\",\"bitcoin returns\",\"bitcoin returns\",\"bitcoin returns\",\"bitcoin returns\",\"bitcoin returns\",\"bitcoin returns\",\"bitcoin returns\",\"bitcoin returns\",\"bitcoin returns\",\"bitcoin returns\",\"bitcoin returns\",\"bitcoin returns\",\"bitcoin returns\",\"bitcoin returns\",\"bitcoin returns\",\"bitcoin returns\",\"bitcoin returns\",\"bitcoin returns\",\"bitcoin returns\",\"bitcoin returns\",\"bitcoin returns\",\"bitcoin returns\",\"bitcoin returns\",\"bitcoin returns\",\"bitcoin returns\",\"bitcoin returns\",\"bitcoin returns\",\"bitcoin returns\",\"bitcoin returns\",\"bitcoin returns\",\"bitcoin returns\",\"bitcoin returns\",\"bitcoin returns\",\"bitcoin returns\",\"bitcoin returns\",\"bitcoin returns\",\"bitcoin returns\",\"bitcoin returns\",\"bitcoin returns\",\"bitcoin returns\",\"bitcoin returns\",\"bitcoin returns\",\"bitcoin returns\",\"bitcoin returns\",\"bitcoin returns\",\"bitcoin returns\",\"bitcoin returns\",\"bitcoin returns\",\"bitcoin returns\",\"bitcoin returns\",\"bitcoin returns\",\"bitcoin returns\",\"bitcoin returns\",\"bitcoin returns\",\"bitcoin returns\",\"bitcoin returns\",\"bitcoin returns\",\"bitcoin returns\",\"bitcoin returns\",\"bitcoin returns\",\"bitcoin returns\",\"bitcoin returns\",\"bitcoin returns\",\"bitcoin returns\",\"bitcoin returns\",\"bitcoin returns\",\"bitcoin returns\",\"bitcoin returns\",\"bitcoin returns\",\"bitcoin returns\",\"bitcoin returns\",\"bitcoin returns\",\"bitcoin returns\",\"bitcoin returns\",\"bitcoin returns\",\"bitcoin returns\",\"bitcoin returns\",\"bitcoin returns\",\"bitcoin returns\",\"bitcoin returns\",\"bitcoin returns\",\"bitcoin returns\",\"bitcoin returns\",\"bitcoin returns\",\"bitcoin returns\",\"bitcoin returns\",\"bitcoin returns\",\"bitcoin returns\",\"bitcoin returns\",\"bitcoin returns\",\"bitcoin returns\",\"bitcoin returns\",\"bitcoin returns\",\"bitcoin returns\",\"bitcoin returns\",\"bitcoin returns\",\"bitcoin returns\",\"bitcoin returns\",\"bitcoin returns\",\"bitcoin returns\",\"bitcoin returns\",\"bitcoin returns\",\"bitcoin returns\",\"bitcoin returns\",\"bitcoin returns\",\"bitcoin returns\",\"bitcoin returns\",\"bitcoin returns\",\"bitcoin returns\",\"bitcoin returns\",\"bitcoin returns\",\"bitcoin returns\",\"bitcoin returns\",\"bitcoin returns\",\"bitcoin returns\",\"bitcoin returns\",\"bitcoin returns\",\"bitcoin returns\",\"bitcoin returns\",\"bitcoin returns\",\"bitcoin returns\",\"bitcoin returns\",\"bitcoin returns\",\"bitcoin returns\",\"bitcoin returns\",\"bitcoin returns\",\"bitcoin returns\",\"bitcoin returns\",\"bitcoin returns\",\"bitcoin returns\",\"bitcoin returns\",\"bitcoin returns\",\"bitcoin returns\",\"bitcoin returns\",\"bitcoin returns\",\"bitcoin returns\",\"bitcoin returns\",\"bitcoin returns\",\"bitcoin returns\",\"bitcoin returns\",\"bitcoin returns\",\"bitcoin returns\",\"bitcoin returns\",\"bitcoin returns\",\"bitcoin returns\",\"bitcoin returns\",\"bitcoin returns\",\"bitcoin returns\",\"bitcoin returns\",\"bitcoin returns\",\"bitcoin returns\",\"bitcoin returns\",\"bitcoin returns\",\"bitcoin returns\",\"bitcoin returns\",\"bitcoin returns\",\"bitcoin returns\",\"bitcoin returns\",\"bitcoin returns\",\"bitcoin returns\",\"bitcoin returns\",\"bitcoin returns\",\"bitcoin returns\",\"bitcoin returns\",\"bitcoin returns\",\"bitcoin returns\",\"bitcoin returns\",\"bitcoin returns\",\"bitcoin returns\",\"bitcoin returns\",\"bitcoin returns\",\"bitcoin returns\",\"bitcoin returns\",\"bitcoin returns\",\"bitcoin returns\",\"bitcoin returns\",\"bitcoin returns\",\"bitcoin returns\",\"bitcoin returns\",\"bitcoin returns\",\"bitcoin returns\",\"bitcoin returns\",\"bitcoin returns\",\"bitcoin returns\",\"bitcoin returns\",\"bitcoin returns\",\"bitcoin returns\",\"bitcoin returns\",\"bitcoin returns\",\"bitcoin returns\",\"bitcoin returns\",\"bitcoin returns\",\"bitcoin returns\",\"bitcoin returns\",\"bitcoin returns\",\"bitcoin returns\",\"bitcoin returns\",\"bitcoin returns\",\"bitcoin returns\",\"bitcoin returns\",\"bitcoin returns\",\"bitcoin returns\",\"bitcoin returns\",\"bitcoin returns\",\"bitcoin returns\",\"bitcoin returns\",\"bitcoin returns\",\"bitcoin returns\",\"bitcoin returns\",\"bitcoin returns\",\"bitcoin returns\",\"bitcoin returns\",\"bitcoin returns\",\"bitcoin returns\",\"bitcoin returns\",\"bitcoin returns\",\"bitcoin returns\",\"bitcoin returns\",\"bitcoin returns\",\"bitcoin returns\",\"bitcoin returns\",\"bitcoin returns\",\"bitcoin returns\",\"bitcoin returns\",\"bitcoin returns\",\"bitcoin returns\",\"bitcoin returns\",\"bitcoin returns\",\"bitcoin returns\",\"bitcoin returns\",\"bitcoin returns\",\"bitcoin returns\",\"bitcoin returns\",\"bitcoin returns\",\"bitcoin returns\",\"bitcoin returns\",\"bitcoin returns\",\"bitcoin returns\",\"bitcoin returns\",\"bitcoin returns\",\"bitcoin returns\",\"bitcoin returns\",\"bitcoin returns\",\"bitcoin returns\",\"bitcoin returns\",\"bitcoin returns\",\"bitcoin returns\",\"bitcoin returns\",\"bitcoin returns\",\"bitcoin returns\",\"bitcoin returns\",\"bitcoin returns\",\"bitcoin returns\",\"bitcoin returns\",\"bitcoin returns\",\"bitcoin returns\",\"bitcoin returns\",\"bitcoin returns\",\"bitcoin returns\",\"bitcoin returns\",\"bitcoin returns\",\"bitcoin returns\",\"bitcoin returns\",\"bitcoin returns\",\"bitcoin returns\",\"bitcoin returns\",\"bitcoin returns\",\"bitcoin returns\",\"bitcoin returns\",\"bitcoin returns\",\"bitcoin returns\",\"bitcoin returns\",\"bitcoin returns\",\"bitcoin returns\",\"bitcoin returns\",\"bitcoin returns\",\"bitcoin returns\",\"bitcoin returns\",\"bitcoin returns\",\"bitcoin returns\",\"bitcoin returns\",\"bitcoin returns\",\"bitcoin returns\",\"bitcoin returns\",\"bitcoin returns\",\"bitcoin returns\",\"bitcoin returns\",\"bitcoin returns\",\"bitcoin returns\",\"bitcoin returns\",\"bitcoin returns\",\"bitcoin returns\",\"bitcoin returns\",\"bitcoin returns\",\"bitcoin returns\",\"bitcoin returns\",\"bitcoin returns\",\"bitcoin returns\",\"bitcoin returns\",\"bitcoin returns\",\"bitcoin returns\",\"bitcoin returns\",\"bitcoin returns\",\"bitcoin returns\",\"bitcoin returns\",\"bitcoin returns\",\"bitcoin returns\",\"bitcoin returns\",\"bitcoin returns\",\"bitcoin returns\",\"bitcoin returns\",\"bitcoin returns\",\"bitcoin returns\",\"bitcoin returns\",\"bitcoin returns\",\"bitcoin returns\",\"bitcoin returns\",\"bitcoin returns\",\"bitcoin returns\",\"bitcoin returns\",\"bitcoin returns\",\"bitcoin returns\",\"bitcoin returns\",\"bitcoin returns\",\"bitcoin returns\",\"bitcoin returns\",\"bitcoin returns\",\"bitcoin returns\",\"bitcoin returns\",\"bitcoin returns\",\"bitcoin returns\",\"bitcoin returns\",\"bitcoin returns\",\"bitcoin returns\",\"bitcoin returns\",\"bitcoin returns\",\"bitcoin returns\",\"bitcoin returns\",\"bitcoin returns\",\"bitcoin returns\",\"bitcoin returns\",\"bitcoin returns\",\"bitcoin returns\",\"bitcoin returns\",\"bitcoin returns\",\"bitcoin returns\",\"bitcoin returns\",\"bitcoin returns\",\"bitcoin returns\",\"bitcoin returns\",\"bitcoin returns\",\"bitcoin returns\",\"bitcoin returns\",\"bitcoin returns\",\"bitcoin returns\",\"bitcoin returns\",\"bitcoin returns\",\"bitcoin returns\",\"bitcoin returns\",\"bitcoin returns\",\"bitcoin returns\",\"bitcoin returns\",\"bitcoin returns\",\"bitcoin returns\",\"bitcoin returns\",\"bitcoin returns\",\"bitcoin returns\",\"bitcoin returns\",\"bitcoin returns\",\"bitcoin returns\",\"bitcoin returns\",\"bitcoin returns\",\"bitcoin returns\",\"bitcoin returns\",\"bitcoin returns\",\"bitcoin returns\",\"bitcoin returns\",\"bitcoin returns\",\"bitcoin returns\",\"bitcoin returns\",\"bitcoin returns\",\"bitcoin returns\",\"bitcoin returns\",\"bitcoin returns\",\"bitcoin returns\",\"bitcoin returns\",\"bitcoin returns\",\"bitcoin returns\",\"bitcoin returns\",\"bitcoin returns\",\"bitcoin returns\",\"bitcoin returns\",\"bitcoin returns\",\"bitcoin returns\",\"bitcoin returns\",\"bitcoin returns\",\"bitcoin returns\",\"bitcoin returns\",\"bitcoin returns\",\"bitcoin returns\",\"bitcoin returns\",\"bitcoin returns\",\"bitcoin returns\",\"bitcoin returns\",\"bitcoin returns\",\"bitcoin returns\",\"bitcoin returns\",\"bitcoin returns\",\"bitcoin returns\",\"bitcoin returns\",\"bitcoin returns\",\"bitcoin returns\",\"bitcoin returns\",\"bitcoin returns\",\"bitcoin returns\",\"bitcoin returns\",\"bitcoin returns\",\"bitcoin returns\",\"bitcoin returns\",\"bitcoin returns\",\"bitcoin returns\",\"bitcoin returns\",\"bitcoin returns\",\"bitcoin returns\",\"bitcoin returns\",\"bitcoin returns\",\"bitcoin returns\",\"bitcoin returns\",\"bitcoin returns\",\"bitcoin returns\",\"bitcoin returns\",\"bitcoin returns\",\"bitcoin returns\",\"bitcoin returns\",\"bitcoin returns\",\"bitcoin returns\",\"bitcoin returns\",\"bitcoin returns\",\"bitcoin returns\",\"bitcoin returns\",\"bitcoin returns\",\"bitcoin returns\",\"bitcoin returns\",\"bitcoin returns\",\"bitcoin returns\",\"bitcoin returns\",\"bitcoin returns\",\"bitcoin returns\",\"bitcoin returns\",\"bitcoin returns\",\"bitcoin returns\",\"bitcoin returns\",\"bitcoin returns\",\"bitcoin returns\",\"bitcoin returns\",\"bitcoin returns\",\"bitcoin returns\",\"bitcoin returns\",\"bitcoin returns\",\"bitcoin returns\",\"bitcoin returns\",\"bitcoin returns\",\"bitcoin returns\",\"bitcoin returns\",\"bitcoin returns\",\"bitcoin returns\",\"bitcoin returns\",\"bitcoin returns\",\"bitcoin returns\",\"bitcoin returns\",\"bitcoin returns\",\"bitcoin returns\",\"bitcoin returns\",\"bitcoin returns\",\"bitcoin returns\",\"bitcoin returns\",\"bitcoin returns\",\"bitcoin returns\",\"bitcoin returns\",\"bitcoin returns\",\"bitcoin returns\",\"bitcoin returns\",\"bitcoin returns\",\"bitcoin returns\",\"bitcoin returns\",\"bitcoin returns\",\"bitcoin returns\",\"bitcoin returns\",\"bitcoin returns\",\"bitcoin returns\",\"bitcoin returns\",\"bitcoin returns\",\"bitcoin returns\",\"bitcoin returns\",\"bitcoin returns\",\"bitcoin returns\",\"bitcoin returns\",\"bitcoin returns\",\"bitcoin returns\",\"bitcoin returns\",\"bitcoin returns\",\"bitcoin returns\",\"bitcoin returns\",\"bitcoin returns\",\"bitcoin returns\",\"bitcoin returns\",\"bitcoin returns\",\"bitcoin returns\",\"bitcoin returns\",\"bitcoin returns\",\"bitcoin returns\",\"bitcoin returns\",\"bitcoin returns\",\"bitcoin returns\",\"bitcoin returns\",\"bitcoin returns\",\"bitcoin returns\",\"bitcoin returns\",\"bitcoin returns\",\"bitcoin returns\",\"bitcoin returns\",\"bitcoin returns\",\"bitcoin returns\",\"bitcoin returns\",\"bitcoin returns\",\"bitcoin returns\",\"bitcoin returns\",\"bitcoin returns\",\"bitcoin returns\",\"bitcoin returns\",\"bitcoin returns\",\"bitcoin returns\",\"bitcoin returns\",\"bitcoin returns\",\"bitcoin returns\",\"bitcoin returns\",\"bitcoin returns\",\"bitcoin returns\",\"bitcoin returns\",\"bitcoin returns\",\"bitcoin returns\",\"bitcoin returns\",\"bitcoin returns\",\"bitcoin returns\",\"bitcoin returns\",\"bitcoin returns\",\"bitcoin returns\",\"bitcoin returns\",\"bitcoin returns\",\"bitcoin returns\",\"bitcoin returns\",\"bitcoin returns\",\"bitcoin returns\",\"bitcoin returns\",\"bitcoin returns\",\"bitcoin returns\",\"bitcoin returns\",\"bitcoin returns\",\"bitcoin returns\",\"bitcoin returns\",\"bitcoin returns\",\"bitcoin returns\",\"bitcoin returns\",\"bitcoin returns\",\"bitcoin returns\",\"bitcoin returns\",\"bitcoin returns\",\"bitcoin returns\",\"bitcoin returns\",\"bitcoin returns\",\"bitcoin returns\",\"bitcoin returns\",\"bitcoin returns\",\"bitcoin returns\",\"bitcoin returns\",\"bitcoin returns\",\"bitcoin returns\",\"bitcoin returns\",\"bitcoin returns\",\"bitcoin returns\",\"bitcoin returns\",\"bitcoin returns\",\"bitcoin returns\",\"bitcoin returns\",\"bitcoin returns\",\"bitcoin returns\",\"bitcoin returns\",\"bitcoin returns\",\"bitcoin returns\",\"bitcoin returns\",\"bitcoin returns\",\"bitcoin returns\",\"bitcoin returns\",\"bitcoin returns\",\"bitcoin returns\",\"bitcoin returns\",\"bitcoin returns\",\"bitcoin returns\",\"bitcoin returns\",\"bitcoin returns\",\"bitcoin returns\",\"bitcoin returns\",\"bitcoin returns\",\"bitcoin returns\",\"bitcoin returns\",\"bitcoin returns\",\"bitcoin returns\",\"bitcoin returns\",\"bitcoin returns\",\"bitcoin returns\",\"bitcoin returns\",\"bitcoin returns\",\"bitcoin returns\",\"bitcoin returns\",\"bitcoin returns\",\"bitcoin returns\",\"bitcoin returns\",\"bitcoin returns\",\"bitcoin returns\",\"bitcoin returns\",\"bitcoin returns\",\"bitcoin returns\",\"bitcoin returns\",\"bitcoin returns\",\"bitcoin returns\",\"bitcoin returns\",\"bitcoin returns\",\"bitcoin returns\",\"bitcoin returns\",\"bitcoin returns\",\"bitcoin returns\",\"bitcoin returns\",\"bitcoin returns\",\"bitcoin returns\",\"bitcoin returns\",\"bitcoin returns\",\"bitcoin returns\",\"bitcoin returns\",\"bitcoin returns\",\"bitcoin returns\",\"bitcoin returns\",\"bitcoin returns\",\"bitcoin returns\",\"bitcoin returns\",\"bitcoin returns\",\"bitcoin returns\",\"bitcoin returns\",\"bitcoin returns\",\"bitcoin returns\",\"bitcoin returns\",\"bitcoin returns\",\"bitcoin returns\",\"bitcoin returns\",\"bitcoin returns\",\"bitcoin returns\",\"bitcoin returns\",\"bitcoin returns\",\"bitcoin returns\",\"bitcoin returns\",\"bitcoin returns\",\"bitcoin returns\",\"bitcoin returns\",\"bitcoin returns\",\"bitcoin returns\",\"bitcoin returns\",\"bitcoin returns\",\"bitcoin returns\",\"bitcoin returns\",\"bitcoin returns\",\"bitcoin returns\",\"bitcoin returns\",\"bitcoin returns\",\"bitcoin returns\",\"bitcoin returns\",\"bitcoin returns\",\"bitcoin returns\",\"bitcoin returns\",\"bitcoin returns\",\"bitcoin returns\",\"bitcoin returns\",\"bitcoin returns\",\"bitcoin returns\",\"bitcoin returns\",\"bitcoin returns\",\"bitcoin returns\",\"bitcoin returns\",\"bitcoin returns\",\"bitcoin returns\",\"bitcoin returns\",\"bitcoin returns\",\"bitcoin returns\",\"bitcoin returns\",\"bitcoin returns\",\"bitcoin returns\",\"bitcoin returns\",\"bitcoin returns\",\"bitcoin returns\",\"bitcoin returns\",\"bitcoin returns\",\"bitcoin returns\",\"bitcoin returns\",\"bitcoin returns\",\"bitcoin returns\",\"bitcoin returns\",\"bitcoin returns\",\"bitcoin returns\",\"bitcoin returns\",\"bitcoin returns\",\"bitcoin returns\",\"bitcoin returns\",\"bitcoin returns\",\"bitcoin returns\",\"bitcoin returns\",\"bitcoin returns\",\"bitcoin returns\",\"bitcoin returns\",\"bitcoin returns\",\"bitcoin returns\",\"bitcoin returns\",\"bitcoin returns\",\"bitcoin returns\",\"bitcoin returns\",\"bitcoin returns\",\"bitcoin returns\",\"bitcoin returns\",\"bitcoin returns\",\"bitcoin returns\",\"bitcoin returns\",\"bitcoin returns\",\"bitcoin returns\",\"bitcoin returns\",\"bitcoin returns\",\"bitcoin returns\",\"bitcoin returns\",\"bitcoin returns\",\"bitcoin returns\",\"bitcoin returns\",\"bitcoin returns\",\"bitcoin returns\",\"bitcoin returns\",\"bitcoin returns\",\"bitcoin returns\",\"bitcoin returns\",\"bitcoin returns\",\"bitcoin returns\",\"bitcoin returns\",\"bitcoin returns\",\"bitcoin returns\",\"bitcoin returns\",\"bitcoin returns\",\"bitcoin returns\",\"bitcoin returns\",\"bitcoin returns\",\"bitcoin returns\",\"bitcoin returns\",\"bitcoin returns\",\"bitcoin returns\",\"bitcoin returns\",\"bitcoin returns\",\"bitcoin returns\",\"bitcoin returns\",\"bitcoin returns\",\"bitcoin returns\",\"bitcoin returns\",\"bitcoin returns\",\"bitcoin returns\",\"bitcoin returns\",\"bitcoin returns\",\"bitcoin returns\",\"bitcoin returns\",\"bitcoin returns\",\"bitcoin returns\",\"bitcoin returns\",\"bitcoin returns\",\"bitcoin returns\",\"bitcoin returns\",\"bitcoin returns\",\"bitcoin returns\",\"bitcoin returns\",\"bitcoin returns\",\"bitcoin returns\",\"bitcoin returns\",\"bitcoin returns\",\"bitcoin returns\",\"bitcoin returns\",\"bitcoin returns\",\"bitcoin returns\",\"bitcoin returns\",\"bitcoin returns\",\"bitcoin returns\",\"bitcoin returns\",\"bitcoin returns\",\"bitcoin returns\",\"bitcoin returns\",\"bitcoin returns\",\"bitcoin returns\",\"bitcoin returns\",\"bitcoin returns\",\"bitcoin returns\",\"bitcoin returns\",\"bitcoin returns\",\"bitcoin returns\",\"bitcoin returns\",\"bitcoin returns\",\"bitcoin returns\",\"bitcoin returns\",\"bitcoin returns\",\"bitcoin returns\",\"bitcoin returns\",\"bitcoin returns\",\"bitcoin returns\",\"bitcoin returns\",\"bitcoin returns\",\"bitcoin returns\",\"bitcoin returns\",\"bitcoin returns\",\"bitcoin returns\",\"bitcoin returns\",\"bitcoin returns\",\"bitcoin returns\",\"bitcoin returns\",\"bitcoin returns\",\"bitcoin returns\",\"bitcoin returns\",\"bitcoin returns\",\"bitcoin returns\",\"bitcoin returns\",\"bitcoin returns\",\"bitcoin returns\",\"bitcoin returns\",\"bitcoin returns\",\"bitcoin returns\",\"bitcoin returns\",\"bitcoin returns\",\"bitcoin returns\",\"bitcoin returns\",\"bitcoin returns\",\"bitcoin returns\",\"bitcoin returns\",\"bitcoin returns\",\"bitcoin returns\",\"bitcoin returns\",\"bitcoin returns\",\"bitcoin returns\",\"bitcoin returns\",\"bitcoin returns\",\"bitcoin returns\",\"bitcoin returns\",\"bitcoin returns\",\"bitcoin returns\",\"bitcoin returns\",\"bitcoin returns\",\"bitcoin returns\",\"bitcoin returns\",\"bitcoin returns\",\"bitcoin returns\",\"bitcoin returns\",\"bitcoin returns\",\"bitcoin returns\",\"bitcoin returns\",\"bitcoin returns\",\"bitcoin returns\",\"bitcoin returns\",\"bitcoin returns\",\"bitcoin returns\",\"bitcoin returns\",\"bitcoin returns\",\"bitcoin returns\",\"bitcoin returns\",\"bitcoin returns\",\"bitcoin returns\",\"bitcoin returns\",\"bitcoin returns\",\"bitcoin returns\",\"bitcoin returns\",\"bitcoin returns\",\"bitcoin returns\",\"bitcoin returns\",\"bitcoin returns\",\"bitcoin returns\",\"bitcoin returns\",\"bitcoin returns\",\"bitcoin returns\",\"bitcoin returns\",\"bitcoin returns\",\"bitcoin returns\",\"bitcoin returns\",\"bitcoin returns\",\"bitcoin returns\",\"bitcoin returns\",\"bitcoin returns\",\"bitcoin returns\",\"bitcoin returns\",\"bitcoin returns\",\"bitcoin returns\",\"bitcoin returns\",\"bitcoin returns\",\"bitcoin returns\",\"bitcoin returns\",\"bitcoin returns\",\"bitcoin returns\",\"bitcoin returns\",\"bitcoin returns\",\"bitcoin returns\",\"bitcoin returns\",\"bitcoin returns\",\"bitcoin returns\",\"bitcoin returns\",\"bitcoin returns\",\"bitcoin returns\",\"bitcoin returns\",\"bitcoin returns\",\"bitcoin returns\",\"bitcoin returns\",\"bitcoin returns\",\"bitcoin returns\",\"bitcoin returns\",\"bitcoin returns\",\"bitcoin returns\",\"bitcoin returns\",\"bitcoin returns\",\"bitcoin returns\",\"bitcoin returns\",\"bitcoin returns\",\"bitcoin returns\",\"bitcoin returns\",\"bitcoin returns\",\"bitcoin returns\",\"bitcoin returns\",\"bitcoin returns\",\"bitcoin returns\",\"bitcoin returns\",\"bitcoin returns\",\"bitcoin returns\",\"bitcoin returns\",\"bitcoin returns\",\"bitcoin returns\",\"bitcoin returns\",\"bitcoin returns\",\"bitcoin returns\",\"bitcoin returns\",\"bitcoin returns\",\"bitcoin returns\",\"bitcoin returns\",\"bitcoin returns\",\"bitcoin returns\",\"bitcoin returns\",\"bitcoin returns\",\"bitcoin returns\",\"bitcoin returns\",\"bitcoin returns\",\"bitcoin returns\",\"bitcoin returns\",\"bitcoin returns\",\"bitcoin returns\",\"bitcoin returns\",\"bitcoin returns\",\"bitcoin returns\",\"bitcoin returns\",\"bitcoin returns\",\"bitcoin returns\",\"bitcoin returns\",\"bitcoin returns\",\"bitcoin returns\",\"bitcoin returns\",\"bitcoin returns\",\"bitcoin returns\",\"bitcoin returns\",\"bitcoin returns\",\"bitcoin returns\",\"bitcoin returns\",\"bitcoin returns\",\"bitcoin returns\",\"bitcoin returns\",\"bitcoin returns\",\"bitcoin returns\",\"bitcoin returns\",\"bitcoin returns\",\"bitcoin returns\",\"bitcoin returns\",\"bitcoin returns\",\"bitcoin returns\",\"bitcoin returns\",\"bitcoin returns\",\"bitcoin returns\",\"bitcoin returns\",\"bitcoin returns\",\"bitcoin returns\",\"bitcoin returns\",\"bitcoin returns\",\"bitcoin returns\",\"bitcoin returns\",\"bitcoin returns\",\"bitcoin returns\",\"bitcoin returns\",\"bitcoin returns\",\"bitcoin returns\",\"bitcoin returns\",\"bitcoin returns\",\"bitcoin returns\",\"bitcoin returns\",\"bitcoin returns\",\"bitcoin returns\",\"bitcoin returns\",\"bitcoin returns\",\"bitcoin returns\",\"bitcoin returns\",\"bitcoin returns\",\"bitcoin returns\",\"bitcoin returns\",\"bitcoin returns\",\"bitcoin returns\",\"bitcoin returns\",\"bitcoin returns\",\"bitcoin returns\",\"bitcoin returns\",\"bitcoin returns\",\"bitcoin returns\",\"bitcoin returns\",\"bitcoin returns\",\"bitcoin returns\",\"bitcoin returns\",\"bitcoin returns\",\"bitcoin returns\",\"bitcoin returns\",\"bitcoin returns\",\"bitcoin returns\",\"bitcoin returns\",\"bitcoin returns\",\"bitcoin returns\",\"bitcoin returns\",\"bitcoin returns\",\"bitcoin returns\",\"bitcoin returns\",\"bitcoin returns\",\"bitcoin returns\",\"bitcoin returns\",\"bitcoin returns\",\"bitcoin returns\",\"bitcoin returns\",\"bitcoin returns\",\"bitcoin returns\",\"bitcoin returns\",\"bitcoin returns\",\"bitcoin returns\",\"bitcoin returns\",\"bitcoin returns\",\"bitcoin returns\",\"bitcoin returns\",\"bitcoin returns\",\"bitcoin returns\",\"bitcoin returns\",\"bitcoin returns\",\"bitcoin returns\",\"bitcoin returns\",\"bitcoin returns\",\"bitcoin returns\",\"bitcoin returns\",\"bitcoin returns\",\"bitcoin returns\",\"bitcoin returns\",\"bitcoin returns\",\"bitcoin returns\",\"bitcoin returns\",\"bitcoin returns\",\"bitcoin returns\",\"bitcoin returns\",\"bitcoin returns\",\"bitcoin returns\",\"bitcoin returns\",\"bitcoin returns\",\"bitcoin returns\",\"bitcoin returns\",\"bitcoin returns\",\"bitcoin returns\",\"bitcoin returns\",\"bitcoin returns\",\"bitcoin returns\",\"bitcoin returns\",\"bitcoin returns\",\"bitcoin returns\",\"bitcoin returns\",\"bitcoin returns\",\"bitcoin returns\",\"bitcoin returns\",\"bitcoin returns\",\"bitcoin returns\",\"bitcoin returns\",\"bitcoin returns\",\"bitcoin returns\",\"bitcoin returns\",\"bitcoin returns\",\"bitcoin returns\",\"bitcoin returns\",\"bitcoin returns\",\"bitcoin returns\",\"bitcoin returns\",\"bitcoin returns\",\"bitcoin returns\",\"bitcoin returns\",\"bitcoin returns\",\"bitcoin returns\",\"bitcoin returns\",\"bitcoin returns\",\"bitcoin returns\",\"bitcoin returns\",\"bitcoin returns\",\"bitcoin returns\",\"bitcoin returns\",\"bitcoin returns\",\"bitcoin returns\",\"bitcoin returns\",\"bitcoin returns\",\"bitcoin returns\",\"bitcoin returns\",\"bitcoin returns\",\"bitcoin returns\",\"bitcoin returns\",\"bitcoin returns\",\"bitcoin returns\",\"bitcoin returns\",\"bitcoin returns\",\"bitcoin returns\",\"bitcoin returns\",\"bitcoin returns\",\"bitcoin returns\",\"bitcoin returns\",\"bitcoin returns\",\"bitcoin returns\",\"bitcoin returns\",\"bitcoin returns\",\"bitcoin returns\",\"bitcoin returns\",\"bitcoin returns\",\"bitcoin returns\",\"bitcoin returns\",\"bitcoin returns\",\"bitcoin returns\",\"bitcoin returns\",\"bitcoin returns\",\"bitcoin returns\",\"bitcoin returns\",\"bitcoin returns\",\"bitcoin returns\",\"bitcoin returns\",\"bitcoin returns\",\"bitcoin returns\",\"bitcoin returns\",\"bitcoin returns\",\"bitcoin returns\",\"bitcoin returns\",\"bitcoin returns\",\"bitcoin returns\",\"bitcoin returns\",\"bitcoin returns\",\"bitcoin returns\",\"bitcoin returns\",\"bitcoin returns\",\"bitcoin returns\",\"bitcoin returns\",\"bitcoin returns\",\"bitcoin returns\",\"bitcoin returns\",\"bitcoin returns\",\"bitcoin returns\",\"bitcoin returns\",\"bitcoin returns\",\"bitcoin returns\",\"bitcoin returns\",\"bitcoin returns\",\"bitcoin returns\",\"bitcoin returns\",\"bitcoin returns\",\"bitcoin returns\",\"bitcoin returns\",\"bitcoin returns\",\"bitcoin returns\",\"bitcoin returns\",\"bitcoin returns\",\"bitcoin returns\",\"bitcoin returns\",\"bitcoin returns\",\"bitcoin returns\",\"bitcoin returns\",\"bitcoin returns\",\"bitcoin returns\",\"bitcoin returns\",\"bitcoin returns\",\"bitcoin returns\",\"bitcoin returns\",\"bitcoin returns\",\"bitcoin returns\",\"bitcoin returns\",\"bitcoin returns\",\"bitcoin returns\",\"bitcoin returns\",\"bitcoin returns\",\"bitcoin returns\",\"bitcoin returns\",\"bitcoin returns\",\"bitcoin returns\",\"bitcoin returns\",\"bitcoin returns\",\"bitcoin returns\",\"bitcoin returns\",\"bitcoin returns\",\"bitcoin returns\",\"bitcoin returns\",\"bitcoin returns\",\"bitcoin returns\",\"bitcoin returns\",\"bitcoin returns\",\"bitcoin returns\",\"bitcoin returns\",\"bitcoin returns\",\"bitcoin returns\",\"bitcoin returns\",\"bitcoin returns\",\"bitcoin returns\",\"bitcoin returns\",\"bitcoin returns\",\"bitcoin returns\",\"bitcoin returns\",\"bitcoin returns\",\"bitcoin returns\",\"bitcoin returns\",\"bitcoin returns\",\"bitcoin returns\",\"bitcoin returns\",\"bitcoin returns\",\"bitcoin returns\",\"bitcoin returns\",\"bitcoin returns\",\"bitcoin returns\",\"bitcoin returns\",\"bitcoin returns\",\"bitcoin returns\",\"bitcoin returns\",\"bitcoin returns\",\"bitcoin returns\",\"bitcoin returns\",\"bitcoin returns\",\"bitcoin returns\",\"bitcoin returns\",\"bitcoin returns\",\"bitcoin returns\",\"bitcoin returns\",\"bitcoin returns\",\"bitcoin returns\",\"bitcoin returns\",\"bitcoin returns\",\"bitcoin returns\",\"bitcoin returns\",\"bitcoin returns\",\"bitcoin returns\",\"bitcoin returns\",\"bitcoin returns\",\"bitcoin returns\",\"bitcoin returns\",\"bitcoin returns\",\"bitcoin returns\",\"bitcoin returns\",\"bitcoin returns\",\"bitcoin returns\",\"bitcoin returns\",\"bitcoin returns\",\"bitcoin returns\",\"bitcoin returns\",\"bitcoin returns\",\"bitcoin returns\"],\"date\":{\"__ndarray__\":\"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\",\"dtype\":\"float64\",\"order\":\"little\",\"shape\":[1638]},\"value\":{\"__ndarray__\":\"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\",\"dtype\":\"float64\",\"order\":\"little\",\"shape\":[1638]}},\"selected\":{\"id\":\"1956\"},\"selection_policy\":{\"id\":\"1970\"}},\"id\":\"1955\",\"type\":\"ColumnDataSource\"},{\"attributes\":{\"months\":[0,2,4,6,8,10]},\"id\":\"1948\",\"type\":\"MonthsTicker\"},{\"attributes\":{\"data_source\":{\"id\":\"1925\"},\"glyph\":{\"id\":\"1928\"},\"hover_glyph\":null,\"muted_glyph\":{\"id\":\"1930\"},\"nonselection_glyph\":{\"id\":\"1929\"},\"selection_glyph\":null,\"view\":{\"id\":\"1932\"}},\"id\":\"1931\",\"type\":\"GlyphRenderer\"},{\"attributes\":{\"click_policy\":\"mute\",\"items\":[{\"id\":\"1954\"},{\"id\":\"1985\"}],\"location\":[0,0],\"title\":\"Variable\"},\"id\":\"1953\",\"type\":\"Legend\"},{\"attributes\":{\"callback\":null,\"formatters\":{\"@{date}\":\"datetime\"},\"renderers\":[{\"id\":\"1931\"},{\"id\":\"1961\"}],\"tags\":[\"hv_created\"],\"tooltips\":[[\"Variable\",\"@{Variable}\"],[\"date\",\"@{date}{%F %T}\"],[\"value\",\"@{value}\"]]},\"id\":\"1889\",\"type\":\"HoverTool\"},{\"attributes\":{},\"id\":\"1898\",\"type\":\"LinearScale\"},{\"attributes\":{},\"id\":\"1921\",\"type\":\"DatetimeTickFormatter\"},{\"attributes\":{\"label\":{\"value\":\"gold returns\"},\"renderers\":[{\"id\":\"1931\"}]},\"id\":\"1954\",\"type\":\"LegendItem\"},{\"attributes\":{\"days\":[1,2,3,4,5,6,7,8,9,10,11,12,13,14,15,16,17,18,19,20,21,22,23,24,25,26,27,28,29,30,31]},\"id\":\"1943\",\"type\":\"DaysTicker\"},{\"attributes\":{},\"id\":\"1970\",\"type\":\"UnionRenderers\"},{\"attributes\":{\"line_alpha\":0.2,\"line_color\":\"#30a2da\",\"line_width\":2,\"x\":{\"field\":\"date\"},\"y\":{\"field\":\"value\"}},\"id\":\"1930\",\"type\":\"Line\"},{\"attributes\":{\"data\":{\"Variable\":[\"gold returns\",\"gold returns\",\"gold returns\",\"gold returns\",\"gold returns\",\"gold returns\",\"gold returns\",\"gold returns\",\"gold returns\",\"gold returns\",\"gold returns\",\"gold returns\",\"gold returns\",\"gold returns\",\"gold returns\",\"gold returns\",\"gold returns\",\"gold returns\",\"gold returns\",\"gold returns\",\"gold returns\",\"gold returns\",\"gold returns\",\"gold returns\",\"gold returns\",\"gold returns\",\"gold returns\",\"gold returns\",\"gold returns\",\"gold returns\",\"gold returns\",\"gold returns\",\"gold returns\",\"gold returns\",\"gold returns\",\"gold returns\",\"gold returns\",\"gold returns\",\"gold returns\",\"gold returns\",\"gold returns\",\"gold returns\",\"gold returns\",\"gold returns\",\"gold returns\",\"gold returns\",\"gold returns\",\"gold returns\",\"gold returns\",\"gold returns\",\"gold returns\",\"gold returns\",\"gold returns\",\"gold returns\",\"gold returns\",\"gold returns\",\"gold returns\",\"gold returns\",\"gold returns\",\"gold returns\",\"gold returns\",\"gold returns\",\"gold returns\",\"gold returns\",\"gold returns\",\"gold returns\",\"gold returns\",\"gold returns\",\"gold returns\",\"gold returns\",\"gold returns\",\"gold returns\",\"gold returns\",\"gold returns\",\"gold returns\",\"gold returns\",\"gold returns\",\"gold returns\",\"gold returns\",\"gold returns\",\"gold returns\",\"gold returns\",\"gold returns\",\"gold returns\",\"gold returns\",\"gold returns\",\"gold returns\",\"gold returns\",\"gold returns\",\"gold returns\",\"gold returns\",\"gold returns\",\"gold returns\",\"gold returns\",\"gold returns\",\"gold returns\",\"gold returns\",\"gold returns\",\"gold returns\",\"gold returns\",\"gold returns\",\"gold returns\",\"gold returns\",\"gold returns\",\"gold returns\",\"gold returns\",\"gold returns\",\"gold returns\",\"gold returns\",\"gold returns\",\"gold returns\",\"gold returns\",\"gold returns\",\"gold returns\",\"gold returns\",\"gold returns\",\"gold returns\",\"gold returns\",\"gold returns\",\"gold returns\",\"gold returns\",\"gold returns\",\"gold returns\",\"gold returns\",\"gold returns\",\"gold returns\",\"gold returns\",\"gold returns\",\"gold returns\",\"gold returns\",\"gold returns\",\"gold returns\",\"gold returns\",\"gold returns\",\"gold returns\",\"gold returns\",\"gold returns\",\"gold returns\",\"gold returns\",\"gold returns\",\"gold returns\",\"gold returns\",\"gold returns\",\"gold returns\",\"gold returns\",\"gold returns\",\"gold returns\",\"gold returns\",\"gold returns\",\"gold returns\",\"gold returns\",\"gold returns\",\"gold returns\",\"gold returns\",\"gold returns\",\"gold returns\",\"gold returns\",\"gold returns\",\"gold returns\",\"gold returns\",\"gold returns\",\"gold returns\",\"gold returns\",\"gold returns\",\"gold returns\",\"gold returns\",\"gold returns\",\"gold returns\",\"gold returns\",\"gold returns\",\"gold returns\",\"gold returns\",\"gold returns\",\"gold returns\",\"gold returns\",\"gold returns\",\"gold returns\",\"gold returns\",\"gold returns\",\"gold returns\",\"gold returns\",\"gold returns\",\"gold returns\",\"gold returns\",\"gold returns\",\"gold returns\",\"gold returns\",\"gold returns\",\"gold returns\",\"gold returns\",\"gold returns\",\"gold returns\",\"gold returns\",\"gold returns\",\"gold returns\",\"gold returns\",\"gold returns\",\"gold returns\",\"gold returns\",\"gold returns\",\"gold returns\",\"gold returns\",\"gold returns\",\"gold returns\",\"gold returns\",\"gold returns\",\"gold returns\",\"gold returns\",\"gold returns\",\"gold returns\",\"gold returns\",\"gold returns\",\"gold returns\",\"gold returns\",\"gold returns\",\"gold returns\",\"gold returns\",\"gold returns\",\"gold returns\",\"gold returns\",\"gold returns\",\"gold returns\",\"gold returns\",\"gold returns\",\"gold returns\",\"gold returns\",\"gold returns\",\"gold returns\",\"gold returns\",\"gold returns\",\"gold returns\",\"gold returns\",\"gold returns\",\"gold returns\",\"gold returns\",\"gold returns\",\"gold returns\",\"gold returns\",\"gold returns\",\"gold returns\",\"gold returns\",\"gold returns\",\"gold returns\",\"gold returns\",\"gold returns\",\"gold returns\",\"gold returns\",\"gold returns\",\"gold returns\",\"gold returns\",\"gold returns\",\"gold returns\",\"gold returns\",\"gold returns\",\"gold returns\",\"gold returns\",\"gold returns\",\"gold returns\",\"gold returns\",\"gold returns\",\"gold returns\",\"gold returns\",\"gold returns\",\"gold returns\",\"gold returns\",\"gold returns\",\"gold returns\",\"gold returns\",\"gold returns\",\"gold returns\",\"gold returns\",\"gold returns\",\"gold returns\",\"gold returns\",\"gold returns\",\"gold returns\",\"gold returns\",\"gold returns\",\"gold returns\",\"gold returns\",\"gold returns\",\"gold returns\",\"gold returns\",\"gold returns\",\"gold returns\",\"gold returns\",\"gold returns\",\"gold returns\",\"gold returns\",\"gold returns\",\"gold returns\",\"gold returns\",\"gold returns\",\"gold returns\",\"gold returns\",\"gold returns\",\"gold returns\",\"gold returns\",\"gold returns\",\"gold returns\",\"gold returns\",\"gold returns\",\"gold returns\",\"gold returns\",\"gold returns\",\"gold returns\",\"gold returns\",\"gold returns\",\"gold returns\",\"gold returns\",\"gold returns\",\"gold returns\",\"gold returns\",\"gold returns\",\"gold returns\",\"gold returns\",\"gold returns\",\"gold returns\",\"gold returns\",\"gold returns\",\"gold returns\",\"gold returns\",\"gold returns\",\"gold returns\",\"gold returns\",\"gold returns\",\"gold returns\",\"gold returns\",\"gold returns\",\"gold returns\",\"gold returns\",\"gold returns\",\"gold returns\",\"gold returns\",\"gold returns\",\"gold returns\",\"gold returns\",\"gold returns\",\"gold returns\",\"gold returns\",\"gold returns\",\"gold returns\",\"gold returns\",\"gold returns\",\"gold returns\",\"gold returns\",\"gold returns\",\"gold returns\",\"gold returns\",\"gold returns\",\"gold returns\",\"gold returns\",\"gold returns\",\"gold returns\",\"gold returns\",\"gold returns\",\"gold returns\",\"gold returns\",\"gold returns\",\"gold returns\",\"gold returns\",\"gold returns\",\"gold returns\",\"gold returns\",\"gold returns\",\"gold returns\",\"gold returns\",\"gold returns\",\"gold returns\",\"gold returns\",\"gold returns\",\"gold returns\",\"gold returns\",\"gold returns\",\"gold returns\",\"gold returns\",\"gold returns\",\"gold returns\",\"gold returns\",\"gold returns\",\"gold returns\",\"gold returns\",\"gold returns\",\"gold returns\",\"gold returns\",\"gold returns\",\"gold returns\",\"gold returns\",\"gold returns\",\"gold returns\",\"gold returns\",\"gold returns\",\"gold returns\",\"gold returns\",\"gold returns\",\"gold returns\",\"gold returns\",\"gold returns\",\"gold returns\",\"gold returns\",\"gold returns\",\"gold returns\",\"gold returns\",\"gold returns\",\"gold returns\",\"gold returns\",\"gold returns\",\"gold returns\",\"gold returns\",\"gold returns\",\"gold returns\",\"gold returns\",\"gold returns\",\"gold returns\",\"gold returns\",\"gold returns\",\"gold returns\",\"gold returns\",\"gold returns\",\"gold returns\",\"gold returns\",\"gold returns\",\"gold returns\",\"gold returns\",\"gold returns\",\"gold returns\",\"gold returns\",\"gold returns\",\"gold returns\",\"gold returns\",\"gold returns\",\"gold returns\",\"gold returns\",\"gold returns\",\"gold returns\",\"gold returns\",\"gold returns\",\"gold returns\",\"gold returns\",\"gold returns\",\"gold returns\",\"gold returns\",\"gold returns\",\"gold returns\",\"gold returns\",\"gold returns\",\"gold returns\",\"gold returns\",\"gold returns\",\"gold returns\",\"gold returns\",\"gold returns\",\"gold returns\",\"gold returns\",\"gold returns\",\"gold returns\",\"gold returns\",\"gold returns\",\"gold returns\",\"gold returns\",\"gold returns\",\"gold returns\",\"gold returns\",\"gold returns\",\"gold returns\",\"gold returns\",\"gold returns\",\"gold returns\",\"gold returns\",\"gold returns\",\"gold returns\",\"gold returns\",\"gold returns\",\"gold returns\",\"gold returns\",\"gold returns\",\"gold returns\",\"gold returns\",\"gold returns\",\"gold returns\",\"gold returns\",\"gold returns\",\"gold returns\",\"gold returns\",\"gold returns\",\"gold returns\",\"gold returns\",\"gold returns\",\"gold returns\",\"gold returns\",\"gold returns\",\"gold returns\",\"gold returns\",\"gold returns\",\"gold returns\",\"gold returns\",\"gold returns\",\"gold returns\",\"gold returns\",\"gold returns\",\"gold returns\",\"gold returns\",\"gold returns\",\"gold returns\",\"gold returns\",\"gold returns\",\"gold returns\",\"gold returns\",\"gold returns\",\"gold returns\",\"gold returns\",\"gold returns\",\"gold returns\",\"gold returns\",\"gold returns\",\"gold returns\",\"gold returns\",\"gold returns\",\"gold returns\",\"gold returns\",\"gold returns\",\"gold returns\",\"gold returns\",\"gold returns\",\"gold returns\",\"gold returns\",\"gold returns\",\"gold returns\",\"gold returns\",\"gold returns\",\"gold returns\",\"gold returns\",\"gold returns\",\"gold returns\",\"gold returns\",\"gold returns\",\"gold returns\",\"gold returns\",\"gold returns\",\"gold returns\",\"gold returns\",\"gold returns\",\"gold returns\",\"gold returns\",\"gold returns\",\"gold returns\",\"gold returns\",\"gold returns\",\"gold returns\",\"gold returns\",\"gold returns\",\"gold returns\",\"gold returns\",\"gold returns\",\"gold returns\",\"gold returns\",\"gold returns\",\"gold returns\",\"gold returns\",\"gold returns\",\"gold returns\",\"gold returns\",\"gold returns\",\"gold returns\",\"gold returns\",\"gold returns\",\"gold returns\",\"gold returns\",\"gold returns\",\"gold returns\",\"gold returns\",\"gold returns\",\"gold returns\",\"gold returns\",\"gold returns\",\"gold returns\",\"gold returns\",\"gold returns\",\"gold returns\",\"gold returns\",\"gold returns\",\"gold returns\",\"gold returns\",\"gold returns\",\"gold returns\",\"gold returns\",\"gold returns\",\"gold returns\",\"gold returns\",\"gold returns\",\"gold returns\",\"gold returns\",\"gold returns\",\"gold returns\",\"gold returns\",\"gold returns\",\"gold returns\",\"gold returns\",\"gold returns\",\"gold returns\",\"gold returns\",\"gold returns\",\"gold returns\",\"gold returns\",\"gold returns\",\"gold returns\",\"gold returns\",\"gold returns\",\"gold returns\",\"gold returns\",\"gold returns\",\"gold returns\",\"gold returns\",\"gold returns\",\"gold returns\",\"gold returns\",\"gold returns\",\"gold returns\",\"gold returns\",\"gold returns\",\"gold returns\",\"gold returns\",\"gold returns\",\"gold returns\",\"gold returns\",\"gold returns\",\"gold returns\",\"gold returns\",\"gold returns\",\"gold returns\",\"gold returns\",\"gold returns\",\"gold returns\",\"gold returns\",\"gold returns\",\"gold returns\",\"gold returns\",\"gold returns\",\"gold returns\",\"gold returns\",\"gold returns\",\"gold returns\",\"gold returns\",\"gold returns\",\"gold returns\",\"gold returns\",\"gold returns\",\"gold returns\",\"gold returns\",\"gold returns\",\"gold returns\",\"gold returns\",\"gold returns\",\"gold returns\",\"gold returns\",\"gold returns\",\"gold returns\",\"gold returns\",\"gold returns\",\"gold returns\",\"gold returns\",\"gold returns\",\"gold returns\",\"gold returns\",\"gold returns\",\"gold returns\",\"gold returns\",\"gold returns\",\"gold returns\",\"gold returns\",\"gold returns\",\"gold returns\",\"gold returns\",\"gold returns\",\"gold returns\",\"gold returns\",\"gold returns\",\"gold returns\",\"gold returns\",\"gold returns\",\"gold returns\",\"gold returns\",\"gold returns\",\"gold returns\",\"gold returns\",\"gold returns\",\"gold returns\",\"gold returns\",\"gold returns\",\"gold returns\",\"gold returns\",\"gold returns\",\"gold returns\",\"gold returns\",\"gold returns\",\"gold returns\",\"gold returns\",\"gold returns\",\"gold returns\",\"gold returns\",\"gold returns\",\"gold returns\",\"gold returns\",\"gold returns\",\"gold returns\",\"gold returns\",\"gold returns\",\"gold returns\",\"gold returns\",\"gold returns\",\"gold returns\",\"gold returns\",\"gold returns\",\"gold returns\",\"gold returns\",\"gold returns\",\"gold returns\",\"gold returns\",\"gold returns\",\"gold returns\",\"gold returns\",\"gold returns\",\"gold returns\",\"gold returns\",\"gold returns\",\"gold returns\",\"gold returns\",\"gold returns\",\"gold returns\",\"gold returns\",\"gold returns\",\"gold returns\",\"gold returns\",\"gold returns\",\"gold returns\",\"gold returns\",\"gold returns\",\"gold returns\",\"gold returns\",\"gold returns\",\"gold returns\",\"gold returns\",\"gold returns\",\"gold returns\",\"gold returns\",\"gold returns\",\"gold returns\",\"gold returns\",\"gold returns\",\"gold returns\",\"gold returns\",\"gold returns\",\"gold returns\",\"gold returns\",\"gold returns\",\"gold returns\",\"gold returns\",\"gold returns\",\"gold returns\",\"gold returns\",\"gold returns\",\"gold returns\",\"gold returns\",\"gold returns\",\"gold returns\",\"gold returns\",\"gold returns\",\"gold returns\",\"gold returns\",\"gold returns\",\"gold returns\",\"gold returns\",\"gold returns\",\"gold returns\",\"gold returns\",\"gold returns\",\"gold returns\",\"gold returns\",\"gold returns\",\"gold returns\",\"gold returns\",\"gold returns\",\"gold returns\",\"gold returns\",\"gold returns\",\"gold returns\",\"gold returns\",\"gold returns\",\"gold returns\",\"gold returns\",\"gold returns\",\"gold returns\",\"gold returns\",\"gold returns\",\"gold returns\",\"gold returns\",\"gold returns\",\"gold returns\",\"gold returns\",\"gold returns\",\"gold returns\",\"gold returns\",\"gold returns\",\"gold returns\",\"gold returns\",\"gold returns\",\"gold returns\",\"gold returns\",\"gold returns\",\"gold returns\",\"gold returns\",\"gold returns\",\"gold returns\",\"gold returns\",\"gold returns\",\"gold returns\",\"gold returns\",\"gold returns\",\"gold returns\",\"gold returns\",\"gold returns\",\"gold returns\",\"gold returns\",\"gold returns\",\"gold returns\",\"gold returns\",\"gold returns\",\"gold returns\",\"gold returns\",\"gold returns\",\"gold returns\",\"gold returns\",\"gold returns\",\"gold returns\",\"gold returns\",\"gold returns\",\"gold returns\",\"gold returns\",\"gold returns\",\"gold returns\",\"gold returns\",\"gold returns\",\"gold returns\",\"gold returns\",\"gold returns\",\"gold returns\",\"gold returns\",\"gold returns\",\"gold returns\",\"gold returns\",\"gold returns\",\"gold returns\",\"gold returns\",\"gold returns\",\"gold returns\",\"gold returns\",\"gold returns\",\"gold returns\",\"gold returns\",\"gold returns\",\"gold returns\",\"gold returns\",\"gold returns\",\"gold returns\",\"gold returns\",\"gold returns\",\"gold returns\",\"gold returns\",\"gold returns\",\"gold returns\",\"gold returns\",\"gold returns\",\"gold returns\",\"gold returns\",\"gold returns\",\"gold returns\",\"gold returns\",\"gold returns\",\"gold returns\",\"gold returns\",\"gold returns\",\"gold returns\",\"gold returns\",\"gold returns\",\"gold returns\",\"gold returns\",\"gold returns\",\"gold returns\",\"gold returns\",\"gold returns\",\"gold returns\",\"gold returns\",\"gold returns\",\"gold returns\",\"gold returns\",\"gold returns\",\"gold returns\",\"gold returns\",\"gold returns\",\"gold returns\",\"gold returns\",\"gold returns\",\"gold returns\",\"gold returns\",\"gold returns\",\"gold returns\",\"gold returns\",\"gold returns\",\"gold returns\",\"gold returns\",\"gold returns\",\"gold returns\",\"gold returns\",\"gold returns\",\"gold returns\",\"gold returns\",\"gold returns\",\"gold returns\",\"gold returns\",\"gold returns\",\"gold returns\",\"gold returns\",\"gold returns\",\"gold returns\",\"gold returns\",\"gold returns\",\"gold returns\",\"gold returns\",\"gold returns\",\"gold returns\",\"gold returns\",\"gold returns\",\"gold returns\",\"gold returns\",\"gold returns\",\"gold returns\",\"gold returns\",\"gold returns\",\"gold returns\",\"gold returns\",\"gold returns\",\"gold returns\",\"gold returns\",\"gold returns\",\"gold returns\",\"gold returns\",\"gold returns\",\"gold returns\",\"gold returns\",\"gold returns\",\"gold returns\",\"gold returns\",\"gold returns\",\"gold returns\",\"gold returns\",\"gold returns\",\"gold returns\",\"gold returns\",\"gold returns\",\"gold returns\",\"gold returns\",\"gold returns\",\"gold returns\",\"gold returns\",\"gold returns\",\"gold returns\",\"gold returns\",\"gold returns\",\"gold returns\",\"gold returns\",\"gold returns\",\"gold returns\",\"gold returns\",\"gold returns\",\"gold returns\",\"gold returns\",\"gold returns\",\"gold returns\",\"gold returns\",\"gold returns\",\"gold returns\",\"gold returns\",\"gold returns\",\"gold returns\",\"gold returns\",\"gold returns\",\"gold returns\",\"gold returns\",\"gold returns\",\"gold returns\",\"gold returns\",\"gold returns\",\"gold returns\",\"gold returns\",\"gold returns\",\"gold returns\",\"gold returns\",\"gold returns\",\"gold returns\",\"gold returns\",\"gold returns\",\"gold returns\",\"gold returns\",\"gold returns\",\"gold returns\",\"gold returns\",\"gold returns\",\"gold returns\",\"gold returns\",\"gold returns\",\"gold returns\",\"gold returns\",\"gold returns\",\"gold returns\",\"gold returns\",\"gold returns\",\"gold returns\",\"gold returns\",\"gold returns\",\"gold returns\",\"gold returns\",\"gold returns\",\"gold returns\",\"gold returns\",\"gold returns\",\"gold returns\",\"gold returns\",\"gold returns\",\"gold returns\",\"gold returns\",\"gold returns\",\"gold returns\",\"gold returns\",\"gold returns\",\"gold returns\",\"gold returns\",\"gold returns\",\"gold returns\",\"gold returns\",\"gold returns\",\"gold returns\",\"gold returns\",\"gold returns\",\"gold returns\",\"gold returns\",\"gold returns\",\"gold returns\",\"gold returns\",\"gold returns\",\"gold returns\",\"gold returns\",\"gold returns\",\"gold returns\",\"gold returns\",\"gold returns\",\"gold returns\",\"gold returns\",\"gold returns\",\"gold returns\",\"gold returns\",\"gold returns\",\"gold returns\",\"gold returns\",\"gold returns\",\"gold returns\",\"gold returns\",\"gold returns\",\"gold returns\",\"gold returns\",\"gold returns\",\"gold returns\",\"gold returns\",\"gold returns\",\"gold returns\",\"gold returns\",\"gold returns\",\"gold returns\",\"gold returns\",\"gold returns\",\"gold returns\",\"gold returns\",\"gold returns\",\"gold returns\",\"gold returns\",\"gold returns\",\"gold returns\",\"gold returns\",\"gold returns\",\"gold returns\",\"gold returns\",\"gold returns\",\"gold returns\",\"gold returns\",\"gold returns\",\"gold returns\",\"gold returns\",\"gold returns\",\"gold returns\",\"gold returns\",\"gold returns\",\"gold returns\",\"gold returns\",\"gold returns\",\"gold returns\",\"gold returns\",\"gold returns\",\"gold returns\",\"gold returns\",\"gold returns\",\"gold returns\",\"gold returns\",\"gold returns\",\"gold returns\",\"gold returns\",\"gold returns\",\"gold returns\",\"gold returns\",\"gold returns\",\"gold returns\",\"gold returns\",\"gold returns\",\"gold returns\",\"gold returns\",\"gold returns\",\"gold returns\",\"gold returns\",\"gold returns\",\"gold returns\",\"gold returns\",\"gold returns\",\"gold returns\",\"gold returns\",\"gold returns\",\"gold returns\",\"gold returns\",\"gold returns\",\"gold returns\",\"gold returns\",\"gold returns\",\"gold returns\",\"gold returns\",\"gold returns\",\"gold returns\",\"gold returns\",\"gold returns\",\"gold returns\",\"gold returns\",\"gold returns\",\"gold returns\",\"gold returns\",\"gold returns\",\"gold returns\",\"gold returns\",\"gold returns\",\"gold returns\",\"gold returns\",\"gold returns\",\"gold returns\",\"gold returns\",\"gold returns\",\"gold returns\",\"gold returns\",\"gold returns\",\"gold returns\",\"gold returns\",\"gold returns\",\"gold returns\",\"gold returns\",\"gold returns\",\"gold returns\",\"gold returns\",\"gold returns\",\"gold returns\",\"gold returns\",\"gold returns\",\"gold returns\",\"gold returns\",\"gold returns\",\"gold returns\",\"gold returns\",\"gold returns\",\"gold returns\",\"gold returns\",\"gold returns\",\"gold returns\",\"gold returns\",\"gold returns\",\"gold returns\",\"gold returns\",\"gold returns\",\"gold returns\",\"gold returns\",\"gold returns\",\"gold returns\",\"gold returns\",\"gold returns\",\"gold returns\",\"gold returns\",\"gold returns\",\"gold returns\",\"gold returns\",\"gold returns\",\"gold returns\",\"gold returns\",\"gold returns\",\"gold returns\",\"gold returns\",\"gold returns\",\"gold returns\",\"gold returns\",\"gold returns\",\"gold returns\",\"gold returns\",\"gold returns\",\"gold returns\",\"gold returns\",\"gold returns\",\"gold returns\",\"gold returns\",\"gold returns\",\"gold returns\",\"gold returns\",\"gold returns\",\"gold returns\",\"gold returns\",\"gold returns\",\"gold returns\",\"gold returns\",\"gold returns\",\"gold returns\",\"gold returns\",\"gold returns\",\"gold returns\",\"gold returns\",\"gold returns\",\"gold returns\",\"gold returns\",\"gold returns\",\"gold returns\",\"gold returns\",\"gold returns\",\"gold returns\",\"gold returns\",\"gold returns\",\"gold returns\",\"gold returns\",\"gold returns\",\"gold returns\",\"gold returns\",\"gold returns\",\"gold returns\",\"gold returns\",\"gold returns\",\"gold returns\",\"gold returns\",\"gold returns\",\"gold returns\",\"gold returns\",\"gold returns\",\"gold returns\",\"gold returns\",\"gold returns\",\"gold returns\",\"gold returns\",\"gold returns\",\"gold returns\",\"gold returns\",\"gold returns\",\"gold returns\",\"gold returns\",\"gold returns\",\"gold returns\",\"gold returns\",\"gold returns\",\"gold returns\",\"gold returns\",\"gold returns\",\"gold returns\",\"gold returns\",\"gold returns\",\"gold returns\",\"gold returns\",\"gold returns\",\"gold returns\",\"gold returns\",\"gold returns\",\"gold returns\",\"gold returns\",\"gold returns\",\"gold returns\",\"gold returns\",\"gold returns\",\"gold returns\",\"gold returns\",\"gold returns\",\"gold returns\",\"gold returns\",\"gold returns\",\"gold returns\",\"gold returns\",\"gold returns\",\"gold returns\",\"gold returns\",\"gold returns\",\"gold returns\",\"gold returns\",\"gold returns\",\"gold returns\",\"gold returns\",\"gold returns\",\"gold returns\",\"gold returns\",\"gold returns\",\"gold returns\",\"gold returns\",\"gold returns\",\"gold returns\",\"gold returns\",\"gold returns\",\"gold returns\",\"gold returns\",\"gold returns\",\"gold returns\",\"gold returns\",\"gold returns\",\"gold returns\",\"gold returns\",\"gold returns\",\"gold returns\",\"gold returns\",\"gold returns\",\"gold returns\",\"gold returns\",\"gold returns\",\"gold returns\",\"gold returns\",\"gold returns\",\"gold returns\",\"gold returns\",\"gold returns\",\"gold returns\",\"gold returns\",\"gold returns\",\"gold returns\",\"gold returns\",\"gold returns\",\"gold returns\",\"gold returns\",\"gold returns\",\"gold returns\",\"gold returns\",\"gold returns\",\"gold returns\",\"gold returns\",\"gold returns\",\"gold returns\",\"gold returns\",\"gold returns\",\"gold returns\",\"gold returns\",\"gold returns\",\"gold returns\",\"gold returns\",\"gold returns\",\"gold returns\",\"gold returns\",\"gold returns\",\"gold returns\",\"gold returns\",\"gold returns\",\"gold returns\",\"gold returns\",\"gold returns\",\"gold returns\",\"gold returns\",\"gold returns\",\"gold returns\",\"gold returns\",\"gold returns\",\"gold returns\",\"gold returns\",\"gold returns\",\"gold returns\",\"gold returns\",\"gold returns\",\"gold returns\",\"gold returns\",\"gold returns\",\"gold returns\",\"gold returns\",\"gold returns\",\"gold returns\",\"gold returns\",\"gold returns\",\"gold returns\",\"gold returns\",\"gold returns\",\"gold returns\",\"gold returns\",\"gold returns\",\"gold returns\",\"gold returns\",\"gold returns\",\"gold returns\",\"gold returns\",\"gold returns\",\"gold returns\",\"gold returns\",\"gold returns\",\"gold returns\",\"gold returns\",\"gold returns\",\"gold returns\",\"gold returns\",\"gold returns\",\"gold returns\",\"gold returns\",\"gold returns\",\"gold returns\",\"gold returns\",\"gold returns\",\"gold returns\",\"gold returns\",\"gold returns\",\"gold returns\",\"gold returns\",\"gold returns\",\"gold returns\",\"gold returns\",\"gold returns\",\"gold returns\",\"gold returns\",\"gold returns\",\"gold returns\",\"gold returns\",\"gold returns\",\"gold returns\",\"gold returns\",\"gold returns\",\"gold returns\",\"gold returns\",\"gold returns\",\"gold returns\",\"gold returns\",\"gold returns\",\"gold returns\",\"gold returns\",\"gold returns\",\"gold returns\",\"gold returns\",\"gold returns\",\"gold returns\",\"gold returns\",\"gold returns\",\"gold returns\",\"gold returns\",\"gold returns\",\"gold returns\",\"gold returns\",\"gold returns\",\"gold returns\",\"gold returns\",\"gold returns\",\"gold returns\",\"gold returns\",\"gold returns\",\"gold returns\",\"gold returns\",\"gold returns\",\"gold returns\",\"gold returns\",\"gold returns\",\"gold returns\",\"gold returns\",\"gold returns\",\"gold returns\",\"gold returns\",\"gold returns\",\"gold returns\",\"gold returns\",\"gold returns\",\"gold returns\",\"gold returns\",\"gold returns\",\"gold returns\",\"gold returns\",\"gold returns\",\"gold returns\",\"gold returns\",\"gold returns\",\"gold returns\",\"gold returns\",\"gold returns\",\"gold returns\",\"gold returns\",\"gold returns\",\"gold returns\",\"gold returns\",\"gold returns\",\"gold returns\",\"gold returns\",\"gold returns\",\"gold returns\",\"gold returns\",\"gold returns\",\"gold returns\",\"gold returns\",\"gold returns\",\"gold returns\",\"gold returns\",\"gold returns\",\"gold returns\",\"gold returns\",\"gold returns\",\"gold returns\",\"gold returns\",\"gold returns\",\"gold returns\",\"gold returns\",\"gold returns\",\"gold returns\",\"gold returns\",\"gold returns\",\"gold returns\",\"gold returns\",\"gold returns\",\"gold returns\",\"gold returns\",\"gold returns\",\"gold returns\",\"gold returns\",\"gold returns\",\"gold returns\",\"gold returns\",\"gold returns\",\"gold returns\",\"gold returns\",\"gold returns\",\"gold returns\",\"gold returns\",\"gold returns\",\"gold returns\",\"gold returns\",\"gold returns\",\"gold returns\",\"gold returns\",\"gold returns\",\"gold returns\",\"gold returns\",\"gold returns\",\"gold returns\",\"gold returns\",\"gold returns\",\"gold returns\",\"gold returns\",\"gold returns\",\"gold returns\",\"gold returns\",\"gold returns\",\"gold returns\",\"gold returns\",\"gold returns\",\"gold returns\",\"gold returns\",\"gold returns\",\"gold returns\",\"gold returns\",\"gold returns\",\"gold returns\",\"gold returns\",\"gold returns\",\"gold returns\",\"gold returns\",\"gold returns\",\"gold returns\",\"gold returns\",\"gold returns\",\"gold returns\",\"gold returns\",\"gold returns\",\"gold returns\",\"gold returns\",\"gold returns\",\"gold returns\",\"gold returns\",\"gold returns\",\"gold returns\",\"gold returns\",\"gold returns\",\"gold returns\",\"gold returns\",\"gold returns\",\"gold returns\",\"gold returns\",\"gold returns\",\"gold returns\",\"gold returns\",\"gold returns\",\"gold returns\",\"gold returns\",\"gold returns\",\"gold returns\",\"gold returns\",\"gold returns\",\"gold returns\",\"gold returns\",\"gold returns\",\"gold returns\",\"gold returns\",\"gold returns\",\"gold returns\",\"gold returns\",\"gold returns\",\"gold returns\",\"gold returns\",\"gold returns\",\"gold returns\",\"gold returns\",\"gold returns\",\"gold returns\",\"gold returns\",\"gold returns\",\"gold returns\",\"gold returns\",\"gold returns\",\"gold returns\",\"gold returns\",\"gold returns\",\"gold returns\",\"gold returns\",\"gold returns\",\"gold returns\",\"gold returns\",\"gold returns\",\"gold returns\",\"gold returns\",\"gold returns\",\"gold returns\"],\"date\":{\"__ndarray__\":\"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\",\"dtype\":\"float64\",\"order\":\"little\",\"shape\":[1638]},\"value\":{\"__ndarray__\":\"AAAAAAAA+H8AAAAAAAD4fwAAAAAAAPh/AAAAAAAA+H8AAAAAAAD4fwAAAAAAAPh/AAAAAAAA+H8AAAAAAAD4fwAAAAAAAPh/AAAAAAAA+H8AAAAAAAD4fwAAAAAAAPh/AAAAAAAA+H8AAAAAAAD4fwAAAAAAAPh/AAAAAAAA+H8AAAAAAAD4fwAAAAAAAPh/AAAAAAAA+H8AAAAAAAD4fwAAAAAAAPh/AAAAAAAA+H8AAAAAAAD4fwAAAAAAAPh/AAAAAAAA+H8AAAAAAAD4fwAAAAAAAPh/AAAAAAAA+H8AAAAAAAD4fwAAAAAAAPh/AAAAAAAA+H8AAAAAAAD4fwAAAAAAAPh/AAAAAAAA+H8AAAAAAAD4fwAAAAAAAPh/AAAAAAAA+H8AAAAAAAD4fwAAAAAAAPh/AAAAAAAA+H8AAAAAAAD4fwAAAAAAAPh/AAAAAAAA+H8AAAAAAAD4fwAAAAAAAPh/AAAAAAAA+H8AAAAAAAD4fwAAAAAAAPh/AAAAAAAA+H8AAAAAAAD4fwAAAAAAAPh/AAAAAAAA+H8AAAAAAAD4fwAAAAAAAPh/AAAAAAAA+H8AAAAAAAD4fwAAAAAAAPh/AAAAAAAA+H8AAAAAAAD4fwAAAAAAAPh/AAAAAAAA+H8AAAAAAAD4fwAAAAAAAPh/AAAAAAAA+H8AAAAAAAD4fwAAAAAAAPh/AAAAAAAA+H8AAAAAAAD4fwAAAAAAAPh/AAAAAAAA+H8AAAAAAAD4fwAAAAAAAPh/AAAAAAAA+H8AAAAAAAD4fwAAAAAAAPh/AAAAAAAA+H8AAAAAAAD4fwAAAAAAAPh/AAAAAAAA+H8AAAAAAAD4fwAAAAAAAPh/AAAAAAAA+H8AAAAAAAD4fwAAAAAAAPh/AAAAAAAA+H8AAAAAAAD4fwAAAAAAAPh/AAAAAAAA+H8AAAAAAAD4fwAAAAAAAPh/AAAAAAAA+H8AAAAAAAD4fwAAAAAAAPh/AAAAAAAA+H8AAAAAAAD4fwAAAAAAAPh/AAAAAAAA+H8AAAAAAAD4fwAAAAAAAPh/AAAAAAAA+H8AAAAAAAD4fwAAAAAAAPh/AAAAAAAA+H8AAAAAAAD4fwAAAAAAAPh/AAAAAAAA+H8AAAAAAAD4fwAAAAAAAPh/AAAAAAAA+H8AAAAAAAD4fwAAAAAAAPh/AAAAAAAA+H8AAAAAAAD4fwAAAAAAAPh/AAAAAAAA+H8AAAAAAAD4fwAAAAAAAPh/AAAAAAAA+H8AAAAAAAD4fwAAAAAAAPh/AAAAAAAA+H8AAAAAAAD4fwAAAAAAAPh/AAAAAAAA+H8AAAAAAAD4fwAAAAAAAPh/AAAAAAAA+H8AAAAAAAD4fwAAAAAAAPh/AAAAAAAA+H8AAAAAAAD4fwAAAAAAAPh/AAAAAAAA+H8AAAAAAAD4fwAAAAAAAPh/AAAAAAAA+H8AAAAAAAD4fwAAAAAAAPh/AAAAAAAA+H8AAAAAAAD4fwAAAAAAAPh/AAAAAAAA+H8AAAAAAAD4fwAAAAAAAPh/AAAAAAAA+H8AAAAAAAD4fwAAAAAAAPh/AAAAAAAA+H8AAAAAAAD4fwAAAAAAAPh/AAAAAAAA+H8AAAAAAAD4fwAAAAAAAPh/AAAAAAAA+H8AAAAAAAD4fwAAAAAAAPh/AAAAAAAA+H8AAAAAAAD4fwAAAAAAAPh/AAAAAAAA+H8AAAAAAAD4fwAAAAAAAPh/AAAAAAAA+H8AAAAAAAD4fwAAAAAAAPh/AAAAAAAA+H8AAAAAAAD4fwAAAAAAAPh/AAAAAAAA+H8AAAAAAAD4fwAAAAAAAPh/AAAAAAAA+H8AAAAAAAD4fwAAAAAAAPh/AAAAAAAA+H8AAAAAAAD4fwAAAAAAAPh/AAAAAAAA+H8AAAAAAAD4fwAAAAAAAPh/AAAAAAAA+H8AAAAAAAD4fwAAAAAAAPh/AAAAAAAA+H8AAAAAAAD4fwAAAAAAAPh/AAAAAAAA+H8AAAAAAAD4fwAAAAAAAPh/AAAAAAAA+H8AAAAAAAD4fwAAAAAAAPh/AAAAAAAA+H8AAAAAAAD4fwAAAAAAAPh/AAAAAAAA+H8AAAAAAAD4fwAAAAAAAPh/AAAAAAAA+H8AAAAAAAD4fwAAAAAAAPh/AAAAAAAA+H8AAAAAAAD4fwAAAAAAAPh/AAAAAAAA+H8AAAAAAAD4fwAAAAAAAPh/AAAAAAAA+H8AAAAAAAD4fwAAAAAAAPh/AAAAAAAA+H8AAAAAAAD4fwAAAAAAAPh/AAAAAAAA+H8AAAAAAAD4fwAAAAAAAPh/AAAAAAAA+H8AAAAAAAD4fwAAAAAAAPh/AAAAAAAA+H8AAAAAAAD4fwAAAAAAAPh/AAAAAAAA+H8AAAAAAAD4fwAAAAAAAPh/AAAAAAAA+H8AAAAAAAD4fwAAAAAAAPh/AAAAAAAA+H8AAAAAAAD4fwAAAAAAAPh/AAAAAAAA+H8AAAAAAAD4fwAAAAAAAPh/AAAAAAAA+H8AAAAAAAD4fwAAAAAAAPh/AAAAAAAA+H8AAAAAAAD4fwAAAAAAAPh/AAAAAAAA+H8AAAAAAAD4fwAAAAAAAPh/AAAAAAAA+H8AAAAAAAD4fwAAAAAAAPh/AAAAAAAA+H8AAAAAAAD4fwAAAAAAAPh/AAAAAAAA+H8AAAAAAAD4f98ev5rPGcM/eG5QZKcbwz9ekfb0zRvDPzyZM3aCGMM/vfuUeWlDwz+8LnQMsEbDP5yGT90IVsM/JpkrfDZXwz9aBYyVyF7DP37X5DHSXcM/nHWsaWqJwz/bzWSKJojDPzJ4k3nFjsM/7F3mLlBswz/MwGkGUV3DP7YOegTOZsM/N/yx2Bhqwz+JFI6z4E3DPzRVAxC4XcM/ltFi7HBdwz99cjaKX13DP//M5RAoXcM/wlW4TUBewz+qe6EEHGbDP/g0TDinY8M/lhS4yKpgwz9MMyGsf1/DPzwMYohaTcM/hVxjK4hVwz+7jyWfE5rDP1WDFzh4nMM/TCJP9WKdwz8ED1hmKpPDP/SAC0olYsM/n/k8Xkpiwz8gd0YZcHrDP1e/Lsa6VMM/DXujJwpUwz8ntdVhXBXDPxlbUVf8DsM/GeNYU/8Nwz/wtFHS3A3DP2VtZUy2IcM/W8YCc2Dxwj830yxHFPrCP94XdWVm6sI/SNQGrfPxwj8J4d6Sl/fCP5c5Z6iS9MI/ommVVfIGwz9G77ZpnxDDP3ad+mPbEMM/2qCkipzzwj9MG7gbKeHCP1fE2qTuDsM/QUOBT24Uwz+W65Nzrv7CPyLpHnP5/MI/hTS8aiCRwj9WlLnurJLCP5+WqY8xn8I/E9tF5+Oewj/xRUmo2afCPyICDzJG4MI/IK5xCov5wj9Q67XNuxLDP6UTg/zDFsM/qGEaYvYFwz8FKt7QOgzDPykUR6iz9sI/bEIvyX7uwj8TUMoDgu3CP4IV2Kc/2sI/Wgj47Zzwwj8Gev4nSNfCP7QZQCB81sI/2lU18dvpwj/wKrJA3fHCP9Z55UcJ7cI/4Ta5ndngwj/DPwTaDOHCP+rtwd4a8cI/pLtgIuLKwj9771bCR7/CP5B8lLrrxsI/RqKl19nLwj9zgA5t6sfCPyKAIdgPzcI/p4P7TTbawj8RDXrbAdHCP39ffnlAz8I/hMY2mTSPwj8GfGBnG3HCP6AARq7mcMI/Kyp91b5xwj8AXxDAl4jCPzofwtN5iMI/wjQa8Cbawj/TRNZ+ndbCP2lym5DK0cI/XMG5LS2fwz++DLoSoqTDP2jBry6I5cM/NgdhslLOwz89cXBbFtnDP3F8wodt1sM/Dy/ymrn0wz8Jt0cvCf/DP6JuCUeYEMQ/awm31YUPxD++j6Ds3SHEP70EmKn9LsQ/sVPHqyUuxD83StGu1zTEP8DypytKRcQ/PhV3IjVNxD+Jqah2zATEP8L+Sv6vBMQ/wcXhW4kDxD9qGvH9rwrEP1R9mjYKF8Q/BRFrFHUlxD/jDgXDcTPEP2JBcwlYMcQ/VS7hLmuDxD+S/G6KU3TEP9B9E5+OacQ/gtIaoA1qxD8u7wxIlZHEP5vEMmHgj8Q/sh2Pgd2LxD/nUTxKXZrEP4lgmic/j8Q/biivDVqSxD8rxJIpNG/EP6hj0SC1bMQ/ViUHs+1dxD9mrZ6U01vEP3gcoRJlZMQ/knwGCiVgxD888mbpw2TEP0DnsjzuYsQ/O8E9oHNqxD/gD+P/U4XEPz/gb/6niMQ/2vsEqhOHxD8VfyU2MpnEP2jK7i83k8Q/pOSOlcGBxD/4ZMxrsJnEP2cwTQs6hcQ/9iYbBu5LxD/rwa80IkfEP5IWpv3fVsQ/IA9mw2JDxD+nhJLSsT/EP+bCVbNtNsQ/IdxCS6hHxD+ukzcQN0fEP/Yb+xqIXsQ/60++DA6LxD/bgh5KfYjEPwxA4TtVicQ/f1uVjK1bxD/OVQZxnljEP9HV7323WMQ/2PkIzNZYxD8LOk63bzrEPyHTTzZMU8Q/PxrfC/tRxD88EyK5IVLEPzdU34r+XcQ/8AhNNv1fxD9UC5XQlmDEP/u+0INnY8Q/Zag2dFZjxD8rorOJpmHEPw2ipOVmW8Q/U+3eKYeTxD/mU/wik5DEP3tG1xWtjsQ/7X+XB4ucxD850Abyvp3EPzBwn0sRm8Q/jeNbwd6hxD+ZaS6fNp/EP0zX5482ncQ/ESn2iJChxD+A3vSOnnXEPyS9zmIjdsQ/vkKmSxZ3xD8lRSVQDHPEP1LbZhU1dcQ/vtG1CitMxT9VQxnyTkzFP3KceDIETsU/csl+73tNxT9o/9Yj9E7FP+qkv7E6XcU/ZTjfjbdqxT/90jTAS03FP6SZFCN4R8U/fNc7PZ9GxT/unauWpEbFP1HLhwdiX8U/PuDyH+9hxT/R3lzeSmbFP5xUAenJZsU/RcY0c5VaxT/VF4/0zibFP9bYMp37L8U/UbRfDOcoxT9Ov0HFtyzFP6d8MgDkJsU/4nb4n2gexT97nyztph/FP56DxnorH8U/RFetzGgqxT8JdXeu7CfFPxIssdzxK8U/u40E3dQwxT+tk8Na6y3FPwbI0YPbSsU/45sXBxJLxT8Loh/kNUXFP4O5mg2uRcU/nqornZ00xT9KySKiZzLFP4e368f+McU/7kaNdr80xT8v3PEXlDjFP300O2x5M8U/KMjEwIsNxT/9W8aHqAvFPyLoMP5PCMU/4eDGrWYFxT8Ymrxu9/bEP4SelSVG9sQ/gxkvz2ruxD+2gOI+YvbEP1e7KqEC9cQ/xo6/yIDyxD9dK+trGfDEPxBgh2KRFsU/DHGO240YxT+a1jBpkf/EP1aOpJ2L/8Q/f2YMAocBxT8kazCrHAHFP2eeXJOM/sQ/MmN0yBXvxD+wXS/e0fLEP0KYjTkN1cQ/OkA/FYbSxD9S19RKOdXEPyw/NHOU28Q/s3/F4zW4xD8WYn91xbLEP1f4/0oersQ/k6OTlLyuxD8UpIBHiKLEP32KGu9Ep8Q/4EAlP1iAxD8SuGK9F/DEP7gAV5YT68Q/Ras+f8X6xD8Xs0rzLfnEPyQPx4N58MQ/EmUdSMfrxD9MZNkaiezEP/ylnjR93sQ/b/yUsoDaxD/EvnUBTtvEPzqb8zPm1cQ/3tH4GQXVxD9xWTGrfczEP7ljARSLzcQ/QGrqvyDSxD/vxBvR8dTEP6U5A11Z1cQ/rctoolHRxD+hJE05xY7EP045MXGdmMQ/Bf5RglGtxD9usPMUq4fEP5v4zwbBgcQ/1tSxlmCpxD/u9PU6uZHEP9KLQ5HhkcQ/LU0W2NmVxD/SZOl4bRTFP28cHgwIE8U/EsjK4xsTxT+QsBI2chbFPwtJHzfZBsU/jgX8gdcGxT89TDHHVwDFP31y4dVnIsU/5GMK598ixT+jE9dSqijFP2Fv/IrQJ8U//bQ3DsYqxT9q8ncZvSTFP4JqICWKKMU/OeD3csQfxT8CHIqZ0x7FP6ebTUHp9cQ/AqcsBwvyxD8bzUCQoPrEPyS76SiS+8Q/OQop7F39xD8ClPgsqv3EPzwNnpbnRMU/LtoKAIFIxT+fT3S9JjfFP4SOqW3C/MQ/9vnHoyPoxD8rTHgbidPEPzEU3R5+z8Q/wtXFSbHOxD8UnPiQ98nEPy59tv0128Q/h1uEZs3axD8bXTD428bEP24W35F+x8Q/ic210LDGxD+eCwaf88rEP5zAO20zxcQ/HvN2ufCwxD99W/1e6LDEPwApzIE4scQ/MmKIT3unxD9dUuxT5bnEP3NHBxrKqMQ/yV+ZYFeXxD/N+tpIjpfEP3WbKz6/hsQ/CntoZKGCxD+RyxXW647EPy/OIIt8jcQ/6rgMDHF6xD/Uz77DNHnEP4WgXSdaicQ/7feBLCuKxD/DrkNWD4jEP2Jtp9QbiMQ/ZWhKhqOBxD/D004Blm7EP56LdDwzb8Q/HeX+dmj0wz8axaM4cPTDP/0fdCZX+sM/qBb3Lnolwz+VOgVIfiTDPw2xiC254sI/cu305n/iwj8QGGRgqNHCP5YJFtKa0sI/iQly5fHJwj8cyIqky8DCPwrQ2a/urMI/leZXLKGuwj8WBKBQXZbCPxZG5Q6znMI/yCkMJM6ewj8XvjLNLJbCP8ygI+AKicI/fX/ZabmAwj+JagvBdoDCP+OWEPuVgMI/gUQj59d+wj9+92w+Rm3CP8O9ECBdYcI/g3duQHaKwj/Jme602nzCPwL/VsfOfcI/dwrph4Arwj/yttI49CPCP/nri+3wHMI/e8VucqMbwj9xyy/0/fHBP18RbXqE8cE/3qvogp7xwT+9ILFr7ePBP3y4yXhP3sE/1tJmWCPbwT+Vdapk8tDBP1N81+aY1sE/AJM9GfHPwT+tQnZ5MM7BPwbp1HJ0wME/zHC6xaDbwT/6yejhps3BP/FM5JUc1cE/MTQj37bJwT/0rZ05zKTBP5GIl+Xtp8E/uCTys+2nwT+c5FO8AY3BP4bfn60Cl8E/AgxDPmydwT+o9l9KR37BPzcvc6ljdsE/v/VAYP11wT8+EZXWyH7BPwUJWGGSasE/5BA8rohFwT+S6GGtnmHBP8bDG7XEYME/KKQfpjNLwT9tjg1vflTBP1vVTjK+McE/ushNqDX+wD+jhsNPGf/AP/zWrDSH9sA/Epa3Ca/4wD9MFVewpyHBP2Cw/1YRJME/InvbPYojwT+6e7gCHyjBPxct9MLsDcE/f8VdYCAOwT9mGJMm3Q7BP3xBt5Mb8sA/y083qgvywD/9KQsfQfjAP6AiEyXN9sA/prQWFcP9wD/5MsN6Rf3AP/agi101DcE/y/cY2TPCwD8jfRPIfM/AP48fXWtX1MA/gRINu+HBwD+uSON1ZbnAP3n3tDptvMA/rnYJX9LTwD854gy4+tPAP+YRJ3hz28A/LlZiLfLTwD/cz8LDmdPAP1ecKXa01MA/iV9huU6+wD9xDegul8XAPzl9mA0DwsA/9tbTYylNvz/vZYECJ06/PwUhQ1aZSL8/93e3P+eBvz81Wan8t36/P8lUvX/+Z78/HLhaxUgtvz9sIy8D7CG/P+U0ilfyI78/u/R5mvwivz+i4hCv/De/P+5LqNsaAr8/GjzETfsDvz8BseNTmvK+P2yIhdMw8r4/ity82C0Cvz+elmEDbwC/P1+9TU1X6b4/LUs4zu7Tvj+QS0OQo+C+P4tLpIF77L4/6mKhvYvsvj8jsLn4Pe2+PwccEezt574/6PN8uxq+vj9KeESsaMu+P1h/IcOasL4/4v4q9Lqnvj/8LSrYAdi+P+tjTV1fo74/GcW88QKlvj/7qy0yuaG+P/EggkK1rr4/4wjzFVOwvj8rGjHtqrm+PyB6ToBctr4/4J2Bo3+qvj92ezFwzaa+P/9ZiQXonb4/Kvtu1MONvj+K/iZHFpO+P7u1G2T0wr4/LZHiHAKdvj+CxfJIGJ6+PxvAkr5RqL4/Snw3vNyyvj+o5S1pNMC+PxMfXkfYwL4/kwspXVrPvj8uQErdU8C+P2vEjjbFbb4/G8GRBj5rvj8vyQ6k9mW+P0E2q7lEX74/lyg2nCpVvj/yDu1xK3S+P8VxBIopc74/HF1EZXZuvj+W+zQEVq6+P/1Vs1Lvpb4/eH2cgeLDvj/Meo4yX7e+P3vjPcr4t74/6FoWZXG3vj9+CfdMw7i+P91wRPbZqL4/yRDgF8Sivj9G/Z21wKK+P07SXV1Mmr4/QxWxhhWYvj8F2Bj3/3+9P55VnwjVjL0/ceLmQNxlvT/Dxg8m4m69P27wf73/dr0/wZv5m752vT/ATRjRe6W9PyzyTGuMpr0/BoQgN2+uvT+WApUJPbe9P7EQTA94rr0/6JVQ1c+uvT/oOWhG0q69PyfJsausur0/rdgU4iyqvT9KRRxPqKa9P9LesPvyrb0/LaBEXausvT8e6AgR7am9PwmWJ8Q5j70/kt+w8NxkvT+cJ9d60Ga9P9uVgZi8cb0/PtCWVIUKvT+oDmHj6iS9P3IasaoBKb0/NeKFBdcivT9CRmts0bm7Pwm3UJePuLs/65QV8ED1uz8xTACtbT28P2qKAkSqNrw/mf4WnkVJvD+ExEXlpEm8P82yFsQV5Ls/B41o9G7nuz/7f/208te7P+xUlr8F27s/4oA+G6Gduz9eCKyp4bm7PxVcLPVTrLs/klX/auPNuz8AUA1lsci7P26K+Konvrs/aoXVrnq9uz/z6sPacKy7P2Tc+ZPctbs/MLTjEEKquz+IXLLFBbG7P3WloCWOqLo/SnMF7w+huj8BsxyCvJu6P5U34gm3kLo/35kmsxeduj9VaxP98pu6PxjH2k87oro/J/umx3S1uj8JqNTxGb26P5oUTfRqfLo/+asYacJxuj9JS7sfwFq6PwjnErHzWbo/iCN3/q4suj+BwFqsaiG6P+9v1XPyBbo/BZDKZmQhuj8UY85frwa6P+XXi+yvBbo/ZJfGtXgeuj/hsoHAO+i5P91G+Uda6Lk/TBTxKEPRuT+U3KcnKhW6Px2sC8tZBLo/lb8yGg4Vuj9qn22CjB66P+GJN1FjELo/xsmZTFcTuj+VZiSTRiW6PzOUN25K87k/gQexY7D6uT9g3b1AoQq6P7ETdmCqDro/wF2Q7/L2uT/vAiFkXwm6P1ZYL8avCbo/KzzRz7WLuj8EFyiNFI66P0xvqFosd7o/DEiA2wniuj+nLIBzt9a6P3jULO/Bybo//oHf3pPJuj9ZpffQT8q6P7lqzrFS7ro/EsrKBBisuj/tl1t6ycG6P0r94p9D/bo/AwdhlRz6uj8DtiI1ICC7P6pE2qwK77o/qqrpDRrtuj8xj4VbeO26Pzy8P2J727o/C23jInHXuj/jo1MC3s66P2KiQ1Wn2bo/24NIGNHfuj8EG8LSMOS6Pz5CEokG6ro/YCyraUBluj9rdzeZ8mi6P5aoCFuYv7o/QqG3Riyluj8I6ggeIcO6PyKrk0HY9ro/6Wbi1DD3uj8YpMFPlS27P74dpLaaPbs/x0nM7NY9uz/VJeZvLke7Pz6yhC+hT7s/6neZ03pQuz+AHTXYc1K7P5xi/DSwYLs/GYkeUfmVuz8qjJ/7ipm7P4G0/pftl7s/5rCeMJZLuz9SU+0EI0u7P1Jp2se0Ors/8gjNEvdKuz/n/G1nzG27P+WRjmjdZrs/QQ44E555uz9YWCjzz3i7PxQPFGS4Ybs/3tzXin9Quz+9AODaImq7Pweaf80Zars/OUU1P3Z0uz/dCSNMcVS7P/N05SMUVLs/FT08aF9Euz9mbSBZzfK6P8uI2M7yALs/rN6ftdMBuz8BoUkIUei6PylJ3Wjscrs/i6HI4bRtuz8niuFDi2y7P+mEh24pbLs/0yCaBHxkuz+ZV5RZ1P+6P1puRp8J+ro/QVbj0aQfuz9CBwjOsRO7PwAPBhOlELs/xd3P7IcQuz8IKsPo/Q67P6OSJBjE+bo/HbeZWDb0uj/qrSwi5OS6P8oF7/nV37o/XFNQyvTNuj9AKXho8sy6P7KVcU+Nobo/nQCSdsKguj/5bfvnnny6Pxqi1et6ebo/ICJhg1cZuz+/aV0jxBm7P/MbiPB7ELs/I4Ebs8fBuj86hFxKdMS6P6aPJTnSsLo/PgjMu0yvuj9cF6ogh766P6eZlfQEvro/lb2JZy20uj/WMHzF8KK6P/Gs8v2zvbo/zgbmAXL7uj9/BwCDTvq6P7J+hEd2+ro/WzJ8XDqpuj+1kS1pg8G6Pzl+tc99mro/qUqZzlyeuj+QrNs3gZ66P6mdpbx4uro/22QyBcy5uj9BSn8Xlqa6P6NL3Qwrqbo/ObhqyxWhuj/ikLzqFKG6P+ODvB1Zqro/SzO4GVOfuj8cZ+YivaC6PxDWpBMooLo/rUDcYBWguj/K+Ri0qo+6PyO/sJ9xiro/s3EE7wqNuj9tRhmTsYu6P8+UZ8vzi7o/vRS/I1yLuj9Th4glQHq6P3F77OlWero/QRtJAbDMuj94KrLNqZS6P5uq8Crur7o/fGQ0VV+suj/ysN/vrqq6P2wHCtzmsLo/cq9NCNO2uj+Oznqbr6e6P+++uohhubo/NpdgqV4Juz8mWrmE0gW7P8C1Z0oIA7s/PIf/eKsDuz+r1ffBJwW7P22sxMAZzbo/0KhVEKjVuj+qNWcKadO6P4Hz2smLyLo/QuhipsW9uj9steoH55O6P+dQfMbUkbo/0Iv5oYGOuj+L2AK6LY+6P644aXHnc7o/V+8ZSsN4uj+qLg+qDne6P5kHC94Ofro/4k16jbF/uj+9RWuTyXG6PyOEDxF5dLo/lUVigIBtuj+/26zQgSK6P+770o+YPbo/17u6VHUtuj/Td1BykSC6P7p9eXzrNro/5xWQq/04uj8cGD8/gja6P3CpM3BwLLo/fTWpX9pouj8knr8HyWm6P44HyL6yaLo/O7XUSAVuuz9amIHOC1+7P6syCgPTXrs/fD1KmjNbuz/YegKwZlK7PzPB7SAaR7s/cJVoxPZGuz9ToWhNOBe7P8j4tVGENbs/CQaDQr4xuz+4QUpz9yG7P8ZhOZqFJLs/8Y+mM9kvuz+APJ5hZjC7PyWwfJp+Nrs/qoCwph6suz+8L4zD3aq7P2wUiuXyobs/ec0S/OOeuz/Mg3FLDaC7PxH/VKZPlbs/RXltJdSquz97j1lsQaq7PywxyDdgnrs/M5u+Qgesuz8q4M8QnZK7P1ePjtajm7s/kqAenkmZuz/4/ez/H5i7PzYlKkDpobs/S58morlmuz91AWSH+CW7P+45YGI/NLs/C9KmmUUguz91LN/m6SG7P+TiVwIESrs/LFBQ9Zc4uz+SU9/+wCu7P8/hojoxNbs/uKeoSlIzuz+UyeUSdBW7P4n4+hR1Frs/3+XUMR32uj/E6G/Dc/i6P7p0ESDzDbs/R3XmJ/8Iuz/4nYY3GgG7P7ln0qwjDbs/BWlDMPofuz/AF2vnS0K7PypHqRwoTrs/uf+ODt9Juz/Bt7/BKEq7P00VAhEMP7s/iOpOxZZGuz9UK9Zwe1S7P6OUyI9BTrs/AAmxdwc1uz+zK8ftDzK7P5fn/0mrNLs/1xYktuQzuz+vBot3iTS7P6DIU8WLNbs/Kcwq2Nwyuz/nRPlc7yy7PzKS2x8bPLs/joGtDKQeuz9ZgCeJ7B27P1QNVeVNH7s/wwbQwl1Huz/GpHus0EW7P/jI/WXxS7s/DeEL02BIuz/EgEgMhBK7P2kTZYpWDLs/3eJ271X6uj+WAH5a1c26P5DFe7laz7o/orz3Oj7Kuj8pBcN/frq6P44viyd2wro/UYCaGRq7uj/zWPuV15W6P0WfYVfhkLo/F4IlfNuauj89n1Cq1tu6P8wtdSru2ro/KQ7U1DGZuj8uJOc7VZ26P8EKcpT2nro/rvW5JbY3uj/WpgiBckG6P26eQjfARbo/uqGnFzF2uj/ajY7g1o26P2WcHS9vZro/vu6eby1ouj/8tGjKZUu6P6hRApOXLro/Bvz+yp85uj8L1GMCsxe6P+mqJoriJbo/0ukXhkREuj8jqMRqx1C6P5MZ866VT7o/ADLirvZLuj8hSp6mSk+6PyN04gzjSro/yqKElPNKuj8kdX7i/Fi6Pwn2ssSXXbo/MkCsJBlQuj8Gx2mAFZS6P+IEVzGEN7o/iL4beDk2uj8NDiersRm6P9U0Bunw5bk/VsbyYMHluT/othtjlJ+5Pzbl6lOMmbk/Di++iwiguT+TYTOUJ465P0+THxnK0rk/Isz0X+LPuT/UulQhJ8y5P7/Xgk8Wy7k/ABhYIoKSuT+IigubW4q5P/pkmTVzibk/gVfcx5eMuT9rBG+C0ZG5P4dMa+3Ojrk/Arr3qqSOuT/8gUqeyXG5Pxbw4eoUZrk/f9GaOn1TuT8/NjhZMWq5P5nXFawAerk/Eycj12V4uT8ajrECGly5P2xPFAAjX7k/ADaMWJZVuT/6KLs/zFW5P0cjQc+ff7k/Bl2l/D6FuT9U+zDOsIW5P1d2mKzVjLk/SzUocLyhuT9/eYkwTaG5P0KFs7uJE7k/kOeguLsTuT9MUi2l7iy5P32JKLXJLLk/Jx93AVM1uT/91r5EWDi5PxWnvxvMP7k/c8XO8H1cuT/iQiTyZJO5P4AABuMmj7k/WKR5mQmSuT9xcbbqKaG5P4liWLBunbk/a14+vW7PuT8z1Dx+WMy5P2hZv12W0bk/B+TWhYPauT/nUxkbfNq5P1Synx7f2rk/2S6nioTiuT/bQJBs7OK5P5PVr97WbLs/Ff8T53/Luj91TWEXqfy6P9+eZydo/Lo/YJxFWBb6uj++rtffW/i6P7iSOtVn+Lo/XBaGF3JWuz/1H0sdRHu7P1Lg/urigrs/+IfgkdR8uz8PLs9jKHu7P2zwnZKhdLs/2fI0oBVCuz86aDFNX0O7P856ZPZ4Qbs/bf/eCw8+uz/vfqBOdze7P1dw4WJ4Obs/hiadH4Uyuz8nP7+9ljG7P4Qut/Y9FLs/OuyWwcEUuz8JdZRx7h67P93WB9yuGLs/1sgmDLAQuz8+iYpvoB27P578cwRFF7s/sbGvgEcTuz/tM9loWWe7P1vsdk6wlbs/dQXHYqCbuz/na5gyeTC8P0lK67sNMrw/5FqQQ3sxvD8T+U4gxi+8P1qm0vleMrw/s79f38pFvD8RJzgC0kW8P2pm1a1fTrw/mx9I2gINvD+4cW/W+Q28P0lmhJh907s/JMlj93vcuz+JTdFNkEO8P+A1cRBEMrw/Lxs2SORDvD9TJyy5fUW8P+IqtTJQQ7w/itlwwKAHvD95iOEKMVq8PyeVmHmUWbw/b3SrwFn4vD8ARmAGCPq8PxK3yrJO/bw/pxzN7roEvT+CYdKtdQW9P6rHMKnWBb0/z5o/3c8KvT/xsH3hehm9P7zGiDcxGb0/Dj/9T7gLvT+8p7HC0Ra9P2fDPILrEL0/mScVXtMqvT9AvUHKYC29P1TGdK1PkL0/CQZf4vGOvT+SHicXx4K9P3TvGeJqGb4/n0aZUOQ2vj8WnGadu1S+PyN0Fa8uN74/EejoRfIqvj9MVKMSETG+P5i10St5Cb4/KYPWnFALvj/nZkraPB6+P62dnc4TM74/wjCF64H8vT+4cB3GExq+P3KdI/ZhJL4/gHx2ug5JvT9+htN910S9PwFnz6vHQL0/FShCXTpBvT+tp+HrtkO9PyMshDzySr0/d0NALxBKvT/A2WOEylO9P8A4sHS4Pb0/tbO8Sdk4vT8Px4PN9V29Pw/eBcafX70/noWPOGdQvT/cLPKXSLS9P671OtS6pL0/h6STHd6evT+CReRaSJq9P1KSU0nDn70/tE+cK4iZvT/2844L+qK9P5IHX/Btqr0/lLe6hpJ0vT+o4tqjD269P24BYHZUbL0/8GGVnbJgvT+E8XjLsm69Pwnw7TcaZb0/GCdtJGRsvT/7Ax34O2i9P4jNwDryaL0/vtx0N0dpvT82zcJEY3O9P7ZZx8iFZr0/2egz0lZmvT/sOat6wJC9P9xZfzxLcb0/lhlCGGpqvT8i331dIWy9Pz3+wyFzYr0/ydJEWNtnvT/jlD0G4ma9P7SnezaqZr0/HkEEOqdmvT+/Vp3XUmG9PwcpnzENU70/hKSapfFYvT9AoY0SCa69P5JYcidCm70/hpol2KCGvT+Dlh0RgWK9P3Y020Y7W70/lmsabuaevT9uCMMeBbu9P66QcUmvvL0/nFOWflPIvT95NrRRlry9P8lalwBpvb0/SX0pxjLGvT+cXHqEvce9P1NNEYkZy70/QmwUMOzMvT/5J71pd9W9P+g3u65k1L0/f0RLdbPRvT/P9UwP6Ni9P3NKQ+J5yL0/JDyURavKvT+zATJ7q9O9P/CuBttRz70/PJ+CxoutvT+R5HbLUKu9PzxqfKb0rL0/bRP2OYIFvj9cTpI7Pv29Py4WWwN5/70/cLni8RP+vT9LnkNZrgC+PxTwMMlgB74/XDJ/Oj0Hvj9gFnx6TQq+P5SgWxZEBb4/fBSmYsIhvj+thkiV3yW+P2zfTR2cK74/extx8m1uvj9q8XfQTXC+P8SRSjE+t74/ozzHQUp7vj8qDpebPHi+P8gurIafYcA/zchD4bWHwD8m4DB9BffAP7PTkgul9MA/BPmWyAL4wD9hdlNS5OvAP+FyPR656sA/rZMAEaf3wD8IDQqIKQjBP5/fIJujf8E/BQg/nBB9wj+2+4v4tajCP2UQeAQa68I/l77PEmpMwz9P/kVtlUjDP71ndLBOScM/aiBc8TKLxD8i5RA2/N3FP9Am9fhR+8U/l+EYcccDxj+eiKzXIhrGP91RAzdYFsY/CU2P7U9Oxj9PsDA5JzfGP4vAUHUSh8Y/4eUao5aGxj8esMOA0MLGP+zHpDgoycY/EMUa1unIxj+TalCt1WTHPyEkEYyrZMc/uH079D1mxz9rNUf8eYLHP8/a4gJca8c/PuAuNLZuxz8CGemMQYHHP0IKGEbDvcc/iIF7t6m9xz9fwQHoy8HHP/WskJKNx8c/AgVGuBHGxz/jD+LnksfHP1dc6Q5i1cc/mpyzamrUxz/d2kA6S9THP4eNLGSa1Mc/OJ0MZUPjxz9nwgzsoADIP5IJ72I/A8g//Q4JhKQLyD9PW4IuHg3IP9ACoXv4DMg/FPklSvoayD95sqiFzR/IP0oD5q6LJ8g/BwIugvAnyD8afRJSaijIP0/AKdN4Pcg/cEvF77U5yD/ZiArualfIP4rMPyv4Vcg/MMSAP/xVyD+8h+uijl7IPyGSYPf2Xcg/r6gY3MtgyD/TJPeE73nIP9AfIn9hg8g/ajii0lOuyD9bYxod0q7IP9CuCqPytMg/4cmd5bu0yD8dPwYd7rnIP3mTD81cusg/TgBkbluuyD81qFoZ36/IP4VzjYlMr8g/K43CxOKuyD8FULc4SrnIP76cKOX2usg/IKcN+fC9yD8LiXdZQ7/IP0P0qsZ5WMg/xy7RCFdayD9BIK8jGU7IPzpbTfRfVcg/8As2kw1hyD+n/ucfRmLIP92FCChzYsg/o9LZFrpKyD9af+uwVj/IP8C1HjFDRMg/vMYdTnBEyD8RIx2XdkfIP72q5NhDQsg/dB1QaOg/yD+iAWCn9ETIPysqD8B/Rsg/3yT4oq5GyD9LFsi9iVHIP3xKIIDSWsg/NT2vYE1nyD/8PwUjAWjIP4BWo+Amfcg/6OiIofB/yD+TgheBunvIP0jZlPDSf8g/uRqx4veGyD8eCu0xMITIPyotNY4Mmsg/Zc42dCSnyD9Vx1Pz35fIP5sQLFtFtMg/Qlnd7by1yD8ck+gzgELJP3YJFffIPck/Oxs1z/BFyT+A+dlasU7JP9EB9t7ke8k/5A66msF5yT+LbXNm8J/JP2AfWhfsrMk/R561+RqmyT8sKePZtKfJPz5h1CrNrsk/fTn86Nm7yT/f9zl+1KnJP8z0G1+xzsk/gCxFq9HIyT+IJootCcjJP7eIEVB23ck//36CNlHcyT/o7TMEnsbJP3xloLJ3x8k/UGcRV9ybyT+3CCv2sZjJP0pxSWADn8k/Wwlw19+byT/4QrdVspvJP5FsVRWFm8k/uqs0XAijyT+BxNn+G6HJP4Ia8Uqm3ck/doOV+RzeyT/lw8cQUP/JP1R59g5X/sk/54Gt0vf5yT/OQ7FadfzJPxuBggow6Mk/A2JJdOHpyT/UksxWZu7JPwC8w08bxMk/mKYsSlC+yT8zNqe+PLfJP8ccA18hv8k/vjTlPh+/yT8hSNL6Fr7JP0pnAP/rvck/CSS5i3K8yT/4dpRnrLbJP0NALLzDr8k/SLMmeAOxyT9e6kp2brbJP3WoNU2es8k/nABbr2izyT81JFkHiLLJP0ioT8OLy8k/3cSFGwvPyT8EVSamq8/JPw6/D1Rz0Mk/g0Vt5UbWyT9Zk5L+f9fJP+D72MXZC8o/OWZkWUsLyj86lrbUuc/KPwDl6Cdd2Mo/m2O/+Gveyj/qx3zUFsTKPw+yk2CoxMo/bjfrsHapyj9jzSFvPKnKP5pBeK4Gq8o/3RsEDdWuyj+gweNkea7KP+wCc5lLyso/3hkfkzflyj9A+vqPEOXKP/wtAXwa/co/nTKwyFEeyz+BAnvErBvLP4HJMzaNHcs/DOE+BmEbyz9/Q454aCjLP/rhbnEXJ8s/sZnB/YxFyz8J+XTQRj7LP/9OAqaLPcs/3SzcHFRByz8oOmJw4j7LP45jh/rgPss/818lP5ZRyz944hhL8lDLP/X5kyfjUcs/IQFTyrhUyz+RLMnrWVXLP5Os8sM0Vcs/vApAAbxUyz9Yz9Z+BFbLP2Hoj9EQVcs/Vply1OaHyz/Tgw+uw3LLPxMumN26oMs/NoAOue6gyz8lSNE9ECXMP0q+9WjhKMw/1FzJ4N8YzD9JCpDfBxPMP+iixS35Esw/NK38v5oWzD+6nUfLyRbMP33iKvXKI8w/tRy9N4EgzD8Z+SIsiSHMP3/of9Z7H8w/AJ3Dm5ofzD8i8qsajh7MPwOa7JO8H8w/4TwK6+wgzD8YfKCpEyLMPxLZu1EYN8w/TXqmxHw2zD+GWvAvW2DMPyUmf15Masw/dKAgV01uzD81sNUWTG7MP/UdPbg2bcw/vUGXnzFczD/ZTQvuh1vMPyooLJ88acw/FnCfJi56zD8gvJ5Rb3nMPxIH6F9odsw/bNvUGf2KzD8eqSzY/InMP9z7rIGqisw/VxV06A+PzD+C3RSx08HMPzLqpGLTwMw/gnYwD0SuzD/yXmI2U6LMP0HE1xOmlsw/vtGAf1mVzD/urOF0X6DMP8/n3uJBJcw/OTMYlKoOzD8jt6Y72MbLPybitkISx8s/wvU+Fs63yz934l8ubbfLP6BIMGaet8s/26xNe1mxyz86iT4+8anLP35VsCcTW8s/HWw2Dd20yj+sz1eNU5XKP8c5Sle6Y8o/2efVReESyj+GtJEENx/KP1c/v4Y6Nso/Ip1UtQhUyT9zWhXKaS/IP6o0WEnKFcg/v4P18rYRyD++RRSFp/rHP2XVyP3JAcg/OmuwlbzTxz/NV8KNX9fHP85V5AlYj8c/DRmxHb2Rxz+R4xn3EW/HP0C9ua2kbsc/\",\"dtype\":\"float64\",\"order\":\"little\",\"shape\":[1638]}},\"selected\":{\"id\":\"1926\"},\"selection_policy\":{\"id\":\"1938\"}},\"id\":\"1925\",\"type\":\"ColumnDataSource\"},{\"attributes\":{},\"id\":\"1951\",\"type\":\"YearsTicker\"},{\"attributes\":{},\"id\":\"1910\",\"type\":\"WheelZoomTool\"},{\"attributes\":{},\"id\":\"1926\",\"type\":\"Selection\"},{\"attributes\":{\"months\":[0,4,8]},\"id\":\"1949\",\"type\":\"MonthsTicker\"},{\"attributes\":{\"line_color\":\"#30a2da\",\"line_width\":2,\"x\":{\"field\":\"date\"},\"y\":{\"field\":\"value\"}},\"id\":\"1928\",\"type\":\"Line\"},{\"attributes\":{\"axis_label\":\"date\",\"bounds\":\"auto\",\"formatter\":{\"id\":\"1921\"},\"major_label_orientation\":\"horizontal\",\"ticker\":{\"id\":\"1901\"}},\"id\":\"1900\",\"type\":\"DatetimeAxis\"},{\"attributes\":{\"days\":[1,8,15,22]},\"id\":\"1945\",\"type\":\"DaysTicker\"},{\"attributes\":{\"below\":[{\"id\":\"1900\"}],\"center\":[{\"id\":\"1903\"},{\"id\":\"1907\"}],\"left\":[{\"id\":\"1904\"}],\"margin\":[5,5,5,5],\"min_border_bottom\":10,\"min_border_left\":10,\"min_border_right\":10,\"min_border_top\":10,\"plot_height\":300,\"plot_width\":700,\"renderers\":[{\"id\":\"1931\"},{\"id\":\"1961\"}],\"right\":[{\"id\":\"1953\"}],\"sizing_mode\":\"fixed\",\"title\":{\"id\":\"1892\"},\"toolbar\":{\"id\":\"1914\"},\"x_range\":{\"id\":\"1887\"},\"x_scale\":{\"id\":\"1896\"},\"y_range\":{\"id\":\"1888\"},\"y_scale\":{\"id\":\"1898\"}},\"id\":\"1891\",\"subtype\":\"Figure\",\"type\":\"Plot\"},{\"attributes\":{\"source\":{\"id\":\"1925\"}},\"id\":\"1932\",\"type\":\"CDSView\"},{\"attributes\":{},\"id\":\"1923\",\"type\":\"BasicTickFormatter\"},{\"attributes\":{},\"id\":\"1908\",\"type\":\"SaveTool\"}],\"root_ids\":[\"1885\"]},\"title\":\"Bokeh Application\",\"version\":\"2.2.3\"}};\n",
       "    var render_items = [{\"docid\":\"f8844520-3299-406a-b29e-d4139c678b08\",\"root_ids\":[\"1885\"],\"roots\":{\"1885\":\"bb37814e-f0a4-40f9-8f9a-7ad19615f9ac\"}}];\n",
       "    root.Bokeh.embed.embed_items_notebook(docs_json, render_items);\n",
       "  }\n",
       "  if (root.Bokeh !== undefined && root.Bokeh.Panel !== undefined) {\n",
       "    embed_document(root);\n",
       "  } else {\n",
       "    var attempts = 0;\n",
       "    var timer = setInterval(function(root) {\n",
       "      if (root.Bokeh !== undefined && root.Bokeh.Panel !== undefined) {\n",
       "        clearInterval(timer);\n",
       "        embed_document(root);\n",
       "      } else if (document.readyState == \"complete\") {\n",
       "        attempts++;\n",
       "        if (attempts > 100) {\n",
       "          clearInterval(timer);\n",
       "          console.log(\"Bokeh: ERROR: Unable to run BokehJS code because BokehJS library is missing\");\n",
       "        }\n",
       "      }\n",
       "    }, 10, root)\n",
       "  }\n",
       "})(window);</script>"
      ],
      "text/plain": [
       ":NdOverlay   [Variable]\n",
       "   :Curve   [date]   (value)"
      ]
     },
     "execution_count": 55,
     "metadata": {
      "application/vnd.holoviews_exec.v0+json": {
       "id": "1885"
      }
     },
     "output_type": "execute_result"
    }
   ],
   "source": [
    "# bitcoin vs gold returns line chart\n",
    "join_gold = join_returns.set_index('date')\n",
    "rolling_volatility = join_gold.rolling(window=252).std() * np.sqrt(252)\n",
    "\n",
    "rolling_volatility.hvplot(ylabel='Rolling Volatility')"
   ]
  },
  {
   "cell_type": "code",
   "execution_count": 56,
   "metadata": {},
   "outputs": [
    {
     "data": {
      "text/html": [
       "<div>\n",
       "<style scoped>\n",
       "    .dataframe tbody tr th:only-of-type {\n",
       "        vertical-align: middle;\n",
       "    }\n",
       "\n",
       "    .dataframe tbody tr th {\n",
       "        vertical-align: top;\n",
       "    }\n",
       "\n",
       "    .dataframe thead th {\n",
       "        text-align: right;\n",
       "    }\n",
       "</style>\n",
       "<table border=\"1\" class=\"dataframe\">\n",
       "  <thead>\n",
       "    <tr style=\"text-align: right;\">\n",
       "      <th></th>\n",
       "      <th>gold returns</th>\n",
       "      <th>bitcoin returns</th>\n",
       "    </tr>\n",
       "  </thead>\n",
       "  <tbody>\n",
       "    <tr>\n",
       "      <th>gold returns</th>\n",
       "      <td>1.000000</td>\n",
       "      <td>0.099432</td>\n",
       "    </tr>\n",
       "    <tr>\n",
       "      <th>bitcoin returns</th>\n",
       "      <td>0.099432</td>\n",
       "      <td>1.000000</td>\n",
       "    </tr>\n",
       "  </tbody>\n",
       "</table>\n",
       "</div>"
      ],
      "text/plain": [
       "                 gold returns  bitcoin returns\n",
       "gold returns         1.000000         0.099432\n",
       "bitcoin returns      0.099432         1.000000"
      ]
     },
     "execution_count": 56,
     "metadata": {},
     "output_type": "execute_result"
    }
   ],
   "source": [
    "# bitcoin gold correlation\n",
    "gold_btc_corr = join_gold.corr()\n",
    "gold_btc_corr"
   ]
  },
  {
   "cell_type": "markdown",
   "metadata": {},
   "source": [
    "---"
   ]
  },
  {
   "cell_type": "markdown",
   "metadata": {},
   "source": [
    "# How does a new asset/asset class stack up against traditional markets? Are there any relationships?"
   ]
  },
  {
   "cell_type": "code",
   "execution_count": 57,
   "metadata": {},
   "outputs": [
    {
     "data": {},
     "metadata": {},
     "output_type": "display_data"
    },
    {
     "data": {
      "application/vnd.holoviews_exec.v0+json": "",
      "text/html": [
       "<div id='2296'>\n",
       "\n",
       "\n",
       "\n",
       "\n",
       "\n",
       "  <div class=\"bk-root\" id=\"e3f968cd-1de7-4959-ae0d-baf89a9374fb\" data-root-id=\"2296\"></div>\n",
       "</div>\n",
       "<script type=\"application/javascript\">(function(root) {\n",
       "  function embed_document(root) {\n",
       "    var docs_json = {\"35655aed-eab2-4f53-a433-0c2f57c36fb4\":{\"roots\":{\"references\":[{\"attributes\":{\"below\":[{\"id\":\"2312\"}],\"center\":[{\"id\":\"2315\"},{\"id\":\"2319\"}],\"left\":[{\"id\":\"2316\"}],\"margin\":[5,5,5,5],\"min_border_bottom\":10,\"min_border_left\":10,\"min_border_right\":10,\"min_border_top\":10,\"plot_height\":300,\"plot_width\":700,\"renderers\":[{\"id\":\"2343\"},{\"id\":\"2373\"},{\"id\":\"2404\"}],\"right\":[{\"id\":\"2365\"}],\"sizing_mode\":\"fixed\",\"title\":{\"id\":\"2304\"},\"toolbar\":{\"id\":\"2326\"},\"x_range\":{\"id\":\"2298\"},\"x_scale\":{\"id\":\"2308\"},\"y_range\":{\"id\":\"2299\"},\"y_scale\":{\"id\":\"2310\"}},\"id\":\"2303\",\"subtype\":\"Figure\",\"type\":\"Plot\"},{\"attributes\":{\"data\":{\"Date\":{\"__ndarray__\":\"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\",\"dtype\":\"float64\",\"order\":\"little\",\"shape\":[1639]},\"Variable\":[\"bitcoin\",\"bitcoin\",\"bitcoin\",\"bitcoin\",\"bitcoin\",\"bitcoin\",\"bitcoin\",\"bitcoin\",\"bitcoin\",\"bitcoin\",\"bitcoin\",\"bitcoin\",\"bitcoin\",\"bitcoin\",\"bitcoin\",\"bitcoin\",\"bitcoin\",\"bitcoin\",\"bitcoin\",\"bitcoin\",\"bitcoin\",\"bitcoin\",\"bitcoin\",\"bitcoin\",\"bitcoin\",\"bitcoin\",\"bitcoin\",\"bitcoin\",\"bitcoin\",\"bitcoin\",\"bitcoin\",\"bitcoin\",\"bitcoin\",\"bitcoin\",\"bitcoin\",\"bitcoin\",\"bitcoin\",\"bitcoin\",\"bitcoin\",\"bitcoin\",\"bitcoin\",\"bitcoin\",\"bitcoin\",\"bitcoin\",\"bitcoin\",\"bitcoin\",\"bitcoin\",\"bitcoin\",\"bitcoin\",\"bitcoin\",\"bitcoin\",\"bitcoin\",\"bitcoin\",\"bitcoin\",\"bitcoin\",\"bitcoin\",\"bitcoin\",\"bitcoin\",\"bitcoin\",\"bitcoin\",\"bitcoin\",\"bitcoin\",\"bitcoin\",\"bitcoin\",\"bitcoin\",\"bitcoin\",\"bitcoin\",\"bitcoin\",\"bitcoin\",\"bitcoin\",\"bitcoin\",\"bitcoin\",\"bitcoin\",\"bitcoin\",\"bitcoin\",\"bitcoin\",\"bitcoin\",\"bitcoin\",\"bitcoin\",\"bitcoin\",\"bitcoin\",\"bitcoin\",\"bitcoin\",\"bitcoin\",\"bitcoin\",\"bitcoin\",\"bitcoin\",\"bitcoin\",\"bitcoin\",\"bitcoin\",\"bitcoin\",\"bitcoin\",\"bitcoin\",\"bitcoin\",\"bitcoin\",\"bitcoin\",\"bitcoin\",\"bitcoin\",\"bitcoin\",\"bitcoin\",\"bitcoin\",\"bitcoin\",\"bitcoin\",\"bitcoin\",\"bitcoin\",\"bitcoin\",\"bitcoin\",\"bitcoin\",\"bitcoin\",\"bitcoin\",\"bitcoin\",\"bitcoin\",\"bitcoin\",\"bitcoin\",\"bitcoin\",\"bitcoin\",\"bitcoin\",\"bitcoin\",\"bitcoin\",\"bitcoin\",\"bitcoin\",\"bitcoin\",\"bitcoin\",\"bitcoin\",\"bitcoin\",\"bitcoin\",\"bitcoin\",\"bitcoin\",\"bitcoin\",\"bitcoin\",\"bitcoin\",\"bitcoin\",\"bitcoin\",\"bitcoin\",\"bitcoin\",\"bitcoin\",\"bitcoin\",\"bitcoin\",\"bitcoin\",\"bitcoin\",\"bitcoin\",\"bitcoin\",\"bitcoin\",\"bitcoin\",\"bitcoin\",\"bitcoin\",\"bitcoin\",\"bitcoin\",\"bitcoin\",\"bitcoin\",\"bitcoin\",\"bitcoin\",\"bitcoin\",\"bitcoin\",\"bitcoin\",\"bitcoin\",\"bitcoin\",\"bitcoin\",\"bitcoin\",\"bitcoin\",\"bitcoin\",\"bitcoin\",\"bitcoin\",\"bitcoin\",\"bitcoin\",\"bitcoin\",\"bitcoin\",\"bitcoin\",\"bitcoin\",\"bitcoin\",\"bitcoin\",\"bitcoin\",\"bitcoin\",\"bitcoin\",\"bitcoin\",\"bitcoin\",\"bitcoin\",\"bitcoin\",\"bitcoin\",\"bitcoin\",\"bitcoin\",\"bitcoin\",\"bitcoin\",\"bitcoin\",\"bitcoin\",\"bitcoin\",\"bitcoin\",\"bitcoin\",\"bitcoin\",\"bitcoin\",\"bitcoin\",\"bitcoin\",\"bitcoin\",\"bitcoin\",\"bitcoin\",\"bitcoin\",\"bitcoin\",\"bitcoin\",\"bitcoin\",\"bitcoin\",\"bitcoin\",\"bitcoin\",\"bitcoin\",\"bitcoin\",\"bitcoin\",\"bitcoin\",\"bitcoin\",\"bitcoin\",\"bitcoin\",\"bitcoin\",\"bitcoin\",\"bitcoin\",\"bitcoin\",\"bitcoin\",\"bitcoin\",\"bitcoin\",\"bitcoin\",\"bitcoin\",\"bitcoin\",\"bitcoin\",\"bitcoin\",\"bitcoin\",\"bitcoin\",\"bitcoin\",\"bitcoin\",\"bitcoin\",\"bitcoin\",\"bitcoin\",\"bitcoin\",\"bitcoin\",\"bitcoin\",\"bitcoin\",\"bitcoin\",\"bitcoin\",\"bitcoin\",\"bitcoin\",\"bitcoin\",\"bitcoin\",\"bitcoin\",\"bitcoin\",\"bitcoin\",\"bitcoin\",\"bitcoin\",\"bitcoin\",\"bitcoin\",\"bitcoin\",\"bitcoin\",\"bitcoin\",\"bitcoin\",\"bitcoin\",\"bitcoin\",\"bitcoin\",\"bitcoin\",\"bitcoin\",\"bitcoin\",\"bitcoin\",\"bitcoin\",\"bitcoin\",\"bitcoin\",\"bitcoin\",\"bitcoin\",\"bitcoin\",\"bitcoin\",\"bitcoin\",\"bitcoin\",\"bitcoin\",\"bitcoin\",\"bitcoin\",\"bitcoin\",\"bitcoin\",\"bitcoin\",\"bitcoin\",\"bitcoin\",\"bitcoin\",\"bitcoin\",\"bitcoin\",\"bitcoin\",\"bitcoin\",\"bitcoin\",\"bitcoin\",\"bitcoin\",\"bitcoin\",\"bitcoin\",\"bitcoin\",\"bitcoin\",\"bitcoin\",\"bitcoin\",\"bitcoin\",\"bitcoin\",\"bitcoin\",\"bitcoin\",\"bitcoin\",\"bitcoin\",\"bitcoin\",\"bitcoin\",\"bitcoin\",\"bitcoin\",\"bitcoin\",\"bitcoin\",\"bitcoin\",\"bitcoin\",\"bitcoin\",\"bitcoin\",\"bitcoin\",\"bitcoin\",\"bitcoin\",\"bitcoin\",\"bitcoin\",\"bitcoin\",\"bitcoin\",\"bitcoin\",\"bitcoin\",\"bitcoin\",\"bitcoin\",\"bitcoin\",\"bitcoin\",\"bitcoin\",\"bitcoin\",\"bitcoin\",\"bitcoin\",\"bitcoin\",\"bitcoin\",\"bitcoin\",\"bitcoin\",\"bitcoin\",\"bitcoin\",\"bitcoin\",\"bitcoin\",\"bitcoin\",\"bitcoin\",\"bitcoin\",\"bitcoin\",\"bitcoin\",\"bitcoin\",\"bitcoin\",\"bitcoin\",\"bitcoin\",\"bitcoin\",\"bitcoin\",\"bitcoin\",\"bitcoin\",\"bitcoin\",\"bitcoin\",\"bitcoin\",\"bitcoin\",\"bitcoin\",\"bitcoin\",\"bitcoin\",\"bitcoin\",\"bitcoin\",\"bitcoin\",\"bitcoin\",\"bitcoin\",\"bitcoin\",\"bitcoin\",\"bitcoin\",\"bitcoin\",\"bitcoin\",\"bitcoin\",\"bitcoin\",\"bitcoin\",\"bitcoin\",\"bitcoin\",\"bitcoin\",\"bitcoin\",\"bitcoin\",\"bitcoin\",\"bitcoin\",\"bitcoin\",\"bitcoin\",\"bitcoin\",\"bitcoin\",\"bitcoin\",\"bitcoin\",\"bitcoin\",\"bitcoin\",\"bitcoin\",\"bitcoin\",\"bitcoin\",\"bitcoin\",\"bitcoin\",\"bitcoin\",\"bitcoin\",\"bitcoin\",\"bitcoin\",\"bitcoin\",\"bitcoin\",\"bitcoin\",\"bitcoin\",\"bitcoin\",\"bitcoin\",\"bitcoin\",\"bitcoin\",\"bitcoin\",\"bitcoin\",\"bitcoin\",\"bitcoin\",\"bitcoin\",\"bitcoin\",\"bitcoin\",\"bitcoin\",\"bitcoin\",\"bitcoin\",\"bitcoin\",\"bitcoin\",\"bitcoin\",\"bitcoin\",\"bitcoin\",\"bitcoin\",\"bitcoin\",\"bitcoin\",\"bitcoin\",\"bitcoin\",\"bitcoin\",\"bitcoin\",\"bitcoin\",\"bitcoin\",\"bitcoin\",\"bitcoin\",\"bitcoin\",\"bitcoin\",\"bitcoin\",\"bitcoin\",\"bitcoin\",\"bitcoin\",\"bitcoin\",\"bitcoin\",\"bitcoin\",\"bitcoin\",\"bitcoin\",\"bitcoin\",\"bitcoin\",\"bitcoin\",\"bitcoin\",\"bitcoin\",\"bitcoin\",\"bitcoin\",\"bitcoin\",\"bitcoin\",\"bitcoin\",\"bitcoin\",\"bitcoin\",\"bitcoin\",\"bitcoin\",\"bitcoin\",\"bitcoin\",\"bitcoin\",\"bitcoin\",\"bitcoin\",\"bitcoin\",\"bitcoin\",\"bitcoin\",\"bitcoin\",\"bitcoin\",\"bitcoin\",\"bitcoin\",\"bitcoin\",\"bitcoin\",\"bitcoin\",\"bitcoin\",\"bitcoin\",\"bitcoin\",\"bitcoin\",\"bitcoin\",\"bitcoin\",\"bitcoin\",\"bitcoin\",\"bitcoin\",\"bitcoin\",\"bitcoin\",\"bitcoin\",\"bitcoin\",\"bitcoin\",\"bitcoin\",\"bitcoin\",\"bitcoin\",\"bitcoin\",\"bitcoin\",\"bitcoin\",\"bitcoin\",\"bitcoin\",\"bitcoin\",\"bitcoin\",\"bitcoin\",\"bitcoin\",\"bitcoin\",\"bitcoin\",\"bitcoin\",\"bitcoin\",\"bitcoin\",\"bitcoin\",\"bitcoin\",\"bitcoin\",\"bitcoin\",\"bitcoin\",\"bitcoin\",\"bitcoin\",\"bitcoin\",\"bitcoin\",\"bitcoin\",\"bitcoin\",\"bitcoin\",\"bitcoin\",\"bitcoin\",\"bitcoin\",\"bitcoin\",\"bitcoin\",\"bitcoin\",\"bitcoin\",\"bitcoin\",\"bitcoin\",\"bitcoin\",\"bitcoin\",\"bitcoin\",\"bitcoin\",\"bitcoin\",\"bitcoin\",\"bitcoin\",\"bitcoin\",\"bitcoin\",\"bitcoin\",\"bitcoin\",\"bitcoin\",\"bitcoin\",\"bitcoin\",\"bitcoin\",\"bitcoin\",\"bitcoin\",\"bitcoin\",\"bitcoin\",\"bitcoin\",\"bitcoin\",\"bitcoin\",\"bitcoin\",\"bitcoin\",\"bitcoin\",\"bitcoin\",\"bitcoin\",\"bitcoin\",\"bitcoin\",\"bitcoin\",\"bitcoin\",\"bitcoin\",\"bitcoin\",\"bitcoin\",\"bitcoin\",\"bitcoin\",\"bitcoin\",\"bitcoin\",\"bitcoin\",\"bitcoin\",\"bitcoin\",\"bitcoin\",\"bitcoin\",\"bitcoin\",\"bitcoin\",\"bitcoin\",\"bitcoin\",\"bitcoin\",\"bitcoin\",\"bitcoin\",\"bitcoin\",\"bitcoin\",\"bitcoin\",\"bitcoin\",\"bitcoin\",\"bitcoin\",\"bitcoin\",\"bitcoin\",\"bitcoin\",\"bitcoin\",\"bitcoin\",\"bitcoin\",\"bitcoin\",\"bitcoin\",\"bitcoin\",\"bitcoin\",\"bitcoin\",\"bitcoin\",\"bitcoin\",\"bitcoin\",\"bitcoin\",\"bitcoin\",\"bitcoin\",\"bitcoin\",\"bitcoin\",\"bitcoin\",\"bitcoin\",\"bitcoin\",\"bitcoin\",\"bitcoin\",\"bitcoin\",\"bitcoin\",\"bitcoin\",\"bitcoin\",\"bitcoin\",\"bitcoin\",\"bitcoin\",\"bitcoin\",\"bitcoin\",\"bitcoin\",\"bitcoin\",\"bitcoin\",\"bitcoin\",\"bitcoin\",\"bitcoin\",\"bitcoin\",\"bitcoin\",\"bitcoin\",\"bitcoin\",\"bitcoin\",\"bitcoin\",\"bitcoin\",\"bitcoin\",\"bitcoin\",\"bitcoin\",\"bitcoin\",\"bitcoin\",\"bitcoin\",\"bitcoin\",\"bitcoin\",\"bitcoin\",\"bitcoin\",\"bitcoin\",\"bitcoin\",\"bitcoin\",\"bitcoin\",\"bitcoin\",\"bitcoin\",\"bitcoin\",\"bitcoin\",\"bitcoin\",\"bitcoin\",\"bitcoin\",\"bitcoin\",\"bitcoin\",\"bitcoin\",\"bitcoin\",\"bitcoin\",\"bitcoin\",\"bitcoin\",\"bitcoin\",\"bitcoin\",\"bitcoin\",\"bitcoin\",\"bitcoin\",\"bitcoin\",\"bitcoin\",\"bitcoin\",\"bitcoin\",\"bitcoin\",\"bitcoin\",\"bitcoin\",\"bitcoin\",\"bitcoin\",\"bitcoin\",\"bitcoin\",\"bitcoin\",\"bitcoin\",\"bitcoin\",\"bitcoin\",\"bitcoin\",\"bitcoin\",\"bitcoin\",\"bitcoin\",\"bitcoin\",\"bitcoin\",\"bitcoin\",\"bitcoin\",\"bitcoin\",\"bitcoin\",\"bitcoin\",\"bitcoin\",\"bitcoin\",\"bitcoin\",\"bitcoin\",\"bitcoin\",\"bitcoin\",\"bitcoin\",\"bitcoin\",\"bitcoin\",\"bitcoin\",\"bitcoin\",\"bitcoin\",\"bitcoin\",\"bitcoin\",\"bitcoin\",\"bitcoin\",\"bitcoin\",\"bitcoin\",\"bitcoin\",\"bitcoin\",\"bitcoin\",\"bitcoin\",\"bitcoin\",\"bitcoin\",\"bitcoin\",\"bitcoin\",\"bitcoin\",\"bitcoin\",\"bitcoin\",\"bitcoin\",\"bitcoin\",\"bitcoin\",\"bitcoin\",\"bitcoin\",\"bitcoin\",\"bitcoin\",\"bitcoin\",\"bitcoin\",\"bitcoin\",\"bitcoin\",\"bitcoin\",\"bitcoin\",\"bitcoin\",\"bitcoin\",\"bitcoin\",\"bitcoin\",\"bitcoin\",\"bitcoin\",\"bitcoin\",\"bitcoin\",\"bitcoin\",\"bitcoin\",\"bitcoin\",\"bitcoin\",\"bitcoin\",\"bitcoin\",\"bitcoin\",\"bitcoin\",\"bitcoin\",\"bitcoin\",\"bitcoin\",\"bitcoin\",\"bitcoin\",\"bitcoin\",\"bitcoin\",\"bitcoin\",\"bitcoin\",\"bitcoin\",\"bitcoin\",\"bitcoin\",\"bitcoin\",\"bitcoin\",\"bitcoin\",\"bitcoin\",\"bitcoin\",\"bitcoin\",\"bitcoin\",\"bitcoin\",\"bitcoin\",\"bitcoin\",\"bitcoin\",\"bitcoin\",\"bitcoin\",\"bitcoin\",\"bitcoin\",\"bitcoin\",\"bitcoin\",\"bitcoin\",\"bitcoin\",\"bitcoin\",\"bitcoin\",\"bitcoin\",\"bitcoin\",\"bitcoin\",\"bitcoin\",\"bitcoin\",\"bitcoin\",\"bitcoin\",\"bitcoin\",\"bitcoin\",\"bitcoin\",\"bitcoin\",\"bitcoin\",\"bitcoin\",\"bitcoin\",\"bitcoin\",\"bitcoin\",\"bitcoin\",\"bitcoin\",\"bitcoin\",\"bitcoin\",\"bitcoin\",\"bitcoin\",\"bitcoin\",\"bitcoin\",\"bitcoin\",\"bitcoin\",\"bitcoin\",\"bitcoin\",\"bitcoin\",\"bitcoin\",\"bitcoin\",\"bitcoin\",\"bitcoin\",\"bitcoin\",\"bitcoin\",\"bitcoin\",\"bitcoin\",\"bitcoin\",\"bitcoin\",\"bitcoin\",\"bitcoin\",\"bitcoin\",\"bitcoin\",\"bitcoin\",\"bitcoin\",\"bitcoin\",\"bitcoin\",\"bitcoin\",\"bitcoin\",\"bitcoin\",\"bitcoin\",\"bitcoin\",\"bitcoin\",\"bitcoin\",\"bitcoin\",\"bitcoin\",\"bitcoin\",\"bitcoin\",\"bitcoin\",\"bitcoin\",\"bitcoin\",\"bitcoin\",\"bitcoin\",\"bitcoin\",\"bitcoin\",\"bitcoin\",\"bitcoin\",\"bitcoin\",\"bitcoin\",\"bitcoin\",\"bitcoin\",\"bitcoin\",\"bitcoin\",\"bitcoin\",\"bitcoin\",\"bitcoin\",\"bitcoin\",\"bitcoin\",\"bitcoin\",\"bitcoin\",\"bitcoin\",\"bitcoin\",\"bitcoin\",\"bitcoin\",\"bitcoin\",\"bitcoin\",\"bitcoin\",\"bitcoin\",\"bitcoin\",\"bitcoin\",\"bitcoin\",\"bitcoin\",\"bitcoin\",\"bitcoin\",\"bitcoin\",\"bitcoin\",\"bitcoin\",\"bitcoin\",\"bitcoin\",\"bitcoin\",\"bitcoin\",\"bitcoin\",\"bitcoin\",\"bitcoin\",\"bitcoin\",\"bitcoin\",\"bitcoin\",\"bitcoin\",\"bitcoin\",\"bitcoin\",\"bitcoin\",\"bitcoin\",\"bitcoin\",\"bitcoin\",\"bitcoin\",\"bitcoin\",\"bitcoin\",\"bitcoin\",\"bitcoin\",\"bitcoin\",\"bitcoin\",\"bitcoin\",\"bitcoin\",\"bitcoin\",\"bitcoin\",\"bitcoin\",\"bitcoin\",\"bitcoin\",\"bitcoin\",\"bitcoin\",\"bitcoin\",\"bitcoin\",\"bitcoin\",\"bitcoin\",\"bitcoin\",\"bitcoin\",\"bitcoin\",\"bitcoin\",\"bitcoin\",\"bitcoin\",\"bitcoin\",\"bitcoin\",\"bitcoin\",\"bitcoin\",\"bitcoin\",\"bitcoin\",\"bitcoin\",\"bitcoin\",\"bitcoin\",\"bitcoin\",\"bitcoin\",\"bitcoin\",\"bitcoin\",\"bitcoin\",\"bitcoin\",\"bitcoin\",\"bitcoin\",\"bitcoin\",\"bitcoin\",\"bitcoin\",\"bitcoin\",\"bitcoin\",\"bitcoin\",\"bitcoin\",\"bitcoin\",\"bitcoin\",\"bitcoin\",\"bitcoin\",\"bitcoin\",\"bitcoin\",\"bitcoin\",\"bitcoin\",\"bitcoin\",\"bitcoin\",\"bitcoin\",\"bitcoin\",\"bitcoin\",\"bitcoin\",\"bitcoin\",\"bitcoin\",\"bitcoin\",\"bitcoin\",\"bitcoin\",\"bitcoin\",\"bitcoin\",\"bitcoin\",\"bitcoin\",\"bitcoin\",\"bitcoin\",\"bitcoin\",\"bitcoin\",\"bitcoin\",\"bitcoin\",\"bitcoin\",\"bitcoin\",\"bitcoin\",\"bitcoin\",\"bitcoin\",\"bitcoin\",\"bitcoin\",\"bitcoin\",\"bitcoin\",\"bitcoin\",\"bitcoin\",\"bitcoin\",\"bitcoin\",\"bitcoin\",\"bitcoin\",\"bitcoin\",\"bitcoin\",\"bitcoin\",\"bitcoin\",\"bitcoin\",\"bitcoin\",\"bitcoin\",\"bitcoin\",\"bitcoin\",\"bitcoin\",\"bitcoin\",\"bitcoin\",\"bitcoin\",\"bitcoin\",\"bitcoin\",\"bitcoin\",\"bitcoin\",\"bitcoin\",\"bitcoin\",\"bitcoin\",\"bitcoin\",\"bitcoin\",\"bitcoin\",\"bitcoin\",\"bitcoin\",\"bitcoin\",\"bitcoin\",\"bitcoin\",\"bitcoin\",\"bitcoin\",\"bitcoin\",\"bitcoin\",\"bitcoin\",\"bitcoin\",\"bitcoin\",\"bitcoin\",\"bitcoin\",\"bitcoin\",\"bitcoin\",\"bitcoin\",\"bitcoin\",\"bitcoin\",\"bitcoin\",\"bitcoin\",\"bitcoin\",\"bitcoin\",\"bitcoin\",\"bitcoin\",\"bitcoin\",\"bitcoin\",\"bitcoin\",\"bitcoin\",\"bitcoin\",\"bitcoin\",\"bitcoin\",\"bitcoin\",\"bitcoin\",\"bitcoin\",\"bitcoin\",\"bitcoin\",\"bitcoin\",\"bitcoin\",\"bitcoin\",\"bitcoin\",\"bitcoin\",\"bitcoin\",\"bitcoin\",\"bitcoin\",\"bitcoin\",\"bitcoin\",\"bitcoin\",\"bitcoin\",\"bitcoin\",\"bitcoin\",\"bitcoin\",\"bitcoin\",\"bitcoin\",\"bitcoin\",\"bitcoin\",\"bitcoin\",\"bitcoin\",\"bitcoin\",\"bitcoin\",\"bitcoin\",\"bitcoin\",\"bitcoin\",\"bitcoin\",\"bitcoin\",\"bitcoin\",\"bitcoin\",\"bitcoin\",\"bitcoin\",\"bitcoin\",\"bitcoin\",\"bitcoin\",\"bitcoin\",\"bitcoin\",\"bitcoin\",\"bitcoin\",\"bitcoin\",\"bitcoin\",\"bitcoin\",\"bitcoin\",\"bitcoin\",\"bitcoin\",\"bitcoin\",\"bitcoin\",\"bitcoin\",\"bitcoin\",\"bitcoin\",\"bitcoin\",\"bitcoin\",\"bitcoin\",\"bitcoin\",\"bitcoin\",\"bitcoin\",\"bitcoin\",\"bitcoin\",\"bitcoin\",\"bitcoin\",\"bitcoin\",\"bitcoin\",\"bitcoin\",\"bitcoin\",\"bitcoin\",\"bitcoin\",\"bitcoin\",\"bitcoin\",\"bitcoin\",\"bitcoin\",\"bitcoin\",\"bitcoin\",\"bitcoin\",\"bitcoin\",\"bitcoin\",\"bitcoin\",\"bitcoin\",\"bitcoin\",\"bitcoin\",\"bitcoin\",\"bitcoin\",\"bitcoin\",\"bitcoin\",\"bitcoin\",\"bitcoin\",\"bitcoin\",\"bitcoin\",\"bitcoin\",\"bitcoin\",\"bitcoin\",\"bitcoin\",\"bitcoin\",\"bitcoin\",\"bitcoin\",\"bitcoin\",\"bitcoin\",\"bitcoin\",\"bitcoin\",\"bitcoin\",\"bitcoin\",\"bitcoin\",\"bitcoin\",\"bitcoin\",\"bitcoin\",\"bitcoin\",\"bitcoin\",\"bitcoin\",\"bitcoin\",\"bitcoin\",\"bitcoin\",\"bitcoin\",\"bitcoin\",\"bitcoin\",\"bitcoin\",\"bitcoin\",\"bitcoin\",\"bitcoin\",\"bitcoin\",\"bitcoin\",\"bitcoin\",\"bitcoin\",\"bitcoin\",\"bitcoin\",\"bitcoin\",\"bitcoin\",\"bitcoin\",\"bitcoin\",\"bitcoin\",\"bitcoin\",\"bitcoin\",\"bitcoin\",\"bitcoin\",\"bitcoin\",\"bitcoin\",\"bitcoin\",\"bitcoin\",\"bitcoin\",\"bitcoin\",\"bitcoin\",\"bitcoin\",\"bitcoin\",\"bitcoin\",\"bitcoin\",\"bitcoin\",\"bitcoin\",\"bitcoin\",\"bitcoin\",\"bitcoin\",\"bitcoin\",\"bitcoin\",\"bitcoin\",\"bitcoin\",\"bitcoin\",\"bitcoin\",\"bitcoin\",\"bitcoin\",\"bitcoin\",\"bitcoin\",\"bitcoin\",\"bitcoin\",\"bitcoin\",\"bitcoin\",\"bitcoin\",\"bitcoin\",\"bitcoin\",\"bitcoin\",\"bitcoin\",\"bitcoin\",\"bitcoin\",\"bitcoin\",\"bitcoin\",\"bitcoin\",\"bitcoin\",\"bitcoin\",\"bitcoin\",\"bitcoin\",\"bitcoin\",\"bitcoin\",\"bitcoin\",\"bitcoin\",\"bitcoin\",\"bitcoin\",\"bitcoin\",\"bitcoin\",\"bitcoin\",\"bitcoin\",\"bitcoin\",\"bitcoin\",\"bitcoin\",\"bitcoin\",\"bitcoin\",\"bitcoin\",\"bitcoin\",\"bitcoin\",\"bitcoin\",\"bitcoin\",\"bitcoin\",\"bitcoin\",\"bitcoin\",\"bitcoin\",\"bitcoin\",\"bitcoin\",\"bitcoin\",\"bitcoin\",\"bitcoin\",\"bitcoin\",\"bitcoin\",\"bitcoin\",\"bitcoin\",\"bitcoin\",\"bitcoin\",\"bitcoin\",\"bitcoin\",\"bitcoin\",\"bitcoin\",\"bitcoin\",\"bitcoin\",\"bitcoin\",\"bitcoin\",\"bitcoin\",\"bitcoin\",\"bitcoin\",\"bitcoin\",\"bitcoin\",\"bitcoin\",\"bitcoin\",\"bitcoin\",\"bitcoin\",\"bitcoin\",\"bitcoin\",\"bitcoin\",\"bitcoin\",\"bitcoin\",\"bitcoin\",\"bitcoin\",\"bitcoin\",\"bitcoin\",\"bitcoin\",\"bitcoin\",\"bitcoin\",\"bitcoin\",\"bitcoin\",\"bitcoin\",\"bitcoin\",\"bitcoin\",\"bitcoin\",\"bitcoin\",\"bitcoin\",\"bitcoin\",\"bitcoin\",\"bitcoin\",\"bitcoin\",\"bitcoin\",\"bitcoin\",\"bitcoin\",\"bitcoin\",\"bitcoin\",\"bitcoin\",\"bitcoin\",\"bitcoin\",\"bitcoin\",\"bitcoin\",\"bitcoin\",\"bitcoin\",\"bitcoin\",\"bitcoin\",\"bitcoin\",\"bitcoin\",\"bitcoin\",\"bitcoin\",\"bitcoin\",\"bitcoin\",\"bitcoin\",\"bitcoin\",\"bitcoin\",\"bitcoin\",\"bitcoin\",\"bitcoin\",\"bitcoin\",\"bitcoin\",\"bitcoin\",\"bitcoin\",\"bitcoin\",\"bitcoin\",\"bitcoin\",\"bitcoin\",\"bitcoin\",\"bitcoin\",\"bitcoin\",\"bitcoin\",\"bitcoin\",\"bitcoin\",\"bitcoin\",\"bitcoin\",\"bitcoin\",\"bitcoin\",\"bitcoin\",\"bitcoin\",\"bitcoin\",\"bitcoin\",\"bitcoin\",\"bitcoin\",\"bitcoin\",\"bitcoin\",\"bitcoin\",\"bitcoin\",\"bitcoin\",\"bitcoin\",\"bitcoin\",\"bitcoin\",\"bitcoin\",\"bitcoin\",\"bitcoin\",\"bitcoin\",\"bitcoin\",\"bitcoin\",\"bitcoin\",\"bitcoin\",\"bitcoin\",\"bitcoin\",\"bitcoin\",\"bitcoin\",\"bitcoin\",\"bitcoin\",\"bitcoin\",\"bitcoin\",\"bitcoin\",\"bitcoin\",\"bitcoin\",\"bitcoin\",\"bitcoin\",\"bitcoin\",\"bitcoin\",\"bitcoin\",\"bitcoin\",\"bitcoin\",\"bitcoin\",\"bitcoin\",\"bitcoin\",\"bitcoin\",\"bitcoin\",\"bitcoin\",\"bitcoin\",\"bitcoin\",\"bitcoin\",\"bitcoin\",\"bitcoin\",\"bitcoin\",\"bitcoin\",\"bitcoin\",\"bitcoin\",\"bitcoin\",\"bitcoin\",\"bitcoin\",\"bitcoin\",\"bitcoin\",\"bitcoin\",\"bitcoin\",\"bitcoin\",\"bitcoin\",\"bitcoin\",\"bitcoin\",\"bitcoin\",\"bitcoin\",\"bitcoin\",\"bitcoin\",\"bitcoin\",\"bitcoin\",\"bitcoin\",\"bitcoin\",\"bitcoin\",\"bitcoin\",\"bitcoin\",\"bitcoin\",\"bitcoin\",\"bitcoin\",\"bitcoin\",\"bitcoin\",\"bitcoin\",\"bitcoin\",\"bitcoin\",\"bitcoin\",\"bitcoin\",\"bitcoin\",\"bitcoin\",\"bitcoin\",\"bitcoin\",\"bitcoin\",\"bitcoin\",\"bitcoin\",\"bitcoin\",\"bitcoin\",\"bitcoin\",\"bitcoin\",\"bitcoin\",\"bitcoin\",\"bitcoin\",\"bitcoin\",\"bitcoin\",\"bitcoin\",\"bitcoin\",\"bitcoin\",\"bitcoin\",\"bitcoin\",\"bitcoin\",\"bitcoin\",\"bitcoin\",\"bitcoin\",\"bitcoin\",\"bitcoin\",\"bitcoin\",\"bitcoin\",\"bitcoin\",\"bitcoin\",\"bitcoin\",\"bitcoin\",\"bitcoin\",\"bitcoin\",\"bitcoin\",\"bitcoin\",\"bitcoin\",\"bitcoin\",\"bitcoin\",\"bitcoin\",\"bitcoin\",\"bitcoin\",\"bitcoin\",\"bitcoin\",\"bitcoin\",\"bitcoin\",\"bitcoin\",\"bitcoin\",\"bitcoin\",\"bitcoin\",\"bitcoin\",\"bitcoin\",\"bitcoin\",\"bitcoin\",\"bitcoin\",\"bitcoin\",\"bitcoin\",\"bitcoin\",\"bitcoin\",\"bitcoin\",\"bitcoin\",\"bitcoin\",\"bitcoin\",\"bitcoin\",\"bitcoin\",\"bitcoin\",\"bitcoin\",\"bitcoin\",\"bitcoin\",\"bitcoin\",\"bitcoin\",\"bitcoin\",\"bitcoin\",\"bitcoin\",\"bitcoin\",\"bitcoin\",\"bitcoin\",\"bitcoin\",\"bitcoin\",\"bitcoin\",\"bitcoin\",\"bitcoin\",\"bitcoin\",\"bitcoin\",\"bitcoin\",\"bitcoin\",\"bitcoin\",\"bitcoin\",\"bitcoin\",\"bitcoin\",\"bitcoin\",\"bitcoin\",\"bitcoin\",\"bitcoin\",\"bitcoin\",\"bitcoin\",\"bitcoin\",\"bitcoin\",\"bitcoin\",\"bitcoin\",\"bitcoin\",\"bitcoin\",\"bitcoin\",\"bitcoin\",\"bitcoin\",\"bitcoin\",\"bitcoin\",\"bitcoin\",\"bitcoin\",\"bitcoin\",\"bitcoin\",\"bitcoin\",\"bitcoin\",\"bitcoin\",\"bitcoin\",\"bitcoin\",\"bitcoin\",\"bitcoin\",\"bitcoin\",\"bitcoin\",\"bitcoin\",\"bitcoin\",\"bitcoin\",\"bitcoin\",\"bitcoin\",\"bitcoin\",\"bitcoin\",\"bitcoin\",\"bitcoin\",\"bitcoin\",\"bitcoin\",\"bitcoin\",\"bitcoin\",\"bitcoin\",\"bitcoin\",\"bitcoin\",\"bitcoin\",\"bitcoin\",\"bitcoin\",\"bitcoin\",\"bitcoin\",\"bitcoin\",\"bitcoin\",\"bitcoin\",\"bitcoin\",\"bitcoin\",\"bitcoin\",\"bitcoin\",\"bitcoin\",\"bitcoin\",\"bitcoin\",\"bitcoin\",\"bitcoin\",\"bitcoin\",\"bitcoin\",\"bitcoin\",\"bitcoin\",\"bitcoin\",\"bitcoin\",\"bitcoin\",\"bitcoin\",\"bitcoin\",\"bitcoin\",\"bitcoin\",\"bitcoin\",\"bitcoin\",\"bitcoin\",\"bitcoin\",\"bitcoin\",\"bitcoin\",\"bitcoin\",\"bitcoin\",\"bitcoin\",\"bitcoin\",\"bitcoin\",\"bitcoin\",\"bitcoin\",\"bitcoin\",\"bitcoin\",\"bitcoin\",\"bitcoin\",\"bitcoin\",\"bitcoin\",\"bitcoin\",\"bitcoin\",\"bitcoin\",\"bitcoin\",\"bitcoin\",\"bitcoin\",\"bitcoin\",\"bitcoin\",\"bitcoin\",\"bitcoin\",\"bitcoin\",\"bitcoin\",\"bitcoin\",\"bitcoin\",\"bitcoin\",\"bitcoin\",\"bitcoin\",\"bitcoin\",\"bitcoin\",\"bitcoin\",\"bitcoin\",\"bitcoin\",\"bitcoin\",\"bitcoin\",\"bitcoin\",\"bitcoin\",\"bitcoin\",\"bitcoin\",\"bitcoin\",\"bitcoin\",\"bitcoin\",\"bitcoin\",\"bitcoin\",\"bitcoin\",\"bitcoin\",\"bitcoin\",\"bitcoin\",\"bitcoin\",\"bitcoin\",\"bitcoin\",\"bitcoin\"],\"value\":{\"__ndarray__\":\"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\",\"dtype\":\"float64\",\"order\":\"little\",\"shape\":[1639]}},\"selected\":{\"id\":\"2338\"},\"selection_policy\":{\"id\":\"2350\"}},\"id\":\"2337\",\"type\":\"ColumnDataSource\"},{\"attributes\":{},\"id\":\"2321\",\"type\":\"PanTool\"},{\"attributes\":{},\"id\":\"2338\",\"type\":\"Selection\"},{\"attributes\":{\"days\":[1,8,15,22]},\"id\":\"2357\",\"type\":\"DaysTicker\"},{\"attributes\":{\"axis_label\":\"Date\",\"bounds\":\"auto\",\"formatter\":{\"id\":\"2333\"},\"major_label_orientation\":\"horizontal\",\"ticker\":{\"id\":\"2313\"}},\"id\":\"2312\",\"type\":\"DatetimeAxis\"},{\"attributes\":{\"line_alpha\":0.1,\"line_color\":\"#fc4f30\",\"line_width\":2,\"x\":{\"field\":\"Date\"},\"y\":{\"field\":\"value\"}},\"id\":\"2371\",\"type\":\"Line\"},{\"attributes\":{\"line_color\":\"#e5ae38\",\"line_width\":2,\"x\":{\"field\":\"Date\"},\"y\":{\"field\":\"value\"}},\"id\":\"2401\",\"type\":\"Line\"},{\"attributes\":{},\"id\":\"2320\",\"type\":\"SaveTool\"},{\"attributes\":{\"line_alpha\":0.2,\"line_color\":\"#fc4f30\",\"line_width\":2,\"x\":{\"field\":\"Date\"},\"y\":{\"field\":\"value\"}},\"id\":\"2372\",\"type\":\"Line\"},{\"attributes\":{\"base\":24,\"mantissas\":[1,2,4,6,8,12],\"max_interval\":43200000.0,\"min_interval\":3600000.0,\"num_minor_ticks\":0},\"id\":\"2354\",\"type\":\"AdaptiveTicker\"},{\"attributes\":{\"end\":69835.9924344,\"reset_end\":69835.9924344,\"reset_start\":-6154.4324064,\"start\":-6154.4324064,\"tags\":[[[\"value\",\"value\",null]]]},\"id\":\"2299\",\"type\":\"Range1d\"},{\"attributes\":{\"data_source\":{\"id\":\"2367\"},\"glyph\":{\"id\":\"2370\"},\"hover_glyph\":null,\"muted_glyph\":{\"id\":\"2372\"},\"nonselection_glyph\":{\"id\":\"2371\"},\"selection_glyph\":null,\"view\":{\"id\":\"2374\"}},\"id\":\"2373\",\"type\":\"GlyphRenderer\"},{\"attributes\":{\"margin\":[5,5,5,5],\"name\":\"HSpacer03076\",\"sizing_mode\":\"stretch_width\"},\"id\":\"2647\",\"type\":\"Spacer\"},{\"attributes\":{\"line_alpha\":0.1,\"line_color\":\"#30a2da\",\"line_width\":2,\"x\":{\"field\":\"Date\"},\"y\":{\"field\":\"value\"}},\"id\":\"2341\",\"type\":\"Line\"},{\"attributes\":{\"months\":[0,6]},\"id\":\"2362\",\"type\":\"MonthsTicker\"},{\"attributes\":{\"line_color\":\"#30a2da\",\"line_width\":2,\"x\":{\"field\":\"Date\"},\"y\":{\"field\":\"value\"}},\"id\":\"2340\",\"type\":\"Line\"},{\"attributes\":{\"months\":[0,1,2,3,4,5,6,7,8,9,10,11]},\"id\":\"2359\",\"type\":\"MonthsTicker\"},{\"attributes\":{\"base\":60,\"mantissas\":[1,2,5,10,15,20,30],\"max_interval\":1800000.0,\"min_interval\":1000.0,\"num_minor_ticks\":0},\"id\":\"2353\",\"type\":\"AdaptiveTicker\"},{\"attributes\":{\"axis\":{\"id\":\"2312\"},\"grid_line_color\":null,\"ticker\":null},\"id\":\"2315\",\"type\":\"Grid\"},{\"attributes\":{\"data\":{\"Date\":{\"__ndarray__\":\"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\",\"dtype\":\"float64\",\"order\":\"little\",\"shape\":[1639]},\"Variable\":[\"nasdaq\",\"nasdaq\",\"nasdaq\",\"nasdaq\",\"nasdaq\",\"nasdaq\",\"nasdaq\",\"nasdaq\",\"nasdaq\",\"nasdaq\",\"nasdaq\",\"nasdaq\",\"nasdaq\",\"nasdaq\",\"nasdaq\",\"nasdaq\",\"nasdaq\",\"nasdaq\",\"nasdaq\",\"nasdaq\",\"nasdaq\",\"nasdaq\",\"nasdaq\",\"nasdaq\",\"nasdaq\",\"nasdaq\",\"nasdaq\",\"nasdaq\",\"nasdaq\",\"nasdaq\",\"nasdaq\",\"nasdaq\",\"nasdaq\",\"nasdaq\",\"nasdaq\",\"nasdaq\",\"nasdaq\",\"nasdaq\",\"nasdaq\",\"nasdaq\",\"nasdaq\",\"nasdaq\",\"nasdaq\",\"nasdaq\",\"nasdaq\",\"nasdaq\",\"nasdaq\",\"nasdaq\",\"nasdaq\",\"nasdaq\",\"nasdaq\",\"nasdaq\",\"nasdaq\",\"nasdaq\",\"nasdaq\",\"nasdaq\",\"nasdaq\",\"nasdaq\",\"nasdaq\",\"nasdaq\",\"nasdaq\",\"nasdaq\",\"nasdaq\",\"nasdaq\",\"nasdaq\",\"nasdaq\",\"nasdaq\",\"nasdaq\",\"nasdaq\",\"nasdaq\",\"nasdaq\",\"nasdaq\",\"nasdaq\",\"nasdaq\",\"nasdaq\",\"nasdaq\",\"nasdaq\",\"nasdaq\",\"nasdaq\",\"nasdaq\",\"nasdaq\",\"nasdaq\",\"nasdaq\",\"nasdaq\",\"nasdaq\",\"nasdaq\",\"nasdaq\",\"nasdaq\",\"nasdaq\",\"nasdaq\",\"nasdaq\",\"nasdaq\",\"nasdaq\",\"nasdaq\",\"nasdaq\",\"nasdaq\",\"nasdaq\",\"nasdaq\",\"nasdaq\",\"nasdaq\",\"nasdaq\",\"nasdaq\",\"nasdaq\",\"nasdaq\",\"nasdaq\",\"nasdaq\",\"nasdaq\",\"nasdaq\",\"nasdaq\",\"nasdaq\",\"nasdaq\",\"nasdaq\",\"nasdaq\",\"nasdaq\",\"nasdaq\",\"nasdaq\",\"nasdaq\",\"nasdaq\",\"nasdaq\",\"nasdaq\",\"nasdaq\",\"nasdaq\",\"nasdaq\",\"nasdaq\",\"nasdaq\",\"nasdaq\",\"nasdaq\",\"nasdaq\",\"nasdaq\",\"nasdaq\",\"nasdaq\",\"nasdaq\",\"nasdaq\",\"nasdaq\",\"nasdaq\",\"nasdaq\",\"nasdaq\",\"nasdaq\",\"nasdaq\",\"nasdaq\",\"nasdaq\",\"nasdaq\",\"nasdaq\",\"nasdaq\",\"nasdaq\",\"nasdaq\",\"nasdaq\",\"nasdaq\",\"nasdaq\",\"nasdaq\",\"nasdaq\",\"nasdaq\",\"nasdaq\",\"nasdaq\",\"nasdaq\",\"nasdaq\",\"nasdaq\",\"nasdaq\",\"nasdaq\",\"nasdaq\",\"nasdaq\",\"nasdaq\",\"nasdaq\",\"nasdaq\",\"nasdaq\",\"nasdaq\",\"nasdaq\",\"nasdaq\",\"nasdaq\",\"nasdaq\",\"nasdaq\",\"nasdaq\",\"nasdaq\",\"nasdaq\",\"nasdaq\",\"nasdaq\",\"nasdaq\",\"nasdaq\",\"nasdaq\",\"nasdaq\",\"nasdaq\",\"nasdaq\",\"nasdaq\",\"nasdaq\",\"nasdaq\",\"nasdaq\",\"nasdaq\",\"nasdaq\",\"nasdaq\",\"nasdaq\",\"nasdaq\",\"nasdaq\",\"nasdaq\",\"nasdaq\",\"nasdaq\",\"nasdaq\",\"nasdaq\",\"nasdaq\",\"nasdaq\",\"nasdaq\",\"nasdaq\",\"nasdaq\",\"nasdaq\",\"nasdaq\",\"nasdaq\",\"nasdaq\",\"nasdaq\",\"nasdaq\",\"nasdaq\",\"nasdaq\",\"nasdaq\",\"nasdaq\",\"nasdaq\",\"nasdaq\",\"nasdaq\",\"nasdaq\",\"nasdaq\",\"nasdaq\",\"nasdaq\",\"nasdaq\",\"nasdaq\",\"nasdaq\",\"nasdaq\",\"nasdaq\",\"nasdaq\",\"nasdaq\",\"nasdaq\",\"nasdaq\",\"nasdaq\",\"nasdaq\",\"nasdaq\",\"nasdaq\",\"nasdaq\",\"nasdaq\",\"nasdaq\",\"nasdaq\",\"nasdaq\",\"nasdaq\",\"nasdaq\",\"nasdaq\",\"nasdaq\",\"nasdaq\",\"nasdaq\",\"nasdaq\",\"nasdaq\",\"nasdaq\",\"nasdaq\",\"nasdaq\",\"nasdaq\",\"nasdaq\",\"nasdaq\",\"nasdaq\",\"nasdaq\",\"nasdaq\",\"nasdaq\",\"nasdaq\",\"nasdaq\",\"nasdaq\",\"nasdaq\",\"nasdaq\",\"nasdaq\",\"nasdaq\",\"nasdaq\",\"nasdaq\",\"nasdaq\",\"nasdaq\",\"nasdaq\",\"nasdaq\",\"nasdaq\",\"nasdaq\",\"nasdaq\",\"nasdaq\",\"nasdaq\",\"nasdaq\",\"nasdaq\",\"nasdaq\",\"nasdaq\",\"nasdaq\",\"nasdaq\",\"nasdaq\",\"nasdaq\",\"nasdaq\",\"nasdaq\",\"nasdaq\",\"nasdaq\",\"nasdaq\",\"nasdaq\",\"nasdaq\",\"nasdaq\",\"nasdaq\",\"nasdaq\",\"nasdaq\",\"nasdaq\",\"nasdaq\",\"nasdaq\",\"nasdaq\",\"nasdaq\",\"nasdaq\",\"nasdaq\",\"nasdaq\",\"nasdaq\",\"nasdaq\",\"nasdaq\",\"nasdaq\",\"nasdaq\",\"nasdaq\",\"nasdaq\",\"nasdaq\",\"nasdaq\",\"nasdaq\",\"nasdaq\",\"nasdaq\",\"nasdaq\",\"nasdaq\",\"nasdaq\",\"nasdaq\",\"nasdaq\",\"nasdaq\",\"nasdaq\",\"nasdaq\",\"nasdaq\",\"nasdaq\",\"nasdaq\",\"nasdaq\",\"nasdaq\",\"nasdaq\",\"nasdaq\",\"nasdaq\",\"nasdaq\",\"nasdaq\",\"nasdaq\",\"nasdaq\",\"nasdaq\",\"nasdaq\",\"nasdaq\",\"nasdaq\",\"nasdaq\",\"nasdaq\",\"nasdaq\",\"nasdaq\",\"nasdaq\",\"nasdaq\",\"nasdaq\",\"nasdaq\",\"nasdaq\",\"nasdaq\",\"nasdaq\",\"nasdaq\",\"nasdaq\",\"nasdaq\",\"nasdaq\",\"nasdaq\",\"nasdaq\",\"nasdaq\",\"nasdaq\",\"nasdaq\",\"nasdaq\",\"nasdaq\",\"nasdaq\",\"nasdaq\",\"nasdaq\",\"nasdaq\",\"nasdaq\",\"nasdaq\",\"nasdaq\",\"nasdaq\",\"nasdaq\",\"nasdaq\",\"nasdaq\",\"nasdaq\",\"nasdaq\",\"nasdaq\",\"nasdaq\",\"nasdaq\",\"nasdaq\",\"nasdaq\",\"nasdaq\",\"nasdaq\",\"nasdaq\",\"nasdaq\",\"nasdaq\",\"nasdaq\",\"nasdaq\",\"nasdaq\",\"nasdaq\",\"nasdaq\",\"nasdaq\",\"nasdaq\",\"nasdaq\",\"nasdaq\",\"nasdaq\",\"nasdaq\",\"nasdaq\",\"nasdaq\",\"nasdaq\",\"nasdaq\",\"nasdaq\",\"nasdaq\",\"nasdaq\",\"nasdaq\",\"nasdaq\",\"nasdaq\",\"nasdaq\",\"nasdaq\",\"nasdaq\",\"nasdaq\",\"nasdaq\",\"nasdaq\",\"nasdaq\",\"nasdaq\",\"nasdaq\",\"nasdaq\",\"nasdaq\",\"nasdaq\",\"nasdaq\",\"nasdaq\",\"nasdaq\",\"nasdaq\",\"nasdaq\",\"nasdaq\",\"nasdaq\",\"nasdaq\",\"nasdaq\",\"nasdaq\",\"nasdaq\",\"nasdaq\",\"nasdaq\",\"nasdaq\",\"nasdaq\",\"nasdaq\",\"nasdaq\",\"nasdaq\",\"nasdaq\",\"nasdaq\",\"nasdaq\",\"nasdaq\",\"nasdaq\",\"nasdaq\",\"nasdaq\",\"nasdaq\",\"nasdaq\",\"nasdaq\",\"nasdaq\",\"nasdaq\",\"nasdaq\",\"nasdaq\",\"nasdaq\",\"nasdaq\",\"nasdaq\",\"nasdaq\",\"nasdaq\",\"nasdaq\",\"nasdaq\",\"nasdaq\",\"nasdaq\",\"nasdaq\",\"nasdaq\",\"nasdaq\",\"nasdaq\",\"nasdaq\",\"nasdaq\",\"nasdaq\",\"nasdaq\",\"nasdaq\",\"nasdaq\",\"nasdaq\",\"nasdaq\",\"nasdaq\",\"nasdaq\",\"nasdaq\",\"nasdaq\",\"nasdaq\",\"nasdaq\",\"nasdaq\",\"nasdaq\",\"nasdaq\",\"nasdaq\",\"nasdaq\",\"nasdaq\",\"nasdaq\",\"nasdaq\",\"nasdaq\",\"nasdaq\",\"nasdaq\",\"nasdaq\",\"nasdaq\",\"nasdaq\",\"nasdaq\",\"nasdaq\",\"nasdaq\",\"nasdaq\",\"nasdaq\",\"nasdaq\",\"nasdaq\",\"nasdaq\",\"nasdaq\",\"nasdaq\",\"nasdaq\",\"nasdaq\",\"nasdaq\",\"nasdaq\",\"nasdaq\",\"nasdaq\",\"nasdaq\",\"nasdaq\",\"nasdaq\",\"nasdaq\",\"nasdaq\",\"nasdaq\",\"nasdaq\",\"nasdaq\",\"nasdaq\",\"nasdaq\",\"nasdaq\",\"nasdaq\",\"nasdaq\",\"nasdaq\",\"nasdaq\",\"nasdaq\",\"nasdaq\",\"nasdaq\",\"nasdaq\",\"nasdaq\",\"nasdaq\",\"nasdaq\",\"nasdaq\",\"nasdaq\",\"nasdaq\",\"nasdaq\",\"nasdaq\",\"nasdaq\",\"nasdaq\",\"nasdaq\",\"nasdaq\",\"nasdaq\",\"nasdaq\",\"nasdaq\",\"nasdaq\",\"nasdaq\",\"nasdaq\",\"nasdaq\",\"nasdaq\",\"nasdaq\",\"nasdaq\",\"nasdaq\",\"nasdaq\",\"nasdaq\",\"nasdaq\",\"nasdaq\",\"nasdaq\",\"nasdaq\",\"nasdaq\",\"nasdaq\",\"nasdaq\",\"nasdaq\",\"nasdaq\",\"nasdaq\",\"nasdaq\",\"nasdaq\",\"nasdaq\",\"nasdaq\",\"nasdaq\",\"nasdaq\",\"nasdaq\",\"nasdaq\",\"nasdaq\",\"nasdaq\",\"nasdaq\",\"nasdaq\",\"nasdaq\",\"nasdaq\",\"nasdaq\",\"nasdaq\",\"nasdaq\",\"nasdaq\",\"nasdaq\",\"nasdaq\",\"nasdaq\",\"nasdaq\",\"nasdaq\",\"nasdaq\",\"nasdaq\",\"nasdaq\",\"nasdaq\",\"nasdaq\",\"nasdaq\",\"nasdaq\",\"nasdaq\",\"nasdaq\",\"nasdaq\",\"nasdaq\",\"nasdaq\",\"nasdaq\",\"nasdaq\",\"nasdaq\",\"nasdaq\",\"nasdaq\",\"nasdaq\",\"nasdaq\",\"nasdaq\",\"nasdaq\",\"nasdaq\",\"nasdaq\",\"nasdaq\",\"nasdaq\",\"nasdaq\",\"nasdaq\",\"nasdaq\",\"nasdaq\",\"nasdaq\",\"nasdaq\",\"nasdaq\",\"nasdaq\",\"nasdaq\",\"nasdaq\",\"nasdaq\",\"nasdaq\",\"nasdaq\",\"nasdaq\",\"nasdaq\",\"nasdaq\",\"nasdaq\",\"nasdaq\",\"nasdaq\",\"nasdaq\",\"nasdaq\",\"nasdaq\",\"nasdaq\",\"nasdaq\",\"nasdaq\",\"nasdaq\",\"nasdaq\",\"nasdaq\",\"nasdaq\",\"nasdaq\",\"nasdaq\",\"nasdaq\",\"nasdaq\",\"nasdaq\",\"nasdaq\",\"nasdaq\",\"nasdaq\",\"nasdaq\",\"nasdaq\",\"nasdaq\",\"nasdaq\",\"nasdaq\",\"nasdaq\",\"nasdaq\",\"nasdaq\",\"nasdaq\",\"nasdaq\",\"nasdaq\",\"nasdaq\",\"nasdaq\",\"nasdaq\",\"nasdaq\",\"nasdaq\",\"nasdaq\",\"nasdaq\",\"nasdaq\",\"nasdaq\",\"nasdaq\",\"nasdaq\",\"nasdaq\",\"nasdaq\",\"nasdaq\",\"nasdaq\",\"nasdaq\",\"nasdaq\",\"nasdaq\",\"nasdaq\",\"nasdaq\",\"nasdaq\",\"nasdaq\",\"nasdaq\",\"nasdaq\",\"nasdaq\",\"nasdaq\",\"nasdaq\",\"nasdaq\",\"nasdaq\",\"nasdaq\",\"nasdaq\",\"nasdaq\",\"nasdaq\",\"nasdaq\",\"nasdaq\",\"nasdaq\",\"nasdaq\",\"nasdaq\",\"nasdaq\",\"nasdaq\",\"nasdaq\",\"nasdaq\",\"nasdaq\",\"nasdaq\",\"nasdaq\",\"nasdaq\",\"nasdaq\",\"nasdaq\",\"nasdaq\",\"nasdaq\",\"nasdaq\",\"nasdaq\",\"nasdaq\",\"nasdaq\",\"nasdaq\",\"nasdaq\",\"nasdaq\",\"nasdaq\",\"nasdaq\",\"nasdaq\",\"nasdaq\",\"nasdaq\",\"nasdaq\",\"nasdaq\",\"nasdaq\",\"nasdaq\",\"nasdaq\",\"nasdaq\",\"nasdaq\",\"nasdaq\",\"nasdaq\",\"nasdaq\",\"nasdaq\",\"nasdaq\",\"nasdaq\",\"nasdaq\",\"nasdaq\",\"nasdaq\",\"nasdaq\",\"nasdaq\",\"nasdaq\",\"nasdaq\",\"nasdaq\",\"nasdaq\",\"nasdaq\",\"nasdaq\",\"nasdaq\",\"nasdaq\",\"nasdaq\",\"nasdaq\",\"nasdaq\",\"nasdaq\",\"nasdaq\",\"nasdaq\",\"nasdaq\",\"nasdaq\",\"nasdaq\",\"nasdaq\",\"nasdaq\",\"nasdaq\",\"nasdaq\",\"nasdaq\",\"nasdaq\",\"nasdaq\",\"nasdaq\",\"nasdaq\",\"nasdaq\",\"nasdaq\",\"nasdaq\",\"nasdaq\",\"nasdaq\",\"nasdaq\",\"nasdaq\",\"nasdaq\",\"nasdaq\",\"nasdaq\",\"nasdaq\",\"nasdaq\",\"nasdaq\",\"nasdaq\",\"nasdaq\",\"nasdaq\",\"nasdaq\",\"nasdaq\",\"nasdaq\",\"nasdaq\",\"nasdaq\",\"nasdaq\",\"nasdaq\",\"nasdaq\",\"nasdaq\",\"nasdaq\",\"nasdaq\",\"nasdaq\",\"nasdaq\",\"nasdaq\",\"nasdaq\",\"nasdaq\",\"nasdaq\",\"nasdaq\",\"nasdaq\",\"nasdaq\",\"nasdaq\",\"nasdaq\",\"nasdaq\",\"nasdaq\",\"nasdaq\",\"nasdaq\",\"nasdaq\",\"nasdaq\",\"nasdaq\",\"nasdaq\",\"nasdaq\",\"nasdaq\",\"nasdaq\",\"nasdaq\",\"nasdaq\",\"nasdaq\",\"nasdaq\",\"nasdaq\",\"nasdaq\",\"nasdaq\",\"nasdaq\",\"nasdaq\",\"nasdaq\",\"nasdaq\",\"nasdaq\",\"nasdaq\",\"nasdaq\",\"nasdaq\",\"nasdaq\",\"nasdaq\",\"nasdaq\",\"nasdaq\",\"nasdaq\",\"nasdaq\",\"nasdaq\",\"nasdaq\",\"nasdaq\",\"nasdaq\",\"nasdaq\",\"nasdaq\",\"nasdaq\",\"nasdaq\",\"nasdaq\",\"nasdaq\",\"nasdaq\",\"nasdaq\",\"nasdaq\",\"nasdaq\",\"nasdaq\",\"nasdaq\",\"nasdaq\",\"nasdaq\",\"nasdaq\",\"nasdaq\",\"nasdaq\",\"nasdaq\",\"nasdaq\",\"nasdaq\",\"nasdaq\",\"nasdaq\",\"nasdaq\",\"nasdaq\",\"nasdaq\",\"nasdaq\",\"nasdaq\",\"nasdaq\",\"nasdaq\",\"nasdaq\",\"nasdaq\",\"nasdaq\",\"nasdaq\",\"nasdaq\",\"nasdaq\",\"nasdaq\",\"nasdaq\",\"nasdaq\",\"nasdaq\",\"nasdaq\",\"nasdaq\",\"nasdaq\",\"nasdaq\",\"nasdaq\",\"nasdaq\",\"nasdaq\",\"nasdaq\",\"nasdaq\",\"nasdaq\",\"nasdaq\",\"nasdaq\",\"nasdaq\",\"nasdaq\",\"nasdaq\",\"nasdaq\",\"nasdaq\",\"nasdaq\",\"nasdaq\",\"nasdaq\",\"nasdaq\",\"nasdaq\",\"nasdaq\",\"nasdaq\",\"nasdaq\",\"nasdaq\",\"nasdaq\",\"nasdaq\",\"nasdaq\",\"nasdaq\",\"nasdaq\",\"nasdaq\",\"nasdaq\",\"nasdaq\",\"nasdaq\",\"nasdaq\",\"nasdaq\",\"nasdaq\",\"nasdaq\",\"nasdaq\",\"nasdaq\",\"nasdaq\",\"nasdaq\",\"nasdaq\",\"nasdaq\",\"nasdaq\",\"nasdaq\",\"nasdaq\",\"nasdaq\",\"nasdaq\",\"nasdaq\",\"nasdaq\",\"nasdaq\",\"nasdaq\",\"nasdaq\",\"nasdaq\",\"nasdaq\",\"nasdaq\",\"nasdaq\",\"nasdaq\",\"nasdaq\",\"nasdaq\",\"nasdaq\",\"nasdaq\",\"nasdaq\",\"nasdaq\",\"nasdaq\",\"nasdaq\",\"nasdaq\",\"nasdaq\",\"nasdaq\",\"nasdaq\",\"nasdaq\",\"nasdaq\",\"nasdaq\",\"nasdaq\",\"nasdaq\",\"nasdaq\",\"nasdaq\",\"nasdaq\",\"nasdaq\",\"nasdaq\",\"nasdaq\",\"nasdaq\",\"nasdaq\",\"nasdaq\",\"nasdaq\",\"nasdaq\",\"nasdaq\",\"nasdaq\",\"nasdaq\",\"nasdaq\",\"nasdaq\",\"nasdaq\",\"nasdaq\",\"nasdaq\",\"nasdaq\",\"nasdaq\",\"nasdaq\",\"nasdaq\",\"nasdaq\",\"nasdaq\",\"nasdaq\",\"nasdaq\",\"nasdaq\",\"nasdaq\",\"nasdaq\",\"nasdaq\",\"nasdaq\",\"nasdaq\",\"nasdaq\",\"nasdaq\",\"nasdaq\",\"nasdaq\",\"nasdaq\",\"nasdaq\",\"nasdaq\",\"nasdaq\",\"nasdaq\",\"nasdaq\",\"nasdaq\",\"nasdaq\",\"nasdaq\",\"nasdaq\",\"nasdaq\",\"nasdaq\",\"nasdaq\",\"nasdaq\",\"nasdaq\",\"nasdaq\",\"nasdaq\",\"nasdaq\",\"nasdaq\",\"nasdaq\",\"nasdaq\",\"nasdaq\",\"nasdaq\",\"nasdaq\",\"nasdaq\",\"nasdaq\",\"nasdaq\",\"nasdaq\",\"nasdaq\",\"nasdaq\",\"nasdaq\",\"nasdaq\",\"nasdaq\",\"nasdaq\",\"nasdaq\",\"nasdaq\",\"nasdaq\",\"nasdaq\",\"nasdaq\",\"nasdaq\",\"nasdaq\",\"nasdaq\",\"nasdaq\",\"nasdaq\",\"nasdaq\",\"nasdaq\",\"nasdaq\",\"nasdaq\",\"nasdaq\",\"nasdaq\",\"nasdaq\",\"nasdaq\",\"nasdaq\",\"nasdaq\",\"nasdaq\",\"nasdaq\",\"nasdaq\",\"nasdaq\",\"nasdaq\",\"nasdaq\",\"nasdaq\",\"nasdaq\",\"nasdaq\",\"nasdaq\",\"nasdaq\",\"nasdaq\",\"nasdaq\",\"nasdaq\",\"nasdaq\",\"nasdaq\",\"nasdaq\",\"nasdaq\",\"nasdaq\",\"nasdaq\",\"nasdaq\",\"nasdaq\",\"nasdaq\",\"nasdaq\",\"nasdaq\",\"nasdaq\",\"nasdaq\",\"nasdaq\",\"nasdaq\",\"nasdaq\",\"nasdaq\",\"nasdaq\",\"nasdaq\",\"nasdaq\",\"nasdaq\",\"nasdaq\",\"nasdaq\",\"nasdaq\",\"nasdaq\",\"nasdaq\",\"nasdaq\",\"nasdaq\",\"nasdaq\",\"nasdaq\",\"nasdaq\",\"nasdaq\",\"nasdaq\",\"nasdaq\",\"nasdaq\",\"nasdaq\",\"nasdaq\",\"nasdaq\",\"nasdaq\",\"nasdaq\",\"nasdaq\",\"nasdaq\",\"nasdaq\",\"nasdaq\",\"nasdaq\",\"nasdaq\",\"nasdaq\",\"nasdaq\",\"nasdaq\",\"nasdaq\",\"nasdaq\",\"nasdaq\",\"nasdaq\",\"nasdaq\",\"nasdaq\",\"nasdaq\",\"nasdaq\",\"nasdaq\",\"nasdaq\",\"nasdaq\",\"nasdaq\",\"nasdaq\",\"nasdaq\",\"nasdaq\",\"nasdaq\",\"nasdaq\",\"nasdaq\",\"nasdaq\",\"nasdaq\",\"nasdaq\",\"nasdaq\",\"nasdaq\",\"nasdaq\",\"nasdaq\",\"nasdaq\",\"nasdaq\",\"nasdaq\",\"nasdaq\",\"nasdaq\",\"nasdaq\",\"nasdaq\",\"nasdaq\",\"nasdaq\",\"nasdaq\",\"nasdaq\",\"nasdaq\",\"nasdaq\",\"nasdaq\",\"nasdaq\",\"nasdaq\",\"nasdaq\",\"nasdaq\",\"nasdaq\",\"nasdaq\",\"nasdaq\",\"nasdaq\",\"nasdaq\",\"nasdaq\",\"nasdaq\",\"nasdaq\",\"nasdaq\",\"nasdaq\",\"nasdaq\",\"nasdaq\",\"nasdaq\",\"nasdaq\",\"nasdaq\",\"nasdaq\",\"nasdaq\",\"nasdaq\",\"nasdaq\",\"nasdaq\",\"nasdaq\",\"nasdaq\",\"nasdaq\",\"nasdaq\",\"nasdaq\",\"nasdaq\",\"nasdaq\",\"nasdaq\",\"nasdaq\",\"nasdaq\",\"nasdaq\",\"nasdaq\",\"nasdaq\",\"nasdaq\",\"nasdaq\",\"nasdaq\",\"nasdaq\",\"nasdaq\",\"nasdaq\",\"nasdaq\",\"nasdaq\",\"nasdaq\",\"nasdaq\",\"nasdaq\",\"nasdaq\",\"nasdaq\",\"nasdaq\",\"nasdaq\",\"nasdaq\",\"nasdaq\",\"nasdaq\",\"nasdaq\",\"nasdaq\",\"nasdaq\",\"nasdaq\",\"nasdaq\",\"nasdaq\",\"nasdaq\",\"nasdaq\",\"nasdaq\",\"nasdaq\",\"nasdaq\",\"nasdaq\",\"nasdaq\",\"nasdaq\",\"nasdaq\",\"nasdaq\",\"nasdaq\",\"nasdaq\",\"nasdaq\",\"nasdaq\",\"nasdaq\",\"nasdaq\",\"nasdaq\",\"nasdaq\",\"nasdaq\",\"nasdaq\",\"nasdaq\",\"nasdaq\",\"nasdaq\",\"nasdaq\",\"nasdaq\",\"nasdaq\",\"nasdaq\",\"nasdaq\",\"nasdaq\",\"nasdaq\",\"nasdaq\",\"nasdaq\",\"nasdaq\",\"nasdaq\",\"nasdaq\",\"nasdaq\",\"nasdaq\",\"nasdaq\",\"nasdaq\",\"nasdaq\",\"nasdaq\",\"nasdaq\",\"nasdaq\",\"nasdaq\",\"nasdaq\",\"nasdaq\",\"nasdaq\",\"nasdaq\",\"nasdaq\",\"nasdaq\",\"nasdaq\",\"nasdaq\",\"nasdaq\",\"nasdaq\",\"nasdaq\",\"nasdaq\",\"nasdaq\",\"nasdaq\",\"nasdaq\",\"nasdaq\",\"nasdaq\",\"nasdaq\",\"nasdaq\",\"nasdaq\",\"nasdaq\",\"nasdaq\",\"nasdaq\",\"nasdaq\",\"nasdaq\",\"nasdaq\",\"nasdaq\",\"nasdaq\",\"nasdaq\",\"nasdaq\",\"nasdaq\",\"nasdaq\",\"nasdaq\",\"nasdaq\",\"nasdaq\",\"nasdaq\",\"nasdaq\",\"nasdaq\",\"nasdaq\",\"nasdaq\",\"nasdaq\",\"nasdaq\",\"nasdaq\",\"nasdaq\",\"nasdaq\",\"nasdaq\",\"nasdaq\",\"nasdaq\",\"nasdaq\",\"nasdaq\",\"nasdaq\",\"nasdaq\",\"nasdaq\",\"nasdaq\",\"nasdaq\",\"nasdaq\",\"nasdaq\",\"nasdaq\",\"nasdaq\",\"nasdaq\",\"nasdaq\",\"nasdaq\",\"nasdaq\",\"nasdaq\",\"nasdaq\",\"nasdaq\",\"nasdaq\",\"nasdaq\",\"nasdaq\",\"nasdaq\",\"nasdaq\",\"nasdaq\",\"nasdaq\",\"nasdaq\",\"nasdaq\",\"nasdaq\",\"nasdaq\",\"nasdaq\",\"nasdaq\",\"nasdaq\",\"nasdaq\",\"nasdaq\",\"nasdaq\",\"nasdaq\",\"nasdaq\",\"nasdaq\",\"nasdaq\",\"nasdaq\",\"nasdaq\",\"nasdaq\",\"nasdaq\",\"nasdaq\",\"nasdaq\",\"nasdaq\",\"nasdaq\",\"nasdaq\",\"nasdaq\",\"nasdaq\",\"nasdaq\",\"nasdaq\",\"nasdaq\",\"nasdaq\",\"nasdaq\",\"nasdaq\",\"nasdaq\",\"nasdaq\",\"nasdaq\",\"nasdaq\",\"nasdaq\",\"nasdaq\",\"nasdaq\",\"nasdaq\",\"nasdaq\",\"nasdaq\",\"nasdaq\",\"nasdaq\",\"nasdaq\",\"nasdaq\",\"nasdaq\",\"nasdaq\",\"nasdaq\",\"nasdaq\",\"nasdaq\",\"nasdaq\",\"nasdaq\",\"nasdaq\",\"nasdaq\",\"nasdaq\",\"nasdaq\",\"nasdaq\",\"nasdaq\",\"nasdaq\",\"nasdaq\",\"nasdaq\",\"nasdaq\",\"nasdaq\",\"nasdaq\",\"nasdaq\",\"nasdaq\",\"nasdaq\",\"nasdaq\",\"nasdaq\",\"nasdaq\",\"nasdaq\",\"nasdaq\",\"nasdaq\",\"nasdaq\",\"nasdaq\",\"nasdaq\",\"nasdaq\",\"nasdaq\",\"nasdaq\",\"nasdaq\",\"nasdaq\",\"nasdaq\",\"nasdaq\",\"nasdaq\",\"nasdaq\",\"nasdaq\",\"nasdaq\",\"nasdaq\",\"nasdaq\",\"nasdaq\",\"nasdaq\",\"nasdaq\",\"nasdaq\",\"nasdaq\",\"nasdaq\",\"nasdaq\",\"nasdaq\",\"nasdaq\",\"nasdaq\",\"nasdaq\",\"nasdaq\",\"nasdaq\",\"nasdaq\",\"nasdaq\",\"nasdaq\",\"nasdaq\",\"nasdaq\",\"nasdaq\",\"nasdaq\",\"nasdaq\",\"nasdaq\",\"nasdaq\",\"nasdaq\",\"nasdaq\",\"nasdaq\",\"nasdaq\",\"nasdaq\",\"nasdaq\",\"nasdaq\",\"nasdaq\",\"nasdaq\",\"nasdaq\",\"nasdaq\",\"nasdaq\",\"nasdaq\",\"nasdaq\",\"nasdaq\",\"nasdaq\",\"nasdaq\",\"nasdaq\",\"nasdaq\",\"nasdaq\",\"nasdaq\",\"nasdaq\",\"nasdaq\",\"nasdaq\",\"nasdaq\",\"nasdaq\",\"nasdaq\",\"nasdaq\",\"nasdaq\",\"nasdaq\",\"nasdaq\",\"nasdaq\",\"nasdaq\",\"nasdaq\",\"nasdaq\",\"nasdaq\",\"nasdaq\",\"nasdaq\",\"nasdaq\",\"nasdaq\",\"nasdaq\",\"nasdaq\",\"nasdaq\",\"nasdaq\",\"nasdaq\",\"nasdaq\",\"nasdaq\",\"nasdaq\",\"nasdaq\",\"nasdaq\",\"nasdaq\",\"nasdaq\",\"nasdaq\",\"nasdaq\",\"nasdaq\",\"nasdaq\",\"nasdaq\",\"nasdaq\",\"nasdaq\",\"nasdaq\",\"nasdaq\",\"nasdaq\",\"nasdaq\",\"nasdaq\",\"nasdaq\",\"nasdaq\",\"nasdaq\",\"nasdaq\",\"nasdaq\",\"nasdaq\",\"nasdaq\",\"nasdaq\",\"nasdaq\",\"nasdaq\",\"nasdaq\",\"nasdaq\",\"nasdaq\",\"nasdaq\",\"nasdaq\",\"nasdaq\",\"nasdaq\",\"nasdaq\",\"nasdaq\",\"nasdaq\",\"nasdaq\",\"nasdaq\",\"nasdaq\",\"nasdaq\",\"nasdaq\",\"nasdaq\",\"nasdaq\",\"nasdaq\",\"nasdaq\",\"nasdaq\",\"nasdaq\",\"nasdaq\",\"nasdaq\",\"nasdaq\",\"nasdaq\",\"nasdaq\",\"nasdaq\",\"nasdaq\",\"nasdaq\",\"nasdaq\",\"nasdaq\",\"nasdaq\",\"nasdaq\",\"nasdaq\",\"nasdaq\",\"nasdaq\",\"nasdaq\",\"nasdaq\",\"nasdaq\",\"nasdaq\",\"nasdaq\",\"nasdaq\",\"nasdaq\",\"nasdaq\",\"nasdaq\",\"nasdaq\",\"nasdaq\",\"nasdaq\",\"nasdaq\",\"nasdaq\",\"nasdaq\",\"nasdaq\",\"nasdaq\",\"nasdaq\",\"nasdaq\",\"nasdaq\",\"nasdaq\",\"nasdaq\",\"nasdaq\",\"nasdaq\",\"nasdaq\",\"nasdaq\",\"nasdaq\",\"nasdaq\",\"nasdaq\",\"nasdaq\",\"nasdaq\",\"nasdaq\",\"nasdaq\",\"nasdaq\",\"nasdaq\",\"nasdaq\",\"nasdaq\",\"nasdaq\",\"nasdaq\",\"nasdaq\",\"nasdaq\",\"nasdaq\",\"nasdaq\",\"nasdaq\",\"nasdaq\",\"nasdaq\",\"nasdaq\",\"nasdaq\",\"nasdaq\",\"nasdaq\",\"nasdaq\",\"nasdaq\",\"nasdaq\",\"nasdaq\",\"nasdaq\",\"nasdaq\",\"nasdaq\",\"nasdaq\",\"nasdaq\",\"nasdaq\",\"nasdaq\",\"nasdaq\",\"nasdaq\",\"nasdaq\",\"nasdaq\",\"nasdaq\",\"nasdaq\",\"nasdaq\",\"nasdaq\",\"nasdaq\",\"nasdaq\",\"nasdaq\",\"nasdaq\",\"nasdaq\",\"nasdaq\",\"nasdaq\",\"nasdaq\",\"nasdaq\",\"nasdaq\",\"nasdaq\",\"nasdaq\",\"nasdaq\",\"nasdaq\",\"nasdaq\",\"nasdaq\",\"nasdaq\",\"nasdaq\",\"nasdaq\",\"nasdaq\",\"nasdaq\",\"nasdaq\",\"nasdaq\",\"nasdaq\",\"nasdaq\",\"nasdaq\",\"nasdaq\",\"nasdaq\"],\"value\":{\"__ndarray__\":\"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\",\"dtype\":\"float64\",\"order\":\"little\",\"shape\":[1639]}},\"selected\":{\"id\":\"2399\"},\"selection_policy\":{\"id\":\"2415\"}},\"id\":\"2398\",\"type\":\"ColumnDataSource\"},{\"attributes\":{\"active_drag\":\"auto\",\"active_inspect\":\"auto\",\"active_multi\":null,\"active_scroll\":\"auto\",\"active_tap\":\"auto\",\"tools\":[{\"id\":\"2300\"},{\"id\":\"2320\"},{\"id\":\"2321\"},{\"id\":\"2322\"},{\"id\":\"2323\"},{\"id\":\"2324\"}]},\"id\":\"2326\",\"type\":\"Toolbar\"},{\"attributes\":{\"source\":{\"id\":\"2337\"}},\"id\":\"2344\",\"type\":\"CDSView\"},{\"attributes\":{\"months\":[0,2,4,6,8,10]},\"id\":\"2360\",\"type\":\"MonthsTicker\"},{\"attributes\":{\"line_color\":\"#fc4f30\",\"line_width\":2,\"x\":{\"field\":\"Date\"},\"y\":{\"field\":\"value\"}},\"id\":\"2370\",\"type\":\"Line\"},{\"attributes\":{},\"id\":\"2399\",\"type\":\"Selection\"},{\"attributes\":{},\"id\":\"2368\",\"type\":\"Selection\"},{\"attributes\":{\"days\":[1,2,3,4,5,6,7,8,9,10,11,12,13,14,15,16,17,18,19,20,21,22,23,24,25,26,27,28,29,30,31]},\"id\":\"2355\",\"type\":\"DaysTicker\"},{\"attributes\":{\"axis\":{\"id\":\"2316\"},\"dimension\":1,\"grid_line_color\":null,\"ticker\":null},\"id\":\"2319\",\"type\":\"Grid\"},{\"attributes\":{\"line_alpha\":0.1,\"line_color\":\"#e5ae38\",\"line_width\":2,\"x\":{\"field\":\"Date\"},\"y\":{\"field\":\"value\"}},\"id\":\"2402\",\"type\":\"Line\"},{\"attributes\":{\"overlay\":{\"id\":\"2325\"}},\"id\":\"2323\",\"type\":\"BoxZoomTool\"},{\"attributes\":{},\"id\":\"2335\",\"type\":\"BasicTickFormatter\"},{\"attributes\":{\"num_minor_ticks\":5,\"tickers\":[{\"id\":\"2352\"},{\"id\":\"2353\"},{\"id\":\"2354\"},{\"id\":\"2355\"},{\"id\":\"2356\"},{\"id\":\"2357\"},{\"id\":\"2358\"},{\"id\":\"2359\"},{\"id\":\"2360\"},{\"id\":\"2361\"},{\"id\":\"2362\"},{\"id\":\"2363\"}]},\"id\":\"2313\",\"type\":\"DatetimeTicker\"},{\"attributes\":{\"children\":[{\"id\":\"2297\"},{\"id\":\"2303\"},{\"id\":\"2647\"}],\"margin\":[0,0,0,0],\"name\":\"Row03071\",\"tags\":[\"embedded\"]},\"id\":\"2296\",\"type\":\"Row\"},{\"attributes\":{},\"id\":\"2310\",\"type\":\"LinearScale\"},{\"attributes\":{\"callback\":null,\"formatters\":{\"@{Date}\":\"datetime\"},\"renderers\":[{\"id\":\"2343\"},{\"id\":\"2373\"},{\"id\":\"2404\"}],\"tags\":[\"hv_created\"],\"tooltips\":[[\"Variable\",\"@{Variable}\"],[\"Date\",\"@{Date}{%F %T}\"],[\"value\",\"@{value}\"]]},\"id\":\"2300\",\"type\":\"HoverTool\"},{\"attributes\":{\"label\":{\"value\":\"nasdaq\"},\"renderers\":[{\"id\":\"2404\"}]},\"id\":\"2430\",\"type\":\"LegendItem\"},{\"attributes\":{\"data_source\":{\"id\":\"2337\"},\"glyph\":{\"id\":\"2340\"},\"hover_glyph\":null,\"muted_glyph\":{\"id\":\"2342\"},\"nonselection_glyph\":{\"id\":\"2341\"},\"selection_glyph\":null,\"view\":{\"id\":\"2344\"}},\"id\":\"2343\",\"type\":\"GlyphRenderer\"},{\"attributes\":{\"data_source\":{\"id\":\"2398\"},\"glyph\":{\"id\":\"2401\"},\"hover_glyph\":null,\"muted_glyph\":{\"id\":\"2403\"},\"nonselection_glyph\":{\"id\":\"2402\"},\"selection_glyph\":null,\"view\":{\"id\":\"2405\"}},\"id\":\"2404\",\"type\":\"GlyphRenderer\"},{\"attributes\":{\"source\":{\"id\":\"2398\"}},\"id\":\"2405\",\"type\":\"CDSView\"},{\"attributes\":{\"days\":[1,4,7,10,13,16,19,22,25,28]},\"id\":\"2356\",\"type\":\"DaysTicker\"},{\"attributes\":{\"end\":1618531200000.0,\"reset_end\":1618531200000.0,\"reset_start\":1410912000000.0,\"start\":1410912000000.0,\"tags\":[[[\"Date\",\"Date\",null]]]},\"id\":\"2298\",\"type\":\"Range1d\"},{\"attributes\":{\"axis_label\":\"Price\",\"bounds\":\"auto\",\"formatter\":{\"id\":\"2335\"},\"major_label_orientation\":\"horizontal\",\"ticker\":{\"id\":\"2317\"}},\"id\":\"2316\",\"type\":\"LinearAxis\"},{\"attributes\":{\"margin\":[5,5,5,5],\"name\":\"HSpacer03075\",\"sizing_mode\":\"stretch_width\"},\"id\":\"2297\",\"type\":\"Spacer\"},{\"attributes\":{\"source\":{\"id\":\"2367\"}},\"id\":\"2374\",\"type\":\"CDSView\"},{\"attributes\":{\"text\":\"\",\"text_color\":{\"value\":\"black\"},\"text_font_size\":{\"value\":\"12pt\"}},\"id\":\"2304\",\"type\":\"Title\"},{\"attributes\":{\"data\":{\"Date\":{\"__ndarray__\":\"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\",\"dtype\":\"float64\",\"order\":\"little\",\"shape\":[1639]},\"Variable\":[\"russel\",\"russel\",\"russel\",\"russel\",\"russel\",\"russel\",\"russel\",\"russel\",\"russel\",\"russel\",\"russel\",\"russel\",\"russel\",\"russel\",\"russel\",\"russel\",\"russel\",\"russel\",\"russel\",\"russel\",\"russel\",\"russel\",\"russel\",\"russel\",\"russel\",\"russel\",\"russel\",\"russel\",\"russel\",\"russel\",\"russel\",\"russel\",\"russel\",\"russel\",\"russel\",\"russel\",\"russel\",\"russel\",\"russel\",\"russel\",\"russel\",\"russel\",\"russel\",\"russel\",\"russel\",\"russel\",\"russel\",\"russel\",\"russel\",\"russel\",\"russel\",\"russel\",\"russel\",\"russel\",\"russel\",\"russel\",\"russel\",\"russel\",\"russel\",\"russel\",\"russel\",\"russel\",\"russel\",\"russel\",\"russel\",\"russel\",\"russel\",\"russel\",\"russel\",\"russel\",\"russel\",\"russel\",\"russel\",\"russel\",\"russel\",\"russel\",\"russel\",\"russel\",\"russel\",\"russel\",\"russel\",\"russel\",\"russel\",\"russel\",\"russel\",\"russel\",\"russel\",\"russel\",\"russel\",\"russel\",\"russel\",\"russel\",\"russel\",\"russel\",\"russel\",\"russel\",\"russel\",\"russel\",\"russel\",\"russel\",\"russel\",\"russel\",\"russel\",\"russel\",\"russel\",\"russel\",\"russel\",\"russel\",\"russel\",\"russel\",\"russel\",\"russel\",\"russel\",\"russel\",\"russel\",\"russel\",\"russel\",\"russel\",\"russel\",\"russel\",\"russel\",\"russel\",\"russel\",\"russel\",\"russel\",\"russel\",\"russel\",\"russel\",\"russel\",\"russel\",\"russel\",\"russel\",\"russel\",\"russel\",\"russel\",\"russel\",\"russel\",\"russel\",\"russel\",\"russel\",\"russel\",\"russel\",\"russel\",\"russel\",\"russel\",\"russel\",\"russel\",\"russel\",\"russel\",\"russel\",\"russel\",\"russel\",\"russel\",\"russel\",\"russel\",\"russel\",\"russel\",\"russel\",\"russel\",\"russel\",\"russel\",\"russel\",\"russel\",\"russel\",\"russel\",\"russel\",\"russel\",\"russel\",\"russel\",\"russel\",\"russel\",\"russel\",\"russel\",\"russel\",\"russel\",\"russel\",\"russel\",\"russel\",\"russel\",\"russel\",\"russel\",\"russel\",\"russel\",\"russel\",\"russel\",\"russel\",\"russel\",\"russel\",\"russel\",\"russel\",\"russel\",\"russel\",\"russel\",\"russel\",\"russel\",\"russel\",\"russel\",\"russel\",\"russel\",\"russel\",\"russel\",\"russel\",\"russel\",\"russel\",\"russel\",\"russel\",\"russel\",\"russel\",\"russel\",\"russel\",\"russel\",\"russel\",\"russel\",\"russel\",\"russel\",\"russel\",\"russel\",\"russel\",\"russel\",\"russel\",\"russel\",\"russel\",\"russel\",\"russel\",\"russel\",\"russel\",\"russel\",\"russel\",\"russel\",\"russel\",\"russel\",\"russel\",\"russel\",\"russel\",\"russel\",\"russel\",\"russel\",\"russel\",\"russel\",\"russel\",\"russel\",\"russel\",\"russel\",\"russel\",\"russel\",\"russel\",\"russel\",\"russel\",\"russel\",\"russel\",\"russel\",\"russel\",\"russel\",\"russel\",\"russel\",\"russel\",\"russel\",\"russel\",\"russel\",\"russel\",\"russel\",\"russel\",\"russel\",\"russel\",\"russel\",\"russel\",\"russel\",\"russel\",\"russel\",\"russel\",\"russel\",\"russel\",\"russel\",\"russel\",\"russel\",\"russel\",\"russel\",\"russel\",\"russel\",\"russel\",\"russel\",\"russel\",\"russel\",\"russel\",\"russel\",\"russel\",\"russel\",\"russel\",\"russel\",\"russel\",\"russel\",\"russel\",\"russel\",\"russel\",\"russel\",\"russel\",\"russel\",\"russel\",\"russel\",\"russel\",\"russel\",\"russel\",\"russel\",\"russel\",\"russel\",\"russel\",\"russel\",\"russel\",\"russel\",\"russel\",\"russel\",\"russel\",\"russel\",\"russel\",\"russel\",\"russel\",\"russel\",\"russel\",\"russel\",\"russel\",\"russel\",\"russel\",\"russel\",\"russel\",\"russel\",\"russel\",\"russel\",\"russel\",\"russel\",\"russel\",\"russel\",\"russel\",\"russel\",\"russel\",\"russel\",\"russel\",\"russel\",\"russel\",\"russel\",\"russel\",\"russel\",\"russel\",\"russel\",\"russel\",\"russel\",\"russel\",\"russel\",\"russel\",\"russel\",\"russel\",\"russel\",\"russel\",\"russel\",\"russel\",\"russel\",\"russel\",\"russel\",\"russel\",\"russel\",\"russel\",\"russel\",\"russel\",\"russel\",\"russel\",\"russel\",\"russel\",\"russel\",\"russel\",\"russel\",\"russel\",\"russel\",\"russel\",\"russel\",\"russel\",\"russel\",\"russel\",\"russel\",\"russel\",\"russel\",\"russel\",\"russel\",\"russel\",\"russel\",\"russel\",\"russel\",\"russel\",\"russel\",\"russel\",\"russel\",\"russel\",\"russel\",\"russel\",\"russel\",\"russel\",\"russel\",\"russel\",\"russel\",\"russel\",\"russel\",\"russel\",\"russel\",\"russel\",\"russel\",\"russel\",\"russel\",\"russel\",\"russel\",\"russel\",\"russel\",\"russel\",\"russel\",\"russel\",\"russel\",\"russel\",\"russel\",\"russel\",\"russel\",\"russel\",\"russel\",\"russel\",\"russel\",\"russel\",\"russel\",\"russel\",\"russel\",\"russel\",\"russel\",\"russel\",\"russel\",\"russel\",\"russel\",\"russel\",\"russel\",\"russel\",\"russel\",\"russel\",\"russel\",\"russel\",\"russel\",\"russel\",\"russel\",\"russel\",\"russel\",\"russel\",\"russel\",\"russel\",\"russel\",\"russel\",\"russel\",\"russel\",\"russel\",\"russel\",\"russel\",\"russel\",\"russel\",\"russel\",\"russel\",\"russel\",\"russel\",\"russel\",\"russel\",\"russel\",\"russel\",\"russel\",\"russel\",\"russel\",\"russel\",\"russel\",\"russel\",\"russel\",\"russel\",\"russel\",\"russel\",\"russel\",\"russel\",\"russel\",\"russel\",\"russel\",\"russel\",\"russel\",\"russel\",\"russel\",\"russel\",\"russel\",\"russel\",\"russel\",\"russel\",\"russel\",\"russel\",\"russel\",\"russel\",\"russel\",\"russel\",\"russel\",\"russel\",\"russel\",\"russel\",\"russel\",\"russel\",\"russel\",\"russel\",\"russel\",\"russel\",\"russel\",\"russel\",\"russel\",\"russel\",\"russel\",\"russel\",\"russel\",\"russel\",\"russel\",\"russel\",\"russel\",\"russel\",\"russel\",\"russel\",\"russel\",\"russel\",\"russel\",\"russel\",\"russel\",\"russel\",\"russel\",\"russel\",\"russel\",\"russel\",\"russel\",\"russel\",\"russel\",\"russel\",\"russel\",\"russel\",\"russel\",\"russel\",\"russel\",\"russel\",\"russel\",\"russel\",\"russel\",\"russel\",\"russel\",\"russel\",\"russel\",\"russel\",\"russel\",\"russel\",\"russel\",\"russel\",\"russel\",\"russel\",\"russel\",\"russel\",\"russel\",\"russel\",\"russel\",\"russel\",\"russel\",\"russel\",\"russel\",\"russel\",\"russel\",\"russel\",\"russel\",\"russel\",\"russel\",\"russel\",\"russel\",\"russel\",\"russel\",\"russel\",\"russel\",\"russel\",\"russel\",\"russel\",\"russel\",\"russel\",\"russel\",\"russel\",\"russel\",\"russel\",\"russel\",\"russel\",\"russel\",\"russel\",\"russel\",\"russel\",\"russel\",\"russel\",\"russel\",\"russel\",\"russel\",\"russel\",\"russel\",\"russel\",\"russel\",\"russel\",\"russel\",\"russel\",\"russel\",\"russel\",\"russel\",\"russel\",\"russel\",\"russel\",\"russel\",\"russel\",\"russel\",\"russel\",\"russel\",\"russel\",\"russel\",\"russel\",\"russel\",\"russel\",\"russel\",\"russel\",\"russel\",\"russel\",\"russel\",\"russel\",\"russel\",\"russel\",\"russel\",\"russel\",\"russel\",\"russel\",\"russel\",\"russel\",\"russel\",\"russel\",\"russel\",\"russel\",\"russel\",\"russel\",\"russel\",\"russel\",\"russel\",\"russel\",\"russel\",\"russel\",\"russel\",\"russel\",\"russel\",\"russel\",\"russel\",\"russel\",\"russel\",\"russel\",\"russel\",\"russel\",\"russel\",\"russel\",\"russel\",\"russel\",\"russel\",\"russel\",\"russel\",\"russel\",\"russel\",\"russel\",\"russel\",\"russel\",\"russel\",\"russel\",\"russel\",\"russel\",\"russel\",\"russel\",\"russel\",\"russel\",\"russel\",\"russel\",\"russel\",\"russel\",\"russel\",\"russel\",\"russel\",\"russel\",\"russel\",\"russel\",\"russel\",\"russel\",\"russel\",\"russel\",\"russel\",\"russel\",\"russel\",\"russel\",\"russel\",\"russel\",\"russel\",\"russel\",\"russel\",\"russel\",\"russel\",\"russel\",\"russel\",\"russel\",\"russel\",\"russel\",\"russel\",\"russel\",\"russel\",\"russel\",\"russel\",\"russel\",\"russel\",\"russel\",\"russel\",\"russel\",\"russel\",\"russel\",\"russel\",\"russel\",\"russel\",\"russel\",\"russel\",\"russel\",\"russel\",\"russel\",\"russel\",\"russel\",\"russel\",\"russel\",\"russel\",\"russel\",\"russel\",\"russel\",\"russel\",\"russel\",\"russel\",\"russel\",\"russel\",\"russel\",\"russel\",\"russel\",\"russel\",\"russel\",\"russel\",\"russel\",\"russel\",\"russel\",\"russel\",\"russel\",\"russel\",\"russel\",\"russel\",\"russel\",\"russel\",\"russel\",\"russel\",\"russel\",\"russel\",\"russel\",\"russel\",\"russel\",\"russel\",\"russel\",\"russel\",\"russel\",\"russel\",\"russel\",\"russel\",\"russel\",\"russel\",\"russel\",\"russel\",\"russel\",\"russel\",\"russel\",\"russel\",\"russel\",\"russel\",\"russel\",\"russel\",\"russel\",\"russel\",\"russel\",\"russel\",\"russel\",\"russel\",\"russel\",\"russel\",\"russel\",\"russel\",\"russel\",\"russel\",\"russel\",\"russel\",\"russel\",\"russel\",\"russel\",\"russel\",\"russel\",\"russel\",\"russel\",\"russel\",\"russel\",\"russel\",\"russel\",\"russel\",\"russel\",\"russel\",\"russel\",\"russel\",\"russel\",\"russel\",\"russel\",\"russel\",\"russel\",\"russel\",\"russel\",\"russel\",\"russel\",\"russel\",\"russel\",\"russel\",\"russel\",\"russel\",\"russel\",\"russel\",\"russel\",\"russel\",\"russel\",\"russel\",\"russel\",\"russel\",\"russel\",\"russel\",\"russel\",\"russel\",\"russel\",\"russel\",\"russel\",\"russel\",\"russel\",\"russel\",\"russel\",\"russel\",\"russel\",\"russel\",\"russel\",\"russel\",\"russel\",\"russel\",\"russel\",\"russel\",\"russel\",\"russel\",\"russel\",\"russel\",\"russel\",\"russel\",\"russel\",\"russel\",\"russel\",\"russel\",\"russel\",\"russel\",\"russel\",\"russel\",\"russel\",\"russel\",\"russel\",\"russel\",\"russel\",\"russel\",\"russel\",\"russel\",\"russel\",\"russel\",\"russel\",\"russel\",\"russel\",\"russel\",\"russel\",\"russel\",\"russel\",\"russel\",\"russel\",\"russel\",\"russel\",\"russel\",\"russel\",\"russel\",\"russel\",\"russel\",\"russel\",\"russel\",\"russel\",\"russel\",\"russel\",\"russel\",\"russel\",\"russel\",\"russel\",\"russel\",\"russel\",\"russel\",\"russel\",\"russel\",\"russel\",\"russel\",\"russel\",\"russel\",\"russel\",\"russel\",\"russel\",\"russel\",\"russel\",\"russel\",\"russel\",\"russel\",\"russel\",\"russel\",\"russel\",\"russel\",\"russel\",\"russel\",\"russel\",\"russel\",\"russel\",\"russel\",\"russel\",\"russel\",\"russel\",\"russel\",\"russel\",\"russel\",\"russel\",\"russel\",\"russel\",\"russel\",\"russel\",\"russel\",\"russel\",\"russel\",\"russel\",\"russel\",\"russel\",\"russel\",\"russel\",\"russel\",\"russel\",\"russel\",\"russel\",\"russel\",\"russel\",\"russel\",\"russel\",\"russel\",\"russel\",\"russel\",\"russel\",\"russel\",\"russel\",\"russel\",\"russel\",\"russel\",\"russel\",\"russel\",\"russel\",\"russel\",\"russel\",\"russel\",\"russel\",\"russel\",\"russel\",\"russel\",\"russel\",\"russel\",\"russel\",\"russel\",\"russel\",\"russel\",\"russel\",\"russel\",\"russel\",\"russel\",\"russel\",\"russel\",\"russel\",\"russel\",\"russel\",\"russel\",\"russel\",\"russel\",\"russel\",\"russel\",\"russel\",\"russel\",\"russel\",\"russel\",\"russel\",\"russel\",\"russel\",\"russel\",\"russel\",\"russel\",\"russel\",\"russel\",\"russel\",\"russel\",\"russel\",\"russel\",\"russel\",\"russel\",\"russel\",\"russel\",\"russel\",\"russel\",\"russel\",\"russel\",\"russel\",\"russel\",\"russel\",\"russel\",\"russel\",\"russel\",\"russel\",\"russel\",\"russel\",\"russel\",\"russel\",\"russel\",\"russel\",\"russel\",\"russel\",\"russel\",\"russel\",\"russel\",\"russel\",\"russel\",\"russel\",\"russel\",\"russel\",\"russel\",\"russel\",\"russel\",\"russel\",\"russel\",\"russel\",\"russel\",\"russel\",\"russel\",\"russel\",\"russel\",\"russel\",\"russel\",\"russel\",\"russel\",\"russel\",\"russel\",\"russel\",\"russel\",\"russel\",\"russel\",\"russel\",\"russel\",\"russel\",\"russel\",\"russel\",\"russel\",\"russel\",\"russel\",\"russel\",\"russel\",\"russel\",\"russel\",\"russel\",\"russel\",\"russel\",\"russel\",\"russel\",\"russel\",\"russel\",\"russel\",\"russel\",\"russel\",\"russel\",\"russel\",\"russel\",\"russel\",\"russel\",\"russel\",\"russel\",\"russel\",\"russel\",\"russel\",\"russel\",\"russel\",\"russel\",\"russel\",\"russel\",\"russel\",\"russel\",\"russel\",\"russel\",\"russel\",\"russel\",\"russel\",\"russel\",\"russel\",\"russel\",\"russel\",\"russel\",\"russel\",\"russel\",\"russel\",\"russel\",\"russel\",\"russel\",\"russel\",\"russel\",\"russel\",\"russel\",\"russel\",\"russel\",\"russel\",\"russel\",\"russel\",\"russel\",\"russel\",\"russel\",\"russel\",\"russel\",\"russel\",\"russel\",\"russel\",\"russel\",\"russel\",\"russel\",\"russel\",\"russel\",\"russel\",\"russel\",\"russel\",\"russel\",\"russel\",\"russel\",\"russel\",\"russel\",\"russel\",\"russel\",\"russel\",\"russel\",\"russel\",\"russel\",\"russel\",\"russel\",\"russel\",\"russel\",\"russel\",\"russel\",\"russel\",\"russel\",\"russel\",\"russel\",\"russel\",\"russel\",\"russel\",\"russel\",\"russel\",\"russel\",\"russel\",\"russel\",\"russel\",\"russel\",\"russel\",\"russel\",\"russel\",\"russel\",\"russel\",\"russel\",\"russel\",\"russel\",\"russel\",\"russel\",\"russel\",\"russel\",\"russel\",\"russel\",\"russel\",\"russel\",\"russel\",\"russel\",\"russel\",\"russel\",\"russel\",\"russel\",\"russel\",\"russel\",\"russel\",\"russel\",\"russel\",\"russel\",\"russel\",\"russel\",\"russel\",\"russel\",\"russel\",\"russel\",\"russel\",\"russel\",\"russel\",\"russel\",\"russel\",\"russel\",\"russel\",\"russel\",\"russel\",\"russel\",\"russel\",\"russel\",\"russel\",\"russel\",\"russel\",\"russel\",\"russel\",\"russel\",\"russel\",\"russel\",\"russel\",\"russel\",\"russel\",\"russel\",\"russel\",\"russel\",\"russel\",\"russel\",\"russel\",\"russel\",\"russel\",\"russel\",\"russel\",\"russel\",\"russel\",\"russel\",\"russel\",\"russel\",\"russel\",\"russel\",\"russel\",\"russel\",\"russel\",\"russel\",\"russel\",\"russel\",\"russel\",\"russel\",\"russel\",\"russel\",\"russel\",\"russel\",\"russel\",\"russel\",\"russel\",\"russel\",\"russel\",\"russel\",\"russel\",\"russel\",\"russel\",\"russel\",\"russel\",\"russel\",\"russel\",\"russel\",\"russel\",\"russel\",\"russel\",\"russel\",\"russel\",\"russel\",\"russel\",\"russel\",\"russel\",\"russel\",\"russel\",\"russel\",\"russel\",\"russel\",\"russel\",\"russel\",\"russel\",\"russel\",\"russel\",\"russel\",\"russel\",\"russel\",\"russel\",\"russel\",\"russel\",\"russel\",\"russel\",\"russel\",\"russel\",\"russel\",\"russel\",\"russel\",\"russel\",\"russel\",\"russel\",\"russel\",\"russel\",\"russel\",\"russel\",\"russel\",\"russel\",\"russel\",\"russel\",\"russel\",\"russel\",\"russel\",\"russel\",\"russel\",\"russel\",\"russel\",\"russel\",\"russel\",\"russel\",\"russel\",\"russel\",\"russel\",\"russel\",\"russel\",\"russel\",\"russel\",\"russel\",\"russel\",\"russel\",\"russel\",\"russel\",\"russel\",\"russel\",\"russel\",\"russel\",\"russel\",\"russel\",\"russel\",\"russel\",\"russel\",\"russel\",\"russel\",\"russel\",\"russel\",\"russel\",\"russel\",\"russel\",\"russel\",\"russel\",\"russel\",\"russel\",\"russel\",\"russel\",\"russel\",\"russel\",\"russel\",\"russel\",\"russel\",\"russel\",\"russel\",\"russel\",\"russel\",\"russel\",\"russel\",\"russel\",\"russel\",\"russel\",\"russel\",\"russel\",\"russel\",\"russel\",\"russel\",\"russel\",\"russel\",\"russel\",\"russel\",\"russel\",\"russel\",\"russel\",\"russel\",\"russel\",\"russel\",\"russel\",\"russel\",\"russel\",\"russel\",\"russel\",\"russel\",\"russel\",\"russel\",\"russel\",\"russel\",\"russel\",\"russel\",\"russel\",\"russel\",\"russel\",\"russel\",\"russel\",\"russel\",\"russel\",\"russel\",\"russel\",\"russel\",\"russel\",\"russel\",\"russel\",\"russel\",\"russel\",\"russel\",\"russel\",\"russel\",\"russel\",\"russel\",\"russel\",\"russel\",\"russel\",\"russel\",\"russel\",\"russel\",\"russel\",\"russel\",\"russel\",\"russel\",\"russel\",\"russel\",\"russel\",\"russel\",\"russel\",\"russel\",\"russel\",\"russel\",\"russel\",\"russel\",\"russel\",\"russel\",\"russel\",\"russel\",\"russel\",\"russel\",\"russel\",\"russel\",\"russel\",\"russel\",\"russel\",\"russel\",\"russel\",\"russel\",\"russel\",\"russel\",\"russel\",\"russel\",\"russel\",\"russel\",\"russel\",\"russel\",\"russel\",\"russel\",\"russel\",\"russel\",\"russel\",\"russel\",\"russel\",\"russel\",\"russel\",\"russel\",\"russel\",\"russel\",\"russel\",\"russel\",\"russel\",\"russel\",\"russel\",\"russel\",\"russel\",\"russel\",\"russel\",\"russel\",\"russel\",\"russel\",\"russel\",\"russel\",\"russel\",\"russel\",\"russel\",\"russel\",\"russel\",\"russel\",\"russel\",\"russel\",\"russel\",\"russel\",\"russel\",\"russel\",\"russel\",\"russel\",\"russel\",\"russel\",\"russel\",\"russel\",\"russel\",\"russel\",\"russel\",\"russel\",\"russel\",\"russel\",\"russel\",\"russel\",\"russel\",\"russel\",\"russel\",\"russel\",\"russel\",\"russel\",\"russel\",\"russel\",\"russel\",\"russel\",\"russel\",\"russel\",\"russel\",\"russel\",\"russel\",\"russel\",\"russel\",\"russel\",\"russel\",\"russel\",\"russel\",\"russel\",\"russel\",\"russel\",\"russel\",\"russel\",\"russel\",\"russel\",\"russel\",\"russel\",\"russel\",\"russel\",\"russel\",\"russel\",\"russel\",\"russel\",\"russel\",\"russel\",\"russel\",\"russel\",\"russel\",\"russel\",\"russel\",\"russel\",\"russel\",\"russel\",\"russel\",\"russel\",\"russel\",\"russel\",\"russel\",\"russel\",\"russel\",\"russel\",\"russel\",\"russel\",\"russel\",\"russel\",\"russel\",\"russel\",\"russel\",\"russel\",\"russel\",\"russel\",\"russel\",\"russel\",\"russel\",\"russel\",\"russel\",\"russel\",\"russel\",\"russel\",\"russel\",\"russel\",\"russel\",\"russel\",\"russel\",\"russel\",\"russel\",\"russel\",\"russel\",\"russel\",\"russel\",\"russel\",\"russel\",\"russel\",\"russel\",\"russel\",\"russel\",\"russel\",\"russel\",\"russel\",\"russel\",\"russel\",\"russel\",\"russel\",\"russel\",\"russel\",\"russel\",\"russel\",\"russel\",\"russel\",\"russel\",\"russel\",\"russel\",\"russel\",\"russel\",\"russel\",\"russel\",\"russel\",\"russel\",\"russel\",\"russel\",\"russel\",\"russel\",\"russel\",\"russel\",\"russel\",\"russel\",\"russel\",\"russel\",\"russel\",\"russel\",\"russel\",\"russel\",\"russel\",\"russel\",\"russel\"],\"value\":{\"__ndarray__\":\"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\",\"dtype\":\"float64\",\"order\":\"little\",\"shape\":[1639]}},\"selected\":{\"id\":\"2368\"},\"selection_policy\":{\"id\":\"2382\"}},\"id\":\"2367\",\"type\":\"ColumnDataSource\"},{\"attributes\":{},\"id\":\"2333\",\"type\":\"DatetimeTickFormatter\"},{\"attributes\":{\"label\":{\"value\":\"bitcoin\"},\"renderers\":[{\"id\":\"2343\"}]},\"id\":\"2366\",\"type\":\"LegendItem\"},{\"attributes\":{},\"id\":\"2350\",\"type\":\"UnionRenderers\"},{\"attributes\":{},\"id\":\"2363\",\"type\":\"YearsTicker\"},{\"attributes\":{\"bottom_units\":\"screen\",\"fill_alpha\":0.5,\"fill_color\":\"lightgrey\",\"left_units\":\"screen\",\"level\":\"overlay\",\"line_alpha\":1.0,\"line_color\":\"black\",\"line_dash\":[4,4],\"line_width\":2,\"right_units\":\"screen\",\"top_units\":\"screen\"},\"id\":\"2325\",\"type\":\"BoxAnnotation\"},{\"attributes\":{\"line_alpha\":0.2,\"line_color\":\"#e5ae38\",\"line_width\":2,\"x\":{\"field\":\"Date\"},\"y\":{\"field\":\"value\"}},\"id\":\"2403\",\"type\":\"Line\"},{\"attributes\":{},\"id\":\"2322\",\"type\":\"WheelZoomTool\"},{\"attributes\":{\"label\":{\"value\":\"russel\"},\"renderers\":[{\"id\":\"2373\"}]},\"id\":\"2397\",\"type\":\"LegendItem\"},{\"attributes\":{\"line_alpha\":0.2,\"line_color\":\"#30a2da\",\"line_width\":2,\"x\":{\"field\":\"Date\"},\"y\":{\"field\":\"value\"}},\"id\":\"2342\",\"type\":\"Line\"},{\"attributes\":{},\"id\":\"2382\",\"type\":\"UnionRenderers\"},{\"attributes\":{},\"id\":\"2317\",\"type\":\"BasicTicker\"},{\"attributes\":{\"mantissas\":[1,2,5],\"max_interval\":500.0,\"num_minor_ticks\":0},\"id\":\"2352\",\"type\":\"AdaptiveTicker\"},{\"attributes\":{},\"id\":\"2308\",\"type\":\"LinearScale\"},{\"attributes\":{\"days\":[1,15]},\"id\":\"2358\",\"type\":\"DaysTicker\"},{\"attributes\":{\"click_policy\":\"mute\",\"items\":[{\"id\":\"2366\"},{\"id\":\"2397\"},{\"id\":\"2430\"}],\"location\":[0,0],\"title\":\"Variable\"},\"id\":\"2365\",\"type\":\"Legend\"},{\"attributes\":{},\"id\":\"2324\",\"type\":\"ResetTool\"},{\"attributes\":{\"months\":[0,4,8]},\"id\":\"2361\",\"type\":\"MonthsTicker\"},{\"attributes\":{},\"id\":\"2415\",\"type\":\"UnionRenderers\"}],\"root_ids\":[\"2296\"]},\"title\":\"Bokeh Application\",\"version\":\"2.2.3\"}};\n",
       "    var render_items = [{\"docid\":\"35655aed-eab2-4f53-a433-0c2f57c36fb4\",\"root_ids\":[\"2296\"],\"roots\":{\"2296\":\"e3f968cd-1de7-4959-ae0d-baf89a9374fb\"}}];\n",
       "    root.Bokeh.embed.embed_items_notebook(docs_json, render_items);\n",
       "  }\n",
       "  if (root.Bokeh !== undefined && root.Bokeh.Panel !== undefined) {\n",
       "    embed_document(root);\n",
       "  } else {\n",
       "    var attempts = 0;\n",
       "    var timer = setInterval(function(root) {\n",
       "      if (root.Bokeh !== undefined && root.Bokeh.Panel !== undefined) {\n",
       "        clearInterval(timer);\n",
       "        embed_document(root);\n",
       "      } else if (document.readyState == \"complete\") {\n",
       "        attempts++;\n",
       "        if (attempts > 100) {\n",
       "          clearInterval(timer);\n",
       "          console.log(\"Bokeh: ERROR: Unable to run BokehJS code because BokehJS library is missing\");\n",
       "        }\n",
       "      }\n",
       "    }, 10, root)\n",
       "  }\n",
       "})(window);</script>"
      ],
      "text/plain": [
       ":NdOverlay   [Variable]\n",
       "   :Curve   [Date]   (value)"
      ]
     },
     "execution_count": 57,
     "metadata": {
      "application/vnd.holoviews_exec.v0+json": {
       "id": "2296"
      }
     },
     "output_type": "execute_result"
    }
   ],
   "source": [
    "# price chart\n",
    "join_markets.columns=['bitcoin','russel','nasdaq']\n",
    "join_markets.hvplot(ylabel='Price')"
   ]
  },
  {
   "cell_type": "markdown",
   "metadata": {},
   "source": [
    "---"
   ]
  },
  {
   "cell_type": "markdown",
   "metadata": {},
   "source": [
    "# How does bitcoin perform during inflation or deflation? CPI Index monthly return % change vs Bitcoin monthly return % change?"
   ]
  },
  {
   "cell_type": "code",
   "execution_count": 58,
   "metadata": {},
   "outputs": [],
   "source": [
    "bitcoin_price.reset_index(inplace=True)\n",
    "join_cpi_bitcoin = pd.merge(cpi_data,bitcoin_price,on='Date')\n",
    "join_cpi_bitcoin.sort_values(by=['Date'],inplace=True)\n",
    "join_cpi_bitcoin.set_index('Date',inplace=True)\n",
    "join_cpi_bitcoin['Close'] = join_cpi_bitcoin['Close'].pct_change() * 100"
   ]
  },
  {
   "cell_type": "code",
   "execution_count": 59,
   "metadata": {},
   "outputs": [
    {
     "data": {
      "image/png": "[encoded data removed]",
      "text/plain": [
       "<Figure size 432x288 with 2 Axes>"
      ]
     },
     "metadata": {
      "needs_background": "light"
     },
     "output_type": "display_data"
    }
   ],
   "source": [
    "# bitcoin monthly returns vs cpi \n",
    "join_cpi_bitcoin = join_cpi_bitcoin.reset_index()\n",
    "# create figure and axis objects with subplots()\n",
    "fig,ax = plt.subplots()\n",
    "ax.plot(join_cpi_bitcoin['Date'],join_cpi_bitcoin['cpi'] , color=\"red\")\n",
    "ax.set_xlabel(\"Date\",fontsize=14)\n",
    "ax.set_ylabel(\"CPI Index\",color=\"red\",fontsize=14)\n",
    "ax2=ax.twinx()\n",
    "ax2.plot(join_cpi_bitcoin['Date'],join_cpi_bitcoin['Close'] , color=\"blue\")\n",
    "ax2.set_ylabel(\"Bitcoin Monthly Returns\",color=\"blue\",fontsize=14)\n",
    "\n",
    "plt.show()\n",
    "fig.savefig('cpi_vs_bitcoin.jpg',\n",
    "            format='jpeg',\n",
    "            dpi=100,\n",
    "            bbox_inches='tight')"
   ]
  },
  {
   "cell_type": "code",
   "execution_count": 60,
   "metadata": {},
   "outputs": [
    {
     "data": {
      "text/plain": [
       "-0.5377011002254138"
      ]
     },
     "execution_count": 60,
     "metadata": {},
     "output_type": "execute_result"
    }
   ],
   "source": [
    "# bitcoin cpi covariance\n",
    "covariance = join_cpi_bitcoin['cpi'].cov(join_cpi_bitcoin['Close'])\n",
    "covariance"
   ]
  },
  {
   "cell_type": "code",
   "execution_count": 61,
   "metadata": {},
   "outputs": [],
   "source": [
    "# save dataframes into csv files\n",
    "dataframe.to_csv('data/bubble_data.csv')\n",
    "join_cpi_bitcoin.to_csv('data/cpi_bitcoin_data.csv')\n",
    "join_markets.to_csv('data/price_data.csv')\n",
    "join_gold.to_csv('data/rolling_volatility_data.csv')\n",
    "join_ishares_returns.to_csv('data/ishares_bitcoin_data.csv')"
   ]
  },
  {
   "cell_type": "code",
   "execution_count": null,
   "metadata": {},
   "outputs": [],
   "source": []
  }
 ],
 "metadata": {
  "kernelspec": {
   "display_name": "Python [conda env:pyvizenv] *",
   "language": "python",
   "name": "conda-env-pyvizenv-py"
  },
  "language_info": {
   "codemirror_mode": {
    "name": "ipython",
    "version": 3
   },
   "file_extension": ".py",
   "mimetype": "text/x-python",
   "name": "python",
   "nbconvert_exporter": "python",
   "pygments_lexer": "ipython3",
   "version": "3.7.9"
  }
 },
 "nbformat": 4,
 "nbformat_minor": 4
}
